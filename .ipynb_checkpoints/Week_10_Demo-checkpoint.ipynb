{
 "cells": [
  {
   "cell_type": "code",
   "execution_count": 31,
   "metadata": {},
   "outputs": [
    {
     "data": {
      "text/html": [
       "<div>\n",
       "<style scoped>\n",
       "    .dataframe tbody tr th:only-of-type {\n",
       "        vertical-align: middle;\n",
       "    }\n",
       "\n",
       "    .dataframe tbody tr th {\n",
       "        vertical-align: top;\n",
       "    }\n",
       "\n",
       "    .dataframe thead th {\n",
       "        text-align: right;\n",
       "    }\n",
       "</style>\n",
       "<table border=\"1\" class=\"dataframe\">\n",
       "  <thead>\n",
       "    <tr style=\"text-align: right;\">\n",
       "      <th></th>\n",
       "      <th>Aldersgruppe</th>\n",
       "      <th>Antal_bekræftede_COVID-19</th>\n",
       "      <th>Antal_testede</th>\n",
       "      <th>Procent_positive</th>\n",
       "    </tr>\n",
       "  </thead>\n",
       "  <tbody>\n",
       "    <tr>\n",
       "      <th>0</th>\n",
       "      <td>0-9</td>\n",
       "      <td>2.252</td>\n",
       "      <td>222.688</td>\n",
       "      <td>1,0</td>\n",
       "    </tr>\n",
       "    <tr>\n",
       "      <th>1</th>\n",
       "      <td>10-19</td>\n",
       "      <td>6.908</td>\n",
       "      <td>394.170</td>\n",
       "      <td>1,8</td>\n",
       "    </tr>\n",
       "    <tr>\n",
       "      <th>2</th>\n",
       "      <td>20-29</td>\n",
       "      <td>9.478</td>\n",
       "      <td>467.258</td>\n",
       "      <td>2,0</td>\n",
       "    </tr>\n",
       "    <tr>\n",
       "      <th>3</th>\n",
       "      <td>30-39</td>\n",
       "      <td>6.758</td>\n",
       "      <td>400.277</td>\n",
       "      <td>1,7</td>\n",
       "    </tr>\n",
       "    <tr>\n",
       "      <th>4</th>\n",
       "      <td>40-49</td>\n",
       "      <td>7.419</td>\n",
       "      <td>413.284</td>\n",
       "      <td>1,8</td>\n",
       "    </tr>\n",
       "  </tbody>\n",
       "</table>\n",
       "</div>"
      ],
      "text/plain": [
       "  Aldersgruppe  Antal_bekræftede_COVID-19 Antal_testede Procent_positive\n",
       "0          0-9                      2.252       222.688              1,0\n",
       "1        10-19                      6.908       394.170              1,8\n",
       "2        20-29                      9.478       467.258              2,0\n",
       "3        30-39                      6.758       400.277              1,7\n",
       "4        40-49                      7.419       413.284              1,8"
      ]
     },
     "execution_count": 31,
     "metadata": {},
     "output_type": "execute_result"
    }
   ],
   "source": [
    "# corona data\n",
    "import pandas as pd\n",
    "import seaborn as sb\n",
    "import sklearn\n",
    "import sklearn.linear_model\n",
    "%matplotlib inline\n",
    "\n",
    "cases_by_age = pd.read_csv('./files/corona/Cases_by_age.csv', sep=';')\n",
    "cases_by_age.head()"
   ]
  },
  {
   "cell_type": "code",
   "execution_count": 2,
   "metadata": {},
   "outputs": [
    {
     "data": {
      "text/html": [
       "<div>\n",
       "<style scoped>\n",
       "    .dataframe tbody tr th:only-of-type {\n",
       "        vertical-align: middle;\n",
       "    }\n",
       "\n",
       "    .dataframe tbody tr th {\n",
       "        vertical-align: top;\n",
       "    }\n",
       "\n",
       "    .dataframe thead th {\n",
       "        text-align: right;\n",
       "    }\n",
       "</style>\n",
       "<table border=\"1\" class=\"dataframe\">\n",
       "  <thead>\n",
       "    <tr style=\"text-align: right;\">\n",
       "      <th></th>\n",
       "      <th>Aldersgruppe</th>\n",
       "      <th>Kvinder_(procent)</th>\n",
       "      <th>Mænd_(procent)</th>\n",
       "      <th>I_alt</th>\n",
       "    </tr>\n",
       "  </thead>\n",
       "  <tbody>\n",
       "    <tr>\n",
       "      <th>0</th>\n",
       "      <td>0-9</td>\n",
       "      <td>1.109 (49)</td>\n",
       "      <td>1.143 (51)</td>\n",
       "      <td>2.252</td>\n",
       "    </tr>\n",
       "    <tr>\n",
       "      <th>1</th>\n",
       "      <td>10-19</td>\n",
       "      <td>3.374 (49)</td>\n",
       "      <td>3.534 (51)</td>\n",
       "      <td>6.908</td>\n",
       "    </tr>\n",
       "    <tr>\n",
       "      <th>2</th>\n",
       "      <td>20-29</td>\n",
       "      <td>4.843 (51)</td>\n",
       "      <td>4.635 (49)</td>\n",
       "      <td>9.478</td>\n",
       "    </tr>\n",
       "    <tr>\n",
       "      <th>3</th>\n",
       "      <td>30-39</td>\n",
       "      <td>3.449 (51)</td>\n",
       "      <td>3.309 (49)</td>\n",
       "      <td>6.758</td>\n",
       "    </tr>\n",
       "    <tr>\n",
       "      <th>4</th>\n",
       "      <td>40-49</td>\n",
       "      <td>3.875 (52)</td>\n",
       "      <td>3.544 (48)</td>\n",
       "      <td>7.419</td>\n",
       "    </tr>\n",
       "  </tbody>\n",
       "</table>\n",
       "</div>"
      ],
      "text/plain": [
       "  Aldersgruppe Kvinder_(procent) Mænd_(procent)  I_alt\n",
       "0          0-9        1.109 (49)     1.143 (51)  2.252\n",
       "1        10-19        3.374 (49)     3.534 (51)  6.908\n",
       "2        20-29        4.843 (51)     4.635 (49)  9.478\n",
       "3        30-39        3.449 (51)     3.309 (49)  6.758\n",
       "4        40-49        3.875 (52)     3.544 (48)  7.419"
      ]
     },
     "execution_count": 2,
     "metadata": {},
     "output_type": "execute_result"
    }
   ],
   "source": [
    "cases_by_sex = pd.read_csv('./files/corona/Cases_by_sex.csv', sep=';')\n",
    "cases_by_sex.head()"
   ]
  },
  {
   "cell_type": "code",
   "execution_count": 45,
   "metadata": {},
   "outputs": [
    {
     "data": {
      "text/plain": [
       "<matplotlib.axes._subplots.AxesSubplot at 0x7fba331ea850>"
      ]
     },
     "execution_count": 45,
     "metadata": {},
     "output_type": "execute_result"
    },
    {
     "data": {
      "image/png": "[encoded data removed]",
      "text/plain": [
       "<Figure size 432x288 with 1 Axes>"
      ]
     },
     "metadata": {
      "needs_background": "light"
     },
     "output_type": "display_data"
    }
   ],
   "source": [
    "test_pos_over_time = pd.read_csv('./files/corona/Test_pos_over_time.csv', sep=';', thousands='.', decimal=',', index_col='Date')\n",
    "test_pos_over_time_cleaned = test_pos_over_time[:-5]\n",
    "#test_pos_over_time.head()\n",
    "#test_pos_over_time_cleaned.tail()\n",
    "#test_pos_over_time_cleaned.plot(y='PosPct')\n",
    "test_pos_over_time_cleaned.plot(x='Tested_kumulativ', y='NewPositive')\n",
    "#sb.pairplot(test_pos_over_time_cleaned)\n",
    "#test_pos_over_time_cleaned.corr()\n",
    "\n",
    "xs = test_pos_over_time_cleaned['Tested_kumulativ']\n",
    "ys = data['NewPositive']"
   ]
  },
  {
   "cell_type": "code",
   "execution_count": 6,
   "metadata": {},
   "outputs": [
    {
     "data": {
      "text/html": [
       "<div>\n",
       "<style scoped>\n",
       "    .dataframe tbody tr th:only-of-type {\n",
       "        vertical-align: middle;\n",
       "    }\n",
       "\n",
       "    .dataframe tbody tr th {\n",
       "        vertical-align: top;\n",
       "    }\n",
       "\n",
       "    .dataframe thead th {\n",
       "        text-align: right;\n",
       "    }\n",
       "</style>\n",
       "<table border=\"1\" class=\"dataframe\">\n",
       "  <thead>\n",
       "    <tr style=\"text-align: right;\">\n",
       "      <th></th>\n",
       "      <th>Kommune_(id)</th>\n",
       "      <th>Kommune_(navn)</th>\n",
       "      <th>Antal_testede</th>\n",
       "      <th>Antal_bekræftede_COVID-19</th>\n",
       "      <th>Befolkningstal</th>\n",
       "      <th>Kumulativ_incidens_(per_100000)</th>\n",
       "    </tr>\n",
       "  </thead>\n",
       "  <tbody>\n",
       "    <tr>\n",
       "      <th>0</th>\n",
       "      <td>101</td>\n",
       "      <td>København</td>\n",
       "      <td>362.641</td>\n",
       "      <td>8.744</td>\n",
       "      <td>632.340</td>\n",
       "      <td>1.383</td>\n",
       "    </tr>\n",
       "    <tr>\n",
       "      <th>1</th>\n",
       "      <td>147</td>\n",
       "      <td>Frederiksberg</td>\n",
       "      <td>58.654</td>\n",
       "      <td>1.377</td>\n",
       "      <td>104.305</td>\n",
       "      <td>1.320</td>\n",
       "    </tr>\n",
       "    <tr>\n",
       "      <th>2</th>\n",
       "      <td>151</td>\n",
       "      <td>Ballerup</td>\n",
       "      <td>28.163</td>\n",
       "      <td>689.000</td>\n",
       "      <td>48.602</td>\n",
       "      <td>1.418</td>\n",
       "    </tr>\n",
       "    <tr>\n",
       "      <th>3</th>\n",
       "      <td>153</td>\n",
       "      <td>Brøndby</td>\n",
       "      <td>20.589</td>\n",
       "      <td>740.000</td>\n",
       "      <td>35.090</td>\n",
       "      <td>2.109</td>\n",
       "    </tr>\n",
       "    <tr>\n",
       "      <th>4</th>\n",
       "      <td>155</td>\n",
       "      <td>Dragør</td>\n",
       "      <td>7.279</td>\n",
       "      <td>104.000</td>\n",
       "      <td>14.494</td>\n",
       "      <td>718.000</td>\n",
       "    </tr>\n",
       "  </tbody>\n",
       "</table>\n",
       "</div>"
      ],
      "text/plain": [
       "   Kommune_(id) Kommune_(navn)  Antal_testede  Antal_bekræftede_COVID-19  \\\n",
       "0           101      København        362.641                      8.744   \n",
       "1           147  Frederiksberg         58.654                      1.377   \n",
       "2           151       Ballerup         28.163                    689.000   \n",
       "3           153        Brøndby         20.589                    740.000   \n",
       "4           155         Dragør          7.279                    104.000   \n",
       "\n",
       "   Befolkningstal  Kumulativ_incidens_(per_100000)  \n",
       "0         632.340                            1.383  \n",
       "1         104.305                            1.320  \n",
       "2          48.602                            1.418  \n",
       "3          35.090                            2.109  \n",
       "4          14.494                          718.000  "
      ]
     },
     "execution_count": 6,
     "metadata": {},
     "output_type": "execute_result"
    }
   ],
   "source": [
    "municipality_test_pos = pd.read_csv('./files/corona/Municipality_test_pos.csv', sep=';')\n",
    "municipality_test_pos.head()"
   ]
  },
  {
   "cell_type": "code",
   "execution_count": null,
   "metadata": {},
   "outputs": [],
   "source": []
  }
 ],
 "metadata": {
  "kernelspec": {
   "display_name": "Python 3",
   "language": "python",
   "name": "python3"
  },
  "language_info": {
   "codemirror_mode": {
    "name": "ipython",
    "version": 3
   },
   "file_extension": ".py",
   "mimetype": "text/x-python",
   "name": "python",
   "nbconvert_exporter": "python",
   "pygments_lexer": "ipython3",
   "version": "3.7.6"
  }
 },
 "nbformat": 4,
 "nbformat_minor": 4
}
