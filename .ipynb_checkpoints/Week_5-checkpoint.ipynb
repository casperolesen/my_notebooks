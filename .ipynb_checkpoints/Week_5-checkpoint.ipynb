{
 "cells": [
  {
   "cell_type": "markdown",
   "metadata": {},
   "source": [
    "# Week 5 handin"
   ]
  },
  {
   "cell_type": "markdown",
   "metadata": {},
   "source": [
    "## 01 Assignment\n",
    "### Ex1 Use data from Danmarks Statistik - Databanken\n",
    "1. Go to https://www.dst.dk/da/Statistik/brug-statistikken/muligheder-i-statistikbanken/api#testkonsol\n",
    "2. Open 'Konsol' and click 'Start Konsol'\n",
    "3. In the console at pt 1: choose 'Retrieve tables', pt 2: choose get request and json format and pt 3: execute:\n",
    "    * check the result\n",
    "    * in the code below this same get request is used to get information about all available data tables in 'databanken'.\n",
    "4. Change pt. 1 in the console to 'Retrieve data', pt 2: 'get request' and Table id: 'FOLK1A', format: csv, delimiter: semicolon and click: 'Variable and value codes' and choose some sub categories (Hint: hover over the codes to see their meaning). Finally execute and see what data you get.\n",
    "5. With data aggregation and data visualization answer the following questions:\n",
    "    * What is the change in pct of divorced danes from 2008 to 2020?\n",
    "    * Which of the 5 biggest cities has the highest percentage of 'Never Married' in 2020?\n",
    "    * Show a bar chart of changes in marrital status in Copenhagen from 2008 till now\n",
    "    * Show 2 plots in same figure: 'Married' and 'Never Married' for all ages in DK in 2020 (Hint: x axis is age from 0-125, y axis is how many people in the 2 categories). Add lengend to show names on graphs\n",
    "    \n",
    "### Ex2 Use another table (extra)\n",
    "Choose any of the other tables in 'databanken' to find interesting data.\n",
    "\n",
    "1. Collect the data\n",
    "2. Pose 5 or more interesing questions to the data\n",
    "3. Answer the questions by aggregating the data\n",
    "4. Illustrate the answers with visual plots\n"
   ]
  },
  {
   "cell_type": "code",
   "execution_count": 2,
   "metadata": {},
   "outputs": [],
   "source": [
    "import pandas as pd\n",
    "import numpy as np\n",
    "import matplotlib.pyplot as plt\n",
    "%matplotlib inline"
   ]
  },
  {
   "cell_type": "markdown",
   "metadata": {},
   "source": [
    "## 02 Status\n",
    "Here is a status on the handin. How far you got. What is implemented and what is not"
   ]
  },
  {
   "cell_type": "markdown",
   "metadata": {},
   "source": [
    "## 03 Solution Ex1"
   ]
  },
  {
   "cell_type": "markdown",
   "metadata": {},
   "source": [
    "5A What is the change in pct of divorced danes from 2008 to 2020?"
   ]
  },
  {
   "cell_type": "code",
   "execution_count": 51,
   "metadata": {},
   "outputs": [
    {
     "name": "stdout",
     "output_type": "stream",
     "text": [
      "28.412503730786447\n"
     ]
    }
   ],
   "source": [
    "url = 'https://api.statbank.dk/v1/data/FOLK1A/CSV?delimiter=Semicolon&OMR%C3%85DE=000&CIVILSTAND=F&Tid=*'\n",
    "df = pd.read_csv(url, sep=';')\n",
    "#df.head()\n",
    "df.columns\n",
    "#df['INDHOLD']\n",
    "#print(df.iloc[:,3])\n",
    "#ime = df['TID']\n",
    "#eople = df['INDHOLD']\n",
    "#rint(df.index)\n",
    "first_row = df.iloc[0]\n",
    "last_row = df.iloc[-1]\n",
    "#rint(first_row)\n",
    "#rint(last_row)\n",
    "\n",
    "then = first_row['INDHOLD']\n",
    "now = last_row['INDHOLD']\n",
    "\n",
    "res = (now-then)/then\n",
    "print(res*100)\n",
    "\n",
    "#print(type(time))\n",
    "#print(type(people))\n",
    "#custom_df = pd.concat([time, people], keys=['time', 'people'])\n",
    "#print(custom_df)\n",
    "#custom_df.plot()\n",
    "#plt.plot(list(time), list(people))"
   ]
  },
  {
   "cell_type": "markdown",
   "metadata": {},
   "source": [
    "5B Which of the 5 biggest cities has the highest percentage of 'Never Married' in 2020?"
   ]
  },
  {
   "cell_type": "code",
   "execution_count": 97,
   "metadata": {},
   "outputs": [
    {
     "name": "stdout",
     "output_type": "stream",
     "text": [
      "City with highest percentage of Never Married in 2020 is København with 65.43366480526353 %\n"
     ]
    }
   ],
   "source": [
    "url = 'https://api.statbank.dk/v1/data/FOLK1A/CSV?delimiter=Semicolon&OMR%C3%85DE=*&K%C3%98N=TOT&ALDER=IALT&CIVILSTAND=U%2CTOT&Tid=2020K3'\n",
    "df = pd.read_csv(url, sep=';')\n",
    "big_cities = ['København', 'Aarhus', 'Odense', 'Aalborg', 'Esbjerg']\n",
    "percentage = {}\n",
    "\n",
    "#print(df.columns)\n",
    "#cities = df['OMRÅDE']\n",
    "#print(cities)\n",
    "\n",
    "for city in big_cities:\n",
    "    #rows = df.loc[df['OMRÅDE'] == city]\n",
    "    #print(rows)\n",
    "    \n",
    "    total = df.loc[(df['OMRÅDE'] == city) & (df['CIVILSTAND'] == 'I alt')].iloc[0][5]\n",
    "    #print('Total: {}: {}'.format(city, total))\n",
    "    \n",
    "    ugift = df.loc[(df['OMRÅDE'] == city) & (df['CIVILSTAND'] == 'Ugift')].iloc[0][5]\n",
    "    #print('Ugift: {}: {}'.format(city, ugift))\n",
    "    \n",
    "    percentage[city] = (ugift / total) * 100\n",
    "\n",
    "#print(percentage)\n",
    "city = max(percentage, key=percentage.get)\n",
    "value = percentage[city]\n",
    "print('City with highest percentage of Never Married in 2020 is {} with {} %'.format(city, value))\n",
    "    \n",
    "\n",
    "#kbh = df.loc[df['OMRÅDE'] == 'København']\n",
    "#print(kbh)"
   ]
  },
  {
   "cell_type": "markdown",
   "metadata": {},
   "source": [
    "5C Show a bar chart of changes in marrital status in Copenhagen from 2008 till now"
   ]
  },
  {
   "cell_type": "code",
   "execution_count": 113,
   "metadata": {},
   "outputs": [
    {
     "name": "stdout",
     "output_type": "stream",
     "text": [
      "0     309661\n",
      "1     311978\n",
      "2     311868\n",
      "3     315545\n",
      "4     317126\n",
      "5     319778\n",
      "6     319926\n",
      "7     324313\n",
      "8     325562\n",
      "9     328670\n",
      "10    328517\n",
      "11    333929\n",
      "12    335339\n",
      "13    337717\n",
      "14    337628\n",
      "15    343028\n",
      "16    343978\n",
      "17    346995\n",
      "18    346821\n",
      "19    352000\n",
      "20    353507\n",
      "21    356849\n",
      "22    356692\n",
      "23    361813\n",
      "24    362566\n",
      "25    365720\n",
      "26    365274\n",
      "27    370940\n",
      "28    371642\n",
      "29    375047\n",
      "30    374655\n",
      "31    379545\n",
      "32    381364\n",
      "33    384161\n",
      "34    383598\n",
      "35    388897\n",
      "36    389741\n",
      "37    393512\n",
      "38    392034\n",
      "39    396546\n",
      "40    398105\n",
      "41    400873\n",
      "42    400102\n",
      "43    404978\n",
      "44    405616\n",
      "45    408833\n",
      "46    408190\n",
      "47    413168\n",
      "48    412512\n",
      "49    414072\n",
      "50    414218\n",
      "Name: INDHOLD, dtype: int64\n",
      "        Ugift  Gift/Sep\n",
      "0    309661.0       NaN\n",
      "1    311978.0       NaN\n",
      "2    311868.0       NaN\n",
      "3    315545.0       NaN\n",
      "4    317126.0       NaN\n",
      "..        ...       ...\n",
      "97        NaN  148834.0\n",
      "98        NaN  150492.0\n",
      "99        NaN  150458.0\n",
      "100       NaN  149826.0\n",
      "101       NaN  149291.0\n",
      "\n",
      "[102 rows x 2 columns]\n"
     ]
    }
   ],
   "source": [
    "url = 'https://api.statbank.dk/v1/data/FOLK1A/CSV?delimiter=Semicolon&OMR%C3%85DE=101&K%C3%98N=TOT&ALDER=IALT&CIVILSTAND=U%2CG%2CE%2CF&Tid=*'\n",
    "df = pd.read_csv(url, sep=';')\n",
    "#print(df)\n",
    "ugift = df.loc[df['CIVILSTAND'] == 'Ugift'].iloc[:,5]\n",
    "gift_sep = df.loc[df['CIVILSTAND'] == 'Gift/separeret'].iloc[:,5]\n",
    "#print(type(ugift))\n",
    "print(ugift)\n",
    "#print(gift_sep)\n",
    "\n",
    "concat = pd.concat([ugift, gift_sep], axis=1, keys=['Ugift', 'Gift/Sep'])\n",
    "print(concat)"
   ]
  },
  {
   "cell_type": "code",
   "execution_count": 1,
   "metadata": {},
   "outputs": [],
   "source": [
    "# 1.5D Show 2 plots in same figure: 'Married' and 'Never Married' for all ages in DK in 2020 (Hint: x axis is age from 0-125, y axis is how many people in the 2 categories). Add lengend to show names on graphs"
   ]
  },
  {
   "cell_type": "markdown",
   "metadata": {},
   "source": [
    "## 04 Solution part 2"
   ]
  },
  {
   "cell_type": "code",
   "execution_count": null,
   "metadata": {},
   "outputs": [],
   "source": [
    "# 2.1"
   ]
  },
  {
   "cell_type": "code",
   "execution_count": null,
   "metadata": {},
   "outputs": [],
   "source": []
  },
  {
   "cell_type": "code",
   "execution_count": null,
   "metadata": {},
   "outputs": [],
   "source": []
  }
 ],
 "metadata": {
  "kernelspec": {
   "display_name": "Python 3",
   "language": "python",
   "name": "python3"
  },
  "language_info": {
   "codemirror_mode": {
    "name": "ipython",
    "version": 3
   },
   "file_extension": ".py",
   "mimetype": "text/x-python",
   "name": "python",
   "nbconvert_exporter": "python",
   "pygments_lexer": "ipython3",
   "version": "3.7.6"
  }
 },
 "nbformat": 4,
 "nbformat_minor": 4
}
