{
 "cells": [
  {
   "cell_type": "code",
   "execution_count": 1,
   "metadata": {},
   "outputs": [],
   "source": [
    "from selenium import webdriver\n",
    "from selenium.webdriver.firefox.options import Options\n",
    "from tqdm import tqdm\n",
    "from concurrent.futures import ThreadPoolExecutor\n",
    "from concurrent.futures import ProcessPoolExecutor\n",
    "import multiprocessing\n",
    "import matplotlib.pyplot as plt\n",
    "import numpy as np\n",
    "\n",
    "# running headless\n",
    "options = Options()\n",
    "options.headless = True\n",
    "\n",
    "#browser = webdriver.Firefox(options=options)\n",
    "#browser.get('https://socialblade.com/youtube/top/country/dk')\n",
    "#browser.implicitly_wait(3)\n",
    "\n"
   ]
  },
  {
   "cell_type": "code",
   "execution_count": 17,
   "metadata": {},
   "outputs": [
    {
     "name": "stderr",
     "output_type": "stream",
     "text": [
      "100%|██████████| 250/250 [00:12<00:00, 19.58it/s]\n",
      "100%|██████████| 250/250 [00:12<00:00, 19.45it/s]\n",
      "100%|██████████| 250/250 [00:11<00:00, 20.97it/s]\n",
      "100%|██████████| 250/250 [00:12<00:00, 20.73it/s]\n",
      "100%|██████████| 250/250 [00:11<00:00, 20.84it/s]\n"
     ]
    },
    {
     "name": "stdout",
     "output_type": "stream",
     "text": [
      "[('dk', 16922840923), ('fi', 26459686198), ('is', 3742427761), ('no', 39403924582), ('se', 51306325291)]\n"
     ]
    }
   ],
   "source": [
    "contries = ['dk', 'fi', 'is', 'no', 'se']\n",
    "\n",
    "def total_views_top_250_by_country(country_code):\n",
    "    views = 0\n",
    "    url = 'https://socialblade.com/youtube/top/country/{}'.format(country_code)\n",
    "    browser = webdriver.Firefox(options=options)\n",
    "    browser.get(url)\n",
    "    browser.implicitly_wait(3)\n",
    "    \n",
    "    for i in tqdm(range(5, 255)):\n",
    "        div = browser.find_element_by_xpath('/html/body/div[11]/div[2]/div[{}]'.format(i))\n",
    "        data_list = div.find_elements_by_tag_name('div')\n",
    "        views += int(data_list[5].text.replace(',', ''))\n",
    "    \n",
    "        #element = div.find_element_by_xpath('.//div[6]')\n",
    "        #print(element.text)\n",
    "        \n",
    "    #return {'country': country_code, 'views': views}\n",
    "    return country_code, views\n",
    "\n",
    "def total_views_list(func, args, workers=multiprocessing.cpu_count()):\n",
    "    with ProcessPoolExecutor(workers) as ex:\n",
    "        res = ex.map(func, args)\n",
    "        return list(res)\n",
    "    \n",
    "    #with ThreadPoolExecutor(len(args)) as ex:\n",
    "        #res = tqdm(ex.map(total_views_top_250_by_country, contries), total=len(contries))\n",
    "        #return list(res)\n",
    "\n",
    "data = total_views_list(total_views_top_250_by_country, contries)\n",
    "print(data)\n",
    "    \n",
    "    "
   ]
  },
  {
   "cell_type": "code",
   "execution_count": 18,
   "metadata": {},
   "outputs": [
    {
     "data": {
      "application/javascript": [
       "/* Put everything inside the global mpl namespace */\n",
       "window.mpl = {};\n",
       "\n",
       "\n",
       "mpl.get_websocket_type = function() {\n",
       "    if (typeof(WebSocket) !== 'undefined') {\n",
       "        return WebSocket;\n",
       "    } else if (typeof(MozWebSocket) !== 'undefined') {\n",
       "        return MozWebSocket;\n",
       "    } else {\n",
       "        alert('Your browser does not have WebSocket support. ' +\n",
       "              'Please try Chrome, Safari or Firefox ≥ 6. ' +\n",
       "              'Firefox 4 and 5 are also supported but you ' +\n",
       "              'have to enable WebSockets in about:config.');\n",
       "    };\n",
       "}\n",
       "\n",
       "mpl.figure = function(figure_id, websocket, ondownload, parent_element) {\n",
       "    this.id = figure_id;\n",
       "\n",
       "    this.ws = websocket;\n",
       "\n",
       "    this.supports_binary = (this.ws.binaryType != undefined);\n",
       "\n",
       "    if (!this.supports_binary) {\n",
       "        var warnings = document.getElementById(\"mpl-warnings\");\n",
       "        if (warnings) {\n",
       "            warnings.style.display = 'block';\n",
       "            warnings.textContent = (\n",
       "                \"This browser does not support binary websocket messages. \" +\n",
       "                    \"Performance may be slow.\");\n",
       "        }\n",
       "    }\n",
       "\n",
       "    this.imageObj = new Image();\n",
       "\n",
       "    this.context = undefined;\n",
       "    this.message = undefined;\n",
       "    this.canvas = undefined;\n",
       "    this.rubberband_canvas = undefined;\n",
       "    this.rubberband_context = undefined;\n",
       "    this.format_dropdown = undefined;\n",
       "\n",
       "    this.image_mode = 'full';\n",
       "\n",
       "    this.root = $('<div/>');\n",
       "    this._root_extra_style(this.root)\n",
       "    this.root.attr('style', 'display: inline-block');\n",
       "\n",
       "    $(parent_element).append(this.root);\n",
       "\n",
       "    this._init_header(this);\n",
       "    this._init_canvas(this);\n",
       "    this._init_toolbar(this);\n",
       "\n",
       "    var fig = this;\n",
       "\n",
       "    this.waiting = false;\n",
       "\n",
       "    this.ws.onopen =  function () {\n",
       "            fig.send_message(\"supports_binary\", {value: fig.supports_binary});\n",
       "            fig.send_message(\"send_image_mode\", {});\n",
       "            if (mpl.ratio != 1) {\n",
       "                fig.send_message(\"set_dpi_ratio\", {'dpi_ratio': mpl.ratio});\n",
       "            }\n",
       "            fig.send_message(\"refresh\", {});\n",
       "        }\n",
       "\n",
       "    this.imageObj.onload = function() {\n",
       "            if (fig.image_mode == 'full') {\n",
       "                // Full images could contain transparency (where diff images\n",
       "                // almost always do), so we need to clear the canvas so that\n",
       "                // there is no ghosting.\n",
       "                fig.context.clearRect(0, 0, fig.canvas.width, fig.canvas.height);\n",
       "            }\n",
       "            fig.context.drawImage(fig.imageObj, 0, 0);\n",
       "        };\n",
       "\n",
       "    this.imageObj.onunload = function() {\n",
       "        fig.ws.close();\n",
       "    }\n",
       "\n",
       "    this.ws.onmessage = this._make_on_message_function(this);\n",
       "\n",
       "    this.ondownload = ondownload;\n",
       "}\n",
       "\n",
       "mpl.figure.prototype._init_header = function() {\n",
       "    var titlebar = $(\n",
       "        '<div class=\"ui-dialog-titlebar ui-widget-header ui-corner-all ' +\n",
       "        'ui-helper-clearfix\"/>');\n",
       "    var titletext = $(\n",
       "        '<div class=\"ui-dialog-title\" style=\"width: 100%; ' +\n",
       "        'text-align: center; padding: 3px;\"/>');\n",
       "    titlebar.append(titletext)\n",
       "    this.root.append(titlebar);\n",
       "    this.header = titletext[0];\n",
       "}\n",
       "\n",
       "\n",
       "\n",
       "mpl.figure.prototype._canvas_extra_style = function(canvas_div) {\n",
       "\n",
       "}\n",
       "\n",
       "\n",
       "mpl.figure.prototype._root_extra_style = function(canvas_div) {\n",
       "\n",
       "}\n",
       "\n",
       "mpl.figure.prototype._init_canvas = function() {\n",
       "    var fig = this;\n",
       "\n",
       "    var canvas_div = $('<div/>');\n",
       "\n",
       "    canvas_div.attr('style', 'position: relative; clear: both; outline: 0');\n",
       "\n",
       "    function canvas_keyboard_event(event) {\n",
       "        return fig.key_event(event, event['data']);\n",
       "    }\n",
       "\n",
       "    canvas_div.keydown('key_press', canvas_keyboard_event);\n",
       "    canvas_div.keyup('key_release', canvas_keyboard_event);\n",
       "    this.canvas_div = canvas_div\n",
       "    this._canvas_extra_style(canvas_div)\n",
       "    this.root.append(canvas_div);\n",
       "\n",
       "    var canvas = $('<canvas/>');\n",
       "    canvas.addClass('mpl-canvas');\n",
       "    canvas.attr('style', \"left: 0; top: 0; z-index: 0; outline: 0\")\n",
       "\n",
       "    this.canvas = canvas[0];\n",
       "    this.context = canvas[0].getContext(\"2d\");\n",
       "\n",
       "    var backingStore = this.context.backingStorePixelRatio ||\n",
       "\tthis.context.webkitBackingStorePixelRatio ||\n",
       "\tthis.context.mozBackingStorePixelRatio ||\n",
       "\tthis.context.msBackingStorePixelRatio ||\n",
       "\tthis.context.oBackingStorePixelRatio ||\n",
       "\tthis.context.backingStorePixelRatio || 1;\n",
       "\n",
       "    mpl.ratio = (window.devicePixelRatio || 1) / backingStore;\n",
       "\n",
       "    var rubberband = $('<canvas/>');\n",
       "    rubberband.attr('style', \"position: absolute; left: 0; top: 0; z-index: 1;\")\n",
       "\n",
       "    var pass_mouse_events = true;\n",
       "\n",
       "    canvas_div.resizable({\n",
       "        start: function(event, ui) {\n",
       "            pass_mouse_events = false;\n",
       "        },\n",
       "        resize: function(event, ui) {\n",
       "            fig.request_resize(ui.size.width, ui.size.height);\n",
       "        },\n",
       "        stop: function(event, ui) {\n",
       "            pass_mouse_events = true;\n",
       "            fig.request_resize(ui.size.width, ui.size.height);\n",
       "        },\n",
       "    });\n",
       "\n",
       "    function mouse_event_fn(event) {\n",
       "        if (pass_mouse_events)\n",
       "            return fig.mouse_event(event, event['data']);\n",
       "    }\n",
       "\n",
       "    rubberband.mousedown('button_press', mouse_event_fn);\n",
       "    rubberband.mouseup('button_release', mouse_event_fn);\n",
       "    // Throttle sequential mouse events to 1 every 20ms.\n",
       "    rubberband.mousemove('motion_notify', mouse_event_fn);\n",
       "\n",
       "    rubberband.mouseenter('figure_enter', mouse_event_fn);\n",
       "    rubberband.mouseleave('figure_leave', mouse_event_fn);\n",
       "\n",
       "    canvas_div.on(\"wheel\", function (event) {\n",
       "        event = event.originalEvent;\n",
       "        event['data'] = 'scroll'\n",
       "        if (event.deltaY < 0) {\n",
       "            event.step = 1;\n",
       "        } else {\n",
       "            event.step = -1;\n",
       "        }\n",
       "        mouse_event_fn(event);\n",
       "    });\n",
       "\n",
       "    canvas_div.append(canvas);\n",
       "    canvas_div.append(rubberband);\n",
       "\n",
       "    this.rubberband = rubberband;\n",
       "    this.rubberband_canvas = rubberband[0];\n",
       "    this.rubberband_context = rubberband[0].getContext(\"2d\");\n",
       "    this.rubberband_context.strokeStyle = \"#000000\";\n",
       "\n",
       "    this._resize_canvas = function(width, height) {\n",
       "        // Keep the size of the canvas, canvas container, and rubber band\n",
       "        // canvas in synch.\n",
       "        canvas_div.css('width', width)\n",
       "        canvas_div.css('height', height)\n",
       "\n",
       "        canvas.attr('width', width * mpl.ratio);\n",
       "        canvas.attr('height', height * mpl.ratio);\n",
       "        canvas.attr('style', 'width: ' + width + 'px; height: ' + height + 'px;');\n",
       "\n",
       "        rubberband.attr('width', width);\n",
       "        rubberband.attr('height', height);\n",
       "    }\n",
       "\n",
       "    // Set the figure to an initial 600x600px, this will subsequently be updated\n",
       "    // upon first draw.\n",
       "    this._resize_canvas(600, 600);\n",
       "\n",
       "    // Disable right mouse context menu.\n",
       "    $(this.rubberband_canvas).bind(\"contextmenu\",function(e){\n",
       "        return false;\n",
       "    });\n",
       "\n",
       "    function set_focus () {\n",
       "        canvas.focus();\n",
       "        canvas_div.focus();\n",
       "    }\n",
       "\n",
       "    window.setTimeout(set_focus, 100);\n",
       "}\n",
       "\n",
       "mpl.figure.prototype._init_toolbar = function() {\n",
       "    var fig = this;\n",
       "\n",
       "    var nav_element = $('<div/>');\n",
       "    nav_element.attr('style', 'width: 100%');\n",
       "    this.root.append(nav_element);\n",
       "\n",
       "    // Define a callback function for later on.\n",
       "    function toolbar_event(event) {\n",
       "        return fig.toolbar_button_onclick(event['data']);\n",
       "    }\n",
       "    function toolbar_mouse_event(event) {\n",
       "        return fig.toolbar_button_onmouseover(event['data']);\n",
       "    }\n",
       "\n",
       "    for(var toolbar_ind in mpl.toolbar_items) {\n",
       "        var name = mpl.toolbar_items[toolbar_ind][0];\n",
       "        var tooltip = mpl.toolbar_items[toolbar_ind][1];\n",
       "        var image = mpl.toolbar_items[toolbar_ind][2];\n",
       "        var method_name = mpl.toolbar_items[toolbar_ind][3];\n",
       "\n",
       "        if (!name) {\n",
       "            // put a spacer in here.\n",
       "            continue;\n",
       "        }\n",
       "        var button = $('<button/>');\n",
       "        button.addClass('ui-button ui-widget ui-state-default ui-corner-all ' +\n",
       "                        'ui-button-icon-only');\n",
       "        button.attr('role', 'button');\n",
       "        button.attr('aria-disabled', 'false');\n",
       "        button.click(method_name, toolbar_event);\n",
       "        button.mouseover(tooltip, toolbar_mouse_event);\n",
       "\n",
       "        var icon_img = $('<span/>');\n",
       "        icon_img.addClass('ui-button-icon-primary ui-icon');\n",
       "        icon_img.addClass(image);\n",
       "        icon_img.addClass('ui-corner-all');\n",
       "\n",
       "        var tooltip_span = $('<span/>');\n",
       "        tooltip_span.addClass('ui-button-text');\n",
       "        tooltip_span.html(tooltip);\n",
       "\n",
       "        button.append(icon_img);\n",
       "        button.append(tooltip_span);\n",
       "\n",
       "        nav_element.append(button);\n",
       "    }\n",
       "\n",
       "    var fmt_picker_span = $('<span/>');\n",
       "\n",
       "    var fmt_picker = $('<select/>');\n",
       "    fmt_picker.addClass('mpl-toolbar-option ui-widget ui-widget-content');\n",
       "    fmt_picker_span.append(fmt_picker);\n",
       "    nav_element.append(fmt_picker_span);\n",
       "    this.format_dropdown = fmt_picker[0];\n",
       "\n",
       "    for (var ind in mpl.extensions) {\n",
       "        var fmt = mpl.extensions[ind];\n",
       "        var option = $(\n",
       "            '<option/>', {selected: fmt === mpl.default_extension}).html(fmt);\n",
       "        fmt_picker.append(option);\n",
       "    }\n",
       "\n",
       "    // Add hover states to the ui-buttons\n",
       "    $( \".ui-button\" ).hover(\n",
       "        function() { $(this).addClass(\"ui-state-hover\");},\n",
       "        function() { $(this).removeClass(\"ui-state-hover\");}\n",
       "    );\n",
       "\n",
       "    var status_bar = $('<span class=\"mpl-message\"/>');\n",
       "    nav_element.append(status_bar);\n",
       "    this.message = status_bar[0];\n",
       "}\n",
       "\n",
       "mpl.figure.prototype.request_resize = function(x_pixels, y_pixels) {\n",
       "    // Request matplotlib to resize the figure. Matplotlib will then trigger a resize in the client,\n",
       "    // which will in turn request a refresh of the image.\n",
       "    this.send_message('resize', {'width': x_pixels, 'height': y_pixels});\n",
       "}\n",
       "\n",
       "mpl.figure.prototype.send_message = function(type, properties) {\n",
       "    properties['type'] = type;\n",
       "    properties['figure_id'] = this.id;\n",
       "    this.ws.send(JSON.stringify(properties));\n",
       "}\n",
       "\n",
       "mpl.figure.prototype.send_draw_message = function() {\n",
       "    if (!this.waiting) {\n",
       "        this.waiting = true;\n",
       "        this.ws.send(JSON.stringify({type: \"draw\", figure_id: this.id}));\n",
       "    }\n",
       "}\n",
       "\n",
       "\n",
       "mpl.figure.prototype.handle_save = function(fig, msg) {\n",
       "    var format_dropdown = fig.format_dropdown;\n",
       "    var format = format_dropdown.options[format_dropdown.selectedIndex].value;\n",
       "    fig.ondownload(fig, format);\n",
       "}\n",
       "\n",
       "\n",
       "mpl.figure.prototype.handle_resize = function(fig, msg) {\n",
       "    var size = msg['size'];\n",
       "    if (size[0] != fig.canvas.width || size[1] != fig.canvas.height) {\n",
       "        fig._resize_canvas(size[0], size[1]);\n",
       "        fig.send_message(\"refresh\", {});\n",
       "    };\n",
       "}\n",
       "\n",
       "mpl.figure.prototype.handle_rubberband = function(fig, msg) {\n",
       "    var x0 = msg['x0'] / mpl.ratio;\n",
       "    var y0 = (fig.canvas.height - msg['y0']) / mpl.ratio;\n",
       "    var x1 = msg['x1'] / mpl.ratio;\n",
       "    var y1 = (fig.canvas.height - msg['y1']) / mpl.ratio;\n",
       "    x0 = Math.floor(x0) + 0.5;\n",
       "    y0 = Math.floor(y0) + 0.5;\n",
       "    x1 = Math.floor(x1) + 0.5;\n",
       "    y1 = Math.floor(y1) + 0.5;\n",
       "    var min_x = Math.min(x0, x1);\n",
       "    var min_y = Math.min(y0, y1);\n",
       "    var width = Math.abs(x1 - x0);\n",
       "    var height = Math.abs(y1 - y0);\n",
       "\n",
       "    fig.rubberband_context.clearRect(\n",
       "        0, 0, fig.canvas.width / mpl.ratio, fig.canvas.height / mpl.ratio);\n",
       "\n",
       "    fig.rubberband_context.strokeRect(min_x, min_y, width, height);\n",
       "}\n",
       "\n",
       "mpl.figure.prototype.handle_figure_label = function(fig, msg) {\n",
       "    // Updates the figure title.\n",
       "    fig.header.textContent = msg['label'];\n",
       "}\n",
       "\n",
       "mpl.figure.prototype.handle_cursor = function(fig, msg) {\n",
       "    var cursor = msg['cursor'];\n",
       "    switch(cursor)\n",
       "    {\n",
       "    case 0:\n",
       "        cursor = 'pointer';\n",
       "        break;\n",
       "    case 1:\n",
       "        cursor = 'default';\n",
       "        break;\n",
       "    case 2:\n",
       "        cursor = 'crosshair';\n",
       "        break;\n",
       "    case 3:\n",
       "        cursor = 'move';\n",
       "        break;\n",
       "    }\n",
       "    fig.rubberband_canvas.style.cursor = cursor;\n",
       "}\n",
       "\n",
       "mpl.figure.prototype.handle_message = function(fig, msg) {\n",
       "    fig.message.textContent = msg['message'];\n",
       "}\n",
       "\n",
       "mpl.figure.prototype.handle_draw = function(fig, msg) {\n",
       "    // Request the server to send over a new figure.\n",
       "    fig.send_draw_message();\n",
       "}\n",
       "\n",
       "mpl.figure.prototype.handle_image_mode = function(fig, msg) {\n",
       "    fig.image_mode = msg['mode'];\n",
       "}\n",
       "\n",
       "mpl.figure.prototype.updated_canvas_event = function() {\n",
       "    // Called whenever the canvas gets updated.\n",
       "    this.send_message(\"ack\", {});\n",
       "}\n",
       "\n",
       "// A function to construct a web socket function for onmessage handling.\n",
       "// Called in the figure constructor.\n",
       "mpl.figure.prototype._make_on_message_function = function(fig) {\n",
       "    return function socket_on_message(evt) {\n",
       "        if (evt.data instanceof Blob) {\n",
       "            /* FIXME: We get \"Resource interpreted as Image but\n",
       "             * transferred with MIME type text/plain:\" errors on\n",
       "             * Chrome.  But how to set the MIME type?  It doesn't seem\n",
       "             * to be part of the websocket stream */\n",
       "            evt.data.type = \"image/png\";\n",
       "\n",
       "            /* Free the memory for the previous frames */\n",
       "            if (fig.imageObj.src) {\n",
       "                (window.URL || window.webkitURL).revokeObjectURL(\n",
       "                    fig.imageObj.src);\n",
       "            }\n",
       "\n",
       "            fig.imageObj.src = (window.URL || window.webkitURL).createObjectURL(\n",
       "                evt.data);\n",
       "            fig.updated_canvas_event();\n",
       "            fig.waiting = false;\n",
       "            return;\n",
       "        }\n",
       "        else if (typeof evt.data === 'string' && evt.data.slice(0, 21) == \"data:image/png;base64\") {\n",
       "            fig.imageObj.src = evt.data;\n",
       "            fig.updated_canvas_event();\n",
       "            fig.waiting = false;\n",
       "            return;\n",
       "        }\n",
       "\n",
       "        var msg = JSON.parse(evt.data);\n",
       "        var msg_type = msg['type'];\n",
       "\n",
       "        // Call the  \"handle_{type}\" callback, which takes\n",
       "        // the figure and JSON message as its only arguments.\n",
       "        try {\n",
       "            var callback = fig[\"handle_\" + msg_type];\n",
       "        } catch (e) {\n",
       "            console.log(\"No handler for the '\" + msg_type + \"' message type: \", msg);\n",
       "            return;\n",
       "        }\n",
       "\n",
       "        if (callback) {\n",
       "            try {\n",
       "                // console.log(\"Handling '\" + msg_type + \"' message: \", msg);\n",
       "                callback(fig, msg);\n",
       "            } catch (e) {\n",
       "                console.log(\"Exception inside the 'handler_\" + msg_type + \"' callback:\", e, e.stack, msg);\n",
       "            }\n",
       "        }\n",
       "    };\n",
       "}\n",
       "\n",
       "// from http://stackoverflow.com/questions/1114465/getting-mouse-location-in-canvas\n",
       "mpl.findpos = function(e) {\n",
       "    //this section is from http://www.quirksmode.org/js/events_properties.html\n",
       "    var targ;\n",
       "    if (!e)\n",
       "        e = window.event;\n",
       "    if (e.target)\n",
       "        targ = e.target;\n",
       "    else if (e.srcElement)\n",
       "        targ = e.srcElement;\n",
       "    if (targ.nodeType == 3) // defeat Safari bug\n",
       "        targ = targ.parentNode;\n",
       "\n",
       "    // jQuery normalizes the pageX and pageY\n",
       "    // pageX,Y are the mouse positions relative to the document\n",
       "    // offset() returns the position of the element relative to the document\n",
       "    var x = e.pageX - $(targ).offset().left;\n",
       "    var y = e.pageY - $(targ).offset().top;\n",
       "\n",
       "    return {\"x\": x, \"y\": y};\n",
       "};\n",
       "\n",
       "/*\n",
       " * return a copy of an object with only non-object keys\n",
       " * we need this to avoid circular references\n",
       " * http://stackoverflow.com/a/24161582/3208463\n",
       " */\n",
       "function simpleKeys (original) {\n",
       "  return Object.keys(original).reduce(function (obj, key) {\n",
       "    if (typeof original[key] !== 'object')\n",
       "        obj[key] = original[key]\n",
       "    return obj;\n",
       "  }, {});\n",
       "}\n",
       "\n",
       "mpl.figure.prototype.mouse_event = function(event, name) {\n",
       "    var canvas_pos = mpl.findpos(event)\n",
       "\n",
       "    if (name === 'button_press')\n",
       "    {\n",
       "        this.canvas.focus();\n",
       "        this.canvas_div.focus();\n",
       "    }\n",
       "\n",
       "    var x = canvas_pos.x * mpl.ratio;\n",
       "    var y = canvas_pos.y * mpl.ratio;\n",
       "\n",
       "    this.send_message(name, {x: x, y: y, button: event.button,\n",
       "                             step: event.step,\n",
       "                             guiEvent: simpleKeys(event)});\n",
       "\n",
       "    /* This prevents the web browser from automatically changing to\n",
       "     * the text insertion cursor when the button is pressed.  We want\n",
       "     * to control all of the cursor setting manually through the\n",
       "     * 'cursor' event from matplotlib */\n",
       "    event.preventDefault();\n",
       "    return false;\n",
       "}\n",
       "\n",
       "mpl.figure.prototype._key_event_extra = function(event, name) {\n",
       "    // Handle any extra behaviour associated with a key event\n",
       "}\n",
       "\n",
       "mpl.figure.prototype.key_event = function(event, name) {\n",
       "\n",
       "    // Prevent repeat events\n",
       "    if (name == 'key_press')\n",
       "    {\n",
       "        if (event.which === this._key)\n",
       "            return;\n",
       "        else\n",
       "            this._key = event.which;\n",
       "    }\n",
       "    if (name == 'key_release')\n",
       "        this._key = null;\n",
       "\n",
       "    var value = '';\n",
       "    if (event.ctrlKey && event.which != 17)\n",
       "        value += \"ctrl+\";\n",
       "    if (event.altKey && event.which != 18)\n",
       "        value += \"alt+\";\n",
       "    if (event.shiftKey && event.which != 16)\n",
       "        value += \"shift+\";\n",
       "\n",
       "    value += 'k';\n",
       "    value += event.which.toString();\n",
       "\n",
       "    this._key_event_extra(event, name);\n",
       "\n",
       "    this.send_message(name, {key: value,\n",
       "                             guiEvent: simpleKeys(event)});\n",
       "    return false;\n",
       "}\n",
       "\n",
       "mpl.figure.prototype.toolbar_button_onclick = function(name) {\n",
       "    if (name == 'download') {\n",
       "        this.handle_save(this, null);\n",
       "    } else {\n",
       "        this.send_message(\"toolbar_button\", {name: name});\n",
       "    }\n",
       "};\n",
       "\n",
       "mpl.figure.prototype.toolbar_button_onmouseover = function(tooltip) {\n",
       "    this.message.textContent = tooltip;\n",
       "};\n",
       "mpl.toolbar_items = [[\"Home\", \"Reset original view\", \"fa fa-home icon-home\", \"home\"], [\"Back\", \"Back to previous view\", \"fa fa-arrow-left icon-arrow-left\", \"back\"], [\"Forward\", \"Forward to next view\", \"fa fa-arrow-right icon-arrow-right\", \"forward\"], [\"\", \"\", \"\", \"\"], [\"Pan\", \"Pan axes with left mouse, zoom with right\", \"fa fa-arrows icon-move\", \"pan\"], [\"Zoom\", \"Zoom to rectangle\", \"fa fa-square-o icon-check-empty\", \"zoom\"], [\"\", \"\", \"\", \"\"], [\"Download\", \"Download plot\", \"fa fa-floppy-o icon-save\", \"download\"]];\n",
       "\n",
       "mpl.extensions = [\"eps\", \"jpeg\", \"pdf\", \"png\", \"ps\", \"raw\", \"svg\", \"tif\"];\n",
       "\n",
       "mpl.default_extension = \"png\";var comm_websocket_adapter = function(comm) {\n",
       "    // Create a \"websocket\"-like object which calls the given IPython comm\n",
       "    // object with the appropriate methods. Currently this is a non binary\n",
       "    // socket, so there is still some room for performance tuning.\n",
       "    var ws = {};\n",
       "\n",
       "    ws.close = function() {\n",
       "        comm.close()\n",
       "    };\n",
       "    ws.send = function(m) {\n",
       "        //console.log('sending', m);\n",
       "        comm.send(m);\n",
       "    };\n",
       "    // Register the callback with on_msg.\n",
       "    comm.on_msg(function(msg) {\n",
       "        //console.log('receiving', msg['content']['data'], msg);\n",
       "        // Pass the mpl event to the overridden (by mpl) onmessage function.\n",
       "        ws.onmessage(msg['content']['data'])\n",
       "    });\n",
       "    return ws;\n",
       "}\n",
       "\n",
       "mpl.mpl_figure_comm = function(comm, msg) {\n",
       "    // This is the function which gets called when the mpl process\n",
       "    // starts-up an IPython Comm through the \"matplotlib\" channel.\n",
       "\n",
       "    var id = msg.content.data.id;\n",
       "    // Get hold of the div created by the display call when the Comm\n",
       "    // socket was opened in Python.\n",
       "    var element = $(\"#\" + id);\n",
       "    var ws_proxy = comm_websocket_adapter(comm)\n",
       "\n",
       "    function ondownload(figure, format) {\n",
       "        window.open(figure.imageObj.src);\n",
       "    }\n",
       "\n",
       "    var fig = new mpl.figure(id, ws_proxy,\n",
       "                           ondownload,\n",
       "                           element.get(0));\n",
       "\n",
       "    // Call onopen now - mpl needs it, as it is assuming we've passed it a real\n",
       "    // web socket which is closed, not our websocket->open comm proxy.\n",
       "    ws_proxy.onopen();\n",
       "\n",
       "    fig.parent_element = element.get(0);\n",
       "    fig.cell_info = mpl.find_output_cell(\"<div id='\" + id + \"'></div>\");\n",
       "    if (!fig.cell_info) {\n",
       "        console.error(\"Failed to find cell for figure\", id, fig);\n",
       "        return;\n",
       "    }\n",
       "\n",
       "    var output_index = fig.cell_info[2]\n",
       "    var cell = fig.cell_info[0];\n",
       "\n",
       "};\n",
       "\n",
       "mpl.figure.prototype.handle_close = function(fig, msg) {\n",
       "    var width = fig.canvas.width/mpl.ratio\n",
       "    fig.root.unbind('remove')\n",
       "\n",
       "    // Update the output cell to use the data from the current canvas.\n",
       "    fig.push_to_output();\n",
       "    var dataURL = fig.canvas.toDataURL();\n",
       "    // Re-enable the keyboard manager in IPython - without this line, in FF,\n",
       "    // the notebook keyboard shortcuts fail.\n",
       "    IPython.keyboard_manager.enable()\n",
       "    $(fig.parent_element).html('<img src=\"' + dataURL + '\" width=\"' + width + '\">');\n",
       "    fig.close_ws(fig, msg);\n",
       "}\n",
       "\n",
       "mpl.figure.prototype.close_ws = function(fig, msg){\n",
       "    fig.send_message('closing', msg);\n",
       "    // fig.ws.close()\n",
       "}\n",
       "\n",
       "mpl.figure.prototype.push_to_output = function(remove_interactive) {\n",
       "    // Turn the data on the canvas into data in the output cell.\n",
       "    var width = this.canvas.width/mpl.ratio\n",
       "    var dataURL = this.canvas.toDataURL();\n",
       "    this.cell_info[1]['text/html'] = '<img src=\"' + dataURL + '\" width=\"' + width + '\">';\n",
       "}\n",
       "\n",
       "mpl.figure.prototype.updated_canvas_event = function() {\n",
       "    // Tell IPython that the notebook contents must change.\n",
       "    IPython.notebook.set_dirty(true);\n",
       "    this.send_message(\"ack\", {});\n",
       "    var fig = this;\n",
       "    // Wait a second, then push the new image to the DOM so\n",
       "    // that it is saved nicely (might be nice to debounce this).\n",
       "    setTimeout(function () { fig.push_to_output() }, 1000);\n",
       "}\n",
       "\n",
       "mpl.figure.prototype._init_toolbar = function() {\n",
       "    var fig = this;\n",
       "\n",
       "    var nav_element = $('<div/>');\n",
       "    nav_element.attr('style', 'width: 100%');\n",
       "    this.root.append(nav_element);\n",
       "\n",
       "    // Define a callback function for later on.\n",
       "    function toolbar_event(event) {\n",
       "        return fig.toolbar_button_onclick(event['data']);\n",
       "    }\n",
       "    function toolbar_mouse_event(event) {\n",
       "        return fig.toolbar_button_onmouseover(event['data']);\n",
       "    }\n",
       "\n",
       "    for(var toolbar_ind in mpl.toolbar_items){\n",
       "        var name = mpl.toolbar_items[toolbar_ind][0];\n",
       "        var tooltip = mpl.toolbar_items[toolbar_ind][1];\n",
       "        var image = mpl.toolbar_items[toolbar_ind][2];\n",
       "        var method_name = mpl.toolbar_items[toolbar_ind][3];\n",
       "\n",
       "        if (!name) { continue; };\n",
       "\n",
       "        var button = $('<button class=\"btn btn-default\" href=\"#\" title=\"' + name + '\"><i class=\"fa ' + image + ' fa-lg\"></i></button>');\n",
       "        button.click(method_name, toolbar_event);\n",
       "        button.mouseover(tooltip, toolbar_mouse_event);\n",
       "        nav_element.append(button);\n",
       "    }\n",
       "\n",
       "    // Add the status bar.\n",
       "    var status_bar = $('<span class=\"mpl-message\" style=\"text-align:right; float: right;\"/>');\n",
       "    nav_element.append(status_bar);\n",
       "    this.message = status_bar[0];\n",
       "\n",
       "    // Add the close button to the window.\n",
       "    var buttongrp = $('<div class=\"btn-group inline pull-right\"></div>');\n",
       "    var button = $('<button class=\"btn btn-mini btn-primary\" href=\"#\" title=\"Stop Interaction\"><i class=\"fa fa-power-off icon-remove icon-large\"></i></button>');\n",
       "    button.click(function (evt) { fig.handle_close(fig, {}); } );\n",
       "    button.mouseover('Stop Interaction', toolbar_mouse_event);\n",
       "    buttongrp.append(button);\n",
       "    var titlebar = this.root.find($('.ui-dialog-titlebar'));\n",
       "    titlebar.prepend(buttongrp);\n",
       "}\n",
       "\n",
       "mpl.figure.prototype._root_extra_style = function(el){\n",
       "    var fig = this\n",
       "    el.on(\"remove\", function(){\n",
       "\tfig.close_ws(fig, {});\n",
       "    });\n",
       "}\n",
       "\n",
       "mpl.figure.prototype._canvas_extra_style = function(el){\n",
       "    // this is important to make the div 'focusable\n",
       "    el.attr('tabindex', 0)\n",
       "    // reach out to IPython and tell the keyboard manager to turn it's self\n",
       "    // off when our div gets focus\n",
       "\n",
       "    // location in version 3\n",
       "    if (IPython.notebook.keyboard_manager) {\n",
       "        IPython.notebook.keyboard_manager.register_events(el);\n",
       "    }\n",
       "    else {\n",
       "        // location in version 2\n",
       "        IPython.keyboard_manager.register_events(el);\n",
       "    }\n",
       "\n",
       "}\n",
       "\n",
       "mpl.figure.prototype._key_event_extra = function(event, name) {\n",
       "    var manager = IPython.notebook.keyboard_manager;\n",
       "    if (!manager)\n",
       "        manager = IPython.keyboard_manager;\n",
       "\n",
       "    // Check for shift+enter\n",
       "    if (event.shiftKey && event.which == 13) {\n",
       "        this.canvas_div.blur();\n",
       "        // select the cell after this one\n",
       "        var index = IPython.notebook.find_cell_index(this.cell_info[0]);\n",
       "        IPython.notebook.select(index + 1);\n",
       "    }\n",
       "}\n",
       "\n",
       "mpl.figure.prototype.handle_save = function(fig, msg) {\n",
       "    fig.ondownload(fig, null);\n",
       "}\n",
       "\n",
       "\n",
       "mpl.find_output_cell = function(html_output) {\n",
       "    // Return the cell and output element which can be found *uniquely* in the notebook.\n",
       "    // Note - this is a bit hacky, but it is done because the \"notebook_saving.Notebook\"\n",
       "    // IPython event is triggered only after the cells have been serialised, which for\n",
       "    // our purposes (turning an active figure into a static one), is too late.\n",
       "    var cells = IPython.notebook.get_cells();\n",
       "    var ncells = cells.length;\n",
       "    for (var i=0; i<ncells; i++) {\n",
       "        var cell = cells[i];\n",
       "        if (cell.cell_type === 'code'){\n",
       "            for (var j=0; j<cell.output_area.outputs.length; j++) {\n",
       "                var data = cell.output_area.outputs[j];\n",
       "                if (data.data) {\n",
       "                    // IPython >= 3 moved mimebundle to data attribute of output\n",
       "                    data = data.data;\n",
       "                }\n",
       "                if (data['text/html'] == html_output) {\n",
       "                    return [cell, data, j];\n",
       "                }\n",
       "            }\n",
       "        }\n",
       "    }\n",
       "}\n",
       "\n",
       "// Register the function which deals with the matplotlib target/channel.\n",
       "// The kernel may be null if the page has been refreshed.\n",
       "if (IPython.notebook.kernel != null) {\n",
       "    IPython.notebook.kernel.comm_manager.register_target('matplotlib', mpl.mpl_figure_comm);\n",
       "}\n"
      ],
      "text/plain": [
       "<IPython.core.display.Javascript object>"
      ]
     },
     "metadata": {},
     "output_type": "display_data"
    },
    {
     "data": {
      "text/html": [
       "<img src=\"data:image/png;base64,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\" width=\"640\">"
      ],
      "text/plain": [
       "<IPython.core.display.HTML object>"
      ]
     },
     "metadata": {},
     "output_type": "display_data"
    },
    {
     "data": {
      "text/plain": [
       "Text(0.5, 1.0, '137,835,204,755 total views')"
      ]
     },
     "execution_count": 18,
     "metadata": {},
     "output_type": "execute_result"
    }
   ],
   "source": [
    "%matplotlib notebook\n",
    "labels, views = zip(*data)\n",
    "total_views = sum(views)\n",
    "#explode = (0, 0, 0, 0, 0.1)  # only \"explode\" the 5th slice (i.e. 'se')\n",
    "fig1, ax1 = plt.subplots()\n",
    "ax1.pie(views, labels=labels, autopct='%1.1f%%', startangle=90)\n",
    "ax1.axis('equal')  # Equal aspect ratio ensures that pie is drawn as a circle.\n",
    "ax1.set_title('{} total views'.format(f'{total_views:,}'))"
   ]
  },
  {
   "cell_type": "code",
   "execution_count": 26,
   "metadata": {},
   "outputs": [
    {
     "name": "stderr",
     "output_type": "stream",
     "text": [
      "100%|██████████| 17/17 [00:00<00:00, 47.95it/s]\n",
      "100%|██████████| 250/250 [00:23<00:00, 10.55it/s]\n",
      "100%|██████████| 250/250 [00:33<00:00,  7.38it/s]\n",
      "100%|██████████| 250/250 [00:26<00:00,  9.41it/s]\n",
      "100%|██████████| 250/250 [00:27<00:00,  9.06it/s]\n",
      "100%|██████████| 250/250 [00:26<00:00,  9.53it/s]\n",
      "100%|██████████| 250/250 [00:27<00:00,  9.12it/s]\n",
      "100%|██████████| 250/250 [00:28<00:00,  8.91it/s]\n",
      "100%|██████████| 250/250 [00:35<00:00,  7.12it/s]\n",
      "100%|██████████| 250/250 [00:26<00:00,  9.28it/s]\n",
      "100%|██████████| 250/250 [00:25<00:00,  9.98it/s]\n",
      "100%|██████████| 250/250 [00:22<00:00, 11.03it/s]\n",
      "100%|██████████| 250/250 [00:31<00:00,  7.84it/s]\n",
      " 40%|████      | 101/250 [00:04<00:09, 15.54it/s]"
     ]
    },
    {
     "name": "stdout",
     "output_type": "stream",
     "text": [
      "No uploads for #111 at https://socialblade.com/youtube/top/category/shows\n"
     ]
    },
    {
     "name": "stderr",
     "output_type": "stream",
     "text": [
      " 42%|████▏     | 105/250 [00:05<00:08, 17.19it/s]"
     ]
    },
    {
     "name": "stdout",
     "output_type": "stream",
     "text": [
      "No uploads for #114 at https://socialblade.com/youtube/top/category/shows\n"
     ]
    },
    {
     "name": "stderr",
     "output_type": "stream",
     "text": [
      " 54%|█████▎    | 134/250 [00:06<00:06, 17.23it/s]"
     ]
    },
    {
     "name": "stdout",
     "output_type": "stream",
     "text": [
      "No data for #137 at https://socialblade.com/youtube/top/category/shows\n"
     ]
    },
    {
     "name": "stderr",
     "output_type": "stream",
     "text": [
      " 54%|█████▍    | 136/250 [00:07<00:06, 16.62it/s]"
     ]
    },
    {
     "name": "stdout",
     "output_type": "stream",
     "text": [
      "No data for #138 at https://socialblade.com/youtube/top/category/shows\n"
     ]
    },
    {
     "name": "stderr",
     "output_type": "stream",
     "text": [
      "\r",
      "  6%|▋         | 16/250 [00:01<00:22, 10.41it/s]"
     ]
    },
    {
     "name": "stdout",
     "output_type": "stream",
     "text": [
      "No data for #139 at https://socialblade.com/youtube/top/category/shows\n"
     ]
    },
    {
     "name": "stderr",
     "output_type": "stream",
     "text": [
      " 55%|█████▌    | 138/250 [00:07<00:06, 16.64it/s]"
     ]
    },
    {
     "name": "stdout",
     "output_type": "stream",
     "text": [
      "No data for #140 at https://socialblade.com/youtube/top/category/shows\n"
     ]
    },
    {
     "name": "stderr",
     "output_type": "stream",
     "text": [
      " 53%|█████▎    | 133/250 [00:06<00:06, 17.29it/s]"
     ]
    },
    {
     "name": "stdout",
     "output_type": "stream",
     "text": [
      "No data for #141 at https://socialblade.com/youtube/top/category/shows\n"
     ]
    },
    {
     "name": "stderr",
     "output_type": "stream",
     "text": [
      " 56%|█████▌    | 140/250 [00:07<00:06, 16.90it/s]"
     ]
    },
    {
     "name": "stdout",
     "output_type": "stream",
     "text": [
      "No data for #142 at https://socialblade.com/youtube/top/category/shows\n"
     ]
    },
    {
     "name": "stderr",
     "output_type": "stream",
     "text": [
      "\r",
      "  9%|▉         | 22/250 [00:01<00:15, 14.78it/s]"
     ]
    },
    {
     "name": "stdout",
     "output_type": "stream",
     "text": [
      "No data for #143 at https://socialblade.com/youtube/top/category/shows\n"
     ]
    },
    {
     "name": "stderr",
     "output_type": "stream",
     "text": [
      " 57%|█████▋    | 142/250 [00:07<00:06, 17.04it/s]"
     ]
    },
    {
     "name": "stdout",
     "output_type": "stream",
     "text": [
      "No data for #144 at https://socialblade.com/youtube/top/category/shows\n"
     ]
    },
    {
     "name": "stderr",
     "output_type": "stream",
     "text": [
      " 55%|█████▍    | 137/250 [00:06<00:06, 17.51it/s]"
     ]
    },
    {
     "name": "stdout",
     "output_type": "stream",
     "text": [
      "No data for #145 at https://socialblade.com/youtube/top/category/shows\n"
     ]
    },
    {
     "name": "stderr",
     "output_type": "stream",
     "text": [
      " 11%|█         | 28/250 [00:01<00:11, 19.68it/s]]"
     ]
    },
    {
     "name": "stdout",
     "output_type": "stream",
     "text": [
      "No data for #146 at https://socialblade.com/youtube/top/category/shows\n"
     ]
    },
    {
     "name": "stderr",
     "output_type": "stream",
     "text": [
      "\r",
      " 56%|█████▌    | 139/250 [00:07<00:06, 17.61it/s]"
     ]
    },
    {
     "name": "stdout",
     "output_type": "stream",
     "text": [
      "No data for #147 at https://socialblade.com/youtube/top/category/shows\n"
     ]
    },
    {
     "name": "stderr",
     "output_type": "stream",
     "text": [
      " 12%|█▏        | 31/250 [00:01<00:10, 21.06it/s]]"
     ]
    },
    {
     "name": "stdout",
     "output_type": "stream",
     "text": [
      "No data for #148 at https://socialblade.com/youtube/top/category/shows\n"
     ]
    },
    {
     "name": "stderr",
     "output_type": "stream",
     "text": [
      "\r",
      " 56%|█████▋    | 141/250 [00:07<00:06, 17.09it/s]"
     ]
    },
    {
     "name": "stdout",
     "output_type": "stream",
     "text": [
      "No data for #149 at https://socialblade.com/youtube/top/category/shows\n"
     ]
    },
    {
     "name": "stderr",
     "output_type": "stream",
     "text": [
      " 14%|█▎        | 34/250 [00:01<00:09, 22.10it/s]]"
     ]
    },
    {
     "name": "stdout",
     "output_type": "stream",
     "text": [
      "No data for #150 at https://socialblade.com/youtube/top/category/shows\n"
     ]
    },
    {
     "name": "stderr",
     "output_type": "stream",
     "text": [
      "\r",
      " 57%|█████▋    | 143/250 [00:07<00:06, 17.06it/s]"
     ]
    },
    {
     "name": "stdout",
     "output_type": "stream",
     "text": [
      "No data for #151 at https://socialblade.com/youtube/top/category/shows\n"
     ]
    },
    {
     "name": "stderr",
     "output_type": "stream",
     "text": [
      " 60%|██████    | 150/250 [00:07<00:05, 17.13it/s]"
     ]
    },
    {
     "name": "stdout",
     "output_type": "stream",
     "text": [
      "No data for #152 at https://socialblade.com/youtube/top/category/shows\n"
     ]
    },
    {
     "name": "stderr",
     "output_type": "stream",
     "text": [
      "\r",
      " 58%|█████▊    | 145/250 [00:07<00:06, 17.06it/s]"
     ]
    },
    {
     "name": "stdout",
     "output_type": "stream",
     "text": [
      "No data for #153 at https://socialblade.com/youtube/top/category/shows\n"
     ]
    },
    {
     "name": "stderr",
     "output_type": "stream",
     "text": [
      " 61%|██████    | 152/250 [00:07<00:05, 16.85it/s]"
     ]
    },
    {
     "name": "stdout",
     "output_type": "stream",
     "text": [
      "No data for #154 at https://socialblade.com/youtube/top/category/shows\n"
     ]
    },
    {
     "name": "stderr",
     "output_type": "stream",
     "text": [
      "\r",
      " 59%|█████▉    | 147/250 [00:07<00:06, 16.83it/s]"
     ]
    },
    {
     "name": "stdout",
     "output_type": "stream",
     "text": [
      "No data for #155 at https://socialblade.com/youtube/top/category/shows\n"
     ]
    },
    {
     "name": "stderr",
     "output_type": "stream",
     "text": [
      " 62%|██████▏   | 154/250 [00:08<00:06, 15.15it/s]"
     ]
    },
    {
     "name": "stdout",
     "output_type": "stream",
     "text": [
      "No data for #156 at https://socialblade.com/youtube/top/category/shows\n"
     ]
    },
    {
     "name": "stderr",
     "output_type": "stream",
     "text": [
      " 18%|█▊        | 46/250 [00:02<00:08, 24.97it/s]]"
     ]
    },
    {
     "name": "stdout",
     "output_type": "stream",
     "text": [
      "No data for #157 at https://socialblade.com/youtube/top/category/shows\n"
     ]
    },
    {
     "name": "stderr",
     "output_type": "stream",
     "text": [
      " 62%|██████▏   | 156/250 [00:08<00:05, 16.00it/s]"
     ]
    },
    {
     "name": "stdout",
     "output_type": "stream",
     "text": [
      "No data for #158 at https://socialblade.com/youtube/top/category/shows"
     ]
    },
    {
     "name": "stderr",
     "output_type": "stream",
     "text": [
      "\r",
      " 60%|██████    | 151/250 [00:07<00:05, 17.24it/s]"
     ]
    },
    {
     "name": "stdout",
     "output_type": "stream",
     "text": [
      "\n"
     ]
    },
    {
     "name": "stderr",
     "output_type": "stream",
     "text": [
      "\r",
      " 20%|█▉        | 49/250 [00:02<00:08, 24.87it/s]"
     ]
    },
    {
     "name": "stdout",
     "output_type": "stream",
     "text": [
      "No data for #159 at https://socialblade.com/youtube/top/category/shows\n"
     ]
    },
    {
     "name": "stderr",
     "output_type": "stream",
     "text": [
      " 61%|██████    | 153/250 [00:07<00:05, 16.97it/s]"
     ]
    },
    {
     "name": "stdout",
     "output_type": "stream",
     "text": [
      "No data for #160 at https://socialblade.com/youtube/top/category/shows\n"
     ]
    },
    {
     "name": "stderr",
     "output_type": "stream",
     "text": [
      "\r",
      " 21%|██        | 52/250 [00:02<00:07, 24.90it/s]"
     ]
    },
    {
     "name": "stdout",
     "output_type": "stream",
     "text": [
      "No data for #161 at https://socialblade.com/youtube/top/category/shows\n"
     ]
    },
    {
     "name": "stderr",
     "output_type": "stream",
     "text": [
      " 62%|██████▏   | 155/250 [00:08<00:05, 17.56it/s]"
     ]
    },
    {
     "name": "stdout",
     "output_type": "stream",
     "text": [
      "No data for #162 at https://socialblade.com/youtube/top/category/shows\n"
     ]
    },
    {
     "name": "stderr",
     "output_type": "stream",
     "text": [
      "\r",
      " 22%|██▏       | 55/250 [00:02<00:07, 25.59it/s]"
     ]
    },
    {
     "name": "stdout",
     "output_type": "stream",
     "text": [
      "No data for #163 at https://socialblade.com/youtube/top/category/shows\n"
     ]
    },
    {
     "name": "stderr",
     "output_type": "stream",
     "text": [
      " 63%|██████▎   | 157/250 [00:08<00:05, 17.26it/s]"
     ]
    },
    {
     "name": "stdout",
     "output_type": "stream",
     "text": [
      "No data for #164 at https://socialblade.com/youtube/top/category/shows\n"
     ]
    },
    {
     "name": "stderr",
     "output_type": "stream",
     "text": [
      "\r",
      " 23%|██▎       | 58/250 [00:02<00:07, 25.15it/s]"
     ]
    },
    {
     "name": "stdout",
     "output_type": "stream",
     "text": [
      "No data for #165 at https://socialblade.com/youtube/top/category/shows\n"
     ]
    },
    {
     "name": "stderr",
     "output_type": "stream",
     "text": [
      " 64%|██████▎   | 159/250 [00:08<00:05, 17.35it/s]"
     ]
    },
    {
     "name": "stdout",
     "output_type": "stream",
     "text": [
      "No data for #166 at https://socialblade.com/youtube/top/category/shows\n"
     ]
    },
    {
     "name": "stderr",
     "output_type": "stream",
     "text": [
      "\r",
      " 24%|██▍       | 61/250 [00:02<00:07, 25.72it/s]"
     ]
    },
    {
     "name": "stdout",
     "output_type": "stream",
     "text": [
      "No data for #167 at https://socialblade.com/youtube/top/category/shows\n"
     ]
    },
    {
     "name": "stderr",
     "output_type": "stream",
     "text": [
      " 64%|██████▍   | 161/250 [00:08<00:05, 17.55it/s]"
     ]
    },
    {
     "name": "stdout",
     "output_type": "stream",
     "text": [
      "No data for #168 at https://socialblade.com/youtube/top/category/shows\n"
     ]
    },
    {
     "name": "stderr",
     "output_type": "stream",
     "text": [
      " 67%|██████▋   | 168/250 [00:08<00:04, 17.41it/s]"
     ]
    },
    {
     "name": "stdout",
     "output_type": "stream",
     "text": [
      "No data for #169 at https://socialblade.com/youtube/top/category/shows\n"
     ]
    },
    {
     "name": "stderr",
     "output_type": "stream",
     "text": [
      " 65%|██████▌   | 163/250 [00:08<00:04, 17.61it/s]"
     ]
    },
    {
     "name": "stdout",
     "output_type": "stream",
     "text": [
      "No data for #170 at https://socialblade.com/youtube/top/category/shows\n"
     ]
    },
    {
     "name": "stderr",
     "output_type": "stream",
     "text": [
      "\r",
      " 27%|██▋       | 67/250 [00:03<00:07, 24.51it/s]"
     ]
    },
    {
     "name": "stdout",
     "output_type": "stream",
     "text": [
      "No data for #171 at https://socialblade.com/youtube/top/category/shows\n"
     ]
    },
    {
     "name": "stderr",
     "output_type": "stream",
     "text": [
      " 68%|██████▊   | 170/250 [00:09<00:05, 14.47it/s]"
     ]
    },
    {
     "name": "stdout",
     "output_type": "stream",
     "text": [
      "No data for #172 at https://socialblade.com/youtube/top/category/shows\n"
     ]
    },
    {
     "name": "stderr",
     "output_type": "stream",
     "text": [
      " 67%|██████▋   | 167/250 [00:08<00:04, 17.33it/s]"
     ]
    },
    {
     "name": "stdout",
     "output_type": "stream",
     "text": [
      "No data for #173 at https://socialblade.com/youtube/top/category/shows\n"
     ]
    },
    {
     "name": "stderr",
     "output_type": "stream",
     "text": [
      "\r",
      " 68%|██████▊   | 169/250 [00:08<00:04, 16.28it/s]"
     ]
    },
    {
     "name": "stdout",
     "output_type": "stream",
     "text": [
      "No data for #174 at https://socialblade.com/youtube/top/category/shows\n"
     ]
    },
    {
     "name": "stderr",
     "output_type": "stream",
     "text": [
      " 29%|██▉       | 73/250 [00:03<00:07, 24.31it/s]]"
     ]
    },
    {
     "name": "stdout",
     "output_type": "stream",
     "text": [
      "No data for #175 at https://socialblade.com/youtube/top/category/shows"
     ]
    },
    {
     "name": "stderr",
     "output_type": "stream",
     "text": [
      "\r",
      " 68%|██████▊   | 169/250 [00:08<00:04, 17.13it/s]"
     ]
    },
    {
     "name": "stdout",
     "output_type": "stream",
     "text": [
      "\n"
     ]
    },
    {
     "name": "stderr",
     "output_type": "stream",
     "text": [
      " 68%|██████▊   | 171/250 [00:08<00:04, 17.22it/s]"
     ]
    },
    {
     "name": "stdout",
     "output_type": "stream",
     "text": [
      "No data for #176 at https://socialblade.com/youtube/top/category/shows\n"
     ]
    },
    {
     "name": "stderr",
     "output_type": "stream",
     "text": [
      "\r",
      " 70%|███████   | 176/250 [00:09<00:04, 15.29it/s]"
     ]
    },
    {
     "name": "stdout",
     "output_type": "stream",
     "text": [
      "No data for #177 at https://socialblade.com/youtube/top/category/shows\n"
     ]
    },
    {
     "name": "stderr",
     "output_type": "stream",
     "text": [
      " 32%|███▏      | 79/250 [00:03<00:07, 23.68it/s]]"
     ]
    },
    {
     "name": "stdout",
     "output_type": "stream",
     "text": [
      "No data for #178 at https://socialblade.com/youtube/top/category/shows\n"
     ]
    },
    {
     "name": "stderr",
     "output_type": "stream",
     "text": [
      " 69%|██████▉   | 173/250 [00:09<00:06, 12.82it/s]"
     ]
    },
    {
     "name": "stdout",
     "output_type": "stream",
     "text": [
      "No data for #179 at https://socialblade.com/youtube/top/category/shows\n"
     ]
    },
    {
     "name": "stderr",
     "output_type": "stream",
     "text": [
      " 33%|███▎      | 82/250 [00:03<00:08, 20.38it/s]]"
     ]
    },
    {
     "name": "stdout",
     "output_type": "stream",
     "text": [
      "No data for #180 at https://socialblade.com/youtube/top/category/shows\n"
     ]
    },
    {
     "name": "stderr",
     "output_type": "stream",
     "text": [
      " 70%|███████   | 175/250 [00:09<00:05, 12.64it/s]"
     ]
    },
    {
     "name": "stdout",
     "output_type": "stream",
     "text": [
      "No data for #181 at https://socialblade.com/youtube/top/category/shows\n"
     ]
    },
    {
     "name": "stderr",
     "output_type": "stream",
     "text": [
      " 34%|███▍      | 85/250 [00:03<00:08, 20.15it/s]]"
     ]
    },
    {
     "name": "stdout",
     "output_type": "stream",
     "text": [
      "No data for #182 at https://socialblade.com/youtube/top/category/shows\n"
     ]
    },
    {
     "name": "stderr",
     "output_type": "stream",
     "text": [
      " 71%|███████   | 177/250 [00:09<00:05, 13.01it/s]"
     ]
    },
    {
     "name": "stdout",
     "output_type": "stream",
     "text": [
      "No data for #183 at https://socialblade.com/youtube/top/category/shows\n"
     ]
    },
    {
     "name": "stderr",
     "output_type": "stream",
     "text": [
      " 35%|███▌      | 88/250 [00:04<00:08, 19.94it/s]]"
     ]
    },
    {
     "name": "stdout",
     "output_type": "stream",
     "text": [
      "No data for #184 at https://socialblade.com/youtube/top/category/shows\n"
     ]
    },
    {
     "name": "stderr",
     "output_type": "stream",
     "text": [
      " 72%|███████▏  | 179/250 [00:09<00:05, 13.35it/s]"
     ]
    },
    {
     "name": "stdout",
     "output_type": "stream",
     "text": [
      "No data for #185 at https://socialblade.com/youtube/top/category/shows\n"
     ]
    },
    {
     "name": "stderr",
     "output_type": "stream",
     "text": [
      "\r",
      " 72%|███████▏  | 181/250 [00:09<00:05, 12.32it/s]"
     ]
    },
    {
     "name": "stdout",
     "output_type": "stream",
     "text": [
      "No data for #186 at https://socialblade.com/youtube/top/category/shows\n"
     ]
    },
    {
     "name": "stderr",
     "output_type": "stream",
     "text": [
      " 74%|███████▍  | 186/250 [00:10<00:05, 12.45it/s]"
     ]
    },
    {
     "name": "stdout",
     "output_type": "stream",
     "text": [
      "No data for #187 at https://socialblade.com/youtube/top/category/shows\n"
     ]
    },
    {
     "name": "stderr",
     "output_type": "stream",
     "text": [
      "\r",
      " 73%|███████▎  | 183/250 [00:10<00:05, 12.65it/s]"
     ]
    },
    {
     "name": "stdout",
     "output_type": "stream",
     "text": [
      "No data for #188 at https://socialblade.com/youtube/top/category/shows\n"
     ]
    },
    {
     "name": "stderr",
     "output_type": "stream",
     "text": [
      " 75%|███████▌  | 188/250 [00:10<00:04, 12.87it/s]"
     ]
    },
    {
     "name": "stdout",
     "output_type": "stream",
     "text": [
      "No data for #189 at https://socialblade.com/youtube/top/category/shows\n"
     ]
    },
    {
     "name": "stderr",
     "output_type": "stream",
     "text": [
      "\r",
      " 74%|███████▍  | 185/250 [00:10<00:04, 13.30it/s]"
     ]
    },
    {
     "name": "stdout",
     "output_type": "stream",
     "text": [
      "No data for #190 at https://socialblade.com/youtube/top/category/shows\n"
     ]
    },
    {
     "name": "stderr",
     "output_type": "stream",
     "text": [
      " 76%|███████▌  | 190/250 [00:10<00:04, 13.45it/s]"
     ]
    },
    {
     "name": "stdout",
     "output_type": "stream",
     "text": [
      "No data for #191 at https://socialblade.com/youtube/top/category/shows\n"
     ]
    },
    {
     "name": "stderr",
     "output_type": "stream",
     "text": [
      "\r",
      " 75%|███████▍  | 187/250 [00:10<00:04, 14.19it/s]"
     ]
    },
    {
     "name": "stdout",
     "output_type": "stream",
     "text": [
      "No data for #192 at https://socialblade.com/youtube/top/category/shows\n"
     ]
    },
    {
     "name": "stderr",
     "output_type": "stream",
     "text": [
      " 77%|███████▋  | 192/250 [00:10<00:04, 14.33it/s]"
     ]
    },
    {
     "name": "stdout",
     "output_type": "stream",
     "text": [
      "No data for #193 at https://socialblade.com/youtube/top/category/shows\n"
     ]
    },
    {
     "name": "stderr",
     "output_type": "stream",
     "text": [
      "\r",
      " 76%|███████▌  | 189/250 [00:10<00:04, 14.83it/s]"
     ]
    },
    {
     "name": "stdout",
     "output_type": "stream",
     "text": [
      "No data for #194 at https://socialblade.com/youtube/top/category/shows\n"
     ]
    },
    {
     "name": "stderr",
     "output_type": "stream",
     "text": [
      " 78%|███████▊  | 194/250 [00:10<00:03, 14.69it/s]"
     ]
    },
    {
     "name": "stdout",
     "output_type": "stream",
     "text": [
      "No data for #195 at https://socialblade.com/youtube/top/category/shows\n"
     ]
    },
    {
     "name": "stderr",
     "output_type": "stream",
     "text": [
      " 40%|████      | 101/250 [00:04<00:08, 18.08it/s]"
     ]
    },
    {
     "name": "stdout",
     "output_type": "stream",
     "text": [
      "No data for #196 at https://socialblade.com/youtube/top/category/shows\n"
     ]
    },
    {
     "name": "stderr",
     "output_type": "stream",
     "text": [
      " 78%|███████▊  | 196/250 [00:10<00:03, 15.09it/s]"
     ]
    },
    {
     "name": "stdout",
     "output_type": "stream",
     "text": [
      "No data for #197 at https://socialblade.com/youtube/top/category/shows\n"
     ]
    },
    {
     "name": "stderr",
     "output_type": "stream",
     "text": [
      " 42%|████▏     | 104/250 [00:05<00:07, 18.80it/s]"
     ]
    },
    {
     "name": "stdout",
     "output_type": "stream",
     "text": [
      "No data for #198 at https://socialblade.com/youtube/top/category/shows\n"
     ]
    },
    {
     "name": "stderr",
     "output_type": "stream",
     "text": [
      " 77%|███████▋  | 193/250 [00:10<00:03, 14.91it/s]"
     ]
    },
    {
     "name": "stdout",
     "output_type": "stream",
     "text": [
      "No data for #199 at https://socialblade.com/youtube/top/category/shows\n"
     ]
    },
    {
     "name": "stderr",
     "output_type": "stream",
     "text": [
      " 43%|████▎     | 107/250 [00:05<00:07, 18.90it/s]"
     ]
    },
    {
     "name": "stdout",
     "output_type": "stream",
     "text": [
      "No data for #200 at https://socialblade.com/youtube/top/category/shows\n"
     ]
    },
    {
     "name": "stderr",
     "output_type": "stream",
     "text": [
      " 78%|███████▊  | 195/250 [00:10<00:03, 14.48it/s]"
     ]
    },
    {
     "name": "stdout",
     "output_type": "stream",
     "text": [
      "No data for #201 at https://socialblade.com/youtube/top/category/shows\n"
     ]
    },
    {
     "name": "stderr",
     "output_type": "stream",
     "text": [
      " 44%|████▎     | 109/250 [00:05<00:07, 18.57it/s]"
     ]
    },
    {
     "name": "stdout",
     "output_type": "stream",
     "text": [
      "No data for #202 at https://socialblade.com/youtube/top/category/shows\n"
     ]
    },
    {
     "name": "stderr",
     "output_type": "stream",
     "text": [
      " 79%|███████▉  | 197/250 [00:10<00:03, 14.81it/s]"
     ]
    },
    {
     "name": "stdout",
     "output_type": "stream",
     "text": [
      "No data for #203 at https://socialblade.com/youtube/top/category/shows\n"
     ]
    },
    {
     "name": "stderr",
     "output_type": "stream",
     "text": [
      " 45%|████▍     | 112/250 [00:05<00:07, 19.47it/s]"
     ]
    },
    {
     "name": "stdout",
     "output_type": "stream",
     "text": [
      "No data for #204 at https://socialblade.com/youtube/top/category/shows\n"
     ]
    },
    {
     "name": "stderr",
     "output_type": "stream",
     "text": [
      " 80%|███████▉  | 199/250 [00:10<00:03, 14.99it/s]"
     ]
    },
    {
     "name": "stdout",
     "output_type": "stream",
     "text": [
      "No data for #205 at https://socialblade.com/youtube/top/category/shows\n"
     ]
    },
    {
     "name": "stderr",
     "output_type": "stream",
     "text": [
      " 46%|████▌     | 115/250 [00:05<00:06, 19.62it/s]"
     ]
    },
    {
     "name": "stdout",
     "output_type": "stream",
     "text": [
      "No data for #206 at https://socialblade.com/youtube/top/category/shows\n"
     ]
    },
    {
     "name": "stderr",
     "output_type": "stream",
     "text": [
      " 80%|████████  | 201/250 [00:11<00:03, 15.28it/s]"
     ]
    },
    {
     "name": "stdout",
     "output_type": "stream",
     "text": [
      "No data for #207 at https://socialblade.com/youtube/top/category/shows\n"
     ]
    },
    {
     "name": "stderr",
     "output_type": "stream",
     "text": [
      " 47%|████▋     | 118/250 [00:05<00:06, 20.35it/s]"
     ]
    },
    {
     "name": "stdout",
     "output_type": "stream",
     "text": [
      "No data for #208 at https://socialblade.com/youtube/top/category/shows\n"
     ]
    },
    {
     "name": "stderr",
     "output_type": "stream",
     "text": [
      " 81%|████████  | 203/250 [00:11<00:03, 15.22it/s]"
     ]
    },
    {
     "name": "stdout",
     "output_type": "stream",
     "text": [
      "No data for #209 at https://socialblade.com/youtube/top/category/shows\n"
     ]
    },
    {
     "name": "stderr",
     "output_type": "stream",
     "text": [
      " 48%|████▊     | 121/250 [00:05<00:06, 20.32it/s]"
     ]
    },
    {
     "name": "stdout",
     "output_type": "stream",
     "text": [
      "No data for #210 at https://socialblade.com/youtube/top/category/shows\n"
     ]
    },
    {
     "name": "stderr",
     "output_type": "stream",
     "text": [
      " 82%|████████▏ | 205/250 [00:11<00:03, 14.79it/s]"
     ]
    },
    {
     "name": "stdout",
     "output_type": "stream",
     "text": [
      "No data for #211 at https://socialblade.com/youtube/top/category/shows\n"
     ]
    },
    {
     "name": "stderr",
     "output_type": "stream",
     "text": [
      " 50%|████▉     | 124/250 [00:06<00:06, 20.49it/s]"
     ]
    },
    {
     "name": "stdout",
     "output_type": "stream",
     "text": [
      "No data for #212 at https://socialblade.com/youtube/top/category/shows\n"
     ]
    },
    {
     "name": "stderr",
     "output_type": "stream",
     "text": [
      " 85%|████████▍ | 212/250 [00:12<00:02, 15.03it/s]"
     ]
    },
    {
     "name": "stdout",
     "output_type": "stream",
     "text": [
      "No data for #213 at https://socialblade.com/youtube/top/category/shows\n"
     ]
    },
    {
     "name": "stderr",
     "output_type": "stream",
     "text": [
      " 51%|█████     | 127/250 [00:06<00:06, 20.33it/s]"
     ]
    },
    {
     "name": "stdout",
     "output_type": "stream",
     "text": [
      "No data for #214 at https://socialblade.com/youtube/top/category/shows\n"
     ]
    },
    {
     "name": "stderr",
     "output_type": "stream",
     "text": [
      " 84%|████████▎ | 209/250 [00:11<00:02, 14.81it/s]"
     ]
    },
    {
     "name": "stdout",
     "output_type": "stream",
     "text": [
      "No data for #215 at https://socialblade.com/youtube/top/category/shows\n"
     ]
    },
    {
     "name": "stderr",
     "output_type": "stream",
     "text": [
      "\r",
      " 84%|████████▍ | 211/250 [00:11<00:02, 14.57it/s]"
     ]
    },
    {
     "name": "stdout",
     "output_type": "stream",
     "text": [
      "No data for #216 at https://socialblade.com/youtube/top/category/shows\n"
     ]
    },
    {
     "name": "stderr",
     "output_type": "stream",
     "text": [
      " 84%|████████▍ | 211/250 [00:11<00:02, 15.26it/s]"
     ]
    },
    {
     "name": "stdout",
     "output_type": "stream",
     "text": [
      "No data for #217 at https://socialblade.com/youtube/top/category/shows\n"
     ]
    },
    {
     "name": "stderr",
     "output_type": "stream",
     "text": [
      "\r",
      " 85%|████████▌ | 213/250 [00:12<00:02, 14.83it/s]"
     ]
    },
    {
     "name": "stdout",
     "output_type": "stream",
     "text": [
      "No data for #218 at https://socialblade.com/youtube/top/category/shows\n"
     ]
    },
    {
     "name": "stderr",
     "output_type": "stream",
     "text": [
      " 53%|█████▎    | 133/250 [00:06<00:05, 19.94it/s]"
     ]
    },
    {
     "name": "stdout",
     "output_type": "stream",
     "text": [
      "No data for #219 at https://socialblade.com/youtube/top/category/shows\n"
     ]
    },
    {
     "name": "stderr",
     "output_type": "stream",
     "text": [
      "\r",
      " 86%|████████▌ | 215/250 [00:12<00:02, 14.99it/s]"
     ]
    },
    {
     "name": "stdout",
     "output_type": "stream",
     "text": [
      "No data for #220 at https://socialblade.com/youtube/top/category/shows\n"
     ]
    },
    {
     "name": "stderr",
     "output_type": "stream",
     "text": [
      " 54%|█████▍    | 136/250 [00:06<00:05, 20.03it/s]"
     ]
    },
    {
     "name": "stdout",
     "output_type": "stream",
     "text": [
      "No data for #221 at https://socialblade.com/youtube/top/category/shows\n"
     ]
    },
    {
     "name": "stderr",
     "output_type": "stream",
     "text": [
      "\r",
      " 87%|████████▋ | 217/250 [00:12<00:02, 14.99it/s]"
     ]
    },
    {
     "name": "stdout",
     "output_type": "stream",
     "text": [
      "No data for #222 at https://socialblade.com/youtube/top/category/shows"
     ]
    },
    {
     "name": "stderr",
     "output_type": "stream",
     "text": [
      "\r",
      " 89%|████████▉ | 222/250 [00:12<00:01, 15.69it/s]"
     ]
    },
    {
     "name": "stdout",
     "output_type": "stream",
     "text": [
      "\n"
     ]
    },
    {
     "name": "stderr",
     "output_type": "stream",
     "text": [
      " 56%|█████▌    | 139/250 [00:06<00:05, 20.15it/s]"
     ]
    },
    {
     "name": "stdout",
     "output_type": "stream",
     "text": [
      "No data for #223 at https://socialblade.com/youtube/top/category/shows\n"
     ]
    },
    {
     "name": "stderr",
     "output_type": "stream",
     "text": [
      " 88%|████████▊ | 219/250 [00:12<00:02, 15.42it/s]"
     ]
    },
    {
     "name": "stdout",
     "output_type": "stream",
     "text": [
      "No data for #224 at https://socialblade.com/youtube/top/category/shows\n",
      "No data for #225 at https://socialblade.com/youtube/top/category/shows\n"
     ]
    },
    {
     "name": "stderr",
     "output_type": "stream",
     "text": [
      " 88%|████████▊ | 221/250 [00:12<00:01, 15.36it/s]"
     ]
    },
    {
     "name": "stdout",
     "output_type": "stream",
     "text": [
      "No data for #226 at https://socialblade.com/youtube/top/category/shows"
     ]
    },
    {
     "name": "stderr",
     "output_type": "stream",
     "text": [
      "\r",
      " 90%|█████████ | 226/250 [00:12<00:01, 14.93it/s]"
     ]
    },
    {
     "name": "stdout",
     "output_type": "stream",
     "text": [
      "\n"
     ]
    },
    {
     "name": "stderr",
     "output_type": "stream",
     "text": [
      "\r",
      " 58%|█████▊    | 144/250 [00:07<00:05, 19.60it/s]"
     ]
    },
    {
     "name": "stdout",
     "output_type": "stream",
     "text": [
      "No data for #227 at https://socialblade.com/youtube/top/category/shows\n"
     ]
    },
    {
     "name": "stderr",
     "output_type": "stream",
     "text": [
      " 91%|█████████ | 228/250 [00:13<00:01, 14.83it/s]"
     ]
    },
    {
     "name": "stdout",
     "output_type": "stream",
     "text": [
      "No data for #228 at https://socialblade.com/youtube/top/category/shows\n"
     ]
    },
    {
     "name": "stderr",
     "output_type": "stream",
     "text": [
      "\r",
      " 58%|█████▊    | 146/250 [00:07<00:05, 18.84it/s]"
     ]
    },
    {
     "name": "stdout",
     "output_type": "stream",
     "text": [
      "No data for #229 at https://socialblade.com/youtube/top/category/shows\n"
     ]
    },
    {
     "name": "stderr",
     "output_type": "stream",
     "text": [
      " 59%|█████▉    | 148/250 [00:07<00:05, 18.25it/s]"
     ]
    },
    {
     "name": "stdout",
     "output_type": "stream",
     "text": [
      "No data for #230 at https://socialblade.com/youtube/top/category/shows"
     ]
    },
    {
     "name": "stderr",
     "output_type": "stream",
     "text": [
      "\r",
      " 92%|█████████▏| 230/250 [00:13<00:01, 14.02it/s]"
     ]
    },
    {
     "name": "stdout",
     "output_type": "stream",
     "text": [
      "\n"
     ]
    },
    {
     "name": "stderr",
     "output_type": "stream",
     "text": [
      "\r",
      " 90%|█████████ | 225/250 [00:12<00:01, 14.01it/s]"
     ]
    },
    {
     "name": "stdout",
     "output_type": "stream",
     "text": [
      "No data for #231 at https://socialblade.com/youtube/top/category/shows\n"
     ]
    },
    {
     "name": "stderr",
     "output_type": "stream",
     "text": [
      " 93%|█████████▎| 232/250 [00:13<00:01, 14.02it/s]"
     ]
    },
    {
     "name": "stdout",
     "output_type": "stream",
     "text": [
      "No data for #232 at https://socialblade.com/youtube/top/category/shows\n"
     ]
    },
    {
     "name": "stderr",
     "output_type": "stream",
     "text": [
      " 61%|██████    | 152/250 [00:07<00:05, 18.47it/s]"
     ]
    },
    {
     "name": "stdout",
     "output_type": "stream",
     "text": [
      "No data for #233 at https://socialblade.com/youtube/top/category/shows\n"
     ]
    },
    {
     "name": "stderr",
     "output_type": "stream",
     "text": [
      " 94%|█████████▎| 234/250 [00:13<00:01, 13.86it/s]"
     ]
    },
    {
     "name": "stdout",
     "output_type": "stream",
     "text": [
      "No data for #234 at https://socialblade.com/youtube/top/category/shows\n"
     ]
    },
    {
     "name": "stderr",
     "output_type": "stream",
     "text": [
      " 62%|██████▏   | 154/250 [00:07<00:05, 17.53it/s]"
     ]
    },
    {
     "name": "stdout",
     "output_type": "stream",
     "text": [
      "No data for #235 at https://socialblade.com/youtube/top/category/shows\n"
     ]
    },
    {
     "name": "stderr",
     "output_type": "stream",
     "text": [
      " 62%|██████▏   | 156/250 [00:07<00:05, 17.27it/s]"
     ]
    },
    {
     "name": "stdout",
     "output_type": "stream",
     "text": [
      "No data for #236 at https://socialblade.com/youtube/top/category/shows\n"
     ]
    },
    {
     "name": "stderr",
     "output_type": "stream",
     "text": [
      "\r",
      " 92%|█████████▏| 231/250 [00:13<00:01, 12.91it/s]"
     ]
    },
    {
     "name": "stdout",
     "output_type": "stream",
     "text": [
      "No data for #237 at https://socialblade.com/youtube/top/category/shows\n"
     ]
    },
    {
     "name": "stderr",
     "output_type": "stream",
     "text": [
      " 95%|█████████▌| 238/250 [00:13<00:00, 13.76it/s]"
     ]
    },
    {
     "name": "stdout",
     "output_type": "stream",
     "text": [
      "No data for #238 at https://socialblade.com/youtube/top/category/shows\n"
     ]
    },
    {
     "name": "stderr",
     "output_type": "stream",
     "text": [
      " 64%|██████▍   | 160/250 [00:07<00:05, 17.58it/s]"
     ]
    },
    {
     "name": "stdout",
     "output_type": "stream",
     "text": [
      "No data for #239 at https://socialblade.com/youtube/top/category/shows\n"
     ]
    },
    {
     "name": "stderr",
     "output_type": "stream",
     "text": [
      " 96%|█████████▌| 240/250 [00:13<00:00, 13.94it/s]"
     ]
    },
    {
     "name": "stdout",
     "output_type": "stream",
     "text": [
      "No data for #240 at https://socialblade.com/youtube/top/category/shows\n"
     ]
    },
    {
     "name": "stderr",
     "output_type": "stream",
     "text": [
      " 65%|██████▍   | 162/250 [00:08<00:04, 17.82it/s]"
     ]
    },
    {
     "name": "stdout",
     "output_type": "stream",
     "text": [
      "No data for #241 at https://socialblade.com/youtube/top/category/shows\n"
     ]
    },
    {
     "name": "stderr",
     "output_type": "stream",
     "text": [
      "\r",
      " 95%|█████████▍| 237/250 [00:13<00:00, 13.98it/s]"
     ]
    },
    {
     "name": "stdout",
     "output_type": "stream",
     "text": [
      "No data for #242 at https://socialblade.com/youtube/top/category/shows\n"
     ]
    },
    {
     "name": "stderr",
     "output_type": "stream",
     "text": [
      " 95%|█████████▍| 237/250 [00:13<00:00, 13.77it/s]"
     ]
    },
    {
     "name": "stdout",
     "output_type": "stream",
     "text": [
      "No data for #243 at https://socialblade.com/youtube/top/category/shows\n"
     ]
    },
    {
     "name": "stderr",
     "output_type": "stream",
     "text": [
      " 96%|█████████▌| 239/250 [00:13<00:00, 13.83it/s]"
     ]
    },
    {
     "name": "stdout",
     "output_type": "stream",
     "text": [
      "No data for #244 at https://socialblade.com/youtube/top/category/shows\n"
     ]
    },
    {
     "name": "stderr",
     "output_type": "stream",
     "text": [
      " 67%|██████▋   | 168/250 [00:08<00:04, 17.59it/s]"
     ]
    },
    {
     "name": "stdout",
     "output_type": "stream",
     "text": [
      "No data for #245 at https://socialblade.com/youtube/top/category/shows\n"
     ]
    },
    {
     "name": "stderr",
     "output_type": "stream",
     "text": [
      " 96%|█████████▋| 241/250 [00:13<00:00, 13.98it/s]"
     ]
    },
    {
     "name": "stdout",
     "output_type": "stream",
     "text": [
      "No data for #246 at https://socialblade.com/youtube/top/category/shows"
     ]
    },
    {
     "name": "stderr",
     "output_type": "stream",
     "text": [
      "\r",
      " 98%|█████████▊| 246/250 [00:14<00:00, 12.91it/s]"
     ]
    },
    {
     "name": "stdout",
     "output_type": "stream",
     "text": [
      "\n"
     ]
    },
    {
     "name": "stderr",
     "output_type": "stream",
     "text": [
      "\r",
      " 68%|██████▊   | 170/250 [00:08<00:04, 17.81it/s]"
     ]
    },
    {
     "name": "stdout",
     "output_type": "stream",
     "text": [
      "No data for #247 at https://socialblade.com/youtube/top/category/shows\n"
     ]
    },
    {
     "name": "stderr",
     "output_type": "stream",
     "text": [
      " 99%|█████████▉| 248/250 [00:14<00:00, 13.42it/s]"
     ]
    },
    {
     "name": "stdout",
     "output_type": "stream",
     "text": [
      "No data for #248 at https://socialblade.com/youtube/top/category/shows\n"
     ]
    },
    {
     "name": "stderr",
     "output_type": "stream",
     "text": [
      " 69%|██████▉   | 172/250 [00:08<00:05, 15.12it/s]"
     ]
    },
    {
     "name": "stdout",
     "output_type": "stream",
     "text": [
      "No data for #249 at https://socialblade.com/youtube/top/category/shows\n"
     ]
    },
    {
     "name": "stderr",
     "output_type": "stream",
     "text": [
      "100%|██████████| 250/250 [00:14<00:00, 17.00it/s]\n"
     ]
    },
    {
     "name": "stdout",
     "output_type": "stream",
     "text": [
      "No data for #250 at https://socialblade.com/youtube/top/category/shows\n"
     ]
    },
    {
     "name": "stderr",
     "output_type": "stream",
     "text": [
      " 70%|██████▉   | 174/250 [00:08<00:05, 14.56it/s]"
     ]
    },
    {
     "name": "stdout",
     "output_type": "stream",
     "text": [
      "No data for #251 at https://socialblade.com/youtube/top/category/shows\n"
     ]
    },
    {
     "name": "stderr",
     "output_type": "stream",
     "text": [
      "\r",
      " 99%|█████████▉| 247/250 [00:14<00:00, 12.39it/s]"
     ]
    },
    {
     "name": "stdout",
     "output_type": "stream",
     "text": [
      "No data for #252 at https://socialblade.com/youtube/top/category/shows"
     ]
    },
    {
     "name": "stderr",
     "output_type": "stream",
     "text": [
      "\r",
      " 70%|███████   | 176/250 [00:08<00:05, 14.55it/s]"
     ]
    },
    {
     "name": "stdout",
     "output_type": "stream",
     "text": [
      "\n"
     ]
    },
    {
     "name": "stderr",
     "output_type": "stream",
     "text": [
      "\r",
      " 99%|█████████▉| 247/250 [00:14<00:00, 12.36it/s]"
     ]
    },
    {
     "name": "stdout",
     "output_type": "stream",
     "text": [
      "No data for #253 at https://socialblade.com/youtube/top/category/shows\n"
     ]
    },
    {
     "name": "stderr",
     "output_type": "stream",
     "text": [
      " 71%|███████   | 178/250 [00:09<00:04, 15.33it/s]"
     ]
    },
    {
     "name": "stdout",
     "output_type": "stream",
     "text": [
      "No data for #254 at https://socialblade.com/youtube/top/category/shows\n"
     ]
    },
    {
     "name": "stderr",
     "output_type": "stream",
     "text": [
      "100%|██████████| 250/250 [00:14<00:00, 16.88it/s]\n",
      "100%|██████████| 250/250 [00:14<00:00, 17.02it/s]\n",
      "100%|██████████| 250/250 [00:12<00:00, 19.29it/s]\n",
      "100%|██████████| 250/250 [00:09<00:00, 27.16it/s]\n"
     ]
    },
    {
     "name": "stdout",
     "output_type": "stream",
     "text": [
      "[('AUTO & VEHICLES', 287390), ('COMEDY', 298702), ('EDUCATION', 332597), ('ENTERTAINMENT', 3273913), ('FILM', 421692), ('GAMING', 591440), ('HOW TO & STYLE', 343573), ('MADE FOR KIDS', 213665), ('MUSIC', 581081), ('NEWS & POLITICS', 13644924), ('NONPROFIT & ACTIVISM', 665603), ('PEOPLE & BLOGS', 477665), ('PETS & ANIMALS', 197849), ('SCIENCE & TECHNOLOGY', 295970), ('SHOWS', 25284), ('SPORTS', 1799047), ('TRAVEL', 382910)]\n"
     ]
    }
   ],
   "source": [
    "def channel_types_list():\n",
    "    channel_types = []\n",
    "    url = 'https://socialblade.com/youtube/top/'\n",
    "    browser = webdriver.Firefox(options=options)\n",
    "    browser.get(url)\n",
    "    browser.implicitly_wait(3)\n",
    "    \n",
    "    div = browser.find_element_by_xpath('/html/body/div[11]/div[1]/div[8]')\n",
    "    links = div.find_elements_by_tag_name('a')\n",
    "    for link in tqdm(links):\n",
    "        name = link.text\n",
    "        href = link.get_attribute('href')\n",
    "        channel_types.append((name, href))\n",
    "        \n",
    "    browser.quit()\n",
    "    \n",
    "    return channel_types\n",
    "\n",
    "\n",
    "def total_uploads_by_channel_type(url, channel_type_name):\n",
    "    uploads = 0\n",
    "    browser = webdriver.Firefox(options=options)\n",
    "    browser.get(url)\n",
    "    browser.implicitly_wait(3)\n",
    "    \n",
    "    for i in tqdm(range(5, 255)):\n",
    "        try:\n",
    "            div = browser.find_element_by_xpath('/html/body/div[11]/div[2]/div[{}]'.format(i))\n",
    "            row = div.find_elements_by_tag_name('div')\n",
    "            channel_name_raw = row[2].text\n",
    "            value_raw = row[3].text\n",
    "            \n",
    "            if value_raw == '--' and channel_name_raw == '':\n",
    "                raise Exception('No data for #{} at {}'.format(i, url))\n",
    "            \n",
    "            if value_raw == '--':\n",
    "                raise Exception('No uploads for #{} at {}'.format(i, url))\n",
    "            \n",
    "            uploads += int(value_raw.replace(',', ''))\n",
    "            \n",
    "        except Exception as e:\n",
    "            print(e)\n",
    "            \n",
    "    \n",
    "    browser.quit()\n",
    "    \n",
    "    return channel_type_name, uploads\n",
    "\n",
    "\n",
    "channel_types_list = channel_types_list()\n",
    "channel_names, channel_urls = zip(*channel_types_list)\n",
    "#for channel in channel_types_list:\n",
    "    #res = total_uploads_by_channel_type(channel[1], channel[0])\n",
    "    #print(res)\n",
    "    \n",
    "def total_uploads_list(func, channel_urls, channel_names, workers=multiprocessing.cpu_count()):\n",
    "    with ProcessPoolExecutor(workers) as ex:\n",
    "        res = ex.map(func, channel_urls, channel_names)\n",
    "        return list(res)\n",
    "\n",
    "total_uploads_list = total_uploads_list(total_uploads_by_channel_type, channel_urls, channel_names)\n",
    "print(total_uploads_list)\n",
    "\n",
    "    "
   ]
  },
  {
   "cell_type": "code",
   "execution_count": 44,
   "metadata": {},
   "outputs": [
    {
     "data": {
      "application/javascript": [
       "/* Put everything inside the global mpl namespace */\n",
       "window.mpl = {};\n",
       "\n",
       "\n",
       "mpl.get_websocket_type = function() {\n",
       "    if (typeof(WebSocket) !== 'undefined') {\n",
       "        return WebSocket;\n",
       "    } else if (typeof(MozWebSocket) !== 'undefined') {\n",
       "        return MozWebSocket;\n",
       "    } else {\n",
       "        alert('Your browser does not have WebSocket support. ' +\n",
       "              'Please try Chrome, Safari or Firefox ≥ 6. ' +\n",
       "              'Firefox 4 and 5 are also supported but you ' +\n",
       "              'have to enable WebSockets in about:config.');\n",
       "    };\n",
       "}\n",
       "\n",
       "mpl.figure = function(figure_id, websocket, ondownload, parent_element) {\n",
       "    this.id = figure_id;\n",
       "\n",
       "    this.ws = websocket;\n",
       "\n",
       "    this.supports_binary = (this.ws.binaryType != undefined);\n",
       "\n",
       "    if (!this.supports_binary) {\n",
       "        var warnings = document.getElementById(\"mpl-warnings\");\n",
       "        if (warnings) {\n",
       "            warnings.style.display = 'block';\n",
       "            warnings.textContent = (\n",
       "                \"This browser does not support binary websocket messages. \" +\n",
       "                    \"Performance may be slow.\");\n",
       "        }\n",
       "    }\n",
       "\n",
       "    this.imageObj = new Image();\n",
       "\n",
       "    this.context = undefined;\n",
       "    this.message = undefined;\n",
       "    this.canvas = undefined;\n",
       "    this.rubberband_canvas = undefined;\n",
       "    this.rubberband_context = undefined;\n",
       "    this.format_dropdown = undefined;\n",
       "\n",
       "    this.image_mode = 'full';\n",
       "\n",
       "    this.root = $('<div/>');\n",
       "    this._root_extra_style(this.root)\n",
       "    this.root.attr('style', 'display: inline-block');\n",
       "\n",
       "    $(parent_element).append(this.root);\n",
       "\n",
       "    this._init_header(this);\n",
       "    this._init_canvas(this);\n",
       "    this._init_toolbar(this);\n",
       "\n",
       "    var fig = this;\n",
       "\n",
       "    this.waiting = false;\n",
       "\n",
       "    this.ws.onopen =  function () {\n",
       "            fig.send_message(\"supports_binary\", {value: fig.supports_binary});\n",
       "            fig.send_message(\"send_image_mode\", {});\n",
       "            if (mpl.ratio != 1) {\n",
       "                fig.send_message(\"set_dpi_ratio\", {'dpi_ratio': mpl.ratio});\n",
       "            }\n",
       "            fig.send_message(\"refresh\", {});\n",
       "        }\n",
       "\n",
       "    this.imageObj.onload = function() {\n",
       "            if (fig.image_mode == 'full') {\n",
       "                // Full images could contain transparency (where diff images\n",
       "                // almost always do), so we need to clear the canvas so that\n",
       "                // there is no ghosting.\n",
       "                fig.context.clearRect(0, 0, fig.canvas.width, fig.canvas.height);\n",
       "            }\n",
       "            fig.context.drawImage(fig.imageObj, 0, 0);\n",
       "        };\n",
       "\n",
       "    this.imageObj.onunload = function() {\n",
       "        fig.ws.close();\n",
       "    }\n",
       "\n",
       "    this.ws.onmessage = this._make_on_message_function(this);\n",
       "\n",
       "    this.ondownload = ondownload;\n",
       "}\n",
       "\n",
       "mpl.figure.prototype._init_header = function() {\n",
       "    var titlebar = $(\n",
       "        '<div class=\"ui-dialog-titlebar ui-widget-header ui-corner-all ' +\n",
       "        'ui-helper-clearfix\"/>');\n",
       "    var titletext = $(\n",
       "        '<div class=\"ui-dialog-title\" style=\"width: 100%; ' +\n",
       "        'text-align: center; padding: 3px;\"/>');\n",
       "    titlebar.append(titletext)\n",
       "    this.root.append(titlebar);\n",
       "    this.header = titletext[0];\n",
       "}\n",
       "\n",
       "\n",
       "\n",
       "mpl.figure.prototype._canvas_extra_style = function(canvas_div) {\n",
       "\n",
       "}\n",
       "\n",
       "\n",
       "mpl.figure.prototype._root_extra_style = function(canvas_div) {\n",
       "\n",
       "}\n",
       "\n",
       "mpl.figure.prototype._init_canvas = function() {\n",
       "    var fig = this;\n",
       "\n",
       "    var canvas_div = $('<div/>');\n",
       "\n",
       "    canvas_div.attr('style', 'position: relative; clear: both; outline: 0');\n",
       "\n",
       "    function canvas_keyboard_event(event) {\n",
       "        return fig.key_event(event, event['data']);\n",
       "    }\n",
       "\n",
       "    canvas_div.keydown('key_press', canvas_keyboard_event);\n",
       "    canvas_div.keyup('key_release', canvas_keyboard_event);\n",
       "    this.canvas_div = canvas_div\n",
       "    this._canvas_extra_style(canvas_div)\n",
       "    this.root.append(canvas_div);\n",
       "\n",
       "    var canvas = $('<canvas/>');\n",
       "    canvas.addClass('mpl-canvas');\n",
       "    canvas.attr('style', \"left: 0; top: 0; z-index: 0; outline: 0\")\n",
       "\n",
       "    this.canvas = canvas[0];\n",
       "    this.context = canvas[0].getContext(\"2d\");\n",
       "\n",
       "    var backingStore = this.context.backingStorePixelRatio ||\n",
       "\tthis.context.webkitBackingStorePixelRatio ||\n",
       "\tthis.context.mozBackingStorePixelRatio ||\n",
       "\tthis.context.msBackingStorePixelRatio ||\n",
       "\tthis.context.oBackingStorePixelRatio ||\n",
       "\tthis.context.backingStorePixelRatio || 1;\n",
       "\n",
       "    mpl.ratio = (window.devicePixelRatio || 1) / backingStore;\n",
       "\n",
       "    var rubberband = $('<canvas/>');\n",
       "    rubberband.attr('style', \"position: absolute; left: 0; top: 0; z-index: 1;\")\n",
       "\n",
       "    var pass_mouse_events = true;\n",
       "\n",
       "    canvas_div.resizable({\n",
       "        start: function(event, ui) {\n",
       "            pass_mouse_events = false;\n",
       "        },\n",
       "        resize: function(event, ui) {\n",
       "            fig.request_resize(ui.size.width, ui.size.height);\n",
       "        },\n",
       "        stop: function(event, ui) {\n",
       "            pass_mouse_events = true;\n",
       "            fig.request_resize(ui.size.width, ui.size.height);\n",
       "        },\n",
       "    });\n",
       "\n",
       "    function mouse_event_fn(event) {\n",
       "        if (pass_mouse_events)\n",
       "            return fig.mouse_event(event, event['data']);\n",
       "    }\n",
       "\n",
       "    rubberband.mousedown('button_press', mouse_event_fn);\n",
       "    rubberband.mouseup('button_release', mouse_event_fn);\n",
       "    // Throttle sequential mouse events to 1 every 20ms.\n",
       "    rubberband.mousemove('motion_notify', mouse_event_fn);\n",
       "\n",
       "    rubberband.mouseenter('figure_enter', mouse_event_fn);\n",
       "    rubberband.mouseleave('figure_leave', mouse_event_fn);\n",
       "\n",
       "    canvas_div.on(\"wheel\", function (event) {\n",
       "        event = event.originalEvent;\n",
       "        event['data'] = 'scroll'\n",
       "        if (event.deltaY < 0) {\n",
       "            event.step = 1;\n",
       "        } else {\n",
       "            event.step = -1;\n",
       "        }\n",
       "        mouse_event_fn(event);\n",
       "    });\n",
       "\n",
       "    canvas_div.append(canvas);\n",
       "    canvas_div.append(rubberband);\n",
       "\n",
       "    this.rubberband = rubberband;\n",
       "    this.rubberband_canvas = rubberband[0];\n",
       "    this.rubberband_context = rubberband[0].getContext(\"2d\");\n",
       "    this.rubberband_context.strokeStyle = \"#000000\";\n",
       "\n",
       "    this._resize_canvas = function(width, height) {\n",
       "        // Keep the size of the canvas, canvas container, and rubber band\n",
       "        // canvas in synch.\n",
       "        canvas_div.css('width', width)\n",
       "        canvas_div.css('height', height)\n",
       "\n",
       "        canvas.attr('width', width * mpl.ratio);\n",
       "        canvas.attr('height', height * mpl.ratio);\n",
       "        canvas.attr('style', 'width: ' + width + 'px; height: ' + height + 'px;');\n",
       "\n",
       "        rubberband.attr('width', width);\n",
       "        rubberband.attr('height', height);\n",
       "    }\n",
       "\n",
       "    // Set the figure to an initial 600x600px, this will subsequently be updated\n",
       "    // upon first draw.\n",
       "    this._resize_canvas(600, 600);\n",
       "\n",
       "    // Disable right mouse context menu.\n",
       "    $(this.rubberband_canvas).bind(\"contextmenu\",function(e){\n",
       "        return false;\n",
       "    });\n",
       "\n",
       "    function set_focus () {\n",
       "        canvas.focus();\n",
       "        canvas_div.focus();\n",
       "    }\n",
       "\n",
       "    window.setTimeout(set_focus, 100);\n",
       "}\n",
       "\n",
       "mpl.figure.prototype._init_toolbar = function() {\n",
       "    var fig = this;\n",
       "\n",
       "    var nav_element = $('<div/>');\n",
       "    nav_element.attr('style', 'width: 100%');\n",
       "    this.root.append(nav_element);\n",
       "\n",
       "    // Define a callback function for later on.\n",
       "    function toolbar_event(event) {\n",
       "        return fig.toolbar_button_onclick(event['data']);\n",
       "    }\n",
       "    function toolbar_mouse_event(event) {\n",
       "        return fig.toolbar_button_onmouseover(event['data']);\n",
       "    }\n",
       "\n",
       "    for(var toolbar_ind in mpl.toolbar_items) {\n",
       "        var name = mpl.toolbar_items[toolbar_ind][0];\n",
       "        var tooltip = mpl.toolbar_items[toolbar_ind][1];\n",
       "        var image = mpl.toolbar_items[toolbar_ind][2];\n",
       "        var method_name = mpl.toolbar_items[toolbar_ind][3];\n",
       "\n",
       "        if (!name) {\n",
       "            // put a spacer in here.\n",
       "            continue;\n",
       "        }\n",
       "        var button = $('<button/>');\n",
       "        button.addClass('ui-button ui-widget ui-state-default ui-corner-all ' +\n",
       "                        'ui-button-icon-only');\n",
       "        button.attr('role', 'button');\n",
       "        button.attr('aria-disabled', 'false');\n",
       "        button.click(method_name, toolbar_event);\n",
       "        button.mouseover(tooltip, toolbar_mouse_event);\n",
       "\n",
       "        var icon_img = $('<span/>');\n",
       "        icon_img.addClass('ui-button-icon-primary ui-icon');\n",
       "        icon_img.addClass(image);\n",
       "        icon_img.addClass('ui-corner-all');\n",
       "\n",
       "        var tooltip_span = $('<span/>');\n",
       "        tooltip_span.addClass('ui-button-text');\n",
       "        tooltip_span.html(tooltip);\n",
       "\n",
       "        button.append(icon_img);\n",
       "        button.append(tooltip_span);\n",
       "\n",
       "        nav_element.append(button);\n",
       "    }\n",
       "\n",
       "    var fmt_picker_span = $('<span/>');\n",
       "\n",
       "    var fmt_picker = $('<select/>');\n",
       "    fmt_picker.addClass('mpl-toolbar-option ui-widget ui-widget-content');\n",
       "    fmt_picker_span.append(fmt_picker);\n",
       "    nav_element.append(fmt_picker_span);\n",
       "    this.format_dropdown = fmt_picker[0];\n",
       "\n",
       "    for (var ind in mpl.extensions) {\n",
       "        var fmt = mpl.extensions[ind];\n",
       "        var option = $(\n",
       "            '<option/>', {selected: fmt === mpl.default_extension}).html(fmt);\n",
       "        fmt_picker.append(option);\n",
       "    }\n",
       "\n",
       "    // Add hover states to the ui-buttons\n",
       "    $( \".ui-button\" ).hover(\n",
       "        function() { $(this).addClass(\"ui-state-hover\");},\n",
       "        function() { $(this).removeClass(\"ui-state-hover\");}\n",
       "    );\n",
       "\n",
       "    var status_bar = $('<span class=\"mpl-message\"/>');\n",
       "    nav_element.append(status_bar);\n",
       "    this.message = status_bar[0];\n",
       "}\n",
       "\n",
       "mpl.figure.prototype.request_resize = function(x_pixels, y_pixels) {\n",
       "    // Request matplotlib to resize the figure. Matplotlib will then trigger a resize in the client,\n",
       "    // which will in turn request a refresh of the image.\n",
       "    this.send_message('resize', {'width': x_pixels, 'height': y_pixels});\n",
       "}\n",
       "\n",
       "mpl.figure.prototype.send_message = function(type, properties) {\n",
       "    properties['type'] = type;\n",
       "    properties['figure_id'] = this.id;\n",
       "    this.ws.send(JSON.stringify(properties));\n",
       "}\n",
       "\n",
       "mpl.figure.prototype.send_draw_message = function() {\n",
       "    if (!this.waiting) {\n",
       "        this.waiting = true;\n",
       "        this.ws.send(JSON.stringify({type: \"draw\", figure_id: this.id}));\n",
       "    }\n",
       "}\n",
       "\n",
       "\n",
       "mpl.figure.prototype.handle_save = function(fig, msg) {\n",
       "    var format_dropdown = fig.format_dropdown;\n",
       "    var format = format_dropdown.options[format_dropdown.selectedIndex].value;\n",
       "    fig.ondownload(fig, format);\n",
       "}\n",
       "\n",
       "\n",
       "mpl.figure.prototype.handle_resize = function(fig, msg) {\n",
       "    var size = msg['size'];\n",
       "    if (size[0] != fig.canvas.width || size[1] != fig.canvas.height) {\n",
       "        fig._resize_canvas(size[0], size[1]);\n",
       "        fig.send_message(\"refresh\", {});\n",
       "    };\n",
       "}\n",
       "\n",
       "mpl.figure.prototype.handle_rubberband = function(fig, msg) {\n",
       "    var x0 = msg['x0'] / mpl.ratio;\n",
       "    var y0 = (fig.canvas.height - msg['y0']) / mpl.ratio;\n",
       "    var x1 = msg['x1'] / mpl.ratio;\n",
       "    var y1 = (fig.canvas.height - msg['y1']) / mpl.ratio;\n",
       "    x0 = Math.floor(x0) + 0.5;\n",
       "    y0 = Math.floor(y0) + 0.5;\n",
       "    x1 = Math.floor(x1) + 0.5;\n",
       "    y1 = Math.floor(y1) + 0.5;\n",
       "    var min_x = Math.min(x0, x1);\n",
       "    var min_y = Math.min(y0, y1);\n",
       "    var width = Math.abs(x1 - x0);\n",
       "    var height = Math.abs(y1 - y0);\n",
       "\n",
       "    fig.rubberband_context.clearRect(\n",
       "        0, 0, fig.canvas.width / mpl.ratio, fig.canvas.height / mpl.ratio);\n",
       "\n",
       "    fig.rubberband_context.strokeRect(min_x, min_y, width, height);\n",
       "}\n",
       "\n",
       "mpl.figure.prototype.handle_figure_label = function(fig, msg) {\n",
       "    // Updates the figure title.\n",
       "    fig.header.textContent = msg['label'];\n",
       "}\n",
       "\n",
       "mpl.figure.prototype.handle_cursor = function(fig, msg) {\n",
       "    var cursor = msg['cursor'];\n",
       "    switch(cursor)\n",
       "    {\n",
       "    case 0:\n",
       "        cursor = 'pointer';\n",
       "        break;\n",
       "    case 1:\n",
       "        cursor = 'default';\n",
       "        break;\n",
       "    case 2:\n",
       "        cursor = 'crosshair';\n",
       "        break;\n",
       "    case 3:\n",
       "        cursor = 'move';\n",
       "        break;\n",
       "    }\n",
       "    fig.rubberband_canvas.style.cursor = cursor;\n",
       "}\n",
       "\n",
       "mpl.figure.prototype.handle_message = function(fig, msg) {\n",
       "    fig.message.textContent = msg['message'];\n",
       "}\n",
       "\n",
       "mpl.figure.prototype.handle_draw = function(fig, msg) {\n",
       "    // Request the server to send over a new figure.\n",
       "    fig.send_draw_message();\n",
       "}\n",
       "\n",
       "mpl.figure.prototype.handle_image_mode = function(fig, msg) {\n",
       "    fig.image_mode = msg['mode'];\n",
       "}\n",
       "\n",
       "mpl.figure.prototype.updated_canvas_event = function() {\n",
       "    // Called whenever the canvas gets updated.\n",
       "    this.send_message(\"ack\", {});\n",
       "}\n",
       "\n",
       "// A function to construct a web socket function for onmessage handling.\n",
       "// Called in the figure constructor.\n",
       "mpl.figure.prototype._make_on_message_function = function(fig) {\n",
       "    return function socket_on_message(evt) {\n",
       "        if (evt.data instanceof Blob) {\n",
       "            /* FIXME: We get \"Resource interpreted as Image but\n",
       "             * transferred with MIME type text/plain:\" errors on\n",
       "             * Chrome.  But how to set the MIME type?  It doesn't seem\n",
       "             * to be part of the websocket stream */\n",
       "            evt.data.type = \"image/png\";\n",
       "\n",
       "            /* Free the memory for the previous frames */\n",
       "            if (fig.imageObj.src) {\n",
       "                (window.URL || window.webkitURL).revokeObjectURL(\n",
       "                    fig.imageObj.src);\n",
       "            }\n",
       "\n",
       "            fig.imageObj.src = (window.URL || window.webkitURL).createObjectURL(\n",
       "                evt.data);\n",
       "            fig.updated_canvas_event();\n",
       "            fig.waiting = false;\n",
       "            return;\n",
       "        }\n",
       "        else if (typeof evt.data === 'string' && evt.data.slice(0, 21) == \"data:image/png;base64\") {\n",
       "            fig.imageObj.src = evt.data;\n",
       "            fig.updated_canvas_event();\n",
       "            fig.waiting = false;\n",
       "            return;\n",
       "        }\n",
       "\n",
       "        var msg = JSON.parse(evt.data);\n",
       "        var msg_type = msg['type'];\n",
       "\n",
       "        // Call the  \"handle_{type}\" callback, which takes\n",
       "        // the figure and JSON message as its only arguments.\n",
       "        try {\n",
       "            var callback = fig[\"handle_\" + msg_type];\n",
       "        } catch (e) {\n",
       "            console.log(\"No handler for the '\" + msg_type + \"' message type: \", msg);\n",
       "            return;\n",
       "        }\n",
       "\n",
       "        if (callback) {\n",
       "            try {\n",
       "                // console.log(\"Handling '\" + msg_type + \"' message: \", msg);\n",
       "                callback(fig, msg);\n",
       "            } catch (e) {\n",
       "                console.log(\"Exception inside the 'handler_\" + msg_type + \"' callback:\", e, e.stack, msg);\n",
       "            }\n",
       "        }\n",
       "    };\n",
       "}\n",
       "\n",
       "// from http://stackoverflow.com/questions/1114465/getting-mouse-location-in-canvas\n",
       "mpl.findpos = function(e) {\n",
       "    //this section is from http://www.quirksmode.org/js/events_properties.html\n",
       "    var targ;\n",
       "    if (!e)\n",
       "        e = window.event;\n",
       "    if (e.target)\n",
       "        targ = e.target;\n",
       "    else if (e.srcElement)\n",
       "        targ = e.srcElement;\n",
       "    if (targ.nodeType == 3) // defeat Safari bug\n",
       "        targ = targ.parentNode;\n",
       "\n",
       "    // jQuery normalizes the pageX and pageY\n",
       "    // pageX,Y are the mouse positions relative to the document\n",
       "    // offset() returns the position of the element relative to the document\n",
       "    var x = e.pageX - $(targ).offset().left;\n",
       "    var y = e.pageY - $(targ).offset().top;\n",
       "\n",
       "    return {\"x\": x, \"y\": y};\n",
       "};\n",
       "\n",
       "/*\n",
       " * return a copy of an object with only non-object keys\n",
       " * we need this to avoid circular references\n",
       " * http://stackoverflow.com/a/24161582/3208463\n",
       " */\n",
       "function simpleKeys (original) {\n",
       "  return Object.keys(original).reduce(function (obj, key) {\n",
       "    if (typeof original[key] !== 'object')\n",
       "        obj[key] = original[key]\n",
       "    return obj;\n",
       "  }, {});\n",
       "}\n",
       "\n",
       "mpl.figure.prototype.mouse_event = function(event, name) {\n",
       "    var canvas_pos = mpl.findpos(event)\n",
       "\n",
       "    if (name === 'button_press')\n",
       "    {\n",
       "        this.canvas.focus();\n",
       "        this.canvas_div.focus();\n",
       "    }\n",
       "\n",
       "    var x = canvas_pos.x * mpl.ratio;\n",
       "    var y = canvas_pos.y * mpl.ratio;\n",
       "\n",
       "    this.send_message(name, {x: x, y: y, button: event.button,\n",
       "                             step: event.step,\n",
       "                             guiEvent: simpleKeys(event)});\n",
       "\n",
       "    /* This prevents the web browser from automatically changing to\n",
       "     * the text insertion cursor when the button is pressed.  We want\n",
       "     * to control all of the cursor setting manually through the\n",
       "     * 'cursor' event from matplotlib */\n",
       "    event.preventDefault();\n",
       "    return false;\n",
       "}\n",
       "\n",
       "mpl.figure.prototype._key_event_extra = function(event, name) {\n",
       "    // Handle any extra behaviour associated with a key event\n",
       "}\n",
       "\n",
       "mpl.figure.prototype.key_event = function(event, name) {\n",
       "\n",
       "    // Prevent repeat events\n",
       "    if (name == 'key_press')\n",
       "    {\n",
       "        if (event.which === this._key)\n",
       "            return;\n",
       "        else\n",
       "            this._key = event.which;\n",
       "    }\n",
       "    if (name == 'key_release')\n",
       "        this._key = null;\n",
       "\n",
       "    var value = '';\n",
       "    if (event.ctrlKey && event.which != 17)\n",
       "        value += \"ctrl+\";\n",
       "    if (event.altKey && event.which != 18)\n",
       "        value += \"alt+\";\n",
       "    if (event.shiftKey && event.which != 16)\n",
       "        value += \"shift+\";\n",
       "\n",
       "    value += 'k';\n",
       "    value += event.which.toString();\n",
       "\n",
       "    this._key_event_extra(event, name);\n",
       "\n",
       "    this.send_message(name, {key: value,\n",
       "                             guiEvent: simpleKeys(event)});\n",
       "    return false;\n",
       "}\n",
       "\n",
       "mpl.figure.prototype.toolbar_button_onclick = function(name) {\n",
       "    if (name == 'download') {\n",
       "        this.handle_save(this, null);\n",
       "    } else {\n",
       "        this.send_message(\"toolbar_button\", {name: name});\n",
       "    }\n",
       "};\n",
       "\n",
       "mpl.figure.prototype.toolbar_button_onmouseover = function(tooltip) {\n",
       "    this.message.textContent = tooltip;\n",
       "};\n",
       "mpl.toolbar_items = [[\"Home\", \"Reset original view\", \"fa fa-home icon-home\", \"home\"], [\"Back\", \"Back to previous view\", \"fa fa-arrow-left icon-arrow-left\", \"back\"], [\"Forward\", \"Forward to next view\", \"fa fa-arrow-right icon-arrow-right\", \"forward\"], [\"\", \"\", \"\", \"\"], [\"Pan\", \"Pan axes with left mouse, zoom with right\", \"fa fa-arrows icon-move\", \"pan\"], [\"Zoom\", \"Zoom to rectangle\", \"fa fa-square-o icon-check-empty\", \"zoom\"], [\"\", \"\", \"\", \"\"], [\"Download\", \"Download plot\", \"fa fa-floppy-o icon-save\", \"download\"]];\n",
       "\n",
       "mpl.extensions = [\"eps\", \"jpeg\", \"pdf\", \"png\", \"ps\", \"raw\", \"svg\", \"tif\"];\n",
       "\n",
       "mpl.default_extension = \"png\";var comm_websocket_adapter = function(comm) {\n",
       "    // Create a \"websocket\"-like object which calls the given IPython comm\n",
       "    // object with the appropriate methods. Currently this is a non binary\n",
       "    // socket, so there is still some room for performance tuning.\n",
       "    var ws = {};\n",
       "\n",
       "    ws.close = function() {\n",
       "        comm.close()\n",
       "    };\n",
       "    ws.send = function(m) {\n",
       "        //console.log('sending', m);\n",
       "        comm.send(m);\n",
       "    };\n",
       "    // Register the callback with on_msg.\n",
       "    comm.on_msg(function(msg) {\n",
       "        //console.log('receiving', msg['content']['data'], msg);\n",
       "        // Pass the mpl event to the overridden (by mpl) onmessage function.\n",
       "        ws.onmessage(msg['content']['data'])\n",
       "    });\n",
       "    return ws;\n",
       "}\n",
       "\n",
       "mpl.mpl_figure_comm = function(comm, msg) {\n",
       "    // This is the function which gets called when the mpl process\n",
       "    // starts-up an IPython Comm through the \"matplotlib\" channel.\n",
       "\n",
       "    var id = msg.content.data.id;\n",
       "    // Get hold of the div created by the display call when the Comm\n",
       "    // socket was opened in Python.\n",
       "    var element = $(\"#\" + id);\n",
       "    var ws_proxy = comm_websocket_adapter(comm)\n",
       "\n",
       "    function ondownload(figure, format) {\n",
       "        window.open(figure.imageObj.src);\n",
       "    }\n",
       "\n",
       "    var fig = new mpl.figure(id, ws_proxy,\n",
       "                           ondownload,\n",
       "                           element.get(0));\n",
       "\n",
       "    // Call onopen now - mpl needs it, as it is assuming we've passed it a real\n",
       "    // web socket which is closed, not our websocket->open comm proxy.\n",
       "    ws_proxy.onopen();\n",
       "\n",
       "    fig.parent_element = element.get(0);\n",
       "    fig.cell_info = mpl.find_output_cell(\"<div id='\" + id + \"'></div>\");\n",
       "    if (!fig.cell_info) {\n",
       "        console.error(\"Failed to find cell for figure\", id, fig);\n",
       "        return;\n",
       "    }\n",
       "\n",
       "    var output_index = fig.cell_info[2]\n",
       "    var cell = fig.cell_info[0];\n",
       "\n",
       "};\n",
       "\n",
       "mpl.figure.prototype.handle_close = function(fig, msg) {\n",
       "    var width = fig.canvas.width/mpl.ratio\n",
       "    fig.root.unbind('remove')\n",
       "\n",
       "    // Update the output cell to use the data from the current canvas.\n",
       "    fig.push_to_output();\n",
       "    var dataURL = fig.canvas.toDataURL();\n",
       "    // Re-enable the keyboard manager in IPython - without this line, in FF,\n",
       "    // the notebook keyboard shortcuts fail.\n",
       "    IPython.keyboard_manager.enable()\n",
       "    $(fig.parent_element).html('<img src=\"' + dataURL + '\" width=\"' + width + '\">');\n",
       "    fig.close_ws(fig, msg);\n",
       "}\n",
       "\n",
       "mpl.figure.prototype.close_ws = function(fig, msg){\n",
       "    fig.send_message('closing', msg);\n",
       "    // fig.ws.close()\n",
       "}\n",
       "\n",
       "mpl.figure.prototype.push_to_output = function(remove_interactive) {\n",
       "    // Turn the data on the canvas into data in the output cell.\n",
       "    var width = this.canvas.width/mpl.ratio\n",
       "    var dataURL = this.canvas.toDataURL();\n",
       "    this.cell_info[1]['text/html'] = '<img src=\"' + dataURL + '\" width=\"' + width + '\">';\n",
       "}\n",
       "\n",
       "mpl.figure.prototype.updated_canvas_event = function() {\n",
       "    // Tell IPython that the notebook contents must change.\n",
       "    IPython.notebook.set_dirty(true);\n",
       "    this.send_message(\"ack\", {});\n",
       "    var fig = this;\n",
       "    // Wait a second, then push the new image to the DOM so\n",
       "    // that it is saved nicely (might be nice to debounce this).\n",
       "    setTimeout(function () { fig.push_to_output() }, 1000);\n",
       "}\n",
       "\n",
       "mpl.figure.prototype._init_toolbar = function() {\n",
       "    var fig = this;\n",
       "\n",
       "    var nav_element = $('<div/>');\n",
       "    nav_element.attr('style', 'width: 100%');\n",
       "    this.root.append(nav_element);\n",
       "\n",
       "    // Define a callback function for later on.\n",
       "    function toolbar_event(event) {\n",
       "        return fig.toolbar_button_onclick(event['data']);\n",
       "    }\n",
       "    function toolbar_mouse_event(event) {\n",
       "        return fig.toolbar_button_onmouseover(event['data']);\n",
       "    }\n",
       "\n",
       "    for(var toolbar_ind in mpl.toolbar_items){\n",
       "        var name = mpl.toolbar_items[toolbar_ind][0];\n",
       "        var tooltip = mpl.toolbar_items[toolbar_ind][1];\n",
       "        var image = mpl.toolbar_items[toolbar_ind][2];\n",
       "        var method_name = mpl.toolbar_items[toolbar_ind][3];\n",
       "\n",
       "        if (!name) { continue; };\n",
       "\n",
       "        var button = $('<button class=\"btn btn-default\" href=\"#\" title=\"' + name + '\"><i class=\"fa ' + image + ' fa-lg\"></i></button>');\n",
       "        button.click(method_name, toolbar_event);\n",
       "        button.mouseover(tooltip, toolbar_mouse_event);\n",
       "        nav_element.append(button);\n",
       "    }\n",
       "\n",
       "    // Add the status bar.\n",
       "    var status_bar = $('<span class=\"mpl-message\" style=\"text-align:right; float: right;\"/>');\n",
       "    nav_element.append(status_bar);\n",
       "    this.message = status_bar[0];\n",
       "\n",
       "    // Add the close button to the window.\n",
       "    var buttongrp = $('<div class=\"btn-group inline pull-right\"></div>');\n",
       "    var button = $('<button class=\"btn btn-mini btn-primary\" href=\"#\" title=\"Stop Interaction\"><i class=\"fa fa-power-off icon-remove icon-large\"></i></button>');\n",
       "    button.click(function (evt) { fig.handle_close(fig, {}); } );\n",
       "    button.mouseover('Stop Interaction', toolbar_mouse_event);\n",
       "    buttongrp.append(button);\n",
       "    var titlebar = this.root.find($('.ui-dialog-titlebar'));\n",
       "    titlebar.prepend(buttongrp);\n",
       "}\n",
       "\n",
       "mpl.figure.prototype._root_extra_style = function(el){\n",
       "    var fig = this\n",
       "    el.on(\"remove\", function(){\n",
       "\tfig.close_ws(fig, {});\n",
       "    });\n",
       "}\n",
       "\n",
       "mpl.figure.prototype._canvas_extra_style = function(el){\n",
       "    // this is important to make the div 'focusable\n",
       "    el.attr('tabindex', 0)\n",
       "    // reach out to IPython and tell the keyboard manager to turn it's self\n",
       "    // off when our div gets focus\n",
       "\n",
       "    // location in version 3\n",
       "    if (IPython.notebook.keyboard_manager) {\n",
       "        IPython.notebook.keyboard_manager.register_events(el);\n",
       "    }\n",
       "    else {\n",
       "        // location in version 2\n",
       "        IPython.keyboard_manager.register_events(el);\n",
       "    }\n",
       "\n",
       "}\n",
       "\n",
       "mpl.figure.prototype._key_event_extra = function(event, name) {\n",
       "    var manager = IPython.notebook.keyboard_manager;\n",
       "    if (!manager)\n",
       "        manager = IPython.keyboard_manager;\n",
       "\n",
       "    // Check for shift+enter\n",
       "    if (event.shiftKey && event.which == 13) {\n",
       "        this.canvas_div.blur();\n",
       "        // select the cell after this one\n",
       "        var index = IPython.notebook.find_cell_index(this.cell_info[0]);\n",
       "        IPython.notebook.select(index + 1);\n",
       "    }\n",
       "}\n",
       "\n",
       "mpl.figure.prototype.handle_save = function(fig, msg) {\n",
       "    fig.ondownload(fig, null);\n",
       "}\n",
       "\n",
       "\n",
       "mpl.find_output_cell = function(html_output) {\n",
       "    // Return the cell and output element which can be found *uniquely* in the notebook.\n",
       "    // Note - this is a bit hacky, but it is done because the \"notebook_saving.Notebook\"\n",
       "    // IPython event is triggered only after the cells have been serialised, which for\n",
       "    // our purposes (turning an active figure into a static one), is too late.\n",
       "    var cells = IPython.notebook.get_cells();\n",
       "    var ncells = cells.length;\n",
       "    for (var i=0; i<ncells; i++) {\n",
       "        var cell = cells[i];\n",
       "        if (cell.cell_type === 'code'){\n",
       "            for (var j=0; j<cell.output_area.outputs.length; j++) {\n",
       "                var data = cell.output_area.outputs[j];\n",
       "                if (data.data) {\n",
       "                    // IPython >= 3 moved mimebundle to data attribute of output\n",
       "                    data = data.data;\n",
       "                }\n",
       "                if (data['text/html'] == html_output) {\n",
       "                    return [cell, data, j];\n",
       "                }\n",
       "            }\n",
       "        }\n",
       "    }\n",
       "}\n",
       "\n",
       "// Register the function which deals with the matplotlib target/channel.\n",
       "// The kernel may be null if the page has been refreshed.\n",
       "if (IPython.notebook.kernel != null) {\n",
       "    IPython.notebook.kernel.comm_manager.register_target('matplotlib', mpl.mpl_figure_comm);\n",
       "}\n"
      ],
      "text/plain": [
       "<IPython.core.display.Javascript object>"
      ]
     },
     "metadata": {},
     "output_type": "display_data"
    },
    {
     "data": {
      "text/html": [
       "<img src=\"data:image/png;base64,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\" width=\"640\">"
      ],
      "text/plain": [
       "<IPython.core.display.HTML object>"
      ]
     },
     "metadata": {},
     "output_type": "display_data"
    },
    {
     "data": {
      "text/plain": [
       "<matplotlib.lines.Line2D at 0x7f13bdcc9c50>"
      ]
     },
     "execution_count": 44,
     "metadata": {},
     "output_type": "execute_result"
    }
   ],
   "source": [
    "%matplotlib notebook\n",
    "\n",
    "#data\n",
    "data = total_uploads_list\n",
    "data.sort(key=lambda tup: tup[1], reverse=True) # sorting data by avg_vowels\n",
    "channels, uploads = zip(*data)\n",
    "uploads_mean = np.mean(uploads)\n",
    "\n",
    "# style\n",
    "plt.style.use('Solarize_Light2')\n",
    "\n",
    "# autolayout\n",
    "plt.rcParams.update({'figure.autolayout': True})\n",
    "\n",
    "# plot\n",
    "fig, ax = plt.subplots()\n",
    "ax.bar(channels, uploads, log=True)\n",
    "#plt.bar(channels, uploads, width=0.5, align='center')\n",
    "#plt.yscale('log')\n",
    "plt.xticks(rotation=45, horizontalalignment='right',fontweight='light')\n",
    "# median\n",
    "ax.axhline(uploads_mean, ls='--', color='r')"
   ]
  },
  {
   "cell_type": "code",
   "execution_count": 74,
   "metadata": {},
   "outputs": [
    {
     "name": "stdout",
     "output_type": "stream",
     "text": [
      "1400984.5294117648\n",
      "1400984.5294117648\n",
      "['Solarize_Light2', '_classic_test_patch', 'bmh', 'classic', 'dark_background', 'fast', 'fivethirtyeight', 'ggplot', 'grayscale', 'seaborn', 'seaborn-bright', 'seaborn-colorblind', 'seaborn-dark', 'seaborn-dark-palette', 'seaborn-darkgrid', 'seaborn-deep', 'seaborn-muted', 'seaborn-notebook', 'seaborn-paper', 'seaborn-pastel', 'seaborn-poster', 'seaborn-talk', 'seaborn-ticks', 'seaborn-white', 'seaborn-whitegrid', 'tableau-colorblind10']\n"
     ]
    },
    {
     "data": {
      "application/javascript": [
       "/* Put everything inside the global mpl namespace */\n",
       "window.mpl = {};\n",
       "\n",
       "\n",
       "mpl.get_websocket_type = function() {\n",
       "    if (typeof(WebSocket) !== 'undefined') {\n",
       "        return WebSocket;\n",
       "    } else if (typeof(MozWebSocket) !== 'undefined') {\n",
       "        return MozWebSocket;\n",
       "    } else {\n",
       "        alert('Your browser does not have WebSocket support. ' +\n",
       "              'Please try Chrome, Safari or Firefox ≥ 6. ' +\n",
       "              'Firefox 4 and 5 are also supported but you ' +\n",
       "              'have to enable WebSockets in about:config.');\n",
       "    };\n",
       "}\n",
       "\n",
       "mpl.figure = function(figure_id, websocket, ondownload, parent_element) {\n",
       "    this.id = figure_id;\n",
       "\n",
       "    this.ws = websocket;\n",
       "\n",
       "    this.supports_binary = (this.ws.binaryType != undefined);\n",
       "\n",
       "    if (!this.supports_binary) {\n",
       "        var warnings = document.getElementById(\"mpl-warnings\");\n",
       "        if (warnings) {\n",
       "            warnings.style.display = 'block';\n",
       "            warnings.textContent = (\n",
       "                \"This browser does not support binary websocket messages. \" +\n",
       "                    \"Performance may be slow.\");\n",
       "        }\n",
       "    }\n",
       "\n",
       "    this.imageObj = new Image();\n",
       "\n",
       "    this.context = undefined;\n",
       "    this.message = undefined;\n",
       "    this.canvas = undefined;\n",
       "    this.rubberband_canvas = undefined;\n",
       "    this.rubberband_context = undefined;\n",
       "    this.format_dropdown = undefined;\n",
       "\n",
       "    this.image_mode = 'full';\n",
       "\n",
       "    this.root = $('<div/>');\n",
       "    this._root_extra_style(this.root)\n",
       "    this.root.attr('style', 'display: inline-block');\n",
       "\n",
       "    $(parent_element).append(this.root);\n",
       "\n",
       "    this._init_header(this);\n",
       "    this._init_canvas(this);\n",
       "    this._init_toolbar(this);\n",
       "\n",
       "    var fig = this;\n",
       "\n",
       "    this.waiting = false;\n",
       "\n",
       "    this.ws.onopen =  function () {\n",
       "            fig.send_message(\"supports_binary\", {value: fig.supports_binary});\n",
       "            fig.send_message(\"send_image_mode\", {});\n",
       "            if (mpl.ratio != 1) {\n",
       "                fig.send_message(\"set_dpi_ratio\", {'dpi_ratio': mpl.ratio});\n",
       "            }\n",
       "            fig.send_message(\"refresh\", {});\n",
       "        }\n",
       "\n",
       "    this.imageObj.onload = function() {\n",
       "            if (fig.image_mode == 'full') {\n",
       "                // Full images could contain transparency (where diff images\n",
       "                // almost always do), so we need to clear the canvas so that\n",
       "                // there is no ghosting.\n",
       "                fig.context.clearRect(0, 0, fig.canvas.width, fig.canvas.height);\n",
       "            }\n",
       "            fig.context.drawImage(fig.imageObj, 0, 0);\n",
       "        };\n",
       "\n",
       "    this.imageObj.onunload = function() {\n",
       "        fig.ws.close();\n",
       "    }\n",
       "\n",
       "    this.ws.onmessage = this._make_on_message_function(this);\n",
       "\n",
       "    this.ondownload = ondownload;\n",
       "}\n",
       "\n",
       "mpl.figure.prototype._init_header = function() {\n",
       "    var titlebar = $(\n",
       "        '<div class=\"ui-dialog-titlebar ui-widget-header ui-corner-all ' +\n",
       "        'ui-helper-clearfix\"/>');\n",
       "    var titletext = $(\n",
       "        '<div class=\"ui-dialog-title\" style=\"width: 100%; ' +\n",
       "        'text-align: center; padding: 3px;\"/>');\n",
       "    titlebar.append(titletext)\n",
       "    this.root.append(titlebar);\n",
       "    this.header = titletext[0];\n",
       "}\n",
       "\n",
       "\n",
       "\n",
       "mpl.figure.prototype._canvas_extra_style = function(canvas_div) {\n",
       "\n",
       "}\n",
       "\n",
       "\n",
       "mpl.figure.prototype._root_extra_style = function(canvas_div) {\n",
       "\n",
       "}\n",
       "\n",
       "mpl.figure.prototype._init_canvas = function() {\n",
       "    var fig = this;\n",
       "\n",
       "    var canvas_div = $('<div/>');\n",
       "\n",
       "    canvas_div.attr('style', 'position: relative; clear: both; outline: 0');\n",
       "\n",
       "    function canvas_keyboard_event(event) {\n",
       "        return fig.key_event(event, event['data']);\n",
       "    }\n",
       "\n",
       "    canvas_div.keydown('key_press', canvas_keyboard_event);\n",
       "    canvas_div.keyup('key_release', canvas_keyboard_event);\n",
       "    this.canvas_div = canvas_div\n",
       "    this._canvas_extra_style(canvas_div)\n",
       "    this.root.append(canvas_div);\n",
       "\n",
       "    var canvas = $('<canvas/>');\n",
       "    canvas.addClass('mpl-canvas');\n",
       "    canvas.attr('style', \"left: 0; top: 0; z-index: 0; outline: 0\")\n",
       "\n",
       "    this.canvas = canvas[0];\n",
       "    this.context = canvas[0].getContext(\"2d\");\n",
       "\n",
       "    var backingStore = this.context.backingStorePixelRatio ||\n",
       "\tthis.context.webkitBackingStorePixelRatio ||\n",
       "\tthis.context.mozBackingStorePixelRatio ||\n",
       "\tthis.context.msBackingStorePixelRatio ||\n",
       "\tthis.context.oBackingStorePixelRatio ||\n",
       "\tthis.context.backingStorePixelRatio || 1;\n",
       "\n",
       "    mpl.ratio = (window.devicePixelRatio || 1) / backingStore;\n",
       "\n",
       "    var rubberband = $('<canvas/>');\n",
       "    rubberband.attr('style', \"position: absolute; left: 0; top: 0; z-index: 1;\")\n",
       "\n",
       "    var pass_mouse_events = true;\n",
       "\n",
       "    canvas_div.resizable({\n",
       "        start: function(event, ui) {\n",
       "            pass_mouse_events = false;\n",
       "        },\n",
       "        resize: function(event, ui) {\n",
       "            fig.request_resize(ui.size.width, ui.size.height);\n",
       "        },\n",
       "        stop: function(event, ui) {\n",
       "            pass_mouse_events = true;\n",
       "            fig.request_resize(ui.size.width, ui.size.height);\n",
       "        },\n",
       "    });\n",
       "\n",
       "    function mouse_event_fn(event) {\n",
       "        if (pass_mouse_events)\n",
       "            return fig.mouse_event(event, event['data']);\n",
       "    }\n",
       "\n",
       "    rubberband.mousedown('button_press', mouse_event_fn);\n",
       "    rubberband.mouseup('button_release', mouse_event_fn);\n",
       "    // Throttle sequential mouse events to 1 every 20ms.\n",
       "    rubberband.mousemove('motion_notify', mouse_event_fn);\n",
       "\n",
       "    rubberband.mouseenter('figure_enter', mouse_event_fn);\n",
       "    rubberband.mouseleave('figure_leave', mouse_event_fn);\n",
       "\n",
       "    canvas_div.on(\"wheel\", function (event) {\n",
       "        event = event.originalEvent;\n",
       "        event['data'] = 'scroll'\n",
       "        if (event.deltaY < 0) {\n",
       "            event.step = 1;\n",
       "        } else {\n",
       "            event.step = -1;\n",
       "        }\n",
       "        mouse_event_fn(event);\n",
       "    });\n",
       "\n",
       "    canvas_div.append(canvas);\n",
       "    canvas_div.append(rubberband);\n",
       "\n",
       "    this.rubberband = rubberband;\n",
       "    this.rubberband_canvas = rubberband[0];\n",
       "    this.rubberband_context = rubberband[0].getContext(\"2d\");\n",
       "    this.rubberband_context.strokeStyle = \"#000000\";\n",
       "\n",
       "    this._resize_canvas = function(width, height) {\n",
       "        // Keep the size of the canvas, canvas container, and rubber band\n",
       "        // canvas in synch.\n",
       "        canvas_div.css('width', width)\n",
       "        canvas_div.css('height', height)\n",
       "\n",
       "        canvas.attr('width', width * mpl.ratio);\n",
       "        canvas.attr('height', height * mpl.ratio);\n",
       "        canvas.attr('style', 'width: ' + width + 'px; height: ' + height + 'px;');\n",
       "\n",
       "        rubberband.attr('width', width);\n",
       "        rubberband.attr('height', height);\n",
       "    }\n",
       "\n",
       "    // Set the figure to an initial 600x600px, this will subsequently be updated\n",
       "    // upon first draw.\n",
       "    this._resize_canvas(600, 600);\n",
       "\n",
       "    // Disable right mouse context menu.\n",
       "    $(this.rubberband_canvas).bind(\"contextmenu\",function(e){\n",
       "        return false;\n",
       "    });\n",
       "\n",
       "    function set_focus () {\n",
       "        canvas.focus();\n",
       "        canvas_div.focus();\n",
       "    }\n",
       "\n",
       "    window.setTimeout(set_focus, 100);\n",
       "}\n",
       "\n",
       "mpl.figure.prototype._init_toolbar = function() {\n",
       "    var fig = this;\n",
       "\n",
       "    var nav_element = $('<div/>');\n",
       "    nav_element.attr('style', 'width: 100%');\n",
       "    this.root.append(nav_element);\n",
       "\n",
       "    // Define a callback function for later on.\n",
       "    function toolbar_event(event) {\n",
       "        return fig.toolbar_button_onclick(event['data']);\n",
       "    }\n",
       "    function toolbar_mouse_event(event) {\n",
       "        return fig.toolbar_button_onmouseover(event['data']);\n",
       "    }\n",
       "\n",
       "    for(var toolbar_ind in mpl.toolbar_items) {\n",
       "        var name = mpl.toolbar_items[toolbar_ind][0];\n",
       "        var tooltip = mpl.toolbar_items[toolbar_ind][1];\n",
       "        var image = mpl.toolbar_items[toolbar_ind][2];\n",
       "        var method_name = mpl.toolbar_items[toolbar_ind][3];\n",
       "\n",
       "        if (!name) {\n",
       "            // put a spacer in here.\n",
       "            continue;\n",
       "        }\n",
       "        var button = $('<button/>');\n",
       "        button.addClass('ui-button ui-widget ui-state-default ui-corner-all ' +\n",
       "                        'ui-button-icon-only');\n",
       "        button.attr('role', 'button');\n",
       "        button.attr('aria-disabled', 'false');\n",
       "        button.click(method_name, toolbar_event);\n",
       "        button.mouseover(tooltip, toolbar_mouse_event);\n",
       "\n",
       "        var icon_img = $('<span/>');\n",
       "        icon_img.addClass('ui-button-icon-primary ui-icon');\n",
       "        icon_img.addClass(image);\n",
       "        icon_img.addClass('ui-corner-all');\n",
       "\n",
       "        var tooltip_span = $('<span/>');\n",
       "        tooltip_span.addClass('ui-button-text');\n",
       "        tooltip_span.html(tooltip);\n",
       "\n",
       "        button.append(icon_img);\n",
       "        button.append(tooltip_span);\n",
       "\n",
       "        nav_element.append(button);\n",
       "    }\n",
       "\n",
       "    var fmt_picker_span = $('<span/>');\n",
       "\n",
       "    var fmt_picker = $('<select/>');\n",
       "    fmt_picker.addClass('mpl-toolbar-option ui-widget ui-widget-content');\n",
       "    fmt_picker_span.append(fmt_picker);\n",
       "    nav_element.append(fmt_picker_span);\n",
       "    this.format_dropdown = fmt_picker[0];\n",
       "\n",
       "    for (var ind in mpl.extensions) {\n",
       "        var fmt = mpl.extensions[ind];\n",
       "        var option = $(\n",
       "            '<option/>', {selected: fmt === mpl.default_extension}).html(fmt);\n",
       "        fmt_picker.append(option);\n",
       "    }\n",
       "\n",
       "    // Add hover states to the ui-buttons\n",
       "    $( \".ui-button\" ).hover(\n",
       "        function() { $(this).addClass(\"ui-state-hover\");},\n",
       "        function() { $(this).removeClass(\"ui-state-hover\");}\n",
       "    );\n",
       "\n",
       "    var status_bar = $('<span class=\"mpl-message\"/>');\n",
       "    nav_element.append(status_bar);\n",
       "    this.message = status_bar[0];\n",
       "}\n",
       "\n",
       "mpl.figure.prototype.request_resize = function(x_pixels, y_pixels) {\n",
       "    // Request matplotlib to resize the figure. Matplotlib will then trigger a resize in the client,\n",
       "    // which will in turn request a refresh of the image.\n",
       "    this.send_message('resize', {'width': x_pixels, 'height': y_pixels});\n",
       "}\n",
       "\n",
       "mpl.figure.prototype.send_message = function(type, properties) {\n",
       "    properties['type'] = type;\n",
       "    properties['figure_id'] = this.id;\n",
       "    this.ws.send(JSON.stringify(properties));\n",
       "}\n",
       "\n",
       "mpl.figure.prototype.send_draw_message = function() {\n",
       "    if (!this.waiting) {\n",
       "        this.waiting = true;\n",
       "        this.ws.send(JSON.stringify({type: \"draw\", figure_id: this.id}));\n",
       "    }\n",
       "}\n",
       "\n",
       "\n",
       "mpl.figure.prototype.handle_save = function(fig, msg) {\n",
       "    var format_dropdown = fig.format_dropdown;\n",
       "    var format = format_dropdown.options[format_dropdown.selectedIndex].value;\n",
       "    fig.ondownload(fig, format);\n",
       "}\n",
       "\n",
       "\n",
       "mpl.figure.prototype.handle_resize = function(fig, msg) {\n",
       "    var size = msg['size'];\n",
       "    if (size[0] != fig.canvas.width || size[1] != fig.canvas.height) {\n",
       "        fig._resize_canvas(size[0], size[1]);\n",
       "        fig.send_message(\"refresh\", {});\n",
       "    };\n",
       "}\n",
       "\n",
       "mpl.figure.prototype.handle_rubberband = function(fig, msg) {\n",
       "    var x0 = msg['x0'] / mpl.ratio;\n",
       "    var y0 = (fig.canvas.height - msg['y0']) / mpl.ratio;\n",
       "    var x1 = msg['x1'] / mpl.ratio;\n",
       "    var y1 = (fig.canvas.height - msg['y1']) / mpl.ratio;\n",
       "    x0 = Math.floor(x0) + 0.5;\n",
       "    y0 = Math.floor(y0) + 0.5;\n",
       "    x1 = Math.floor(x1) + 0.5;\n",
       "    y1 = Math.floor(y1) + 0.5;\n",
       "    var min_x = Math.min(x0, x1);\n",
       "    var min_y = Math.min(y0, y1);\n",
       "    var width = Math.abs(x1 - x0);\n",
       "    var height = Math.abs(y1 - y0);\n",
       "\n",
       "    fig.rubberband_context.clearRect(\n",
       "        0, 0, fig.canvas.width / mpl.ratio, fig.canvas.height / mpl.ratio);\n",
       "\n",
       "    fig.rubberband_context.strokeRect(min_x, min_y, width, height);\n",
       "}\n",
       "\n",
       "mpl.figure.prototype.handle_figure_label = function(fig, msg) {\n",
       "    // Updates the figure title.\n",
       "    fig.header.textContent = msg['label'];\n",
       "}\n",
       "\n",
       "mpl.figure.prototype.handle_cursor = function(fig, msg) {\n",
       "    var cursor = msg['cursor'];\n",
       "    switch(cursor)\n",
       "    {\n",
       "    case 0:\n",
       "        cursor = 'pointer';\n",
       "        break;\n",
       "    case 1:\n",
       "        cursor = 'default';\n",
       "        break;\n",
       "    case 2:\n",
       "        cursor = 'crosshair';\n",
       "        break;\n",
       "    case 3:\n",
       "        cursor = 'move';\n",
       "        break;\n",
       "    }\n",
       "    fig.rubberband_canvas.style.cursor = cursor;\n",
       "}\n",
       "\n",
       "mpl.figure.prototype.handle_message = function(fig, msg) {\n",
       "    fig.message.textContent = msg['message'];\n",
       "}\n",
       "\n",
       "mpl.figure.prototype.handle_draw = function(fig, msg) {\n",
       "    // Request the server to send over a new figure.\n",
       "    fig.send_draw_message();\n",
       "}\n",
       "\n",
       "mpl.figure.prototype.handle_image_mode = function(fig, msg) {\n",
       "    fig.image_mode = msg['mode'];\n",
       "}\n",
       "\n",
       "mpl.figure.prototype.updated_canvas_event = function() {\n",
       "    // Called whenever the canvas gets updated.\n",
       "    this.send_message(\"ack\", {});\n",
       "}\n",
       "\n",
       "// A function to construct a web socket function for onmessage handling.\n",
       "// Called in the figure constructor.\n",
       "mpl.figure.prototype._make_on_message_function = function(fig) {\n",
       "    return function socket_on_message(evt) {\n",
       "        if (evt.data instanceof Blob) {\n",
       "            /* FIXME: We get \"Resource interpreted as Image but\n",
       "             * transferred with MIME type text/plain:\" errors on\n",
       "             * Chrome.  But how to set the MIME type?  It doesn't seem\n",
       "             * to be part of the websocket stream */\n",
       "            evt.data.type = \"image/png\";\n",
       "\n",
       "            /* Free the memory for the previous frames */\n",
       "            if (fig.imageObj.src) {\n",
       "                (window.URL || window.webkitURL).revokeObjectURL(\n",
       "                    fig.imageObj.src);\n",
       "            }\n",
       "\n",
       "            fig.imageObj.src = (window.URL || window.webkitURL).createObjectURL(\n",
       "                evt.data);\n",
       "            fig.updated_canvas_event();\n",
       "            fig.waiting = false;\n",
       "            return;\n",
       "        }\n",
       "        else if (typeof evt.data === 'string' && evt.data.slice(0, 21) == \"data:image/png;base64\") {\n",
       "            fig.imageObj.src = evt.data;\n",
       "            fig.updated_canvas_event();\n",
       "            fig.waiting = false;\n",
       "            return;\n",
       "        }\n",
       "\n",
       "        var msg = JSON.parse(evt.data);\n",
       "        var msg_type = msg['type'];\n",
       "\n",
       "        // Call the  \"handle_{type}\" callback, which takes\n",
       "        // the figure and JSON message as its only arguments.\n",
       "        try {\n",
       "            var callback = fig[\"handle_\" + msg_type];\n",
       "        } catch (e) {\n",
       "            console.log(\"No handler for the '\" + msg_type + \"' message type: \", msg);\n",
       "            return;\n",
       "        }\n",
       "\n",
       "        if (callback) {\n",
       "            try {\n",
       "                // console.log(\"Handling '\" + msg_type + \"' message: \", msg);\n",
       "                callback(fig, msg);\n",
       "            } catch (e) {\n",
       "                console.log(\"Exception inside the 'handler_\" + msg_type + \"' callback:\", e, e.stack, msg);\n",
       "            }\n",
       "        }\n",
       "    };\n",
       "}\n",
       "\n",
       "// from http://stackoverflow.com/questions/1114465/getting-mouse-location-in-canvas\n",
       "mpl.findpos = function(e) {\n",
       "    //this section is from http://www.quirksmode.org/js/events_properties.html\n",
       "    var targ;\n",
       "    if (!e)\n",
       "        e = window.event;\n",
       "    if (e.target)\n",
       "        targ = e.target;\n",
       "    else if (e.srcElement)\n",
       "        targ = e.srcElement;\n",
       "    if (targ.nodeType == 3) // defeat Safari bug\n",
       "        targ = targ.parentNode;\n",
       "\n",
       "    // jQuery normalizes the pageX and pageY\n",
       "    // pageX,Y are the mouse positions relative to the document\n",
       "    // offset() returns the position of the element relative to the document\n",
       "    var x = e.pageX - $(targ).offset().left;\n",
       "    var y = e.pageY - $(targ).offset().top;\n",
       "\n",
       "    return {\"x\": x, \"y\": y};\n",
       "};\n",
       "\n",
       "/*\n",
       " * return a copy of an object with only non-object keys\n",
       " * we need this to avoid circular references\n",
       " * http://stackoverflow.com/a/24161582/3208463\n",
       " */\n",
       "function simpleKeys (original) {\n",
       "  return Object.keys(original).reduce(function (obj, key) {\n",
       "    if (typeof original[key] !== 'object')\n",
       "        obj[key] = original[key]\n",
       "    return obj;\n",
       "  }, {});\n",
       "}\n",
       "\n",
       "mpl.figure.prototype.mouse_event = function(event, name) {\n",
       "    var canvas_pos = mpl.findpos(event)\n",
       "\n",
       "    if (name === 'button_press')\n",
       "    {\n",
       "        this.canvas.focus();\n",
       "        this.canvas_div.focus();\n",
       "    }\n",
       "\n",
       "    var x = canvas_pos.x * mpl.ratio;\n",
       "    var y = canvas_pos.y * mpl.ratio;\n",
       "\n",
       "    this.send_message(name, {x: x, y: y, button: event.button,\n",
       "                             step: event.step,\n",
       "                             guiEvent: simpleKeys(event)});\n",
       "\n",
       "    /* This prevents the web browser from automatically changing to\n",
       "     * the text insertion cursor when the button is pressed.  We want\n",
       "     * to control all of the cursor setting manually through the\n",
       "     * 'cursor' event from matplotlib */\n",
       "    event.preventDefault();\n",
       "    return false;\n",
       "}\n",
       "\n",
       "mpl.figure.prototype._key_event_extra = function(event, name) {\n",
       "    // Handle any extra behaviour associated with a key event\n",
       "}\n",
       "\n",
       "mpl.figure.prototype.key_event = function(event, name) {\n",
       "\n",
       "    // Prevent repeat events\n",
       "    if (name == 'key_press')\n",
       "    {\n",
       "        if (event.which === this._key)\n",
       "            return;\n",
       "        else\n",
       "            this._key = event.which;\n",
       "    }\n",
       "    if (name == 'key_release')\n",
       "        this._key = null;\n",
       "\n",
       "    var value = '';\n",
       "    if (event.ctrlKey && event.which != 17)\n",
       "        value += \"ctrl+\";\n",
       "    if (event.altKey && event.which != 18)\n",
       "        value += \"alt+\";\n",
       "    if (event.shiftKey && event.which != 16)\n",
       "        value += \"shift+\";\n",
       "\n",
       "    value += 'k';\n",
       "    value += event.which.toString();\n",
       "\n",
       "    this._key_event_extra(event, name);\n",
       "\n",
       "    this.send_message(name, {key: value,\n",
       "                             guiEvent: simpleKeys(event)});\n",
       "    return false;\n",
       "}\n",
       "\n",
       "mpl.figure.prototype.toolbar_button_onclick = function(name) {\n",
       "    if (name == 'download') {\n",
       "        this.handle_save(this, null);\n",
       "    } else {\n",
       "        this.send_message(\"toolbar_button\", {name: name});\n",
       "    }\n",
       "};\n",
       "\n",
       "mpl.figure.prototype.toolbar_button_onmouseover = function(tooltip) {\n",
       "    this.message.textContent = tooltip;\n",
       "};\n",
       "mpl.toolbar_items = [[\"Home\", \"Reset original view\", \"fa fa-home icon-home\", \"home\"], [\"Back\", \"Back to previous view\", \"fa fa-arrow-left icon-arrow-left\", \"back\"], [\"Forward\", \"Forward to next view\", \"fa fa-arrow-right icon-arrow-right\", \"forward\"], [\"\", \"\", \"\", \"\"], [\"Pan\", \"Pan axes with left mouse, zoom with right\", \"fa fa-arrows icon-move\", \"pan\"], [\"Zoom\", \"Zoom to rectangle\", \"fa fa-square-o icon-check-empty\", \"zoom\"], [\"\", \"\", \"\", \"\"], [\"Download\", \"Download plot\", \"fa fa-floppy-o icon-save\", \"download\"]];\n",
       "\n",
       "mpl.extensions = [\"eps\", \"jpeg\", \"pdf\", \"png\", \"ps\", \"raw\", \"svg\", \"tif\"];\n",
       "\n",
       "mpl.default_extension = \"png\";var comm_websocket_adapter = function(comm) {\n",
       "    // Create a \"websocket\"-like object which calls the given IPython comm\n",
       "    // object with the appropriate methods. Currently this is a non binary\n",
       "    // socket, so there is still some room for performance tuning.\n",
       "    var ws = {};\n",
       "\n",
       "    ws.close = function() {\n",
       "        comm.close()\n",
       "    };\n",
       "    ws.send = function(m) {\n",
       "        //console.log('sending', m);\n",
       "        comm.send(m);\n",
       "    };\n",
       "    // Register the callback with on_msg.\n",
       "    comm.on_msg(function(msg) {\n",
       "        //console.log('receiving', msg['content']['data'], msg);\n",
       "        // Pass the mpl event to the overridden (by mpl) onmessage function.\n",
       "        ws.onmessage(msg['content']['data'])\n",
       "    });\n",
       "    return ws;\n",
       "}\n",
       "\n",
       "mpl.mpl_figure_comm = function(comm, msg) {\n",
       "    // This is the function which gets called when the mpl process\n",
       "    // starts-up an IPython Comm through the \"matplotlib\" channel.\n",
       "\n",
       "    var id = msg.content.data.id;\n",
       "    // Get hold of the div created by the display call when the Comm\n",
       "    // socket was opened in Python.\n",
       "    var element = $(\"#\" + id);\n",
       "    var ws_proxy = comm_websocket_adapter(comm)\n",
       "\n",
       "    function ondownload(figure, format) {\n",
       "        window.open(figure.imageObj.src);\n",
       "    }\n",
       "\n",
       "    var fig = new mpl.figure(id, ws_proxy,\n",
       "                           ondownload,\n",
       "                           element.get(0));\n",
       "\n",
       "    // Call onopen now - mpl needs it, as it is assuming we've passed it a real\n",
       "    // web socket which is closed, not our websocket->open comm proxy.\n",
       "    ws_proxy.onopen();\n",
       "\n",
       "    fig.parent_element = element.get(0);\n",
       "    fig.cell_info = mpl.find_output_cell(\"<div id='\" + id + \"'></div>\");\n",
       "    if (!fig.cell_info) {\n",
       "        console.error(\"Failed to find cell for figure\", id, fig);\n",
       "        return;\n",
       "    }\n",
       "\n",
       "    var output_index = fig.cell_info[2]\n",
       "    var cell = fig.cell_info[0];\n",
       "\n",
       "};\n",
       "\n",
       "mpl.figure.prototype.handle_close = function(fig, msg) {\n",
       "    var width = fig.canvas.width/mpl.ratio\n",
       "    fig.root.unbind('remove')\n",
       "\n",
       "    // Update the output cell to use the data from the current canvas.\n",
       "    fig.push_to_output();\n",
       "    var dataURL = fig.canvas.toDataURL();\n",
       "    // Re-enable the keyboard manager in IPython - without this line, in FF,\n",
       "    // the notebook keyboard shortcuts fail.\n",
       "    IPython.keyboard_manager.enable()\n",
       "    $(fig.parent_element).html('<img src=\"' + dataURL + '\" width=\"' + width + '\">');\n",
       "    fig.close_ws(fig, msg);\n",
       "}\n",
       "\n",
       "mpl.figure.prototype.close_ws = function(fig, msg){\n",
       "    fig.send_message('closing', msg);\n",
       "    // fig.ws.close()\n",
       "}\n",
       "\n",
       "mpl.figure.prototype.push_to_output = function(remove_interactive) {\n",
       "    // Turn the data on the canvas into data in the output cell.\n",
       "    var width = this.canvas.width/mpl.ratio\n",
       "    var dataURL = this.canvas.toDataURL();\n",
       "    this.cell_info[1]['text/html'] = '<img src=\"' + dataURL + '\" width=\"' + width + '\">';\n",
       "}\n",
       "\n",
       "mpl.figure.prototype.updated_canvas_event = function() {\n",
       "    // Tell IPython that the notebook contents must change.\n",
       "    IPython.notebook.set_dirty(true);\n",
       "    this.send_message(\"ack\", {});\n",
       "    var fig = this;\n",
       "    // Wait a second, then push the new image to the DOM so\n",
       "    // that it is saved nicely (might be nice to debounce this).\n",
       "    setTimeout(function () { fig.push_to_output() }, 1000);\n",
       "}\n",
       "\n",
       "mpl.figure.prototype._init_toolbar = function() {\n",
       "    var fig = this;\n",
       "\n",
       "    var nav_element = $('<div/>');\n",
       "    nav_element.attr('style', 'width: 100%');\n",
       "    this.root.append(nav_element);\n",
       "\n",
       "    // Define a callback function for later on.\n",
       "    function toolbar_event(event) {\n",
       "        return fig.toolbar_button_onclick(event['data']);\n",
       "    }\n",
       "    function toolbar_mouse_event(event) {\n",
       "        return fig.toolbar_button_onmouseover(event['data']);\n",
       "    }\n",
       "\n",
       "    for(var toolbar_ind in mpl.toolbar_items){\n",
       "        var name = mpl.toolbar_items[toolbar_ind][0];\n",
       "        var tooltip = mpl.toolbar_items[toolbar_ind][1];\n",
       "        var image = mpl.toolbar_items[toolbar_ind][2];\n",
       "        var method_name = mpl.toolbar_items[toolbar_ind][3];\n",
       "\n",
       "        if (!name) { continue; };\n",
       "\n",
       "        var button = $('<button class=\"btn btn-default\" href=\"#\" title=\"' + name + '\"><i class=\"fa ' + image + ' fa-lg\"></i></button>');\n",
       "        button.click(method_name, toolbar_event);\n",
       "        button.mouseover(tooltip, toolbar_mouse_event);\n",
       "        nav_element.append(button);\n",
       "    }\n",
       "\n",
       "    // Add the status bar.\n",
       "    var status_bar = $('<span class=\"mpl-message\" style=\"text-align:right; float: right;\"/>');\n",
       "    nav_element.append(status_bar);\n",
       "    this.message = status_bar[0];\n",
       "\n",
       "    // Add the close button to the window.\n",
       "    var buttongrp = $('<div class=\"btn-group inline pull-right\"></div>');\n",
       "    var button = $('<button class=\"btn btn-mini btn-primary\" href=\"#\" title=\"Stop Interaction\"><i class=\"fa fa-power-off icon-remove icon-large\"></i></button>');\n",
       "    button.click(function (evt) { fig.handle_close(fig, {}); } );\n",
       "    button.mouseover('Stop Interaction', toolbar_mouse_event);\n",
       "    buttongrp.append(button);\n",
       "    var titlebar = this.root.find($('.ui-dialog-titlebar'));\n",
       "    titlebar.prepend(buttongrp);\n",
       "}\n",
       "\n",
       "mpl.figure.prototype._root_extra_style = function(el){\n",
       "    var fig = this\n",
       "    el.on(\"remove\", function(){\n",
       "\tfig.close_ws(fig, {});\n",
       "    });\n",
       "}\n",
       "\n",
       "mpl.figure.prototype._canvas_extra_style = function(el){\n",
       "    // this is important to make the div 'focusable\n",
       "    el.attr('tabindex', 0)\n",
       "    // reach out to IPython and tell the keyboard manager to turn it's self\n",
       "    // off when our div gets focus\n",
       "\n",
       "    // location in version 3\n",
       "    if (IPython.notebook.keyboard_manager) {\n",
       "        IPython.notebook.keyboard_manager.register_events(el);\n",
       "    }\n",
       "    else {\n",
       "        // location in version 2\n",
       "        IPython.keyboard_manager.register_events(el);\n",
       "    }\n",
       "\n",
       "}\n",
       "\n",
       "mpl.figure.prototype._key_event_extra = function(event, name) {\n",
       "    var manager = IPython.notebook.keyboard_manager;\n",
       "    if (!manager)\n",
       "        manager = IPython.keyboard_manager;\n",
       "\n",
       "    // Check for shift+enter\n",
       "    if (event.shiftKey && event.which == 13) {\n",
       "        this.canvas_div.blur();\n",
       "        // select the cell after this one\n",
       "        var index = IPython.notebook.find_cell_index(this.cell_info[0]);\n",
       "        IPython.notebook.select(index + 1);\n",
       "    }\n",
       "}\n",
       "\n",
       "mpl.figure.prototype.handle_save = function(fig, msg) {\n",
       "    fig.ondownload(fig, null);\n",
       "}\n",
       "\n",
       "\n",
       "mpl.find_output_cell = function(html_output) {\n",
       "    // Return the cell and output element which can be found *uniquely* in the notebook.\n",
       "    // Note - this is a bit hacky, but it is done because the \"notebook_saving.Notebook\"\n",
       "    // IPython event is triggered only after the cells have been serialised, which for\n",
       "    // our purposes (turning an active figure into a static one), is too late.\n",
       "    var cells = IPython.notebook.get_cells();\n",
       "    var ncells = cells.length;\n",
       "    for (var i=0; i<ncells; i++) {\n",
       "        var cell = cells[i];\n",
       "        if (cell.cell_type === 'code'){\n",
       "            for (var j=0; j<cell.output_area.outputs.length; j++) {\n",
       "                var data = cell.output_area.outputs[j];\n",
       "                if (data.data) {\n",
       "                    // IPython >= 3 moved mimebundle to data attribute of output\n",
       "                    data = data.data;\n",
       "                }\n",
       "                if (data['text/html'] == html_output) {\n",
       "                    return [cell, data, j];\n",
       "                }\n",
       "            }\n",
       "        }\n",
       "    }\n",
       "}\n",
       "\n",
       "// Register the function which deals with the matplotlib target/channel.\n",
       "// The kernel may be null if the page has been refreshed.\n",
       "if (IPython.notebook.kernel != null) {\n",
       "    IPython.notebook.kernel.comm_manager.register_target('matplotlib', mpl.mpl_figure_comm);\n",
       "}\n"
      ],
      "text/plain": [
       "<IPython.core.display.Javascript object>"
      ]
     },
     "metadata": {},
     "output_type": "display_data"
    },
    {
     "data": {
      "text/html": [
       "<img src=\"data:image/png;base64,iVBORw0KGgoAAAANSUhEUgAAAoAAAAHgCAYAAAA10dzkAAAgAElEQVR4nOzdSVBb+4Lnee8zI3KX774btXnRL2pRFZHdER2RFdG1qNx0VkRXb7o6a5MR1RW1EBiMh3fta797JUCgiXkwGAy2GG2wmMHGBmxmDAYzGhBgMQmZ0ZgZXV9zdX+9wDpGIIGQJesP+i0+kYk4ks45nHf+33smX7BZLSAiIiKiwHHB3zNARERERN8WA5CIiIgowDAAiYiIiAIMA5CIiIgowDAAiYiIiAIMA5CIiIgowDAAiYiIiAIMA5CIiIgowDAAiYiIiAIMA5CIiIgowDAAiYiIiAIMA5CIiIgowDAAiYiIiAIMA5DIhb0ds+S33TkiIiJhHByjPBnjGIBELuztmLG2NEpERCQsBiCRlzEAxbW+bMRvu3NYXzb6fV7o7PDFdvPbn/+E3//2b/Dbn//k9+Uj3xB9f8MAJPKy33bn/P4/bHJuY2UMNqsFGytjfp8XOjt8sd3Y/vgH4MIF2P74B78vH/mG6Pub33bnPBrjGIBELjAAxSX6DpnExAAkT4i+v2EAEnkZA1Bcou+QSUzcbsgTom83DEAiL2MAikv0HTKJidsNeUL07YYBSORlDEBxib5DJjFxuyFPiL7dMACJvIwBKC7Rd8gkJm435AnRtxsGIJGXMQDFJfoOmcTki+3GeuMSfgn+/2C9ccnvy0e+Ifr+hgFI5GUMQHGJvkMmMfEuYPKE6PsbBiCRlzEAxSX6DpnExAAkT4i+v2EAEnkZA1Bcou+QSUwMQPKE6PsbBiCRlzEAxSX6DpnExAAkT4i+v2EAEnkZA1Bcou+QSUwMQPKE6PsbBiCRlzEAxSX6DpnExAAkT4i+v2EAEnkZA1Bcou+QSUwMQPKE6PsbBiCRlzEAxSX6DpnExAAkT4i+v2EAEnkZA1Bcou+QSUwMQPKE6PsbBiCRl9kD8H9LeYN/G090fvl7ADvLA/nH//pf8Omf/g98/K//xe/LR77BACQKMAxAChT+HsA4kJPIRN9uGIBEXsYApEDh7wGMAzmJTPTthgFI5GUMQAoU/h7AOJCTyETfbhiA5DMyuepYekPRkenClDooU9PR3tXk9DO7eloRpFCjoMwgvTY9NQCZXIWJiV6n70nW65GWlweb1QK9ocjpvCTr9dL0t+KS0NBS5/FyMwApUPh7AONATiITfbthAJLPrK1MSBpa6nE5OsbhtZ21Kdis+wHY3tWEtZUJLM2P4snzWsjkKrwZfnXkMxPv3UdZbRWuRMfgl80Z6fWo1HTkljw6Mv37pXEEKdToG3gJm3U/AFP0OQ7zsbYyga0Pk9J7GIBE7vH3AHaWB/JP//Ef8du//V/w6T/+o9+Xj3yDAUhktaC9qwlXomOc/k4mV6FvoMPhtWvqOBhqKhxeW14wIjRSi521KWjvZOLlq2bpdy9aGxAWpYN1Y9rhPTX1T3BdG49PO2bYrPsBmJ6fd+y8MgCJ3OPvAewsD+R8DMz5xwAksrofgHs7ZnT3tkEmV6HsSaXDdJXPapBZWACbdT/44rKypd9tfZhESITG4dTxb7tz+Ck+BaUHPocBSOQ9/h7AzvJAzgA8/xiARNaTAzA0UoswpQ7BCjVkchWuqeOw+G5UmmZvdw43Y5OkU7mbqyZcDNc4TJP1sNAhCo3GHsjkKsxbRqTX9IYiBCvUCFPqHNTUP5GmOW0Aftyaxc76lGR7bRJrSwxAOv82VsYCwtbqBGxWC7ZWJ7z2mQcD0N/LR77hi+3GG9aXjQxA+nZOCsDm9udYfDcKo7EH0bfvOJzetVkteDPchWvqOPy6PSu9djs3F+W1VdLPwyPdkMlVUhTeL36ImMwsh8/RG4qQeP8+Ft+NOviaawCr6mqO3MjCAKRA4O/9yln2+/ffARcu4Pfvv/P7vFBgsZ+lYgDSN3GaawAX340iLEoHi3lYei3zQSFkchWCFWpJkFyFG7pE7H2+vu+33TnciktCxdNq7KxP4ZJSd+RuYl+cAuYRQApU/j6ScZaP5PAI4PnHI4BE1tPfBKI3FEmPbtlcNSEkQoPu3jbMzb6RmGeGcDk6BgNDndL7quse42ZMIprbnzu9KYTXABJ5j7+vYTrL13LxGsDzzxfbjTcxAOmbOG0Azs2+QZBchenJATS01OGGLgF7TjbW7KKHSM/Pl35+vziGIIUaV1WxyCs9+lgYV4+B2Vw1SdPciktCyeMKzE4POjh4mvg4DEAKFP4ewM7yQM4APP8YgETW0wegzWpB0n09UnJyoExNx4OKUqfv7e3vQHC4Gusrb6XXkvV6yOQqmN72HZne1YOgFUmp0jS34pKcTuPq4dSHMQApUPh7ADvLAzkD8PxjABIFGAYgBQp/D2BneSBnAJ5/DECiAMMApEDh7wHsLA/kO/GR2FX+iJ34SL8vH/kGA5AowDAAKVD4ewDjQE4iE327YQASeRkDkAKFvwcwDuQkMtG3GwYgkZfZA5DEI/oOmcTE7YY8Ifp2wwAk8jIGoLhE3yGTmHyx3awPtWC9vxHrQy1+Xz7yDdH3NwxAIi9jAIpL9B0yiYl3AZMnRN/fMACJvIwBKC7Rd8gkJgYgeUL0/Q0DkMjLeBMIEZ1k8e/+HrhwAYt/9/cevd/f8UAnYwASBRgGIBGdhAF4/jEAiQIMA5CITsIAPP8YgEQBhgFIRCdhAJ5/DEAKaOvv36KgzICbsUkIidDgujYeyXo9TG/7YLNacCsuCTK5CjK5CqGRWkSmpKG544XDZ/yyOYOqZzVQJKYiJEKDa+o4ZBQWwGJ+4zBdVV2N9FlBchVu6BKQXfQQ75fGsbxglH7nSlVdDWxWC173t0NzJxOXo2MQFqVDRHIaDDUVbi8zA5CITsIAPP8YgBTQYu9mQXsnE0ZjD1YWxzBp6kft81oMDnXCZt0PwJr6J1hbmcDiu1FUPK2GTK5Cd28bbFYLPm7NQpeZhZsxiejubZM+Iz0/H2FKHUymPum7qupqEJmShrWVCXxYnsD4eC+UqenQZtzF3o4ZaysTEkNNhTSt3e7GNEZGuxEcrsazxmeYt4xgwTKCvoEOPKwsdXuZGYBEdBIG4PnHAKSAtb02CZlchbGx1y6nuRWXhIaWOofX5ImpyHr4ADarBU9fPEWQXAXzzJDDNHu7c1CnZyAiOU3aiKvqahCVmu4w3YvWBsjkKuysTzm87mxam9WC4qoyxGff+6rlZgAS0UkYgOcfA5AC1qcdM8KidCiuLsfHrVmn0zgLQGVqOjIKC6T/P1mvd/rerp5WyOQqzE4PwmY9GnVrKxOIz76HYIUa1o1ph/e6CsDaF7X4QROPudk3Jy6fKwxAIjoJA/D8YwBSQHvd346rqliERmqhy8xCeW2Vw9G8gwH4aceM9q4myOQqNLU/h81qQWikFsVVZU4/e2Z60OF0cVVdDYIUaoQpdQiN1ErX9hU5eb+rALRuTCM1JxcyuQq34pKQ9bAQbZ1NLgPWZt0/Tb2zPiXZXpvE2hIDkIhc+88/VuP/ul6B//xjtUfv31gZI8FtrU7AZrVga3XC7/Ny0PqykQFI38bHrRkMj3Sjpv4xdBl3EaxQo72rCTbrfgCGRGgQptQhOFyNS0odSh5XYu/zhnlsAE7tB2BPXzts1v2oC0++jcV3o7CY3+DJ81pE376D3UNH/+zTOgtAu6X5UbS+bEReySNcVcVCmZqOXzZnnE578OYTmVyFMKWOAUhEPuXv/TqdXfazVAxA+ubySh7hVmwSbNb9AKx4Wo3Fd6P4sDxxZINUpqYj6b5np4BtVgtyDMW4X/zwyHtPCsCDlheMCA7/Eq2H8QggEX1r/j6KRCfjEUCiQ+qb63BNHQeb1fk1gAfVPq/9qptAluaNCFaoMTM16PD6aQLwt905XI6OwYvWBrenZwASkS/5+/oxOtnGCq8BpAC1uWpCQvY9dHa3wDwzhOUFI3r62nFdG4/ckkewWU8OwI9bM9DeycTN2CT09LXj/eIYpiYHXD4GxlnUZRQU4HZursNrrqatqqtByeNKGMd6sLxgxMz0IHIMxQiN1GLeMuLWcjMAiegkP/yrDj//SyR++FedR+/3dzzQyRiAFLA+bs2irLYKqrQMXImOwSWlDoqkVFQ+rZaupzspAG3W/QdBVz6txs8JKbgY/uVB0Ifv1HUVdW/f9kEmV2HS1H/itEZjDzIKCxweXJ2iz8HERK/by80AJKKT8C7g848BSBRgGIBEdBIG4PnHACQKMAxAIjoJA/D8YwASBRgGIBGdhAF4/jEAiQKMPQBJPKLvkElMvthubH/8A3DhAmx//IPfl498Q/T9DQOQyMsYgOISfYdMYmIAkidE398wAIm8jAEoLtF3yCQmBiB5QvT9DQOQyMsYgOISfYdMYmIAkidE398wAIm8jAEoLtF3yCQmBiB5QvT9DQOQyMu8fRewv3cS54noO2QSky+2m71/+Pew/fEP2PuHf+/35SPfEH1/wwAk8jIGoLhE3yGTmLjdkCdE324YgERexgAUl+g7ZBITtxvyhOjbDQOQyMsYgOISfYdMYuJ2Q54QfbthAJLPrb9/i4IyA27GJiEkQoPr2ngk6/Uwve2DzWrBrbgkNLTUHXlfVV0NolLTHV7b+jCJ4qoy3IpLwsVwDa5rE5BjKMb7xTFpmub25wiL0uHTjll6bXdjGsHhasTezXL4vPHxXsjkKixYRmCzWjAzPYjbubn4QROPkAgNbsUl4e6DQmyumtxeXgaguETfIZOYuN2QJ0TfbhiA5HOxd7OgvZMJo7EHK4tjmDT1o/Z5LQaHOmGzuh+AWx8mIU9MRWRKGgbfdOH94hjGx18j9m42ftDGY2neCJvVgnnLCGRyFUymPum9Q2+6cDMmESERGvyyOSO9XlP/BDd0ibBZ90P1mjoOekMRZqYHsbxgxKixB8VVZQ6BeRIGoLhE3yGTmHyx3Xz87/8Nv/7f/4yP//2/+X35yDdE398wAMmnttcmIZOrMDb22uU07gZgYXkJwpQ6rK1MOEz3y+YMfoxJRIo+R3rthi4RtS9qpZ9Ln1TiQUUpIpLTMDLaLb2ecO8+7hU/hM1qQd9AB4LD1Q5HDj3BABSX6DtkEhMfA0OeEH1/wwAkn/q0Y0ZYlA7F1eX4uDXrdBp3AnBvdw5XVbEoKDM4/Ywnz2sRJFdh68MkbFYLsoseIlmvl36vTs9ET187CstLUF5bDZvVgl+3ZxEaqUVbZyNsVgtMpj7I5Cr09LWf6n8YH7dmsbM+Jdlem8TakvcCcGNljLxka3X/Px62Vif8Pi90dvhiuzkYgP5ePvINUfc368tGBiB9G6/723FVFYvQSC10mVkor62CeWZI+v2tuP1rA8OUOgcXwzVSAK6vvIVMrnIaijarBb39HZDJVZg09cNmtaDlZSPClPvXAe6u71//t/7+Lbp726DL3L8OcHz8NWRylXTq2Ga1oLy2GsHhalxTxyFFn4Nnjc+wvvL22OWrqquBTK6ShCl1Xg1Af//9iMj7fv/+O+DCBfz+/Xd+nxcKLPazVAxA+iY+bs1geKQbNfWPocu4i2CFGu1dTbBZ9wOw4mk1Ft+NOiiqLDt1AE5NDsBmtWDx3ej+dYBv+zD4pgsRyWmwWS1YW5nAxXANrBvTqKl/jFuxSUc+a3PVhJ6+dhhqKvBTfAquqmIxN+s6xHgE8OwQ9b/ISWw8AkieEHV/wyOA5Fd5JY+k+DrNKeD8UvdOAdusFtyMScST57UoeVyBwvIS6XVFYiqGR14hPvsecgzFx87nr9uziEhOg/5RkdvLxmsAxbWxIvY1OSQmX2w3vAbw/BN9f8MAJL+ob67DNXUcbFb3bwIpKDO4fROIzWrB/UdFSLqvhzo9A929bdLr+aUGGGoqEBqpxctXzSfOa1peHjIKC9xeNgaguETfIZOYGIDkCdH3NwxA8qnNVRMSsu+hs7sF5pkhLC8Y0dPXjuvaeOSWPILN6n4Abq6a8HNCCiJT0jD0pgvvl8adPgbGrr2rCaGR2v3r/w5cx9fZ04LLUTGQyVV4vzQuvT4w1Il7xQ8xMNSJBcsI5i0jeNb0DMEKNV52t7i9zAxAcYm+QyYxMQDJE6LvbxiA5FMft2ZRVlsFVVoGrkTH4JJSB0VSKiqfVkvP4zvNg6A3V00oqizDzdgkBIercV0bD72hyOlz+pYXjJDJVQhPuu3w+urSOGRyFX5OSHF4fWneiPxSAxSJqQiN1OKqKhbq9EzpWkV3MQDFJfoOmcTEACRPiL6/YQASeRkDUFyi75BJTAxA8oTo+xsGIJGXMQDFJfoOmcTki+3ml5D/iY//+v/il5D/6fflI98QfX/DACTyMgaguETfIZOYuN2QJ0TfbhiARF5mD0ASj+g7ZBITtxvyhOjbDQOQyMsYgOISfYdMYuJ2Q54QfbthABJ5GQNQXKLvkElM3G7IE6JvNwxAIi9jAIpL9B0yickX281vf/4Tfv/bv8Fvf/6T35ePfEP0/Q0DkMjLvH0TCJGv+HsAOiv4GBjyBAOQKMAwAOms8PcAdFYwAMkTDECiAMMApLPC3wPQWcEAJE8wAIkCDAOQzgp/D0BnBQOQPMEAJAowDEA6K/w9AJ0VDEDyBAPQhfX3b1FQZsDN2CSERGhwXRuPZL0eprd9DtPNTA8is7AAP2jjERKhgTwxFXmlj7BgGYHNasHyghEyuQqz04MOPztjMu1/dntXE2RyFZL1eofv2l6bhEyugnGsx+F1o7EHKTk5uKaOQ2ikFuHJt2GoqcDq0vj+78d6XH7n2sqEy3WwtzuH0ieVuKFLQGikFsrUdPQNvDx2vdnn/TjGsR6X04VEaBw+b21lAg8rS/FTfDJCIjS4GZOI27m5GB3tlqa5FZeEhpa6I/NSVVeDqNR0h59lchUKygwO081OD0ImV2F5wejweserZqjTM3FJqUNYlA6xd7MxMNTpuO4/r9vttUmX62RgqBNxWdkIi9IhNFILdXoG2ruanE77ur8dCdn3cFUVi9BILRSJqcg1FGNmehBjY68RHK7GxESvw3usG9P4KT4ZxdXlDEA6V/w9AJ0VDEDyBAPQhdi7WdDeyYTR2IOVxTFMmvpR+7wWgwcCYGCoEyERGqTl5WFktBvLC0ZMmvphqKnA3QeFxwbg6Gg31lYmHHzaNksRFRyuRnC4Gkbjl9hzFoDNHS8QpFAj11AM41gPlheMGB9/jbySR3j0OQjskbJgGTnynXvHrOCXr5pxMVyDV69bsbxgxMhoN0YOhJczv2zOOHy+LuMu8ksNDq/9uj2L9q4mXI6OOTI/6ytvpc9aXjDihi4REclp6Olrx4JlBBbzG9Q310GRlOpRAIZGahEcrpYC3VUAGmoqEBKhwbOmZ1h8N4p3c8Mor61GkEKNF60Nbgfgi9YGBCnUKK+tgsU8jMV3o6hreoaQCA0MNRUO05Y+qUSwQo1H1eUYH+/F8oIRY2Ov8bjhCVL0ObBZLXhUXY6fE1Jg3ZiW3vegohThSbfxcWuGAUjnir8HoLOCAUieYAA6YQ+tsbHXx4bOXzRxSM/Pd/kZxwWg/Wdn2ruacCU6BvmlBmjuZLoMwNWlcYREaFwe+bHPgztHqZzp7G7BDV2ix+vRZrUgLisbxVVlLpfxuPem5OTgx5hEh9g5vGw26+kCMCo1HUn39cj8HOg269EANJn6IJOrHELPzlBTgYvhGrw/dHTV2bp9vzSOi+FHQ89m3Q9DmVyFSVO/w3c+b613GW02qwUft2YQnnwbDypK97/f2IOL4RpMTw64/TdhANJZ4e8B6KxgAJInGIBOfNoxIyxKh+LqcnzcmnU6TW9/x/5p20OnhA/7mgD8sDyB0Egtevrapeg5GID1zXX7p3GXXZ/GPSlSjrO2PIEwpQ6VT6s9XpeeBuDWh0kEyVWofV574necNgBnpgYRpFBj6nM0HQ7AoqoyhEXp8Ov20b/9h+UJyOQq6fuOW7fH/X1+3Z7d38Y+rxv7d37aMZ+4vNOTA7gYrkHfQAf+GpeMqrqaY6f/uDWLnfUpyfbaJNaWGIAkvo2VMXLD1ur+PmZrdcJrn3kwAP29fOQbvthuvGF92ei/ALRZ96/Fsl+HpcvMQnltFcwzQ9LvnzY+hUyuwtaH46PKVQCGRmoRptQ52Nv5cgrYHkdltVVQJKbi0475SAAWlpfg8glH0Q5GyuHvUySmunzPL5sziExJQ36pAdo7mTDUVDj8MS5HxeB1f/tXBaCzeUq6v3/d46SpHzK5Cr39HW4FYEiE5shnXQzXOA1Am9WCrIcPkHDvvtMATNHnOLzvsCvRMSgsLzkxAAvLS46NXGVqOlJycqTvVB76zvrmOofl2Vmb+rIsz2oQpFBDlZZxYjTar320C1PqGIB0Jnztfpy+QlkubA8y9/+vv+eFAor9LJVf7wL+uDWD4ZFu1NQ/hi7jLoIVauni/acvvi4ABwY7sfhu1IH9PQcDcHttEldVsWjpeOE0AE86jWqzfomUmelBh+87fNPDQY1tz/FjTCJ+3Z7F1odJKFPToX9UhE87ZiwvGBHkxpFHm/X4ALwcFXNkHdhvXLEHYN+AewFY8bT6yGcVVZa5DMCl+VFcDNdgeOTVqQPwcnTMl1OwXxmAqTm5Lr9ze20Si+9G0dnTcuQ7Pm2bIZOrpKPDx2/HPAJIZ5O/j0ScFaIeySGxibrd+P0IoDN5JY9wKzYJNuu3OQVs//lZ4zPc0CVKpx+/xSnggjKDw13I6+/fQpGYitu5uXhUXS4duTqJiKeA7T8/qChF9O07mPHxKeAPrk4BKw+cAq78fAp4++jRPFff4W4gH8ZrAOms8Pc1SGfFxorY13KRmETfboQKwPrmOlxTx8Fm3X/0hq9vArH//HFrBjdjElH6pNIhAN/78CaQmvon+EEbj931LzdgvF8ax624pP2jiVOu5/+gr7oJRO+bm0DsP6+vvEWYUietV+kmkLeubwJ5VF3u/k0gi2MIDlc7vQnkeWu9400gn7+zoeXoTSAMQApU/h6AzgrRB3ISk+jbjV8CcHPVhITse+jsboF5ZgjLC0b09LXjujYeuSWPpOn6Bl7iYrjjY2CmJwdQ8rgSWQ8Ljw1AZ4+BsT/Gw1kctXU2ITRSe+QxMI1tzxEkVyG35BHGxl5jZXEMExO9KCgzSOFx3GNgnB1xsln3j3RdU8chPvse3r7tw7xlBI1tDbgSHYNLSp10DdzXBKCzx8AcfDTN8oIR17UJiEhOw+v+dix8fhzL89Z6hCfd/uoAtFktqHxWI63Xg6fEi6vKEBKhQV3TMyzNj2J+bhgVT10/BmZ8vBez04MObNb9/2jYfwxMNebnhrE0P4r65jqnj4Ex1FRIj4GZmOjFyuIYTKY+3C9+iCC5CjvrUw7TMwDpvPP3AHRW+GIg36wvweaTh9isL/H78pFvMACd+Lg1i7LaKqjSMqTgUSSlovJpNX7ZdHzW2vTkADIKCvCDZv9B0D8npKCgzCBd03eaB0G/et3qMgD3dsyISE5z+iDokdFuJOv10k0r4Um3UfK4Qjo1fNyDoO0Pn3Zmad6IzMICXNfGIzRSi9i7WRh80wXjWA+Cw9Wobz4aXacJQHceTr22PIEHFaXSjR4/xiQiLS/PYR18TQDuru8fyXX2IOi2ziao0zMQGqnFJaUOsXezMDDo/EHQztin6R98idi72QhT7j8IWpXm+kHQ3b1tiM++hyvRMbgYvv/g6+yih9KRQgYgBRJ/D0BnhS8Gcj4G5vxjABIFGAYgnRX+HoDOCgYgeYIBSBRgGIB0Vvh7ADorGIDkCQYgUYBhANJZ4e8B6KxgAJInGIBEAcYegCQe0XfIJCYGIHlC9P0NA5DIyxiA4hJ9h0xiYgCSJ0Tf3zAAibyMASgu0XfIJCYGIHlC9P0NA5DIyxiA4hJ9h0xiYgCSJ0Tf3zAAibyMN4GQN/h7cKAvGIDkCQYgUYBhAJI3+HtwoC8YgOQJBiBRgGEAkjf4e3CgL3wykE/2YM3Uvf9/BVhG8j4GIFGAYQCSN/h7cKAvRB/ISUyibzcMwG9AbyiS/v3a4HA1fopPhqGmAtaNadisx//7xSZTH+Kysl3+XiZX4VZcEmzW/X9bOOvhA9zQJTj8u74LlpFj529qcgC6zCxcUurwgyYeGYUF+LRjdnv5VpfGcTFcA0VSqtPfy+QqhERosLI45vB6en4e9IYih/WUnp93ZL0VlBmOfGZheQlkcpXD++3evu1DkEKNZL3+yO8O/9vRh+3tmFH7vBaKpFSERmpxVRUL7Z1Ml/+2sDMMQPIGfw8O9IXoAzmJSfTthgH4DegNRUjR52BtZQLvl8bR1dOK0EgtCstLHKJkdLQbaysTDj5tm7H1YVL6eWpy4Mi0G+9N+HV7Fj/FpyA1JxcmUx9WFscwMdGL8tpqTE0OHDt/P8UnI1mvx7u5YVjMb9DY1nCqAHzc8AT3ih/iZmwSJiZ6j/xeJlchNFIL/SPHWHMnAG/GJuFKdAx+2ZyRXv+4NYOrqljcik1yGoB5JY9QXFWGMKUO7w9F50kBWPm0Gj9o49HT147lBSPMM0No62xEfXOd2+uDAUje4O/Bgb4QfSAnMYm+3TAAv4HDYWOzWpBX+gjXtQluRYk7ATM7PQiZXHXkKJs7fk5IQUvHC4+W7bfdOfwUn4I3w69Q9qQSuYbiI9PI5CqUPK5EkEKNudk30uvuBGB6fh6Uqeno7GmRXu/qaYUyNf3I+21WC6wb07gcFYN5ywiyHhaipv6xW+vPLio1HdV1j91a9uPWydoSA5C+jr8HB/rCFwP5rvJHWK+HYlf5o9+Xj3yDAUhOA7CosgzX1HFuRYk7AbO6NI4ghRp1Tc+wd4qjdzarBYaaCtyMTcLygvHUyzZq7MF1bQL2dsywmN8gTKnD7vq0wzQyuQp9Ax1Iy8vD7dxc6XV3A7C+uQ6J9+5Lryfeu4+GljqnAdjW2QR1egZsVgsGhjrx17hkh438pHWdrNcjLisbG+9NHv+9GYDkDf4eHOgL3gVMnozMX50AACAASURBVGAA0pGwmTT145o6DncfFDpESWikFmFKnYPDMXdcwDS2NeCSUofLUTFIyL6HmvonWJo/Puo6XjXjmjoOtS9qcSs2CRbzsPS7Z03PEJmSduz7s4seori6XPo5KjUdrS8bHaaxB6DFPIxghRrj4/unid0NwM1VE0IiNFheMGJlcQyhkVpsrpqcBqAuMwsNLfWwWS34tGPGXzRxGBntdmv92awWWMzDCE++jSCFGsrUdBSUGTD0puvYdfBxaxY761OS7bVJrC0xAOnrbKyMkSC2Vidgs1qwtTrhtc88GID+Xj7yDV9sN96wvmxkAH4rekMRghVqhCl1CInQIEihxp2CfKy/f+sQJQODnVh8N+rg8GedFDC769PoH3yJ8tpqKFPTERqpxfBIt9Np93bncF2bgMa257BZLWjrbMQ1dRxMpj5pvu3XKTqzvTaJ0Egtpqe+XGP4rOkZdBl3HaazB6DNakGuoVj6vbsBaLNakFFQgOq6x6iqq0FGYYHT989bRhAcrsb6ylvptQcVpcgueuD2+rOvl6nJAdQ31yE9Px/BCjXySh65nL6qrsbhppwwpY4BSF/N3/st8q3fv/8OuHABv3//nd/nhQKL/SwVA/Ab0BuKkHj/PhbfjWJlcQyftt0/qnfYaab9bXcOSff3T2k6+/3aysT+ncZv+6TXGlrqEKbU4dXrVoQpdZg09bv8/Ma25/t3NivUkiCFGjK5yuFI4sEAfL80jtBILfoGOk4VgIOfT+f+NS4Zg5+PyB1+f8njSqfzExKhwdaHyVOvP7vO7hbI5CqXp8h5BJB8wd9HCegLHgEkT/AIIDm9BvAgXwWgzbp/raEqLcNluIRGavH0xVOH12vqH0MmVyEtz/U826wWqNIyYKipwNzsGwcJ2fdgqKmQpjsYgDarBSWPKxCefBu3c3PdDsC9HTNu6BJxQ5conRY/GICfdsy4ro1HfXPdkflRJKbiRWuDR+vPZrVgZmr/BpuDN7Ach9cAkjf4+/og+mJjhdcA0un5YrvxJgbgN+BuADp7DMzHrRmn0zq7CzgtLw89fe2wmIex+G4UbZ2NCFPqUFP/xOV3l9VWITRSixetDVh4N4rx8V6k6HMQptThqioW8y6eIWi/63h+bvjI71peNuIHTbx0pPNwAG59mMSV6Jj9R8O4GYA2q0U6wmb/+WAA9g10ICRCg521qSPzU15bjejbdxzWX3dvG2anBx38uj2LjMIC1DfXYdLUj5XFMRjHeqDNuAtFYqrbj8ZhAJI3+HtwoC8YgOQJBiC5HYDOvHrd6nTawwG4uWpCUVUZIlPSEBa1fyOIMjV9/67gY/7Ie7tzaG5/jsiUNIRGanEzJhHFVWXYXDUhWa/Hzwkp2Fw9ekfsw8pSRCQ7v0Fk470JwQo1evv3o+9wANqsFtQ+rz3yIOeTAvCwgwF4OzcXqTm5TqezH8GbmRo8dl0vLxjR8rIRCdn38IMmHiERGtyKTUKOofhUj9dhAJI3+HtwoC8YgOQJBiBRgGEAkjf4e3CgLxiA5AkGIFGAYQCSN/h7cKAvGIDkCQYgUYBhAJI3+HtwoC98MZD/+s//hL3//X/Fr//8T35fPvINBiBRgLEHIIlH9B0yiYnbDXlC9O2GAUjkZQxAcYm+QyYxcbshT4i+3TAAibyMASgu0XfIJCZuN+QJ0bcbBiCRlzEAxSX6DpnExO2GPCH6dsMAJPIyBqC4RN8hk5h4Ewh5QvT9DQOQyMt4FzDR8fw98IkwkPMxMOcfA5AowDAAiY7n74FPhIGcAXj+MQCJAgwDkOh4/h74RBjIGYDnHwOQKMAwAImO5++BT4SBnAF4/jEAA5DeUASZXAWZXIXgcDV+ik+GoaYC1o1p2KwWLC8Ypd8fZjL1SZ/zy+YMqp7VQJGYipAIDa6p45BRWACL+Y3D91XV1UjvD1KocTMmEXklj7Dx3iRNI5Or0DfQ4XR+jWM9LudnbWXC5XLu7c6h9EklbugSEBqphTI1HX0DL91aRwe/I1ihxs3YJDyqLsfHrVlpmvauJlyJjjn2czpeNUOdnolLSh3ConSIvZuNgaFOp1HW8rIR2oy7uBwVgzClDhHJaSiqKsPiu1FpOuvGNEqfVOKn+GSERGjwF00c4rKcf6YrDECi4/l74BNhIGcAnn8MwACkNxQhRZ+DtZUJvF8aR1dPK0IjtSgsL4HN+iUAR0e7sbYy4eDTthk2qwUft2ahy8zCzZhEdPe2YWVxDJOmfqTn5yNMqXMIxaq6GkSmpGFtZQKrS+MYGOrED9p4pOhzHILrpABcsIwcmZ+9YzaQl6+acTFcg1evW7G8YMTIaDdGRrvdWkcyuQrtXU3SOhoY6sRfNHGofFotTXNSABpqKhASocGzpmdYfDeKd3PDKK+tRpBCjRetDQ5BlvXwAUIjtaipfwKTqQ9L80aMjnaj7Ekl9IYiadr7xQ+hSEzF4JsuLC8YMT01gBetDeh41ez2358BSHQ8fw98IgzkDMDzjwEYgPSGIqTn5zm8llf6CNe1CbBZvwTg7PSgy894+uIpguQqmGeGHF7f252DOj0DEclp0h+vqq4GUanpDtM9bniCIIUav2zOSMF1UgBur02eajk7u1twQ5fo0TpyNj+5JY+QmpMr/XxcAJpMfZDJVQ6hZ2eoqcDFcA3eL43DZrXg1etWyOQq9A86Pzp58H8EV6JjThV7rj5vbYkBSOSKvwc+EQZyBuD5xwAMQM4CsKiyDNfUcbBZ3QtAZWo6kvV6p7/r6ml1eL+zAKxvroNMrsLu+v5pZ18E4NryBMKUOoejdu46PD8LlhH8FJ+MmvrH0mvHBWBRVRnConT4dXv2yO8+LE9AJlehoaUONqsFaXl5UCSlujVfiqRU3H1QKK03d3zcmsXO+pRke20Sa0sMQCJXNlbGzpSt1f1LYbZWJ7z2mQcD0N/LR77hi+3GG9aXjQxAXzkcgJOmflxTx+Hug0LYrF8CMDRSizClzsHezv4p4NBILYqrypx+/sz0IGRyFbp722CzHg3A+blh/JyQAs2dTOk1dwLw8LwoEl1H0y+bM4hMSUN+qQHaO5kw1FQ4bEyXo2Lwur/d5fsPLn9IhAYyuQq3c3OlU+A26/EBmKLPORK9B12JjpFOuYcn3UZanmOQF1eVScv5Y8yXo5jj469xMyYRF8M1UKdnoLi6HBMTvcf+vQ9eg2lfjwxAItf8vY8Wwe/ffwdcuIDfv//O7/NCgcV+looB6AN6QxGCFWopboIUatwpyMf6+7ewWb8E4MBgJxbfjTqwf8axATi1H4A9fe2wWfcDJOjz94VGahEkVyEh+57D57kTgDPTgw7zsrxgdLmMjW3P8WNMIn7dnsXWh0koU9Ohf1SETztmLC8YESRXYW3Z9Q0kMrkKze3PsfhuFPOWEQwOdUKRmIqsh4XSNF8TgJejY/CgohQ2634AHj4iu/HehMV3o3ja+PTId3zaNmN8vBe1L2qRdF+PILkKNfVPXH4XjwASnY6/j4CIcCTHGnULv9y4BGvULb8vH/kGjwAGIL2hCIn372Px3ShWFsccjmrZrO6fAk667/4p4PDk21K0HbyT1s7bp4ALygwOp6jX37+FIjEVt3Nz8ai6HCk5Oce+39n82K/Vs4frtzgF7M6dxo8bnuBiuMbpdznDawCJjufva5/O27VcJCbRtxsGoA84uwbwIHcCsPZ57VfdBHKYtwOwpv4JftDGO1wr935pHLfikvaPJk65XjZX89PT1w6ZXIW52f1TRMfeBPLW9U0gj6rLnd4E4uwRNe4EYG9/B4LkKuysT7m1bhiARMfz98B33gZyEpPo2w0D0AfcDUBnj4H5uLV/1+7HrRlo72TiZmwSevra8X5xDFOTAy4fA+NOANY312F2etDB7sb0sY+BOXz00u7D8gSuqeMQn30Pb9/2Yd4ygsa2BlyJjsElpU66/u64+bE/BubD8gTGxl4jMiUNisRUfPp8HWR7VxPConRH5tliHobNun8dX0iEBnVNz7A0P4r5uWFUPHX+GJjMwoLPj4F5jElTP5YXjBgbe40UfY50c47NakFcVjaaO15gemoAywtGDL7pgiIpFQn37rv992cAEh3P3wPfeRvISUyibzcMQB9wNwCdefW6VZrul80ZVD6txs8JKbgY/uVB0PYjZHbuBqAzxrGeYx8EfTA0D1uaNyKzsADXtfEIjdQi9m4WBt90wTjWg+BwNeqb69yanyC5Cjd0Cch6WIil+S/XHbZ3NTmdp1txSdI0bZ1NUKdnIDRSi0tKHWLvZmFg8OhDm/d259Dc8QLaO5nStZk/xacgv9SAd3PD0nS1z2uhy7iLa+o4hEZq8VN8CoqqyrC5ajp2/R7EACQ6nr8HPiEG8skerJm69/+vAMtI3scAJAowDECi4/l74BNhIOdzAM8/BiBRgGEAEh3P3wOfCAM5A/D8YwASBRgGINHx/D3wiTCQMwDPPwYgUYCxByCJR/QdMomJAUieEH1/wwAk8jIGoLhE3yGTmBiA5AnR9zcMQCIvYwCKS/QdMomJAUieEH1/wwAk8jIGoLhE3yGTmBiA5AnR9zcMQCIv400gRN/WWRzIGYDnHwOQKMAwAIm+rbM4kDMAzz8GIFGAYQASfVtncSBnAJ5/DECiAMMAJPq2zuJAvllfgs0nD7FZX+L3ECDfYAASBRgGING3FegDOYlJ9O1G2ADUG4ogk6tQ+6LW4fW+gQ7I5CqH1/Z2zKhvroMyNR0hERpciY5Bij4HExO9DtO1dzVBJlchWa93eH17bRIyuQrGsR7pNZlcJQmL0kGVloHe/g7p91V1NdLvg+Qq3NAlILvoId4vjR9ZFov5DTIfFOIvmjiERGjwc0IKKp9W45fNGYfpbsUlOXyvTK7CjzGJDr9vaKmDcaznyHSHtXc1uVy3nd0tUCSlIiRCg1txSaipf3Kqv01XTyuCFGoUlBmc/n5nfQrltdXSd1zXxiPx3n309ndgecF44rxX1dVI081OD2J6agAyuerI39MuWa9HWl6etN2k5+dJv1t//xYFZQbcjE2S5iVZr4fpbd+R9f7qdeuRz45ITjtxfTIAifwr0AdyEpPo243QARgaqcVVVSy2Pky6DMDfdueQWViAq6pYtL5sxPKCEeaZIeSXGhAcrkbfwJdoa+9qQnC4GsHhahiNX2LPVQC2dzVhbWUC83PDyC15hCCFWgqHqroaRKakYW1lAh+WJzA+3gtlajq0GXcdlsNk6kOYUof0/DxMmvqxsjiGnr523IxNgi4zC79uzzqESE39E6ytTEg23puOBOCv27MO09x9UIgUfY7Da4fj0m55wYgguQplTyqxvGDEpKkfnd0tp/rbJN67j7LaKlyJjjnyPdtrk4hMScPNmER0vGqGxTyMBcsIWl424ueEFGyumhzm01BTIa1Hu92NaYcAtFktiEpNR27JoyPz8n5pHEEKNfoGXjoNwNi7WdDeyYTR2IOVxTFMmvpR+7wWg0OdDuv1ZmzSkf8wMJn6cE0dhzCljgFIJLBAH8hJTKJvN0IH4O3cXIQn3UbJ40qXAdjd2waZXIWBwc4jn5FRUIBr6jhYN6alALwSHYP8UgM0dzJPDMCD8fhp24xLSh3KaqukAIxKTXf4vhetDZDJVdhZn5JCICI5Der0DOwdWtHmmSEEyVV4+uLpkcBztU5c/f5w9BxnZXEMQQo1FiwjHv1dlheMCI3UYmdtCto7mXj5qtnh94XlJQhT6vBheeLIe3c3pvFpx+zwmrP1aP+egwH4orUBYVE66W9pV1P/BNe18dLnHlwX9r/r2NjrY5fpVlwSymqrEBKhcTiCm19qQFFlGa5ExzAAiQR2Fgfy7YI72M5OwnbBHb+HAPkGA9BD9oG8t78DoZFarH4emA8HYFpeHhSJqU4/4+3bPoeQswfgh+UJhEZq0dPX7hAKxwWgzWrB5egYGGoqnIbL2soE4rPvIVihliJlZnrQ5alFm9WCpPt6h8/4FgH4accMzZ1MJN3X4+OW86OEx6l8VoPMwgIpyuKysqXf7e3O4aoq1uWpYWfcDcCtD5MIidA4hNhvu3P4KT4FpU++/AfCwXXxaceMsCgdiqvL8XFr1uU82NdrWl4eHjfsnw7/ZXMGl6NjMDs9eGIAftyaxc76lGR7bRJrSwxAom9lY2XMp7ZW9/+Ddmt1wmufefAuYF/PP/mHL7Ybb1hfNp6NALRZLdBm3JVO/x0OwPCk2y7jZ+vDftg9bdw/ymYPQJvVgrLaKigSU/Fpx3xiAH7cmsXjhieQyVUYetMlhUuQQo0wpQ6hkVrp+rWiqjLpM+xHJ+0Rc1hRVRlCI7UOIRISoUGYUid53lrv1QDMMRRDnZ6JgjID4rKypaOVNqsFt3Nz8bCy1OV793bncDM2STrdurlqwsVwDRbfjcJm3b/eTiZXob7ZdcR6GoA2qwVZDwsdgtNo3L8Wcv7A0czD6+J1fzuuqmIRGqmFLjML5bVVMM8MOQ3AvoGX+DkhBb/tzuHlq2ZE374Dm9VyYgAevB5UJlchTKljABJ9Q74ej3zh9++/Ay5cwO/ff+f3eaHAYj9LdSYCcHz8NYIValjMwx4F4LPGZ7BZHQNwe20SV1WxaOl44TIAQyO1CFPqEKRQ46oqFnVNz6TfV9XVIDz5NhbfjcJifoMnz2sRffsOdg+cojwxACvLcEmpk36+FZeEiqfVWHw3Ktlem3T4/dcEoMU8DJlcBYt5GL/tzkFvKEL07TtYf/8WNqsFf41LRndvm8v3vxnuwjV1nMN1i7dzc1H++bT4+sp+AB53FPOw0wTg8Eg3ZHKVFJz3ix8iJjPrxHXxcWsGwyPdqKl/DF3GXQQr1A5BZ1+vn3bMuK6Nx9jYa8RlZeNFawNs1pMDkEcAifzrLB7J4RHA849HAL0QgDarBak5uUjPz3N6Clh+ylPA9t8/a3yGG7pEfFiecBqAze3PsfhuVAqkk8Ilx1CM+8UPpZ/tp4C7esQ4BfzqdStCIjTSz3s7ZmQUFuDnhBS0dLzANXWcy5tHbFYLMh8UQiZXIVihluzfAZ2IvR2zT08B26z7/9Vij+Sd9SlccnJzhjvrIq/kEW7FJjldryWPKxCXlY3QSK108xGvASQS21m8losPgj7/fLHdeNOZCcC52TcIUqhR8rjSIQBfvW499U0g9t9/3JrBzZhElD6pdOsawJPCZWneiGCFGjNTg1IIhCfdFuYmkPHxXsjkKkya+qXXft2eRYo+58RTt5urJoREaNDd24a52TcS88wQLkfHYODzXbXH3QRi/YqbQOyq6x7jZkwimtufO70pxJ11Ud9ch2vqOKfr9d3c/lHSrIeF0u8ZgERiO4sDOQPw/GMAesjZQH7/UZF0vd3BwfZOQT6uqmLR1vnlMTAFZc4fA3MwAG1WC9o6m6TP/NoAtFn3o/N2bq7088RELy4pdUjPz8ekqR/vDz0G5uDNCb4OwN9256DLzMKtuCT0DXRgaX4UfQMdUCSmIkypgzo9w+URwIaWOtzQJRwJWZvVguyih0jPz4fNun/aPTzpNm7GJOKl/TEw70bR1tmEnxNSHE5pexKA7z/fxXxVFYu80qOPhTm4LjZXTUjIvofO7haYZ4awvGBET187rmvjHR4pc3i9bq6aHNYDA5BIbGdxIGcAnn8MQC8G4MriGEIiNEceBP1px4y6pmeITElDSIQGl6NjkKzXO30Q9OEA3NsxSw/79UYA2k87HzzKNjf7BhmF+0cjL4Yf/yBoX98FvLs+DUNNBX6KT0ZIhAYRyWloaKnDh+UJ3IxJRHp+vtPIU6am40GF8xtEevs7EByuxvrK/qnynbUplNVWQZ544EHQ9++jb6DjyAZ32gC0Wfcf/CyTqxwe5uxsXXzcmkVZbRVUaRm4Eh2DS0odFEmpR9b9SeudAUgktrM4kDMAzz8GIFGAYQASfVtncSBnAJ5/DECiAMMAJPq2zuJAzgA8/xiARAGGAUj0bZ3Fgfy3P/8Jv//t3+C3P//J7yFAvsEAJAow9gAk8Yi+QyYxcbshT4i+3TAAibyMASgu0XfIJCZuN+QJ0bcbBiCRlzEAxSX6DpnExO2GPCH6dsMAJPIyBqC4RN8hk5i43ZAnRN9uGIBEXsabQIjoJPf/0/9AyT/+P7j/n/6H3+eFzgYGIJHgGIBEdJLFv/t74MIFLP7d3/t9XuhsYAASCY4BSEQnYQDSaTEAiQTHACSikzAA6bQYgILSG4ogk6tQ+6LW4fW+gQ6Hf7vYONYDmVzl1NrKBN4Md0n//8HPua6Nx82YRIfXVpfGIZOrMDzyCjarBUvzRmQ9fIAbugSERGjwY0wi0vLysGAZOXbepyYHoMvMwiWlDj9o4pFRWIBPO+YTl7mqrkaa9yCFGjdjEpFX8ggb700O0w0MdSIuKxthUTqERmqhTs848m/rHvdv/9qsjv+Oc1xWtst1KJOrcCsuSZquuKrM4XMW340ix1CMH2MSERKhwV/jkpH18AGmJwe+/I2MPYjPvoerqliERmrxc0IK9I+K3FonNisDkIhOxgCk02IACkpvKEJopBZXVbHY+jApve4qABcsI1hbmXCwtzuH3Y1pBIer8ep1q/Sed3PDuBIdg8vRMVh8Nyq9/rK7BRfDNbBuTOPX7Vn8FJ+C1JxcmEx9WFkcw8REL8prqzF1IG6c+Sk+Gcl6Pd7NDcNifoPGtga3AzAyJQ1rKxNYXRrHwFAnftDGI0WfI03zorUBQQo1ymurYDEPY/HdKOqaniEkQgNDTYVHAbj1YVJaZ1OTA5DJVRgd7ZZeswfo4QCcnhzA5egY6DKzMDjUiaX5UcxOD6K67jHisrJhs1pgMb9BSIQGJY8rMTf7Bkvzo3gz3IW8kkf4dXuWAUhEXsEApNNiAApKbyjC7dxchCfdRsnjyhMDcHtt0uVn6TLuoqDMIP3c1P4ct3NzkZqTi9aXjdLruSWPEJOZBZvVgtnpQcjkKqwsjp163n9OSEFLx4tTv6+qrgZRqekOrz1ueIIghRq/bM7g/dI4LoY7hp7di9YGyOQqTJr6YbOeLgAPOu59BwPwt905RKakQZWWgT0nG73979HQUoe/xiV/1bbAACSikzAA6bQYgILSG4qQnp+H3v4OhEZqsbo0DpvVswAsr62GIjFV+jnzQSGeNT3D08anyC56KL3+U3wyKp9Ww2bdPx0cpFCjrukZ9tw8VWlnqKnAzdgkLC8YT/U+ZwFY31wHmVyF3fVp6f9fW5448t5ft2cRFqWTAs3XATjzOZAPHll15tXrVoREaDA+/trjbYEBSEQnYQDSaTEABWUPQJvVAm3GXeSWPILN6joAw5Q6BweDb3ik2yGcftDGY2pyAJOmftzQ7V8H+P7z9X+jxh7pfY1tDbik1OFyVAwSsu+hpv4JluaPj7qOV824po5D7Yta3IpNgsU8LP3uWdMzRKakuXzv4QCcnxvGzwkp0NzJhM1qQWF5idNos1OmpiMlZ/90sa8DsLu3DTK5CjMuPt9ub8eMHEMxZHIVrmsTkJ6fjxetDdhZn3L5no9bs9hZn5Jsr00yAInoWAxAOq2NlTGvWF82MgC96WAAjo+/RrBCDYt52GUAzkwPYvHdqOTg0bdfNmcQEqHBq9etsJiHcTkqBns7ZnzaMSMsSoeFd6N4+aoZIREafNyacZiP3fVp9A++RHltNZSp6QiN1GJ4pNt57OzO4bo2AY1tz2GzWtDW2Yhr6jiYTH3SMhWWl7hc5qq6GgQp1AhT7t/cESRXISH7nnSdojsBmJqTe2LI2azeC0BXn3/Y6tI4Xna34EFFKa5rE3AzJtHpkUz7ejh4E0qYUscAJKJjMQDptLzVK/azVAxALzkYgDarBak5uUjPz/PoFLDNakHs3SzklxrQ2NYgHSWzWS1I1uvR0vECOYZixGffO/GPnHRfL93gcNjaygRkchVMb/uk1xpa6hCm1OHV61aEKXXSNXrOVNXVIDz5thSwH7ccb5KwnwL+4OoUsFK8U8DObH2YxF80cah6VuP09zwCSESnVfwf/gXP/uH/RPF/+Be/zwudDTwCKKjDATg3+wZBCjVKHld6FICVz2ogT0xFZmEBnjY+lV5/8rwW2UUP8Ne4ZNTUPz5xvooqy6BKy3AZLqGRWjx98dTh9Zr6x5DJVUjLyzv2s51dA3jQ+8UxBIernd4E8ry1/pvfBBKRfPJNIK4oU9OdLoczvAaQiIi8jdcACupwANqsFtx/tP9oGHcfA/Np+8vNG0bj52sFoxyPwk1M9OJyVAxkchXGx3ul12enB5GWl4eevnbpcSttnY0IU+pQU//E5XyX1VYhNFKLF60NWHg3ivHxXqTocxCm1OGqKhbzxzxD8KQAtFn3jwLuPwamGvNzw1iaH0V9c53Lx8B097ZhdnrQwa/bs18dgDarBZOmflyOikFMZhYG33Rhad4I88wQHjc8kY6SNne8QGF5CYZHXmFpfhQW8xuUPqlEkEKNsTH3bgxhABIRkbcxAAXlLABXFscQEqFx+0HQ9mvvbFYLPm7tXwcYFqVzeCbfr9uzuPT5mruDz6XbXDWhqKoMkSlpCIvavxFEmZq+f1fwMX/kvd05NLc/R2RKGkIjtbgZk4jiqjJsrpqQrNfj54QUbK6anL7XnQC0WS3oH3yJ2LvZ0rWCqjTXD4J2ZnnB6JUAtFktWLCMQP+oCDd0+w+CvhWXhOyiB9LNITPTg7hf/BA/xScjJEKDa+o4xGVlY2Cw0+1tgQFIRETexgAkEhwDkIiIvI0BSCQ4BiARnWT43/w7LP7d32P43/w7v88LnQ0MQCLBMQCJ6CR8DAydFgOQSHAMQCI6CQOQTosBSCQ4ewCSeDZW9v+t7I2VMb/PC50dvthubH/8A3DhAmx//IPfl498Q/T9DQOQyMsYgOISfYdMYmIAkidE398wAIm8jAEoLtF3yCQmBiB5QvT9DQOQyMsYgOISOZRWVAAAIABJREFUfYdMYmIAkidE398wAIm8jDeBEHmXvwdKBiB5ggFIFGAYgETe5e+BkgFInmAAEgUYBiCRd/l7oGQAkicYgEQBhgFI5F3+Hih9MZBvZ8RiJzEK2xmxfl8+8g0GINEJ9IYiyOQqFJQZjvyusLwEMrkKekMRbFYL4rKyUVxVdmS6voEOyOQq6ee9HTNqn9dCkZSK0Egtrqpiob2TifauJofvTc/Pc/ictZUJPKwsxU/xyQiJ0OBmTCJu5+ZidLTb7eVhABJ5l78HStEHchKT6NsNA5D8Tm8ows3YJFyJjsEvmzPS6x+3ZnBVFYtbsUmnDsDKp9X4QRuPnr52LC8YYZ4ZQltnI+qb6xy+92AALi8YcUOXiIjkNPT0tWPBMgKL+Q3qm+ugSEp1e3kYgETe5e+BUvSBnMQk+nbDACS/s4eYMjUdnT0t0utdPa1QpqYjPT/v1AEYlZqO6rrHbn2v/eeUnBz8GJMI68b0kWm31ybdXh4GIJF3+XugFH0gJzGJvt0wAMnv7CFW31yHxHv3pdcT791HQ0udRwGYrNcjLisbG+9NJ36vzWrB1odJBMlVqH1e+9XLwwAk8i5/D5S+GMg3Op5go6UaGx1P/L585BsMQKIT2ENsc9WEkAgNlheMWFkcQ2ikFpurJo8C0GIeRnjybQQp1FCmpqOgzIChN11Ov9dmtWDS1A+ZXIXe/o5Tz//HrVnsrE9JttcmsbbEACTylo2VMb/aWp2AzWrB1uqE1z7z4F3A/l4+8g1fbDfesL5sZACSGA6GWEZBAarrHqOqrgYZhQWwWS0eBaDNasHe7hymJgdQ31yH9Px8BCvUyCt55PR77QHYN3D6AKyqq4FMrpKEKXUMQCIv8vc+yhd+//474MIF/P79d36fFwos9rNUDEDyu4MhNjjUib/GJeOvcckY/HzE7mAApuXlIcdQfOQz2ruacDk65tjv6exugUyuwvKC8cj3fs0pYB4BJPItfx8x4RFA8gSPABKd4GCI7e2YcUOXiBu6ROztmGGzOgZgyeNKRKakHfmMBxWlUKdnHvs9M1ODkMlVmJt9c+R7bVYLUvS8CYRIRP6+VmpjhQ+CptPzxXbjTQxA8rvDIWY/kmb/+WAALi8YERqpxYOKUphnhrBgGUFjWwNCIjTo6WuX3pNRWID65jpMmvqxsjgG41gPtBl3oUhMxafPYensMTDXtQmISE7D6/52LLwbxbu5YTxvrUd40m23l4cBSORd/h4oGYDkCQYg0QmcPZD5oIMBaLNaMD01gGS9Hj9o43E5Ogbq9Ay8et3q8J6Wl41IyL6HHzTxCInQ4FZsEnIMxVhZHDv2e9eWJ/CgohS34pIQEqHBjzGJSMvLg3Gsx+3lYQASeZe/B0oGIHmCAUgUYBiARN7l74GSAUieYAASBRgGIJF3+XugZACSJxiARAGGAUjkXf4eKBmA5AkGIFGAsQcgiUf0HTKJiQFInhB9f8MAJPIyBqC4RN8hk5h8sd2sD7Vgvb8R60Mtfl8+8g3R9zcMQCIvYwCKS/QdMomJ2w15QvTthgFI5GUMQHGJvkMmMXG7IU+Ivt0wAIm8jAEoLtF3yCQmbjfkCdG3GwYgkZfxLmDyFX8PGIHKFwP5TnwkdpU/Yic+0u/LR77BACQKMAxA8hV/DxiBincBkycYgEQBhgFIvuLvASNQMQDJEwxAogDDACRf8feAEagYgOQJBiA5pTcUQSZXoaDMcOR3heUlkMlV0BuKjvzu7ds+BCnUSNbrj/xuecEImVwlCYvSISI5DQ8qSrHwbtRh2vauJodp7UIiNC7n2TjW4/Q9FU+rpWn2dsyob66DMjUdIREaXImOQYo+BxMTvcd+/w/aeNzOzYXF/ObY9Wafh+21Sem1D8sTiExJQ0xmFrbXJqX1MDs9eOr1srdjRu3zWiiSUhEaqcVVVSy0dzLR3tXk9t+WAUi+4u8BI1AxAMkTDEBySm8ows3YJFyJjsEvmzPS6x+3ZnBVFYtbsUlOAzCv5BGKq8oQptTh/eKYw+/soTM62o21lQkszRvRN/ASCdn3EBqpxehot0OAXY6OwdrKhIP1lbcnxteCZcThPbsb01L4ZBYW4KoqFq0vG7G8YIR5Zgj5pQYEh6vRN9Dh/PuXJzA9OYCE7Hu4FZeEX7dnT5wHewAuzY/ip/hkpOTkSOvRVQC6s14qn1bjB208evrapflv62xEfXOd239bBiD5ir8HjEDFACRPMADJKb2hCOn5eVCmpqOzp0V6vaunFcrUdKTn5x0JQOvGNC5HxWDeMoKsh4WoqX/s8PvD4WO3tzuH+M9xtbdjlgLsSnTMqebZ2dG3g7p72yCTqzAw2HnkdxkFBbimjoP1cyw6+/6BwU7I5CrMzbo+CnhwHswzQ7iuTUDWwwf4tG12uR5Os16iUtNRXffY5fe7gwFIvuLvASNQMQDJEwxAcsoegPXNdUi8d196PfHefTS01DkNwLbOJqjTM/ZjaagTf41LdvgDugodm9WCvoEOyOQqTJr6YbP6JgDT8vKgSEx1+ru3b/sgk6uko4CHv397bRJZDx9AJldhfm74xHkYfNOFq6pYPKgoxd6hjdjdAHS2XpL1esRlZWPjvcnt9fJxaxY761OS7bVJrC0xAMn7NlbGyA+2Vidgs1qwtTrhtc88GID+Xj7yDV9sN96wvmxkAPqTPQA3V00IidBgecGIlcUxhEZqsblqchqAuswsNLTUw2a14NOOGX/RxGHkwOnL40Jnfm4YMrkK3b1tsFm/XIMXptQ5SLp/9NpCO3t8HX7P5up+LIUn3UZ6fp7T9259mIRMrsLTxqdHvv+SUiddn5eW5/z9h+chJEKD+4+OniJ3th5Os14s5mGEJ99GkEINZWo6CsoMGHrTdew8VdXVOF5jqNQxAMkn/L3fIu/5/fvvgAsX8Pv33/l9Xiiw2M9SMQD9xB6ANuv+6dHquseoqqtBRmEBbFbLkQCct4wgOFztcI3eg4pSZBc9kH4+LnTefQ6dnr522Kyfr8GLisHiu1EHq0vjLufZHl8z04MO77EfgXMnAJ81Pjvy/fNzw2jueIGfE1Kwtjxx7Hqzz0Pmg0KERekwPt57ZJrTBODh9WKz7p8anpocQH1zHdLz8xGsUCOv5P9v796CmtgbPe+v+5mquZv97Odu1+x652KqZi6maqZq9kzVvppd9e6am/2+NRe7aqZqLgKCuJZLXfo8hpN0DhDOB0WQIIKCERREkYPIQRDlJAgSiJyJykEE5NDLU57fXGAiIQmErGT1P+nfxaeeImmS7tjr//8+3Z3mps914hFA+r0ofeRArXgEkALBI4Dk1d4AHP52OvdPpmwMfzvatD8Ab92rhUYrITpe5xIVr0NMoh6b76cODZ2B57unOmemhlwBFopTwNoATwE7ZDvuNt1D2uViv9Zh8/0UrlVbEJdsxPh4v9syRwnA/Z+LNz29HdBoJSy/tfr1OfEaQAoVpa8ZUquNleBfy/X57/4Tvv4//waf/+4/Kb59FBqh2G+CiQGokL0B+GV7HmeMmThjzHR9GWFvAH7ensdpQzqa25uwMDfiJj4zF62dLQeGzpedBZiKivHn9OyQfgnkWX/nb/oSyPb6NE6kpGLgebdf6/B1ZwEVt2/heLIR1vE+1zJH+RLI/s/Fm9np4UO/nLIXA5BCRekJQ61En8hJTKLvNwxAhewNQGf8bK9Pu37eG4CDQ92ISdRje23a43VuN9xFSt5Ft9DZe7uT58Pfb3ditX6PJF+3gVlbsXl8qcLpsAD8urOAi+XX8JOUhsc9328DU17j/TYw3gLUUn8HybkFPnfM/evwdWcB1+9U43iyEWPfts+f28D4+lwuVZSjub0JU5PPsbI4Dut4HwyXLiM+MxefD4jE/Z/D2hIDkIJP6QlDrUSfyElMou83DECF7A/A/fYGYN7Vq8gtvep1OefRqdnpYY8bHh9PNiIhOw/X71Rj0c8bQWu0EtZWvF+Hd1gAOuTdo5VNbY1IyslHTKIeJ1JSkW02e70RtLcAfLc4jugEnetLGf6uQ2VdDWKTDHg51nvojaAP+lw6njxCRvEVnNKnIyZRj3NpWSi1VGFl3z0XD8IApFBResJQK9EnchKT6PsNA5AoyBiAFCpKTxhqJfpETmISfb9hABIFGQOQQkXpCUOtQjGRf/ynf8Tnv/8v+PhP/6j49lFoMACJVIYBSKGi9IShVqGYyPmXQCIfA5BIZZwBSOIRfUAmMTEAKRCijzcMQKIgYwCKS/QBmcTEAKRAiD7eMACJgowBKC7RB2QSEwOQAiH6eMMAJAoyBqC4RB+QSUwMQAqE6OMNA5AoyPglEIokSk9SImAAUiAYgEQqwwCkSKL0JCUCBiAFggFIpDIMQIokSk9SImAAUiAYgEQqwwCkSKL0JCUCBiAFggGoMr7+xq+3v2H7ZXseze1NSM4tQEyiHj+mpCLHXOr2d3PfLIxCo5UwNfnc7fX0FwsRk6jHrx9mXY992ppDbJIBHd2tXtfL19/+dXIu+25pAldv3cQZYwaOJez+PdzKuhp8WJ08dPs33k3iUkU5fpLScCIlFaaiYryxv/Trs2vvbkVybgGOJxvxY0oqUvIu4kHrAzhkO86Zsg5c96ScfJw2pOP+wwaP1y28XgFdwSV83p5HXVM9LuQW+FwHU1Gx19cvr7H4vQ8wACmSKD1JiSAUE7l85jh+jf7fkM8cV3z7KDQYgCrjbwB+3VlA4bdQ6nzyCMtvrZiffYFr1RZEJ+gwONTt+t0zxgw0tH4Pm52NGRxL0ONsaiZejvW6Hp+YGIBGK+Ht6zGP999em8bais1Fo5XQ9bTN7TGHbMfSGytOGdKRdrkI4+P9eLc4jhcjT5GUkw9tZi42308duP1XLVU4Z8qCzTaAxddj6B147FcAPu55hOPJRjzueYTF12Owz4/gWX8nah/c3f0P6N2kaz0Hnnfvbqf9peuxzfdTeD78BDGJeizMjbhet2+wC7FJBrxeGIVDtvsVgNeqLW6fy9qKDdvr037vAwxAiiRKT1IiEH0iJzGJvt8wAIPM3wDsHXgMjVbC0HCPx7KXystxUmeCvDEDh2xHceV1ZJvNruedQXb9TjXufAskh2xHffN9/JKa6dd6arSSW2Q65ZhLcTY10+3IokO2Y23FhuPJRlTcvnXg65bduoniyutH/twKrpWh1FLl17LejqY6lVqqkJJ3EZ+35rHxbhKn9Olo6WhyPe9PAFbV1fymfYABSJFE6UlKBKJP5CQm0fcbBmCQ+RuA+WVliM/M9foar14NugVax5NHiEs24vP2PByyHbfu1eL6nWr0DjyGsbDI9XsZxVdQUnXDr/X0FoCb76cQpZXQ4OU0qkO241q1BT9JaQfuNEPDPTiWoMfI6NMjfW7lNRYkZOVhZXH80GUPCsDt9WmcS8tCbWM9CivKkVF8xW19GYBER6P0JCUC0SdyEpPo+w0DMMjMlkpEx+sQl2x0E5tkcIuWhKw8r6HokHdDTKOV8ODR7vVvb1+PQaOVMPlqEA7ZDl1BIfoGu7C+8sp1HaDz+r/HPW1+rae3AJyafO7zyKBDtqO5vQkarYT1d6+8Pm+fH0XcBSMaWhvwS2om+ga7XM/NTA1Bo5V8Xke4tmyD4dJlaLQS4jNzYbZUonfgMb542UEPCkCHbMeYtQ/R8TqcSEn1CEp/AvBYgt7j36/7WbvP3/m4OYft9WmXrbUprC0xACkybKyMq97m6u4lMpurNsXXhcKHqPvN+rKVARgKZkslMktKsPh6zE1PX8eRA7DxUaPrsbOpmWh42IDt9WlEJ+hcERaflYvRl72YmOiHRith+a3Vr/X8LQG48c57xBVer0Dh9Qo4ZDtmZ4ZxUmdCe9dDOGQ7up62ISEr79D1WpgbwaPHLSiuvIHYJAOySsweEXhYADpkO1ILi3D9TrXH4/4EYKmlyuPf76BrAOua6t2+MBKXbGQAUsRQekyNVH/54x+AH37AX/74B8XXhdTFeZaKARhkRzkFrPXzFLBDtqOk6gaySswYftGDhOzvIVVeY8HthjrcbbqHc6Ysv9fTW+h9WJ1ElFby+k1ah3z4KeD4rFy308c22wDiko2413IfxsIi1xFNf9lsu19qsVr7DvwsvfF1KjcUp4B5BJAimdJHK0QQiiM5e28Do/T2UWjwCKDK+BuAz/o7/f4SiEO243FPG+KSjaiqq3H7IsbTvk4YL11GevEVXPXzSxQO2feXQLLNZvwS4JdAMq6UIKe01O2x0Ze9iEnU47Qhw+M1D+M8Ejr0wv0zEi0A9+M1gBRJlL5OSQQbK7wPIB1dKPabYGIABtlRbgNzsfwafpLS8Ljn+21gyms8bwPjkO1YfmuFRivhxIVU9A48dj2+ujSBYwl6xCYZ8KS3w+/19BWAb1+P4We9CWmXizEx0Y93SxMYGfXvNjAjo08RpZVw/U41FuZGMDszDEv9HcQlGxEdr3Nb7/0qbt9CffN92GwDWFkcx+TkIPKuXsUpfbrHdYO/NQDjM3MxNzPsZvHbrXN83QbmsNvf7MUApEii9CQlAgYgBYIBqDJHuRH05+15NLU1IiknHzGJepxISUW22ex2I+i9nDdDdt6zz+l8Rg40WgmrSxN+r+dB1/qtLI6j1FKF04bdG0GfTctCZa1/N4K2WvuQdrkIJy6k4icpDYUV5Xi9MIp7LfcRm2TAq29fZNmv/3kXckuv4owxAzGJepwxZuJSRbnbPf0O+iz3OygAvd3o2VRU7Po9b8/vvQ3PYRiAFEmUnqREwACkQDAAiVSGAUiRROlJSgQMQAoEA5BIZRiAFEmUnqREwACkQDAAiVSGAUiRROlJSgQMQAoEA5BIZRiAFEmUnqREwACkQDAAiVTGGYAkHtEHZBITA5ACIfp4wwAkCjIGoLhEH5BJTKHYbzZvX8VmVRE2b19VfPsoNEQfbxiAREHGABSX6AMyiYn7DQVC9P2GAUgUZAxAcYk+IJOYuN9QIETfbxiAREHGL4EQBR8ncgo3ou83DECiIGMAEgVfpE3kvAYw8jEAiVSGAUgUfJE2kfNbwJGPAUikMgxAouCLtImcARj5GICkOmsrNlTW1eB8Rg5iEvU4ZUhHamER2rse4tcPs27L3n/YgKh4HRpaGzxep+tpGzRaCQlZeR7P9Q48hkYr4Zwpy235H1NSPX4/22x2+92ttSlotBKs431uj1utfci7ehU/602ISdTjz+k5uHy9AhMT/UfafgYgUfBF2kTOAIx8DEBSlaU3Vpw2ZCAhKw+9A4/xemEUC3Mj6H/ehdzSq3g+/MRt+fMZOahpqIM2M9fjtbqetiEu2YiTOhMmXw26PZdtNuNcWtahARidoEN0gg5W6/fY8xaAjx4/RJRWgvlmJcasfVh+a8WrV4No6WiGlH/pSJ8BA5Ao+CJtImcARj4GIKlKttmMs6mZkDdmvD6/d4cbH+/HL6mZ+Lw1jzPGTI8jbc6gu1FbjbLqm67HV5cmEJOoR01D3aEB+GNKKq5VW6C/WOh6fH8Avlscx7EEPW7evX3oOvuDAUgUfJE2kTMAIx8DkFTjw+okorSS19O53pTcrMSte3fgkO2w1N+B+Wal2/POgJubGcaJC6mu08f3Wu6j4FoZWjqa/ArA98s2xCYZ0DfYBYfsGYDN7U3QaCWsrdiC8jkwAImCL9ImcgZg5GMAkmpMTT6HRith4Hm32+MndSbEJRsRl2xE9f1aOGQ7ttencTzZiPnZF3DIdszNDON4shHb69Ou39sbdCl5F/HkWTu+7izgfEYOng8/8TsAHbIdNQ11iM/MxefteY8ArLh9Cyf2/J5DtqP/eZdrneOSjViYG/G53R8357C9Pu2ytTaFtSUGIFEwbayMK2Zzdff/HG6u2oL2mnsDUMlto9AJxX4TDOvLVgYgBZczAAeH3ANw6Y0Vi6/HoL9YiKq6GjhkO9q7HiIpJ99tuaScfHR0t7p+3htwrZ0tSC++Aut4H04b0vF5e/5IAbi1NoWfpDR0dLd6DcAf9wXgzsYMFl+PYXy8HxqthLmZYZ/bXddUD41WcolLNjIAiYJM6fEt2P7yxz8AP/yAv/zxD4qvC6mL8ywVA5CC5rBTwKaiYlcA6goKEaWVEB2vc4nSSm7X6u0NuM33U4hNMsBUVIxb93aPIh4lAB2yHY2PGnHGmIn3yza/TwEvv7UeGoA8AkgUepF2JIdHACMfjwCSqmSbzfjFx5dAnAG4MDeCKK2EiYl+LMyNuNhsA4jSSq7TrfsD7vL1Cmi0Et4sjMIhHz0AP27O4mxqJqrv13r9EkiVly+B+BOA+/EaQKLgi7RruXgNYOQLxX4TTAxACqqlN2M4bUh3uw3MG/tL9PR24LQhHZb6O6iqq4Fhz5G+vYyFRa4Q2x9wv36YxYfVSdfPRw1Ah2zH4542xCYZPG4D09rZ4roNjPXbbWBmp4dx8+5taPZEqT8YgETBx4mcwo3o+w0DkIJubdmGG7XV+HN6No4l6BF3wQj9xUI0tjVie30aJ3UmND5q9Pq7ze1N+FlvwqetOa8Bt1cgAfhlex6J2flebwT9cqwXOaWlOKkzITpBh9OGdBRcu4aR0WdH2n4GIFHwcSKncCP6fsMAJAoyBiBR8HEip3Aj+n7DACQKMgYgUfBxIqdwI/p+wwAkCjIGIFHwRdpELp85jl+j/zfkM8cVDwEKDQYgkco4A5DEI/qATGLit4ApEKKPNwxAoiBjAIpL9AGZxMQApECIPt4wAImCjAEoLtEHZBITA5ACIfp4wwAkCjIGoLhEH5BJTAxACoTo4w0DkCjIGIDiEn1AJjExACkQoo83DECiIOO3gEntlJ7YwmEiZwBGPgYgkcowAEntlJ7YwmEiZwBGPgYgkcowAEntlJ7YwmEiZwBGPgYgkcowAEntlJ7YwmEiZwBGPgYgUQiYLZXQaCUPi6/HYLZUouBamduye3/e75wpCxqthGf9nR7PJWbnQ6OV0PW0ze91YwCS2ik9sYXDRP7xn/4Rn//+v+DjP/2j4ttHocEAJAoBs6USOeZSrK3Y3HzZng8oAM+mZSHbbHZ7fHJyECd1JsQlGxmAREeg9MSmtomcxCT6fsMApLB0UNQFEoA1DXWISdTj3dKE6/Fr1RZU1tbgx5RUBiDRESg9saltIicxib7fMAApLAU7AFs6mpBfVoZ7LffhkO349cMsTqSkYm5m+NAA/Lg5h+31aZettSmsLTEASb02VsYjyuaqDQ7Zjs1Vm+LrQuFD1P1mfdnKAKTwZbZUIjpeh7hko0thRbnruUACcHDoCc5n5ODrzgKePGtHSt5FOGT7oQFY11Tvdh1iXLKRAUiqpvT4QES+Oc9SMQApLJktlcgsKcHi6zGXtWWb67lAAvDz9jxOG9IxPt4PU1ExWjtb4JAPD0AeASRyp/QRjnA4kvPlv/5nfP23/wZf/ut/Vnz7KDR4BJAoBEJxCtgh23Hr3h2YiooRm2TA5vspOOTDA3A/XgNIaqf0tU3hcC0XbwMT+UKx3wQTA5DCUqgC8PXCKDRaCUU3KlzPMwCJjkbpiS0cJnIGYORjABKFwFEDML34CuZmht28W9z9j3NvADpkOz6sTuLXD7OunxmAREej9MQWDhM5AzDyMQCJQuCoAejtptFmSyUcsmcA7scAJDoapSe2cJjIGYCRjwFIpDIMQFI7pSe2cJjIGYCRjwFIpDIMQFI7pSe2cJjIGYCRjwFIpDIMQFI7pSe2cJjIGYCRjwFIpDLOACTxiD4gk5gYgBQI0ccbBiBRkDEAxSX6gExiYgBSIEQfbxiAREHGABSX6AMyiSkU+812ehJ2kn/BdnqS4ttHoSH6eMMAJAoyBqC4RB+QSUzcbygQou83DECiIOOXQIhIjZQOGtEwAIlUhgFIRGqkdNCIhgFIpDIMQCI6zN8lPMJ/07bg7xIeKb4uwaJ00IiGAUikMgxAIjrM4r/618APP2DxX/1rxdclWJQOGtEwAIlUhgFIRIdhAEY+BiDBbKmERit5yDab4ZDtOGfKgkYrYXJy0O33qupqYCoqdlvGl8OWa2htgEO2Y/mt1e3xEympMFwsxNBwDxyyHaai4gPf55wpy7V+9x82ICpe53rtvbqetuHHlFS3n/dus9PW2hQ0WgnW8T7XY8732v95fNycw0mdyefy+z3r74RDtsM63geNVkJSTj6+bM+7veaPKanoetrmWuYgXU/bGIBEFBQMwMjHACSYLZXIMZdibcXmZvP9lCvaYpMMrojzFoAb7yZdvzfwvBsarYS39pdeX6u++b7He8kbM24BODbWi7UVG94sjKKytgbHEvRYmBvB5vsp1+9MTw25Lbu2YsPGu0nX+p3PyEFNQx20mbl+BWB0gg7RCTpYrd/jzVcAnk3LQnmNxe01n/V34lxaltflu562eWzzx81ZtwCMTTJ4RJwzAD9tzbn97uXrFR7/Zr9+mGUAElFQMAAjHwOQYLZUouBamc/nz5myUFVXg5hEPYZHnroe3xuAezmDZmttyutrtXQ0+XwvZwDOzQy7HttZn4FGK6G1s+XQZZ3Gx/vxS2omPm/N44wxExMT/W7PewvAH1NSca3aAv3FQtfjvgKw9sFdnEhJdYuurBIzahvrvS4/ONTtc5udn9ete7U4m5blCkOH/D0Aj/pvdhAGIBEdhgEY+RiA5FcAtnQ0obKuBsm5Bfjy7R/l9wjAz1vzaG5vgkYrob3r4YHL7lVysxK37t2BQ7bDUn8H5puVbs/7CsD3yzbEJhnQN9gFh+w7AAeHunEhtwA9vR1wyHa8W5pATKIeb1+PBRyA75dtOGPMQGNbo+u5YATgx805bK9Pu2ytTTEAiehAkRiAGyvjtMfmqg0O2Y7NVZvi67LX+rKVAfh7MVsqER2vQ1yy0U1983045O/RtvFuEicupOLJt+gJNABjEvUe7+UMJmfUxSYZEJdsRFS8DhqthD/K+5CCAAAgAElEQVSZsl2nkZ18BeD2+jSOJxsxP/sCDtmOuZlhHE82Ynt92rWMrwB0yHbUNNQhPjMXn7fnDwzAlo5mZBRfgUO2o775Hi6WX/O5vHN79lp6Y/X4vNq7W3FSZ8L22u66BiMA65rq3a4VjEs2MgCJ6ECRGIBKz7XkH+dZKgbg78BsqURmSQkWX4+52XvdnvOoXX3zPfzJlI1PW3MBB+CdB3c93st5KtUZdUPDPXj7egzDL3pwPiMHY2O9Hq/lKwDbux4iKSff7bGknHx0dLe6fj4oALfWpvCTlIaO7tYDA/DD6iRikwxYemPFn9OzMfSix+fy7V0PPbb589a8x+f1eXse8Zm5uN1QB4fMI4BEpIxIDEClj2yJhkcAye9TwA7Zjp2NGZw2pKOlo+l3uwZwfLwfJ3UmrL97deiyDtkOXUEhorQSouN1LlFaye3avoMC0CHb0fioEWeMmXi/bDvwlG5hRTnSi6/gjDEDXw45Yuhrm/d/Xn2DXTiebMT7ZRuvASQiRURiACp9TZtoNlZ4DaDqHSUAHbIdjx634Ge9CVctVb9LADrk3du/VNbVHLrswtwIorQSJib6sTA34mKzDSBKK2Fhbvc0wGEB+HFzFmdTM1F9v/bAoHsx8hQarYSa+7VwyAdfM+hrm719XrqCQpTXWBiARKQIBmDkYwCSz9vAfFjdvaXK/mj7vDWP8xk5Xm8N4ytonHzdBsZ5fZ6vABwa7kFMoh6rSxOux7wtW1VXA8OeI317GQuLUHX3Nhzy4QHokO143NOG2CTDgUH3dWcBH1Yn8WlrDg7ZdwB6uw2M89Y33j6vMWuf67Y0DEAi+r39wy938f+evoN/+OWu4usSLEoHjWgYgOTzRtDxWbv3z/N21O5Zf6fbDZ73OiwAvb2X8556vgLw684C4rNyUXH7luux/ct+2tq9EXPjo0av29nc3oSf9SZ82przKwC/bM8jMTv/SEf0DrpxtK+bX/v6vLLNZp83eGYAEhEdjdJBIxoGIJHKMACJSI2UDhrRMACJVIYBSERqpHTQiIYBSKQyDEAiOsypfzbi/P+fhFP/bFR8XYJF6aARDQOQSGWcAUjiEX1AJjGFYr9x/PVfAT/8AMdf/5Xi20ehIfp4wwAkCjIGoLhEH5BJTAxACoTo4w0DkCjIGIDiEn1AJjExACkQoo83DECiIGMAikv0AZnExACkQIg+3jAAiYKMXwKhSKD05CQSBiAFggFIpDIMQIoESk9OImEAUiAYgEQqwwCkSKD05CQSBiAFggFIpDIMQIoESk9OImEAUiAYgCQUX3+XONtshkN2/1vCsUkGnDNlofB6BcasfW6vc9DfI76QW4C6pnq3x2ZnhlFYUY5ThnTEJOqhzcxFWfVNvLW/9Pj9rBIzouJ1mJwchEP+/jeJD1LXVO/z7xx3P2uHrqAQx5ONiLtgRNrlYgy96PG6PUk5+fiyPe/23I8pqV7/XrAvDECKBEpPTiJhAFIgGIAkFLOlEjnmUqyt2Nxsvt8NuXOmLNQ338faig3vFscxMdGPa9UWRGkl3Gu573qdowTg0IsexCTqkV9WhpdjvVh+a8XU5HNY6u/g8vUKt999tziOuAtGVNbVoKz6JhyyHV+2593W1VJ/B0k5+W6P7WzMeA1AS/0dxCTq0djWiMXXY3i9MIrbDXcRFa9Da2eLx/bEJhk8Yo8BSGqk9OQkklBM5F/+/b+D46//Cl/+/b9TfPsoNBiAJBSzpRIF18p8Pn/OlIWWjiaPx+sa6xEVr8Obb0fs/A3AXz/M4me9CQXXrnl9v/2/f7fpHopuXMebhVGcuJAKeWPGc12a6nEht8Dj8f0BODk5CI1Wcgs9J0v9HRxL0OPd0oTb9ty6V4uzaVn4uDnrWpYBSGqk9OQkEtEnchKT6PsNA1BlAg3AzfdTiNJKePDoARyy/wE48LwbGq2EyVeDh67b150FnDNlYfjb6Vkp/5LX8PI3ACvrahB3wYhPW3Mey75ftkGjlVzb6tye98s2nDFmoLGt0bUsA5DUSOnJSSSiT+QkJtH3GwagypgtlYiO1yEu2eimvnn39K6vAHTIdpw2pKPi9i04ZP8D8MGjB9BoJdcp5oOMvuzFKX06Pn+7Bq+lowmphUUey/kbgDnmUq/LOf2Ykup1e9q7W3FSZ8L22rRruYMC8OPmHLbXp1221qawtsQApPC2sTJO32yu2uCQ7dhctSm+LhQ+RN1v1petDEA1MlsqkVlSgsXXY272XgPoKwBPGdJx/U41HPIRArDV/wAsulGBG7XVrp/XV14hOuH7aWenYAXgiZRUr9vzeXse8Zm5uN1QB4d8eADWNdW7fSElLtnIAKSwp/RYRUSh4TxLxQBUmUBPAX9YnUSUVnKdGp2dHoZGK2FlcdzrazS3776Gv6eAN99PISZRj6h4HaL30GglVN+vdVs2lKeAnUHbN9iF48lGvF+28QggqZLSRylEEoojOR//1//E5//xD/j4v/6n4ttHocEjgCSUQAOwtrEe0fE6LL4eg0O2Y2d9BlHxOvQNdrktt7ZsQ3SCDsMjT+GQ7ZA3Zvz6EkhrZwvOZ+RgYW7ETUtHM04bvp8WdshH+BLIK99fArl597bXL4HsPaKpKyhEeY2F1wCSKil9fZJINlZ4Gxg6ulDsN8HEAFQZX7eB+bA6CYe87zYwSxNut4F50PrA7bUqbt/CubQsDA51Y/mtFTbbAExFxUjOLXALtsGhJziW4H4bmJmpIdy6V4uiGxVwyLunjWv2HelzyLuhGZOox+DQE9dj/gagQ7ajqq4GMYl6NLU1YunNGN4sjOLOA9+3gdkbgGPWPkQn6BCdoGMAkuooPTmJhAFIgWAAklB83Qg6PisXDtn9RtAxiXqcS8vC5esVsO67EbRD3j31Wd98HwnZea6bRpdaqrC2YvNYdmZqCJfKy3FKv3sj6PMZOSivsWDx9Rhmpoeg0UqYnhryus75ZWXIL/t+1PIoAeiQ7Xjc0wZdwSXEJhlwPNmItMtFGBr2fiPo/dc0ZpvN0GglBiCpjtKTk0gYgBQIBiCRyjAAKRIoPTmJhAFIgWAAEqkMA5AigdKTk0gYgBQIBiCRyjAAKRIoPTmJhAFIgWAAEqmMMwBJPKIPyCQmBiAFQvTxhgFIFGQMQHGJPiCTmBiAFAjRxxsGIFGQMQDFJfqATGJiAFIgRB9vGIBEQcYAFJfoAzKJKRT7za8x/wcf//n/w68x/0fx7aPQEH28YQASBRkDUFyiD8gkJu43FAjR9xsGIFGQ8VvAFE6UnoTCgegTOYlJ9P2GAUgUZAxACidKT0LhQPSJnMQk+n7DACQKMgYghROlJ6FwIPpETmISfb9hABIFGQOQwonSk1A4CMVE/vVv/wZ/+Zf/Al//9m8U3z4KDQYgqcbaig03aqvx5/RsxCTqcTY1E3lXr2JsrNe1zKtXg8gpLcVPUhpiEvVIyslHU1sjvmzPu72WRitBo5UwOTno9vjHzTmc1Jmg0Uqwjvd5LL/fs/5OOGQ7rON9rseitBJOpKQiJe8ibt2rxdqyDQ7Zjie9HTiebMTi6zG393y/bMNPUhpaOpr9+hwYgBROlJ6EwgFvA0OBYACSKiy/teKMMROJ2fnoG+zCW/tL2OdH0NzehPisXDhkOwaedyM6QYdr1RbMzQxj+a0VnU8e4ScpDYUV5W47o0Yr4WxaFsprLG7v86y/E+fSsrwGYNfTNqyt2Nx83JyFQ/4egG/tL7G2YsNb+0s86+9ESt5FnNSZsDA3Aodsx8XyazAWFuHLnnXJu3oVGcVX/P6PhQFI4UTpSSgcMAApEAxAUoWc0lL8kpoJeWPG47mttSnIGzM4qTPhUnm5x/NDwz3QaCX0Djx2PabRSqh9cBcnUlLx64dZ1+NZJWbUNtZ7DcDBoW6f6+cMwK21KbfHf/0wi/isXKQWFsEh27HxbhKnDOlobGuEQ7aj62kbTqSkYmVx3O/PggFI4UTpSSgcMAApEAxAinib76cQpZXQ8LDB5zIDz7t3T+m+GvT6fHxmLgqulbl+dgbdhdwC9PR2wCHb8W5pAjGJerx9PRa0AHTIdrR0NEGjlbD+7hUcsh2DQ92ITTJg9GUvfpLS0PW07UifBwOQwonSk1A4YABSIBiAFPGmJp9Do5Uw8Nx3gD1ofeAzwByyHfllZUjIznP97Ay6lo5mZBRfgUO2o775Hi6WX8PW2pTXAIxNMiAu2ehm6Y0VDvngABwZfQqNVsLU5HPXY+ablYiK1yG/rOzQ7f+4OYft9WmXrbUprC0xACk8bKyM0yE2V3evE95ctQXtNfcGoNLbR6ERiv0mGNaXrQxACg5nAB50BM4ZgJvvfQdgYna+62fn631YnURskgFLb6z4c3o2hl70+AzA9q6HWHw95ubz1u6XSw4KwBcjuwE4PTXkemzx21HGmT2P+VLXVO/2xZO4ZCMDkMKG0uOHWv3lj38AfvgBf/njHxRfF1IX51kqBiD9Zkc5BfzKxylgrY9TwA7ZjsKKcqQXX8EZYwa+bM/7DMBATwE3t++eAt54N+l6bPmtFRqthLmZ4UO3n0cAKZwpfTQiHPAIIAWCRwBJFXLMgX8J5PnwE69fAnEGnfMIXc39WtfrBftLIKaiYrfHjxKA+/EaQAonSl+HFA42VngNIB1dKPabYGIAUlAsv7XitCEDidn56H/ehbevx/B6YRQPO5uRkLV7bV/fYBei43dvAzM/+wLLb6143OP7NjDOoPu6s4APq5P4tDUHh+w7AL3dBsYZpB63gXk95nYbGPv8qMf2MABJDZSehMIBA5ACwQAk1VhbtuH6nWqcM2UhJlGPX1IzkV9W5hZqExMDyDGX4seUVMQk6pGY7ftG0L6O6PkKQG8aWndPS3vcCPpCKi7kFuzeCHrF5vEeDEBSC6UnoXAQiol8q/witoqzsFV+UfHto9BgABKpDAOQwonSk1A4EH0iJzGJvt8wAImCjAFI4UTpSSgciD6Rk5hE328YgERBxgCkcKL0JBQORJ/ISUyi7zcMQKIgcwYgiUf0AZnEFIr95kPzLXy4fwMfmm8pvn0UGqKPNwxAoiBjAIpL9AGZxMRvAVMgRB9vGIBEQcYAFJfoAzKJiQFIgRB9vGEAEgUZA1Bcog/IJCYGIAVC9PGGAUgUZAxAcYk+IJOYGIAUCNHHGwYgUZDxW8AkOqUnnnDDAKRAMACJVIYBSKJTeuIJNwxACgQDkEhlGIAkOqUnnnDDAKRAMACJVIYBSKJTeuIJNwxACgQDUAVevRpEVLwO2Wazx3PW8T5otBK21qY8nruQW4C6pnrXMgfpetoGh2zHl+15NLc3ITm3ADGJevyYkooccylstgG/1rWprRHnTFmITTIgPjMXHd2tBy7/aWsOJ3Um3Gu57/X5hocNOKkz4dPWHLqetnld95hEvWt5s6USBdfKDv2cvH1uX3cW0NHdCv3FQsQlG/FjSiqk/Eto6WjCrx9m4ZDtqGuqx4XcAp/bYyoq9rqO5TWW7+ti7UN68RX8JKUhNsmA8xk5MN+sxOfteb8+YwYgiU7piSfcMAApEAxAFSi7dRNVdTWISzbi3eL4gWGzlzMAP23NYW3F5nL5egVyzKVuj/36YRZfdxZQWFGOn6Q0dD55hOW3VszPvsC1aguiE3QYHOo+cD0nJvqh0Upo7WzB8lsrJiYGMPD84N9xyHZU1dXgfEaO151Fm5mLqru34ZDt6HrahhMpqW7rvbZiw/rKK9fyvyUAr1TdQGySAfcfNmB6agjLb60YHHqC9OIrrm33JwCvVVs81nF7fRoO2Q77/AhiEvW4da8WC3MjWHozhpHRpyi7dROftub82h8YgCQ6pSeecMMApEAwACOcvDGDExdS8cb+EkU3KlDffO/AsNnLGYD7H/cVSb0Dj6HRShga7vF47lJ5OU7qTJA3Znyuq802gOh4netomb8W5kag0UoYH+93e3xiYgAarYSFuRE45N0A/DEl9cDXCjQAnds+OPTE43e/7ixge2034PwJwKq6Gp/Pt3Q04U+m7N+0TzAASXRKTzzhJiQT+VQf1iZ7d/9XgG2k4GMARrjHPW3QFVyCQ7Zj6EUP/mTKdvtQgxmA+WVliM/M9boer14Nfgsk30f05I0ZnEvLgtlSiS9H/IfXFRTCbKl0e6zUUgX9xULXz6EMwPyyMsRned/2vX5rAD7r70RMoh4TE/2HvpfTx805bK9Pu2ytTWFtiQFI4tpYGacj2Fy1wSHbsblqU3xdKHyIut+sL1sZgMFgLCxCS0czHLIdn7fn8bPehJdjvT7DZq+jBmBCVp7Xxx2yHZvvp6DRSnjw6IHX57/sLCDzSgnyy8pQcK0MRTcq3E5pJuXko6mt0ed2tnc9RFyyETvfjjDubMwgLtnodg2h8xrAuGSjm6wSs9u2RcfrPJaJTTIcGIAJ2XnIL/O+7Xv5E4DHEvQe79/9rH33c9qeR6mlChqthNOGDBRcu4bWzhbXKWJf77n3esK4ZCMDkISm9LhJRMpxnqViAP4Gb+wvEZ2gc7vG7fqdahRXXnf9/HsHYOMj7xE3PPIUsUkGbL6fwsfNOWSWlCDbbIa8MYOPm7OITTJgavK5z23dXptGbJIBj3sewSHb8bjnEY4nG93CqOtpG05cSMXi6zE3q0sTbtuWWVLisUxPX8fBAXjAtu/lTwCWWqo83n9/4K0uTeBJbweu36nGaUMGzqZmYm3Z5vU1eQSQwo3SRyDCjahHckhsou43PAIYBLfu1UKjlRAdr3OJitchJlGPzfe74TI7PQyNVsLKvi+HOGQ7zpmy0Nze5PH4QaeAtQGeAm5obXA7fSxvzMBYWATDxUI0tDYgMTv/0J2h5GYlUguL4JDtSC0sgvmm+ynhkJ8C9rHte/3WU8DebL6fws96E+oaPWPdG14DSKJT+tqjcLOxEvxruXaSf4F8OhY7yb8ovn0UGqHYb4KJARigz9vzOG1IR3N7ExbmRtzEZ+aitbMFDtmOnfUZRMXr0DfY5fb7a8s2RCfoMDzy1O9IetbfGfCXQJ70duBYgt7taNz22jRS8i5Co5X8+jbw+Pjut4iHXvRAo5U8rpOLhC+B+JKcWwBL/R2/lmUAkuiUnnjCTSgmcn4LOPIxACPU4FA3YhL1rvDY63bDXaTkXXT9XHH7Fs6lZWFwqBvLb62w2QZgKipGcm6B13vL+YqkrzsLuFh+DT9JaXjc8/02MOU1h98G5tcPszifkYPk3AK8HOvdPe3a24HThgzEJRuRd/WqX18MOZ+Rg5+kNJzPyPF4ztdtYNZWbK7XDjQAv+4soOhGBWKTDGh42ICZqSGsLI5j6EUPMq6UuN0GJj4zF3Mzw24WX4/BIfu+DYzziG17dysqbt/C6MtnWHozBvv8CKrv1yIqXufxLWhfGIAkOqUnnnDDAKRAMAAjVN7Vq8gtver1Oedp39npYTjk3WvE6pvvIyE7D7FJBpwzZaHUUoW1Fe/XlPmKJIe8e+Sxqa0RSTn5iEnU40RKKrLNZr9uBL3+7hWu3rqJs6mZiEnUQ8q/hCe9HXi9MIoTF1JRWXv4kbGGhw3QaCU0PGzweM7XjaA1Wsm1rb/lPoBfdhbQ3vUQuoJCHE824sS3G0E/7Gx2uxG0t/c3FRXDIfu+EbTzJt6zM8MoqbqBP6dnIyZRj5M6E0xFxV6PuvrCACTRKT3xhBsGIAWCAUikMgxAEp3SE0+4YQBSIBiARCrDACTRKT3xhBsGIAWCAUikMgxAEp3SE0+4YQBSIBiARCrjDEASj+gDMomJAUiBEH28YQASBRkDUFyiD8gkJgYgBUL08YYBSBRkDEBxiT4gk5gYgBQI0ccbBiBRkDEAxSX6gExiCsV+8+m//z2+/Mf/gE///e8V3z4KDdHHGwYgUZAxAMUl+oBMYuJ+Q4EQfb9hABIFGQNQXKIPyCQm7jcUCNH3GwYgUZAxAMUl+oBMYuJ+Q4EQfb9hABIFGQNQXKIPyCQm7jcUCNH3GwYgUZAxAMUl+oBMYuKXQCgQoo83DECiIGMAikv0AZnExNvAUCBEH28YgERBxgAUl+gDMomJAUiBEH28YQASBRkDUFyiD8gkJgYgBUL08YYBSBRkDEBxiT4gk5gYgBQI0ccbBiBRkDEAxSX6gExiYgBSIEQfbxiAREHGABSX6AMyiYkBSIEQfbxhABIFGQNQXKIPyCQmBiAFQvTxhgFIFGQMQHGJPiCTmBiAFAjRxxsGIFGQfdmeV/w/bPJufdmKrzsLWF+2Kr4uFD5Csd98/du/wV/+5b/A17/9G8W3j0JD9PHmy/Z8QHMcA5DIBwYgERGJjgFIFGRftuddvu4suEj5F91+DrZgvX6gr3OU3/N32cOWO+h5b89trU0hLtmIrbWpkP5biPZv+nu8RyCvc9Tf8Wf537LP+Hqe+01o3iOSx5qvO+LuN3vnqEDmOAYg0RElZOeFxesH+jpH+T1/lz1suYOe9/bc9vo0NFoJ2+vTiu8Pv+e/6e/xHoG8zlF/x5/lf8s+4+t57jeheY9IHmsccvjtN/5iABId0aPHLWHx+oG+zlF+z99lD1vuoOe9PRduA3Ko95lgvkcgr3PU3/Fn+d+yz/h6nvtNaN4jkscahxx++42/GIBEFHYidUCm0OJ+Q4GI1P2GAUhEYefj5hzqmurxcXNO8XWh8MH9hgIRqfsNA5CIiIhIZRiARERERCrDACQiIiJSGQYgERERkcowAImIiIhUhgFIRBEnOl6HC7kFuJBbgLJbNxVfHxLf8lsr0ouvICE7D0k5+ZA3ZhRfJxLbG/tL1zhzIbcAsUkGDA51K75e/mIAElHEOakzKb4OFF5MRcWYmBiAQ7Zj8/0UPgf457VInXY2ZnBSZwqr/+PAACSiiMMApKOwz48g80qJ4utB4etpXycuX69QfD2OggFIREKZmOhH3tWrOGPMgEYreT2l8ujxQ/zJlI2YRD2k/EuuIzdOxxJ2H08tLML4eL/i20Ri7zODQ90ouFaG/LIypORdxP2HDYpvE4m/3+xVcK0MA8/D5/SvQ2YAEpFgXow8xZ0HdzHwvNvroNw78BjHEvTofPIIrxdGUVVXg7hkI94tjruWeb9sg0O2Y2FuBOfSsiLuTzhRcPeZvsEunNSZ8G5pAh8355BefAWjL3sV3y4Se79x2l6fxs96Ez5uziq+TUfBACQiYXkblPUXC1Fx+5bbYwlZeahpqPP6GjnmUsxMDSm+LfT7CGSfmXw1iGyz2fVc46NGND5qVHxbSOz9xulJbweuVN1QfBuOigFIRMLaPyh/2ppDdLzO41RLZV0NTEXFcMi7F/A7/2bn6tIEzqVlYfP9lOLbQuLuM5+355GSdxGb76fwZWcBeVevYuhFj+LbQmLvN055V69iaDj89hcGIBEJa/+g/H7ZBo1WwqtXg27L3X/YgPjMXDhkO169GkRSTj6Sv92aIZxuy0DK7DMOefd0YFJOPpJy8nHz7m3Ft4PCY7/ZXpvGKUM6Pm3NKb4NR8UAJCJh+RqUJ/cNyvda7iM+K/d3XTcSE/cZCoQa9xsGIBEJ67ecliF14j5DgVDjfsMAJCJh+X1hdrbvL4GQunCfoUCocb9hABKRUHY2ZjA3M4y5mWFotBKa25swNzPsuvWC89YMj3vadm/NcPc24pKNWNl3awZSD+4zxP3m6BiARCQU63gfNFrJg9lS6Vrm0eOHOGfK2nNzVt7sWc24z1Ag1L7fMACJiIiIVIYBSERERKQyDEAiIiIilWEAEhEREakMA5CIiIhIZRiARERERCrDACQiIiJSGQYgERERkcowAImIiIhUhgFIREREpDIMQCIilahrqodGK+HD6qTX55Ny8mEqKg74dZXcJqU/W6JwwwAkIlIJBiAROTEAiYhUggFIRE4MQCIilThKAFrH+6DRSujp7cDNu7dx2pCO2CQDTEXFmJ0Z9vq6ex/7srOAB48eID4rFzGJepzSp6PkZiVWlybclht92Yv8sjL8kpqJmEQ9zmfkoLzG4nUdh1/04EJuAWIS9fiTKRuNbY1e37tvsAv6i4U4kZKK2CQD/pyejauWKsU/fyKRMACJiFQikAA8m5aFgmtlGHrRg56+DpzPyMGJlFQsvbF6vO7e1yqvsUCjlXCjthojo8/Q3t2KU/p0nE3Lcnv/9q6HaGhtwNBwDyYm+vHkWTsu5BYgPisXn7fmXcuNjfUiOl6HtMtFGHjejb7BLugKCnEuLcvtvSdfDSJKK6HoxnW8GHkKq7UPXU/bUHKzUvHPn0gkDEAiIpUIJACl/Ev4urPgWmZlcRzHEvQoq77p8brOn98sjEKjlXD9TrXb609NPodGK+F2w12v7/91ZwGft+fxbnEcGq2E58NPXM8ZLhbijDETHzdnXY/trM/gpM7k9t5NbY3QaCVsr00r/nkTiYwBSESkEoEEYFNbo8dypqJinM/I8Xhd589tXQ+h0UqYnhry+N2E7DwYLha6fl5/9wrlNRacTc1EVLwOGq3k8qD1ARyyHfLGDKLidbhRW+3xemZLpdt7T0z0Q6OVkG02o3fgsccpZyLaxQAkIlKJey33odFKWF955fX5+KxcZJaUwCHvuQawr8NjuaIbFfhJSnP9vD8Ane/jLb4yr5S44vHLzgIu5BbglD4drZ0tsI73YXpqyHWksK6pHg7ZjtWlCWi0Eu613Pd4vZr7tR6nnweHniDjSgliEvXQaCUk5eTjWX+n4p8/kUgYgEREKtHx5BE0Wgmz08Mez33dWcCJlFRcqboBhxziI4CXLsMh2zE/+wIarYTuZ+1uyyy+HnMLQHljBlHfrifc/3r7jwDu9XFzDuPj/cg2m6HRSph8Naj4vwGRKBiAREQqsfRmDFFaCdX3az2eezHyFBqthK6nbXDIflwDeOuAawDtL6HRSqisq3F7j+mpIWi0Eu482L0GcGFuBBqt5HF07ta9O24B6JD9vwbQG2doPvQiCpcAAAHSSURBVHr8UPF/AyJRMACJiFSksrYGUVoJ5TUWDA49wejLZ7jXch9xF4zQFVzCp605OGTPbwEPv+jB077O3W8BX0jF0psx12v6+hZwlFZC1d3bGH35DB3drThlcP8W8OeteZzPyME5Uxae9XdiZPQZrt+pRnxmrkcAjr7sRdS3bwEPDnWj//nut4DP7vsWcG1jPa5aqtDT14Hx8f7d08HFV3AsQQ/7/Ijinz+RKBiAREQq8nVnAe1dD6EruITjyUbEJOqhzcxFzf1a7GzMuJbbex/AyroanNKnIyZRj7TLxZiZdj+1e+B9ADNzcSxBj5/1JpRU3fC4LvD1wiiySsw4cSEVP0lpKLxegXffrvnbG4AO2Y6h4R4kf7sP4Lm0LDxofeDx3sMvepBTWuq6r+ApQzpyS6/CZhtQ/LMnEgkDkIiIPDgDsG+wS/F1IaLgYwASEZEHBiBRZGMAEhGRBwYgUWRjABIRERGpDAOQiIiISGUYgEREREQqwwAkIiIiUhkGIBEREZHKMACJiIiIVIYBSERERKQyDEAiIiIilWEAEhEREakMA5CIiIhIZRiARERERCrDACQiIiJSGQYgERERkcowAImIiIhUhgFIREREpDL/Fx/DJNSfqLOnAAAAAElFTkSuQmCC\" width=\"640\">"
      ],
      "text/plain": [
       "<IPython.core.display.HTML object>"
      ]
     },
     "metadata": {},
     "output_type": "display_data"
    },
    {
     "data": {
      "text/plain": [
       "Text(0.5, 0, 'Uploads')"
      ]
     },
     "execution_count": 74,
     "metadata": {},
     "output_type": "execute_result"
    }
   ],
   "source": [
    "%matplotlib notebook\n",
    "\n",
    "#data\n",
    "channels, uploads = zip(*total_uploads_list)\n",
    "uploads_mean = np.mean(uploads)\n",
    "\n",
    "#change style\n",
    "print(plt.style.available)\n",
    "plt.style.use('Solarize_Light2')\n",
    "\n",
    "#autolayout make rooms for labels\n",
    "plt.rcParams.update({'figure.autolayout': True})\n",
    "\n",
    "fig, ax = plt.subplots()\n",
    "y_pos = np.arange(len(channels))\n",
    "ax.barh(y_pos, uploads, align='center', log=True)\n",
    "\n",
    "# Add a vertical line, here we set the style in the function call\n",
    "ax.axvline(uploads_mean, ls='--', color='r')\n",
    "\n",
    "ax.set_yticks(y_pos)\n",
    "ax.set_yticklabels(channels)\n",
    "ax.set_xlabel('Uploads')"
   ]
  },
  {
   "cell_type": "code",
   "execution_count": 14,
   "metadata": {},
   "outputs": [
    {
     "name": "stderr",
     "output_type": "stream",
     "text": [
      "100%|██████████| 250/250 [00:09<00:00, 26.61it/s]\n"
     ]
    }
   ],
   "source": [
    "def channel_types_top_250_by_country(country_code):\n",
    "    channel_types = {}\n",
    "    url = 'https://socialblade.com/youtube/top/country/{}'.format(country_code)\n",
    "    browser = webdriver.Firefox(options=options)\n",
    "    browser.get(url)\n",
    "    browser.implicitly_wait(3)\n",
    "    \n",
    "    for i in tqdm(range(5, 255)):\n",
    "        div = browser.find_element_by_xpath('/html/body/div[11]/div[2]/div[{}]'.format(i))\n",
    "        row = div.find_elements_by_tag_name('div')\n",
    "        channel_type_raw = row[2].find_element_by_tag_name('i').get_attribute('title').split(':')\n",
    "        channel_type = channel_type_raw[1].strip().capitalize()\n",
    "        if channel_type == \"\":\n",
    "            channel_type = \"Unknown\"\n",
    "        \n",
    "        if channel_type not in channel_types:\n",
    "            channel_types[channel_type] = 1\n",
    "        else:\n",
    "            channel_types[channel_type] += 1\n",
    "            \n",
    "    return channel_types\n",
    "\n",
    "channel_types_top_250 = channel_types_top_250_by_country('dk')"
   ]
  },
  {
   "cell_type": "code",
   "execution_count": 24,
   "metadata": {},
   "outputs": [
    {
     "data": {
      "application/javascript": [
       "/* Put everything inside the global mpl namespace */\n",
       "window.mpl = {};\n",
       "\n",
       "\n",
       "mpl.get_websocket_type = function() {\n",
       "    if (typeof(WebSocket) !== 'undefined') {\n",
       "        return WebSocket;\n",
       "    } else if (typeof(MozWebSocket) !== 'undefined') {\n",
       "        return MozWebSocket;\n",
       "    } else {\n",
       "        alert('Your browser does not have WebSocket support. ' +\n",
       "              'Please try Chrome, Safari or Firefox ≥ 6. ' +\n",
       "              'Firefox 4 and 5 are also supported but you ' +\n",
       "              'have to enable WebSockets in about:config.');\n",
       "    };\n",
       "}\n",
       "\n",
       "mpl.figure = function(figure_id, websocket, ondownload, parent_element) {\n",
       "    this.id = figure_id;\n",
       "\n",
       "    this.ws = websocket;\n",
       "\n",
       "    this.supports_binary = (this.ws.binaryType != undefined);\n",
       "\n",
       "    if (!this.supports_binary) {\n",
       "        var warnings = document.getElementById(\"mpl-warnings\");\n",
       "        if (warnings) {\n",
       "            warnings.style.display = 'block';\n",
       "            warnings.textContent = (\n",
       "                \"This browser does not support binary websocket messages. \" +\n",
       "                    \"Performance may be slow.\");\n",
       "        }\n",
       "    }\n",
       "\n",
       "    this.imageObj = new Image();\n",
       "\n",
       "    this.context = undefined;\n",
       "    this.message = undefined;\n",
       "    this.canvas = undefined;\n",
       "    this.rubberband_canvas = undefined;\n",
       "    this.rubberband_context = undefined;\n",
       "    this.format_dropdown = undefined;\n",
       "\n",
       "    this.image_mode = 'full';\n",
       "\n",
       "    this.root = $('<div/>');\n",
       "    this._root_extra_style(this.root)\n",
       "    this.root.attr('style', 'display: inline-block');\n",
       "\n",
       "    $(parent_element).append(this.root);\n",
       "\n",
       "    this._init_header(this);\n",
       "    this._init_canvas(this);\n",
       "    this._init_toolbar(this);\n",
       "\n",
       "    var fig = this;\n",
       "\n",
       "    this.waiting = false;\n",
       "\n",
       "    this.ws.onopen =  function () {\n",
       "            fig.send_message(\"supports_binary\", {value: fig.supports_binary});\n",
       "            fig.send_message(\"send_image_mode\", {});\n",
       "            if (mpl.ratio != 1) {\n",
       "                fig.send_message(\"set_dpi_ratio\", {'dpi_ratio': mpl.ratio});\n",
       "            }\n",
       "            fig.send_message(\"refresh\", {});\n",
       "        }\n",
       "\n",
       "    this.imageObj.onload = function() {\n",
       "            if (fig.image_mode == 'full') {\n",
       "                // Full images could contain transparency (where diff images\n",
       "                // almost always do), so we need to clear the canvas so that\n",
       "                // there is no ghosting.\n",
       "                fig.context.clearRect(0, 0, fig.canvas.width, fig.canvas.height);\n",
       "            }\n",
       "            fig.context.drawImage(fig.imageObj, 0, 0);\n",
       "        };\n",
       "\n",
       "    this.imageObj.onunload = function() {\n",
       "        fig.ws.close();\n",
       "    }\n",
       "\n",
       "    this.ws.onmessage = this._make_on_message_function(this);\n",
       "\n",
       "    this.ondownload = ondownload;\n",
       "}\n",
       "\n",
       "mpl.figure.prototype._init_header = function() {\n",
       "    var titlebar = $(\n",
       "        '<div class=\"ui-dialog-titlebar ui-widget-header ui-corner-all ' +\n",
       "        'ui-helper-clearfix\"/>');\n",
       "    var titletext = $(\n",
       "        '<div class=\"ui-dialog-title\" style=\"width: 100%; ' +\n",
       "        'text-align: center; padding: 3px;\"/>');\n",
       "    titlebar.append(titletext)\n",
       "    this.root.append(titlebar);\n",
       "    this.header = titletext[0];\n",
       "}\n",
       "\n",
       "\n",
       "\n",
       "mpl.figure.prototype._canvas_extra_style = function(canvas_div) {\n",
       "\n",
       "}\n",
       "\n",
       "\n",
       "mpl.figure.prototype._root_extra_style = function(canvas_div) {\n",
       "\n",
       "}\n",
       "\n",
       "mpl.figure.prototype._init_canvas = function() {\n",
       "    var fig = this;\n",
       "\n",
       "    var canvas_div = $('<div/>');\n",
       "\n",
       "    canvas_div.attr('style', 'position: relative; clear: both; outline: 0');\n",
       "\n",
       "    function canvas_keyboard_event(event) {\n",
       "        return fig.key_event(event, event['data']);\n",
       "    }\n",
       "\n",
       "    canvas_div.keydown('key_press', canvas_keyboard_event);\n",
       "    canvas_div.keyup('key_release', canvas_keyboard_event);\n",
       "    this.canvas_div = canvas_div\n",
       "    this._canvas_extra_style(canvas_div)\n",
       "    this.root.append(canvas_div);\n",
       "\n",
       "    var canvas = $('<canvas/>');\n",
       "    canvas.addClass('mpl-canvas');\n",
       "    canvas.attr('style', \"left: 0; top: 0; z-index: 0; outline: 0\")\n",
       "\n",
       "    this.canvas = canvas[0];\n",
       "    this.context = canvas[0].getContext(\"2d\");\n",
       "\n",
       "    var backingStore = this.context.backingStorePixelRatio ||\n",
       "\tthis.context.webkitBackingStorePixelRatio ||\n",
       "\tthis.context.mozBackingStorePixelRatio ||\n",
       "\tthis.context.msBackingStorePixelRatio ||\n",
       "\tthis.context.oBackingStorePixelRatio ||\n",
       "\tthis.context.backingStorePixelRatio || 1;\n",
       "\n",
       "    mpl.ratio = (window.devicePixelRatio || 1) / backingStore;\n",
       "\n",
       "    var rubberband = $('<canvas/>');\n",
       "    rubberband.attr('style', \"position: absolute; left: 0; top: 0; z-index: 1;\")\n",
       "\n",
       "    var pass_mouse_events = true;\n",
       "\n",
       "    canvas_div.resizable({\n",
       "        start: function(event, ui) {\n",
       "            pass_mouse_events = false;\n",
       "        },\n",
       "        resize: function(event, ui) {\n",
       "            fig.request_resize(ui.size.width, ui.size.height);\n",
       "        },\n",
       "        stop: function(event, ui) {\n",
       "            pass_mouse_events = true;\n",
       "            fig.request_resize(ui.size.width, ui.size.height);\n",
       "        },\n",
       "    });\n",
       "\n",
       "    function mouse_event_fn(event) {\n",
       "        if (pass_mouse_events)\n",
       "            return fig.mouse_event(event, event['data']);\n",
       "    }\n",
       "\n",
       "    rubberband.mousedown('button_press', mouse_event_fn);\n",
       "    rubberband.mouseup('button_release', mouse_event_fn);\n",
       "    // Throttle sequential mouse events to 1 every 20ms.\n",
       "    rubberband.mousemove('motion_notify', mouse_event_fn);\n",
       "\n",
       "    rubberband.mouseenter('figure_enter', mouse_event_fn);\n",
       "    rubberband.mouseleave('figure_leave', mouse_event_fn);\n",
       "\n",
       "    canvas_div.on(\"wheel\", function (event) {\n",
       "        event = event.originalEvent;\n",
       "        event['data'] = 'scroll'\n",
       "        if (event.deltaY < 0) {\n",
       "            event.step = 1;\n",
       "        } else {\n",
       "            event.step = -1;\n",
       "        }\n",
       "        mouse_event_fn(event);\n",
       "    });\n",
       "\n",
       "    canvas_div.append(canvas);\n",
       "    canvas_div.append(rubberband);\n",
       "\n",
       "    this.rubberband = rubberband;\n",
       "    this.rubberband_canvas = rubberband[0];\n",
       "    this.rubberband_context = rubberband[0].getContext(\"2d\");\n",
       "    this.rubberband_context.strokeStyle = \"#000000\";\n",
       "\n",
       "    this._resize_canvas = function(width, height) {\n",
       "        // Keep the size of the canvas, canvas container, and rubber band\n",
       "        // canvas in synch.\n",
       "        canvas_div.css('width', width)\n",
       "        canvas_div.css('height', height)\n",
       "\n",
       "        canvas.attr('width', width * mpl.ratio);\n",
       "        canvas.attr('height', height * mpl.ratio);\n",
       "        canvas.attr('style', 'width: ' + width + 'px; height: ' + height + 'px;');\n",
       "\n",
       "        rubberband.attr('width', width);\n",
       "        rubberband.attr('height', height);\n",
       "    }\n",
       "\n",
       "    // Set the figure to an initial 600x600px, this will subsequently be updated\n",
       "    // upon first draw.\n",
       "    this._resize_canvas(600, 600);\n",
       "\n",
       "    // Disable right mouse context menu.\n",
       "    $(this.rubberband_canvas).bind(\"contextmenu\",function(e){\n",
       "        return false;\n",
       "    });\n",
       "\n",
       "    function set_focus () {\n",
       "        canvas.focus();\n",
       "        canvas_div.focus();\n",
       "    }\n",
       "\n",
       "    window.setTimeout(set_focus, 100);\n",
       "}\n",
       "\n",
       "mpl.figure.prototype._init_toolbar = function() {\n",
       "    var fig = this;\n",
       "\n",
       "    var nav_element = $('<div/>');\n",
       "    nav_element.attr('style', 'width: 100%');\n",
       "    this.root.append(nav_element);\n",
       "\n",
       "    // Define a callback function for later on.\n",
       "    function toolbar_event(event) {\n",
       "        return fig.toolbar_button_onclick(event['data']);\n",
       "    }\n",
       "    function toolbar_mouse_event(event) {\n",
       "        return fig.toolbar_button_onmouseover(event['data']);\n",
       "    }\n",
       "\n",
       "    for(var toolbar_ind in mpl.toolbar_items) {\n",
       "        var name = mpl.toolbar_items[toolbar_ind][0];\n",
       "        var tooltip = mpl.toolbar_items[toolbar_ind][1];\n",
       "        var image = mpl.toolbar_items[toolbar_ind][2];\n",
       "        var method_name = mpl.toolbar_items[toolbar_ind][3];\n",
       "\n",
       "        if (!name) {\n",
       "            // put a spacer in here.\n",
       "            continue;\n",
       "        }\n",
       "        var button = $('<button/>');\n",
       "        button.addClass('ui-button ui-widget ui-state-default ui-corner-all ' +\n",
       "                        'ui-button-icon-only');\n",
       "        button.attr('role', 'button');\n",
       "        button.attr('aria-disabled', 'false');\n",
       "        button.click(method_name, toolbar_event);\n",
       "        button.mouseover(tooltip, toolbar_mouse_event);\n",
       "\n",
       "        var icon_img = $('<span/>');\n",
       "        icon_img.addClass('ui-button-icon-primary ui-icon');\n",
       "        icon_img.addClass(image);\n",
       "        icon_img.addClass('ui-corner-all');\n",
       "\n",
       "        var tooltip_span = $('<span/>');\n",
       "        tooltip_span.addClass('ui-button-text');\n",
       "        tooltip_span.html(tooltip);\n",
       "\n",
       "        button.append(icon_img);\n",
       "        button.append(tooltip_span);\n",
       "\n",
       "        nav_element.append(button);\n",
       "    }\n",
       "\n",
       "    var fmt_picker_span = $('<span/>');\n",
       "\n",
       "    var fmt_picker = $('<select/>');\n",
       "    fmt_picker.addClass('mpl-toolbar-option ui-widget ui-widget-content');\n",
       "    fmt_picker_span.append(fmt_picker);\n",
       "    nav_element.append(fmt_picker_span);\n",
       "    this.format_dropdown = fmt_picker[0];\n",
       "\n",
       "    for (var ind in mpl.extensions) {\n",
       "        var fmt = mpl.extensions[ind];\n",
       "        var option = $(\n",
       "            '<option/>', {selected: fmt === mpl.default_extension}).html(fmt);\n",
       "        fmt_picker.append(option);\n",
       "    }\n",
       "\n",
       "    // Add hover states to the ui-buttons\n",
       "    $( \".ui-button\" ).hover(\n",
       "        function() { $(this).addClass(\"ui-state-hover\");},\n",
       "        function() { $(this).removeClass(\"ui-state-hover\");}\n",
       "    );\n",
       "\n",
       "    var status_bar = $('<span class=\"mpl-message\"/>');\n",
       "    nav_element.append(status_bar);\n",
       "    this.message = status_bar[0];\n",
       "}\n",
       "\n",
       "mpl.figure.prototype.request_resize = function(x_pixels, y_pixels) {\n",
       "    // Request matplotlib to resize the figure. Matplotlib will then trigger a resize in the client,\n",
       "    // which will in turn request a refresh of the image.\n",
       "    this.send_message('resize', {'width': x_pixels, 'height': y_pixels});\n",
       "}\n",
       "\n",
       "mpl.figure.prototype.send_message = function(type, properties) {\n",
       "    properties['type'] = type;\n",
       "    properties['figure_id'] = this.id;\n",
       "    this.ws.send(JSON.stringify(properties));\n",
       "}\n",
       "\n",
       "mpl.figure.prototype.send_draw_message = function() {\n",
       "    if (!this.waiting) {\n",
       "        this.waiting = true;\n",
       "        this.ws.send(JSON.stringify({type: \"draw\", figure_id: this.id}));\n",
       "    }\n",
       "}\n",
       "\n",
       "\n",
       "mpl.figure.prototype.handle_save = function(fig, msg) {\n",
       "    var format_dropdown = fig.format_dropdown;\n",
       "    var format = format_dropdown.options[format_dropdown.selectedIndex].value;\n",
       "    fig.ondownload(fig, format);\n",
       "}\n",
       "\n",
       "\n",
       "mpl.figure.prototype.handle_resize = function(fig, msg) {\n",
       "    var size = msg['size'];\n",
       "    if (size[0] != fig.canvas.width || size[1] != fig.canvas.height) {\n",
       "        fig._resize_canvas(size[0], size[1]);\n",
       "        fig.send_message(\"refresh\", {});\n",
       "    };\n",
       "}\n",
       "\n",
       "mpl.figure.prototype.handle_rubberband = function(fig, msg) {\n",
       "    var x0 = msg['x0'] / mpl.ratio;\n",
       "    var y0 = (fig.canvas.height - msg['y0']) / mpl.ratio;\n",
       "    var x1 = msg['x1'] / mpl.ratio;\n",
       "    var y1 = (fig.canvas.height - msg['y1']) / mpl.ratio;\n",
       "    x0 = Math.floor(x0) + 0.5;\n",
       "    y0 = Math.floor(y0) + 0.5;\n",
       "    x1 = Math.floor(x1) + 0.5;\n",
       "    y1 = Math.floor(y1) + 0.5;\n",
       "    var min_x = Math.min(x0, x1);\n",
       "    var min_y = Math.min(y0, y1);\n",
       "    var width = Math.abs(x1 - x0);\n",
       "    var height = Math.abs(y1 - y0);\n",
       "\n",
       "    fig.rubberband_context.clearRect(\n",
       "        0, 0, fig.canvas.width / mpl.ratio, fig.canvas.height / mpl.ratio);\n",
       "\n",
       "    fig.rubberband_context.strokeRect(min_x, min_y, width, height);\n",
       "}\n",
       "\n",
       "mpl.figure.prototype.handle_figure_label = function(fig, msg) {\n",
       "    // Updates the figure title.\n",
       "    fig.header.textContent = msg['label'];\n",
       "}\n",
       "\n",
       "mpl.figure.prototype.handle_cursor = function(fig, msg) {\n",
       "    var cursor = msg['cursor'];\n",
       "    switch(cursor)\n",
       "    {\n",
       "    case 0:\n",
       "        cursor = 'pointer';\n",
       "        break;\n",
       "    case 1:\n",
       "        cursor = 'default';\n",
       "        break;\n",
       "    case 2:\n",
       "        cursor = 'crosshair';\n",
       "        break;\n",
       "    case 3:\n",
       "        cursor = 'move';\n",
       "        break;\n",
       "    }\n",
       "    fig.rubberband_canvas.style.cursor = cursor;\n",
       "}\n",
       "\n",
       "mpl.figure.prototype.handle_message = function(fig, msg) {\n",
       "    fig.message.textContent = msg['message'];\n",
       "}\n",
       "\n",
       "mpl.figure.prototype.handle_draw = function(fig, msg) {\n",
       "    // Request the server to send over a new figure.\n",
       "    fig.send_draw_message();\n",
       "}\n",
       "\n",
       "mpl.figure.prototype.handle_image_mode = function(fig, msg) {\n",
       "    fig.image_mode = msg['mode'];\n",
       "}\n",
       "\n",
       "mpl.figure.prototype.updated_canvas_event = function() {\n",
       "    // Called whenever the canvas gets updated.\n",
       "    this.send_message(\"ack\", {});\n",
       "}\n",
       "\n",
       "// A function to construct a web socket function for onmessage handling.\n",
       "// Called in the figure constructor.\n",
       "mpl.figure.prototype._make_on_message_function = function(fig) {\n",
       "    return function socket_on_message(evt) {\n",
       "        if (evt.data instanceof Blob) {\n",
       "            /* FIXME: We get \"Resource interpreted as Image but\n",
       "             * transferred with MIME type text/plain:\" errors on\n",
       "             * Chrome.  But how to set the MIME type?  It doesn't seem\n",
       "             * to be part of the websocket stream */\n",
       "            evt.data.type = \"image/png\";\n",
       "\n",
       "            /* Free the memory for the previous frames */\n",
       "            if (fig.imageObj.src) {\n",
       "                (window.URL || window.webkitURL).revokeObjectURL(\n",
       "                    fig.imageObj.src);\n",
       "            }\n",
       "\n",
       "            fig.imageObj.src = (window.URL || window.webkitURL).createObjectURL(\n",
       "                evt.data);\n",
       "            fig.updated_canvas_event();\n",
       "            fig.waiting = false;\n",
       "            return;\n",
       "        }\n",
       "        else if (typeof evt.data === 'string' && evt.data.slice(0, 21) == \"data:image/png;base64\") {\n",
       "            fig.imageObj.src = evt.data;\n",
       "            fig.updated_canvas_event();\n",
       "            fig.waiting = false;\n",
       "            return;\n",
       "        }\n",
       "\n",
       "        var msg = JSON.parse(evt.data);\n",
       "        var msg_type = msg['type'];\n",
       "\n",
       "        // Call the  \"handle_{type}\" callback, which takes\n",
       "        // the figure and JSON message as its only arguments.\n",
       "        try {\n",
       "            var callback = fig[\"handle_\" + msg_type];\n",
       "        } catch (e) {\n",
       "            console.log(\"No handler for the '\" + msg_type + \"' message type: \", msg);\n",
       "            return;\n",
       "        }\n",
       "\n",
       "        if (callback) {\n",
       "            try {\n",
       "                // console.log(\"Handling '\" + msg_type + \"' message: \", msg);\n",
       "                callback(fig, msg);\n",
       "            } catch (e) {\n",
       "                console.log(\"Exception inside the 'handler_\" + msg_type + \"' callback:\", e, e.stack, msg);\n",
       "            }\n",
       "        }\n",
       "    };\n",
       "}\n",
       "\n",
       "// from http://stackoverflow.com/questions/1114465/getting-mouse-location-in-canvas\n",
       "mpl.findpos = function(e) {\n",
       "    //this section is from http://www.quirksmode.org/js/events_properties.html\n",
       "    var targ;\n",
       "    if (!e)\n",
       "        e = window.event;\n",
       "    if (e.target)\n",
       "        targ = e.target;\n",
       "    else if (e.srcElement)\n",
       "        targ = e.srcElement;\n",
       "    if (targ.nodeType == 3) // defeat Safari bug\n",
       "        targ = targ.parentNode;\n",
       "\n",
       "    // jQuery normalizes the pageX and pageY\n",
       "    // pageX,Y are the mouse positions relative to the document\n",
       "    // offset() returns the position of the element relative to the document\n",
       "    var x = e.pageX - $(targ).offset().left;\n",
       "    var y = e.pageY - $(targ).offset().top;\n",
       "\n",
       "    return {\"x\": x, \"y\": y};\n",
       "};\n",
       "\n",
       "/*\n",
       " * return a copy of an object with only non-object keys\n",
       " * we need this to avoid circular references\n",
       " * http://stackoverflow.com/a/24161582/3208463\n",
       " */\n",
       "function simpleKeys (original) {\n",
       "  return Object.keys(original).reduce(function (obj, key) {\n",
       "    if (typeof original[key] !== 'object')\n",
       "        obj[key] = original[key]\n",
       "    return obj;\n",
       "  }, {});\n",
       "}\n",
       "\n",
       "mpl.figure.prototype.mouse_event = function(event, name) {\n",
       "    var canvas_pos = mpl.findpos(event)\n",
       "\n",
       "    if (name === 'button_press')\n",
       "    {\n",
       "        this.canvas.focus();\n",
       "        this.canvas_div.focus();\n",
       "    }\n",
       "\n",
       "    var x = canvas_pos.x * mpl.ratio;\n",
       "    var y = canvas_pos.y * mpl.ratio;\n",
       "\n",
       "    this.send_message(name, {x: x, y: y, button: event.button,\n",
       "                             step: event.step,\n",
       "                             guiEvent: simpleKeys(event)});\n",
       "\n",
       "    /* This prevents the web browser from automatically changing to\n",
       "     * the text insertion cursor when the button is pressed.  We want\n",
       "     * to control all of the cursor setting manually through the\n",
       "     * 'cursor' event from matplotlib */\n",
       "    event.preventDefault();\n",
       "    return false;\n",
       "}\n",
       "\n",
       "mpl.figure.prototype._key_event_extra = function(event, name) {\n",
       "    // Handle any extra behaviour associated with a key event\n",
       "}\n",
       "\n",
       "mpl.figure.prototype.key_event = function(event, name) {\n",
       "\n",
       "    // Prevent repeat events\n",
       "    if (name == 'key_press')\n",
       "    {\n",
       "        if (event.which === this._key)\n",
       "            return;\n",
       "        else\n",
       "            this._key = event.which;\n",
       "    }\n",
       "    if (name == 'key_release')\n",
       "        this._key = null;\n",
       "\n",
       "    var value = '';\n",
       "    if (event.ctrlKey && event.which != 17)\n",
       "        value += \"ctrl+\";\n",
       "    if (event.altKey && event.which != 18)\n",
       "        value += \"alt+\";\n",
       "    if (event.shiftKey && event.which != 16)\n",
       "        value += \"shift+\";\n",
       "\n",
       "    value += 'k';\n",
       "    value += event.which.toString();\n",
       "\n",
       "    this._key_event_extra(event, name);\n",
       "\n",
       "    this.send_message(name, {key: value,\n",
       "                             guiEvent: simpleKeys(event)});\n",
       "    return false;\n",
       "}\n",
       "\n",
       "mpl.figure.prototype.toolbar_button_onclick = function(name) {\n",
       "    if (name == 'download') {\n",
       "        this.handle_save(this, null);\n",
       "    } else {\n",
       "        this.send_message(\"toolbar_button\", {name: name});\n",
       "    }\n",
       "};\n",
       "\n",
       "mpl.figure.prototype.toolbar_button_onmouseover = function(tooltip) {\n",
       "    this.message.textContent = tooltip;\n",
       "};\n",
       "mpl.toolbar_items = [[\"Home\", \"Reset original view\", \"fa fa-home icon-home\", \"home\"], [\"Back\", \"Back to previous view\", \"fa fa-arrow-left icon-arrow-left\", \"back\"], [\"Forward\", \"Forward to next view\", \"fa fa-arrow-right icon-arrow-right\", \"forward\"], [\"\", \"\", \"\", \"\"], [\"Pan\", \"Pan axes with left mouse, zoom with right\", \"fa fa-arrows icon-move\", \"pan\"], [\"Zoom\", \"Zoom to rectangle\", \"fa fa-square-o icon-check-empty\", \"zoom\"], [\"\", \"\", \"\", \"\"], [\"Download\", \"Download plot\", \"fa fa-floppy-o icon-save\", \"download\"]];\n",
       "\n",
       "mpl.extensions = [\"eps\", \"jpeg\", \"pdf\", \"png\", \"ps\", \"raw\", \"svg\", \"tif\"];\n",
       "\n",
       "mpl.default_extension = \"png\";var comm_websocket_adapter = function(comm) {\n",
       "    // Create a \"websocket\"-like object which calls the given IPython comm\n",
       "    // object with the appropriate methods. Currently this is a non binary\n",
       "    // socket, so there is still some room for performance tuning.\n",
       "    var ws = {};\n",
       "\n",
       "    ws.close = function() {\n",
       "        comm.close()\n",
       "    };\n",
       "    ws.send = function(m) {\n",
       "        //console.log('sending', m);\n",
       "        comm.send(m);\n",
       "    };\n",
       "    // Register the callback with on_msg.\n",
       "    comm.on_msg(function(msg) {\n",
       "        //console.log('receiving', msg['content']['data'], msg);\n",
       "        // Pass the mpl event to the overridden (by mpl) onmessage function.\n",
       "        ws.onmessage(msg['content']['data'])\n",
       "    });\n",
       "    return ws;\n",
       "}\n",
       "\n",
       "mpl.mpl_figure_comm = function(comm, msg) {\n",
       "    // This is the function which gets called when the mpl process\n",
       "    // starts-up an IPython Comm through the \"matplotlib\" channel.\n",
       "\n",
       "    var id = msg.content.data.id;\n",
       "    // Get hold of the div created by the display call when the Comm\n",
       "    // socket was opened in Python.\n",
       "    var element = $(\"#\" + id);\n",
       "    var ws_proxy = comm_websocket_adapter(comm)\n",
       "\n",
       "    function ondownload(figure, format) {\n",
       "        window.open(figure.imageObj.src);\n",
       "    }\n",
       "\n",
       "    var fig = new mpl.figure(id, ws_proxy,\n",
       "                           ondownload,\n",
       "                           element.get(0));\n",
       "\n",
       "    // Call onopen now - mpl needs it, as it is assuming we've passed it a real\n",
       "    // web socket which is closed, not our websocket->open comm proxy.\n",
       "    ws_proxy.onopen();\n",
       "\n",
       "    fig.parent_element = element.get(0);\n",
       "    fig.cell_info = mpl.find_output_cell(\"<div id='\" + id + \"'></div>\");\n",
       "    if (!fig.cell_info) {\n",
       "        console.error(\"Failed to find cell for figure\", id, fig);\n",
       "        return;\n",
       "    }\n",
       "\n",
       "    var output_index = fig.cell_info[2]\n",
       "    var cell = fig.cell_info[0];\n",
       "\n",
       "};\n",
       "\n",
       "mpl.figure.prototype.handle_close = function(fig, msg) {\n",
       "    var width = fig.canvas.width/mpl.ratio\n",
       "    fig.root.unbind('remove')\n",
       "\n",
       "    // Update the output cell to use the data from the current canvas.\n",
       "    fig.push_to_output();\n",
       "    var dataURL = fig.canvas.toDataURL();\n",
       "    // Re-enable the keyboard manager in IPython - without this line, in FF,\n",
       "    // the notebook keyboard shortcuts fail.\n",
       "    IPython.keyboard_manager.enable()\n",
       "    $(fig.parent_element).html('<img src=\"' + dataURL + '\" width=\"' + width + '\">');\n",
       "    fig.close_ws(fig, msg);\n",
       "}\n",
       "\n",
       "mpl.figure.prototype.close_ws = function(fig, msg){\n",
       "    fig.send_message('closing', msg);\n",
       "    // fig.ws.close()\n",
       "}\n",
       "\n",
       "mpl.figure.prototype.push_to_output = function(remove_interactive) {\n",
       "    // Turn the data on the canvas into data in the output cell.\n",
       "    var width = this.canvas.width/mpl.ratio\n",
       "    var dataURL = this.canvas.toDataURL();\n",
       "    this.cell_info[1]['text/html'] = '<img src=\"' + dataURL + '\" width=\"' + width + '\">';\n",
       "}\n",
       "\n",
       "mpl.figure.prototype.updated_canvas_event = function() {\n",
       "    // Tell IPython that the notebook contents must change.\n",
       "    IPython.notebook.set_dirty(true);\n",
       "    this.send_message(\"ack\", {});\n",
       "    var fig = this;\n",
       "    // Wait a second, then push the new image to the DOM so\n",
       "    // that it is saved nicely (might be nice to debounce this).\n",
       "    setTimeout(function () { fig.push_to_output() }, 1000);\n",
       "}\n",
       "\n",
       "mpl.figure.prototype._init_toolbar = function() {\n",
       "    var fig = this;\n",
       "\n",
       "    var nav_element = $('<div/>');\n",
       "    nav_element.attr('style', 'width: 100%');\n",
       "    this.root.append(nav_element);\n",
       "\n",
       "    // Define a callback function for later on.\n",
       "    function toolbar_event(event) {\n",
       "        return fig.toolbar_button_onclick(event['data']);\n",
       "    }\n",
       "    function toolbar_mouse_event(event) {\n",
       "        return fig.toolbar_button_onmouseover(event['data']);\n",
       "    }\n",
       "\n",
       "    for(var toolbar_ind in mpl.toolbar_items){\n",
       "        var name = mpl.toolbar_items[toolbar_ind][0];\n",
       "        var tooltip = mpl.toolbar_items[toolbar_ind][1];\n",
       "        var image = mpl.toolbar_items[toolbar_ind][2];\n",
       "        var method_name = mpl.toolbar_items[toolbar_ind][3];\n",
       "\n",
       "        if (!name) { continue; };\n",
       "\n",
       "        var button = $('<button class=\"btn btn-default\" href=\"#\" title=\"' + name + '\"><i class=\"fa ' + image + ' fa-lg\"></i></button>');\n",
       "        button.click(method_name, toolbar_event);\n",
       "        button.mouseover(tooltip, toolbar_mouse_event);\n",
       "        nav_element.append(button);\n",
       "    }\n",
       "\n",
       "    // Add the status bar.\n",
       "    var status_bar = $('<span class=\"mpl-message\" style=\"text-align:right; float: right;\"/>');\n",
       "    nav_element.append(status_bar);\n",
       "    this.message = status_bar[0];\n",
       "\n",
       "    // Add the close button to the window.\n",
       "    var buttongrp = $('<div class=\"btn-group inline pull-right\"></div>');\n",
       "    var button = $('<button class=\"btn btn-mini btn-primary\" href=\"#\" title=\"Stop Interaction\"><i class=\"fa fa-power-off icon-remove icon-large\"></i></button>');\n",
       "    button.click(function (evt) { fig.handle_close(fig, {}); } );\n",
       "    button.mouseover('Stop Interaction', toolbar_mouse_event);\n",
       "    buttongrp.append(button);\n",
       "    var titlebar = this.root.find($('.ui-dialog-titlebar'));\n",
       "    titlebar.prepend(buttongrp);\n",
       "}\n",
       "\n",
       "mpl.figure.prototype._root_extra_style = function(el){\n",
       "    var fig = this\n",
       "    el.on(\"remove\", function(){\n",
       "\tfig.close_ws(fig, {});\n",
       "    });\n",
       "}\n",
       "\n",
       "mpl.figure.prototype._canvas_extra_style = function(el){\n",
       "    // this is important to make the div 'focusable\n",
       "    el.attr('tabindex', 0)\n",
       "    // reach out to IPython and tell the keyboard manager to turn it's self\n",
       "    // off when our div gets focus\n",
       "\n",
       "    // location in version 3\n",
       "    if (IPython.notebook.keyboard_manager) {\n",
       "        IPython.notebook.keyboard_manager.register_events(el);\n",
       "    }\n",
       "    else {\n",
       "        // location in version 2\n",
       "        IPython.keyboard_manager.register_events(el);\n",
       "    }\n",
       "\n",
       "}\n",
       "\n",
       "mpl.figure.prototype._key_event_extra = function(event, name) {\n",
       "    var manager = IPython.notebook.keyboard_manager;\n",
       "    if (!manager)\n",
       "        manager = IPython.keyboard_manager;\n",
       "\n",
       "    // Check for shift+enter\n",
       "    if (event.shiftKey && event.which == 13) {\n",
       "        this.canvas_div.blur();\n",
       "        // select the cell after this one\n",
       "        var index = IPython.notebook.find_cell_index(this.cell_info[0]);\n",
       "        IPython.notebook.select(index + 1);\n",
       "    }\n",
       "}\n",
       "\n",
       "mpl.figure.prototype.handle_save = function(fig, msg) {\n",
       "    fig.ondownload(fig, null);\n",
       "}\n",
       "\n",
       "\n",
       "mpl.find_output_cell = function(html_output) {\n",
       "    // Return the cell and output element which can be found *uniquely* in the notebook.\n",
       "    // Note - this is a bit hacky, but it is done because the \"notebook_saving.Notebook\"\n",
       "    // IPython event is triggered only after the cells have been serialised, which for\n",
       "    // our purposes (turning an active figure into a static one), is too late.\n",
       "    var cells = IPython.notebook.get_cells();\n",
       "    var ncells = cells.length;\n",
       "    for (var i=0; i<ncells; i++) {\n",
       "        var cell = cells[i];\n",
       "        if (cell.cell_type === 'code'){\n",
       "            for (var j=0; j<cell.output_area.outputs.length; j++) {\n",
       "                var data = cell.output_area.outputs[j];\n",
       "                if (data.data) {\n",
       "                    // IPython >= 3 moved mimebundle to data attribute of output\n",
       "                    data = data.data;\n",
       "                }\n",
       "                if (data['text/html'] == html_output) {\n",
       "                    return [cell, data, j];\n",
       "                }\n",
       "            }\n",
       "        }\n",
       "    }\n",
       "}\n",
       "\n",
       "// Register the function which deals with the matplotlib target/channel.\n",
       "// The kernel may be null if the page has been refreshed.\n",
       "if (IPython.notebook.kernel != null) {\n",
       "    IPython.notebook.kernel.comm_manager.register_target('matplotlib', mpl.mpl_figure_comm);\n",
       "}\n"
      ],
      "text/plain": [
       "<IPython.core.display.Javascript object>"
      ]
     },
     "metadata": {},
     "output_type": "display_data"
    },
    {
     "data": {
      "text/html": [
       "<img src=\"data:image/png;base64,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\" width=\"640\">"
      ],
      "text/plain": [
       "<IPython.core.display.HTML object>"
      ]
     },
     "metadata": {},
     "output_type": "display_data"
    },
    {
     "data": {
      "text/plain": [
       "<BarContainer object of 14 artists>"
      ]
     },
     "execution_count": 24,
     "metadata": {},
     "output_type": "execute_result"
    }
   ],
   "source": [
    "%matplotlib notebook\n",
    "\n",
    "# data\n",
    "data_raw = channel_types_top_250\n",
    "channels = sorted(data_raw, key=data_raw.get)\n",
    "values = sorted(data_raw.values())\n",
    "\n",
    "# style\n",
    "plt.style.use('Solarize_Light2')\n",
    "\n",
    "#plot\n",
    "fig, ax = plt.subplots()\n",
    "ax.barh(channels, values)\n"
   ]
  },
  {
   "cell_type": "code",
   "execution_count": null,
   "metadata": {},
   "outputs": [],
   "source": []
  }
 ],
 "metadata": {
  "kernelspec": {
   "display_name": "Python 3",
   "language": "python",
   "name": "python3"
  },
  "language_info": {
   "codemirror_mode": {
    "name": "ipython",
    "version": 3
   },
   "file_extension": ".py",
   "mimetype": "text/x-python",
   "name": "python",
   "nbconvert_exporter": "python",
   "pygments_lexer": "ipython3",
   "version": "3.7.6"
  }
 },
 "nbformat": 4,
 "nbformat_minor": 4
}
