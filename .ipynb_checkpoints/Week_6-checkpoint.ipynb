{
 "cells": [
  {
   "cell_type": "code",
   "execution_count": 1,
   "metadata": {},
   "outputs": [
    {
     "name": "stdout",
     "output_type": "stream",
     "text": [
      "file1\n",
      "file2\n",
      "file3\n",
      "https://www.gutenberg.org/files/1342/1342-0.txt\n",
      "http://www.gutenberg.org/cache/epub/16328/pg16328.txt\n",
      "https://www.gutenberg.org/files/11/11-0.txt\n",
      "(124711, 209876, 1.6828988621693355)\n"
     ]
    },
    {
     "data": {
      "text/plain": [
       "[(124711, 209876, 1.6828988621693355),\n",
       " (42197, 71832, 1.7023011114534208),\n",
       " (29608, 47548, 1.6059173196433396)]"
      ]
     },
     "execution_count": 1,
     "metadata": {},
     "output_type": "execute_result"
    }
   ],
   "source": [
    "from my_modules.Week_6.my_iterator import MyIterator\n",
    "urls = ['https://www.gutenberg.org/files/1342/1342-0.txt',\n",
    "        'http://www.gutenberg.org/cache/epub/16328/pg16328.txt',\n",
    "        'https://www.gutenberg.org/files/11/11-0.txt']\n",
    "\n",
    "myI = MyIterator(urls)\n",
    "myI.multi_download()\n",
    "\n",
    "# iterator\n",
    "for url in myI:\n",
    "    print(url)\n",
    "    \n",
    "# generator\n",
    "for url in myI.urllist_generator():\n",
    "    print(url)\n",
    "\n",
    "#avg vowels\n",
    "print(myI.avg_vowels('file1'))\n",
    "\n",
    "#hardest read\n",
    "myI.hardest_read()"
   ]
  },
  {
   "cell_type": "code",
   "execution_count": null,
   "metadata": {},
   "outputs": [],
   "source": []
  }
 ],
 "metadata": {
  "kernelspec": {
   "display_name": "Python 3",
   "language": "python",
   "name": "python3"
  },
  "language_info": {
   "codemirror_mode": {
    "name": "ipython",
    "version": 3
   },
   "file_extension": ".py",
   "mimetype": "text/x-python",
   "name": "python",
   "nbconvert_exporter": "python",
   "pygments_lexer": "ipython3",
   "version": "3.7.6"
  }
 },
 "nbformat": 4,
 "nbformat_minor": 4
}
