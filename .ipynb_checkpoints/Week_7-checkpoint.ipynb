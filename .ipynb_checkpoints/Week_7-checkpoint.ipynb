{
 "cells": [
  {
   "cell_type": "markdown",
   "metadata": {},
   "source": [
    "##### Link til opgave: https://docs.google.com/document/d/1jb6_LgLbVwkT_lf0lUngw--1tFNWPCJPBrzGh9jgFJg/edit?usp=sharing\n",
    "\n",
    "#### Spørgsmål\n",
    "\n",
    "1) Hvilket land i Norden (Danmark, Finland, Island, Norge og Sverige) har samlet set flest ‘Video Views’ beregnet ud fra hvert lands top 250? Lav et pie chart, som viser fordelingen.\n",
    "\n",
    "2) Hvilken ‘Channel Type’ har samlet set flest uploads ud fra top 250 for hver ‘Channel Type’? Vis fordelingen af uploads pr. ‘Channel Type’ med et bar plot.\n",
    "\n",
    "3) Hvordan er fordelingen af ‘Channel Type’ på danmarks top 250 youtube kanaler fordelt på most subscribers? Vis dette med et bar plot.\n",
    "\n",
    "##### URL: https://socialblade.com/youtube/top/\n",
    "\n"
   ]
  },
  {
   "cell_type": "code",
   "execution_count": 1,
   "metadata": {},
   "outputs": [],
   "source": [
    "from selenium import webdriver\n",
    "from selenium.webdriver.firefox.options import Options\n",
    "from tqdm import tqdm\n",
    "from concurrent.futures import ThreadPoolExecutor\n",
    "from concurrent.futures import ProcessPoolExecutor\n",
    "import multiprocessing\n",
    "import matplotlib.pyplot as plt\n",
    "import numpy as np\n",
    "\n",
    "# running headless\n",
    "options = Options()\n",
    "options.headless = True"
   ]
  },
  {
   "cell_type": "markdown",
   "metadata": {},
   "source": [
    "##### 1) Hvilket land i Norden (Danmark, Finland, Island, Norge og Sverige) har samlet set flest ‘Video Views’ beregnet ud fra hvert lands top 250? Lav et pie chart, som viser fordelingen."
   ]
  },
  {
   "cell_type": "code",
   "execution_count": 2,
   "metadata": {},
   "outputs": [
    {
     "name": "stderr",
     "output_type": "stream",
     "text": [
      "100%|██████████| 250/250 [00:11<00:00, 22.46it/s]\n",
      "100%|██████████| 250/250 [00:11<00:00, 22.30it/s]\n",
      "100%|██████████| 250/250 [00:11<00:00, 21.02it/s]\n",
      "100%|██████████| 250/250 [00:10<00:00, 24.58it/s]\n",
      "100%|██████████| 250/250 [00:10<00:00, 24.91it/s]\n"
     ]
    },
    {
     "name": "stdout",
     "output_type": "stream",
     "text": [
      "[('dk', 16995338111), ('fi', 26551243594), ('is', 3754414133), ('no', 39564969894), ('se', 51154234381)]\n"
     ]
    }
   ],
   "source": [
    "contries = ['dk', 'fi', 'is', 'no', 'se']\n",
    "\n",
    "def total_views_top_250_by_country(country_code):\n",
    "    views = 0\n",
    "    url = 'https://socialblade.com/youtube/top/country/{}'.format(country_code)\n",
    "    browser = webdriver.Firefox(options=options)\n",
    "    browser.get(url)\n",
    "    browser.implicitly_wait(3)\n",
    "    \n",
    "    for i in tqdm(range(5, 255)):\n",
    "        div = browser.find_element_by_xpath('/html/body/div[11]/div[2]/div[{}]'.format(i))\n",
    "        data_list = div.find_elements_by_tag_name('div')\n",
    "        views += int(data_list[5].text.replace(',', ''))\n",
    "    \n",
    "    browser.quit()\n",
    "    \n",
    "    return country_code, views\n",
    "\n",
    "def total_views_list(func, args, workers=multiprocessing.cpu_count()):\n",
    "    with ProcessPoolExecutor(workers) as ex:\n",
    "        res = ex.map(func, args)\n",
    "        return list(res)\n",
    "    \n",
    "    #with ThreadPoolExecutor(len(args)) as ex:\n",
    "        #res = tqdm(ex.map(total_views_top_250_by_country, contries), total=len(contries))\n",
    "        #return list(res)\n",
    "\n",
    "total_views_list = total_views_list(total_views_top_250_by_country, contries)\n",
    "print(total_views_list)"
   ]
  },
  {
   "cell_type": "code",
   "execution_count": 8,
   "metadata": {},
   "outputs": [
    {
     "data": {
      "application/javascript": [
       "/* Put everything inside the global mpl namespace */\n",
       "window.mpl = {};\n",
       "\n",
       "\n",
       "mpl.get_websocket_type = function() {\n",
       "    if (typeof(WebSocket) !== 'undefined') {\n",
       "        return WebSocket;\n",
       "    } else if (typeof(MozWebSocket) !== 'undefined') {\n",
       "        return MozWebSocket;\n",
       "    } else {\n",
       "        alert('Your browser does not have WebSocket support. ' +\n",
       "              'Please try Chrome, Safari or Firefox ≥ 6. ' +\n",
       "              'Firefox 4 and 5 are also supported but you ' +\n",
       "              'have to enable WebSockets in about:config.');\n",
       "    };\n",
       "}\n",
       "\n",
       "mpl.figure = function(figure_id, websocket, ondownload, parent_element) {\n",
       "    this.id = figure_id;\n",
       "\n",
       "    this.ws = websocket;\n",
       "\n",
       "    this.supports_binary = (this.ws.binaryType != undefined);\n",
       "\n",
       "    if (!this.supports_binary) {\n",
       "        var warnings = document.getElementById(\"mpl-warnings\");\n",
       "        if (warnings) {\n",
       "            warnings.style.display = 'block';\n",
       "            warnings.textContent = (\n",
       "                \"This browser does not support binary websocket messages. \" +\n",
       "                    \"Performance may be slow.\");\n",
       "        }\n",
       "    }\n",
       "\n",
       "    this.imageObj = new Image();\n",
       "\n",
       "    this.context = undefined;\n",
       "    this.message = undefined;\n",
       "    this.canvas = undefined;\n",
       "    this.rubberband_canvas = undefined;\n",
       "    this.rubberband_context = undefined;\n",
       "    this.format_dropdown = undefined;\n",
       "\n",
       "    this.image_mode = 'full';\n",
       "\n",
       "    this.root = $('<div/>');\n",
       "    this._root_extra_style(this.root)\n",
       "    this.root.attr('style', 'display: inline-block');\n",
       "\n",
       "    $(parent_element).append(this.root);\n",
       "\n",
       "    this._init_header(this);\n",
       "    this._init_canvas(this);\n",
       "    this._init_toolbar(this);\n",
       "\n",
       "    var fig = this;\n",
       "\n",
       "    this.waiting = false;\n",
       "\n",
       "    this.ws.onopen =  function () {\n",
       "            fig.send_message(\"supports_binary\", {value: fig.supports_binary});\n",
       "            fig.send_message(\"send_image_mode\", {});\n",
       "            if (mpl.ratio != 1) {\n",
       "                fig.send_message(\"set_dpi_ratio\", {'dpi_ratio': mpl.ratio});\n",
       "            }\n",
       "            fig.send_message(\"refresh\", {});\n",
       "        }\n",
       "\n",
       "    this.imageObj.onload = function() {\n",
       "            if (fig.image_mode == 'full') {\n",
       "                // Full images could contain transparency (where diff images\n",
       "                // almost always do), so we need to clear the canvas so that\n",
       "                // there is no ghosting.\n",
       "                fig.context.clearRect(0, 0, fig.canvas.width, fig.canvas.height);\n",
       "            }\n",
       "            fig.context.drawImage(fig.imageObj, 0, 0);\n",
       "        };\n",
       "\n",
       "    this.imageObj.onunload = function() {\n",
       "        fig.ws.close();\n",
       "    }\n",
       "\n",
       "    this.ws.onmessage = this._make_on_message_function(this);\n",
       "\n",
       "    this.ondownload = ondownload;\n",
       "}\n",
       "\n",
       "mpl.figure.prototype._init_header = function() {\n",
       "    var titlebar = $(\n",
       "        '<div class=\"ui-dialog-titlebar ui-widget-header ui-corner-all ' +\n",
       "        'ui-helper-clearfix\"/>');\n",
       "    var titletext = $(\n",
       "        '<div class=\"ui-dialog-title\" style=\"width: 100%; ' +\n",
       "        'text-align: center; padding: 3px;\"/>');\n",
       "    titlebar.append(titletext)\n",
       "    this.root.append(titlebar);\n",
       "    this.header = titletext[0];\n",
       "}\n",
       "\n",
       "\n",
       "\n",
       "mpl.figure.prototype._canvas_extra_style = function(canvas_div) {\n",
       "\n",
       "}\n",
       "\n",
       "\n",
       "mpl.figure.prototype._root_extra_style = function(canvas_div) {\n",
       "\n",
       "}\n",
       "\n",
       "mpl.figure.prototype._init_canvas = function() {\n",
       "    var fig = this;\n",
       "\n",
       "    var canvas_div = $('<div/>');\n",
       "\n",
       "    canvas_div.attr('style', 'position: relative; clear: both; outline: 0');\n",
       "\n",
       "    function canvas_keyboard_event(event) {\n",
       "        return fig.key_event(event, event['data']);\n",
       "    }\n",
       "\n",
       "    canvas_div.keydown('key_press', canvas_keyboard_event);\n",
       "    canvas_div.keyup('key_release', canvas_keyboard_event);\n",
       "    this.canvas_div = canvas_div\n",
       "    this._canvas_extra_style(canvas_div)\n",
       "    this.root.append(canvas_div);\n",
       "\n",
       "    var canvas = $('<canvas/>');\n",
       "    canvas.addClass('mpl-canvas');\n",
       "    canvas.attr('style', \"left: 0; top: 0; z-index: 0; outline: 0\")\n",
       "\n",
       "    this.canvas = canvas[0];\n",
       "    this.context = canvas[0].getContext(\"2d\");\n",
       "\n",
       "    var backingStore = this.context.backingStorePixelRatio ||\n",
       "\tthis.context.webkitBackingStorePixelRatio ||\n",
       "\tthis.context.mozBackingStorePixelRatio ||\n",
       "\tthis.context.msBackingStorePixelRatio ||\n",
       "\tthis.context.oBackingStorePixelRatio ||\n",
       "\tthis.context.backingStorePixelRatio || 1;\n",
       "\n",
       "    mpl.ratio = (window.devicePixelRatio || 1) / backingStore;\n",
       "\n",
       "    var rubberband = $('<canvas/>');\n",
       "    rubberband.attr('style', \"position: absolute; left: 0; top: 0; z-index: 1;\")\n",
       "\n",
       "    var pass_mouse_events = true;\n",
       "\n",
       "    canvas_div.resizable({\n",
       "        start: function(event, ui) {\n",
       "            pass_mouse_events = false;\n",
       "        },\n",
       "        resize: function(event, ui) {\n",
       "            fig.request_resize(ui.size.width, ui.size.height);\n",
       "        },\n",
       "        stop: function(event, ui) {\n",
       "            pass_mouse_events = true;\n",
       "            fig.request_resize(ui.size.width, ui.size.height);\n",
       "        },\n",
       "    });\n",
       "\n",
       "    function mouse_event_fn(event) {\n",
       "        if (pass_mouse_events)\n",
       "            return fig.mouse_event(event, event['data']);\n",
       "    }\n",
       "\n",
       "    rubberband.mousedown('button_press', mouse_event_fn);\n",
       "    rubberband.mouseup('button_release', mouse_event_fn);\n",
       "    // Throttle sequential mouse events to 1 every 20ms.\n",
       "    rubberband.mousemove('motion_notify', mouse_event_fn);\n",
       "\n",
       "    rubberband.mouseenter('figure_enter', mouse_event_fn);\n",
       "    rubberband.mouseleave('figure_leave', mouse_event_fn);\n",
       "\n",
       "    canvas_div.on(\"wheel\", function (event) {\n",
       "        event = event.originalEvent;\n",
       "        event['data'] = 'scroll'\n",
       "        if (event.deltaY < 0) {\n",
       "            event.step = 1;\n",
       "        } else {\n",
       "            event.step = -1;\n",
       "        }\n",
       "        mouse_event_fn(event);\n",
       "    });\n",
       "\n",
       "    canvas_div.append(canvas);\n",
       "    canvas_div.append(rubberband);\n",
       "\n",
       "    this.rubberband = rubberband;\n",
       "    this.rubberband_canvas = rubberband[0];\n",
       "    this.rubberband_context = rubberband[0].getContext(\"2d\");\n",
       "    this.rubberband_context.strokeStyle = \"#000000\";\n",
       "\n",
       "    this._resize_canvas = function(width, height) {\n",
       "        // Keep the size of the canvas, canvas container, and rubber band\n",
       "        // canvas in synch.\n",
       "        canvas_div.css('width', width)\n",
       "        canvas_div.css('height', height)\n",
       "\n",
       "        canvas.attr('width', width * mpl.ratio);\n",
       "        canvas.attr('height', height * mpl.ratio);\n",
       "        canvas.attr('style', 'width: ' + width + 'px; height: ' + height + 'px;');\n",
       "\n",
       "        rubberband.attr('width', width);\n",
       "        rubberband.attr('height', height);\n",
       "    }\n",
       "\n",
       "    // Set the figure to an initial 600x600px, this will subsequently be updated\n",
       "    // upon first draw.\n",
       "    this._resize_canvas(600, 600);\n",
       "\n",
       "    // Disable right mouse context menu.\n",
       "    $(this.rubberband_canvas).bind(\"contextmenu\",function(e){\n",
       "        return false;\n",
       "    });\n",
       "\n",
       "    function set_focus () {\n",
       "        canvas.focus();\n",
       "        canvas_div.focus();\n",
       "    }\n",
       "\n",
       "    window.setTimeout(set_focus, 100);\n",
       "}\n",
       "\n",
       "mpl.figure.prototype._init_toolbar = function() {\n",
       "    var fig = this;\n",
       "\n",
       "    var nav_element = $('<div/>');\n",
       "    nav_element.attr('style', 'width: 100%');\n",
       "    this.root.append(nav_element);\n",
       "\n",
       "    // Define a callback function for later on.\n",
       "    function toolbar_event(event) {\n",
       "        return fig.toolbar_button_onclick(event['data']);\n",
       "    }\n",
       "    function toolbar_mouse_event(event) {\n",
       "        return fig.toolbar_button_onmouseover(event['data']);\n",
       "    }\n",
       "\n",
       "    for(var toolbar_ind in mpl.toolbar_items) {\n",
       "        var name = mpl.toolbar_items[toolbar_ind][0];\n",
       "        var tooltip = mpl.toolbar_items[toolbar_ind][1];\n",
       "        var image = mpl.toolbar_items[toolbar_ind][2];\n",
       "        var method_name = mpl.toolbar_items[toolbar_ind][3];\n",
       "\n",
       "        if (!name) {\n",
       "            // put a spacer in here.\n",
       "            continue;\n",
       "        }\n",
       "        var button = $('<button/>');\n",
       "        button.addClass('ui-button ui-widget ui-state-default ui-corner-all ' +\n",
       "                        'ui-button-icon-only');\n",
       "        button.attr('role', 'button');\n",
       "        button.attr('aria-disabled', 'false');\n",
       "        button.click(method_name, toolbar_event);\n",
       "        button.mouseover(tooltip, toolbar_mouse_event);\n",
       "\n",
       "        var icon_img = $('<span/>');\n",
       "        icon_img.addClass('ui-button-icon-primary ui-icon');\n",
       "        icon_img.addClass(image);\n",
       "        icon_img.addClass('ui-corner-all');\n",
       "\n",
       "        var tooltip_span = $('<span/>');\n",
       "        tooltip_span.addClass('ui-button-text');\n",
       "        tooltip_span.html(tooltip);\n",
       "\n",
       "        button.append(icon_img);\n",
       "        button.append(tooltip_span);\n",
       "\n",
       "        nav_element.append(button);\n",
       "    }\n",
       "\n",
       "    var fmt_picker_span = $('<span/>');\n",
       "\n",
       "    var fmt_picker = $('<select/>');\n",
       "    fmt_picker.addClass('mpl-toolbar-option ui-widget ui-widget-content');\n",
       "    fmt_picker_span.append(fmt_picker);\n",
       "    nav_element.append(fmt_picker_span);\n",
       "    this.format_dropdown = fmt_picker[0];\n",
       "\n",
       "    for (var ind in mpl.extensions) {\n",
       "        var fmt = mpl.extensions[ind];\n",
       "        var option = $(\n",
       "            '<option/>', {selected: fmt === mpl.default_extension}).html(fmt);\n",
       "        fmt_picker.append(option);\n",
       "    }\n",
       "\n",
       "    // Add hover states to the ui-buttons\n",
       "    $( \".ui-button\" ).hover(\n",
       "        function() { $(this).addClass(\"ui-state-hover\");},\n",
       "        function() { $(this).removeClass(\"ui-state-hover\");}\n",
       "    );\n",
       "\n",
       "    var status_bar = $('<span class=\"mpl-message\"/>');\n",
       "    nav_element.append(status_bar);\n",
       "    this.message = status_bar[0];\n",
       "}\n",
       "\n",
       "mpl.figure.prototype.request_resize = function(x_pixels, y_pixels) {\n",
       "    // Request matplotlib to resize the figure. Matplotlib will then trigger a resize in the client,\n",
       "    // which will in turn request a refresh of the image.\n",
       "    this.send_message('resize', {'width': x_pixels, 'height': y_pixels});\n",
       "}\n",
       "\n",
       "mpl.figure.prototype.send_message = function(type, properties) {\n",
       "    properties['type'] = type;\n",
       "    properties['figure_id'] = this.id;\n",
       "    this.ws.send(JSON.stringify(properties));\n",
       "}\n",
       "\n",
       "mpl.figure.prototype.send_draw_message = function() {\n",
       "    if (!this.waiting) {\n",
       "        this.waiting = true;\n",
       "        this.ws.send(JSON.stringify({type: \"draw\", figure_id: this.id}));\n",
       "    }\n",
       "}\n",
       "\n",
       "\n",
       "mpl.figure.prototype.handle_save = function(fig, msg) {\n",
       "    var format_dropdown = fig.format_dropdown;\n",
       "    var format = format_dropdown.options[format_dropdown.selectedIndex].value;\n",
       "    fig.ondownload(fig, format);\n",
       "}\n",
       "\n",
       "\n",
       "mpl.figure.prototype.handle_resize = function(fig, msg) {\n",
       "    var size = msg['size'];\n",
       "    if (size[0] != fig.canvas.width || size[1] != fig.canvas.height) {\n",
       "        fig._resize_canvas(size[0], size[1]);\n",
       "        fig.send_message(\"refresh\", {});\n",
       "    };\n",
       "}\n",
       "\n",
       "mpl.figure.prototype.handle_rubberband = function(fig, msg) {\n",
       "    var x0 = msg['x0'] / mpl.ratio;\n",
       "    var y0 = (fig.canvas.height - msg['y0']) / mpl.ratio;\n",
       "    var x1 = msg['x1'] / mpl.ratio;\n",
       "    var y1 = (fig.canvas.height - msg['y1']) / mpl.ratio;\n",
       "    x0 = Math.floor(x0) + 0.5;\n",
       "    y0 = Math.floor(y0) + 0.5;\n",
       "    x1 = Math.floor(x1) + 0.5;\n",
       "    y1 = Math.floor(y1) + 0.5;\n",
       "    var min_x = Math.min(x0, x1);\n",
       "    var min_y = Math.min(y0, y1);\n",
       "    var width = Math.abs(x1 - x0);\n",
       "    var height = Math.abs(y1 - y0);\n",
       "\n",
       "    fig.rubberband_context.clearRect(\n",
       "        0, 0, fig.canvas.width / mpl.ratio, fig.canvas.height / mpl.ratio);\n",
       "\n",
       "    fig.rubberband_context.strokeRect(min_x, min_y, width, height);\n",
       "}\n",
       "\n",
       "mpl.figure.prototype.handle_figure_label = function(fig, msg) {\n",
       "    // Updates the figure title.\n",
       "    fig.header.textContent = msg['label'];\n",
       "}\n",
       "\n",
       "mpl.figure.prototype.handle_cursor = function(fig, msg) {\n",
       "    var cursor = msg['cursor'];\n",
       "    switch(cursor)\n",
       "    {\n",
       "    case 0:\n",
       "        cursor = 'pointer';\n",
       "        break;\n",
       "    case 1:\n",
       "        cursor = 'default';\n",
       "        break;\n",
       "    case 2:\n",
       "        cursor = 'crosshair';\n",
       "        break;\n",
       "    case 3:\n",
       "        cursor = 'move';\n",
       "        break;\n",
       "    }\n",
       "    fig.rubberband_canvas.style.cursor = cursor;\n",
       "}\n",
       "\n",
       "mpl.figure.prototype.handle_message = function(fig, msg) {\n",
       "    fig.message.textContent = msg['message'];\n",
       "}\n",
       "\n",
       "mpl.figure.prototype.handle_draw = function(fig, msg) {\n",
       "    // Request the server to send over a new figure.\n",
       "    fig.send_draw_message();\n",
       "}\n",
       "\n",
       "mpl.figure.prototype.handle_image_mode = function(fig, msg) {\n",
       "    fig.image_mode = msg['mode'];\n",
       "}\n",
       "\n",
       "mpl.figure.prototype.updated_canvas_event = function() {\n",
       "    // Called whenever the canvas gets updated.\n",
       "    this.send_message(\"ack\", {});\n",
       "}\n",
       "\n",
       "// A function to construct a web socket function for onmessage handling.\n",
       "// Called in the figure constructor.\n",
       "mpl.figure.prototype._make_on_message_function = function(fig) {\n",
       "    return function socket_on_message(evt) {\n",
       "        if (evt.data instanceof Blob) {\n",
       "            /* FIXME: We get \"Resource interpreted as Image but\n",
       "             * transferred with MIME type text/plain:\" errors on\n",
       "             * Chrome.  But how to set the MIME type?  It doesn't seem\n",
       "             * to be part of the websocket stream */\n",
       "            evt.data.type = \"image/png\";\n",
       "\n",
       "            /* Free the memory for the previous frames */\n",
       "            if (fig.imageObj.src) {\n",
       "                (window.URL || window.webkitURL).revokeObjectURL(\n",
       "                    fig.imageObj.src);\n",
       "            }\n",
       "\n",
       "            fig.imageObj.src = (window.URL || window.webkitURL).createObjectURL(\n",
       "                evt.data);\n",
       "            fig.updated_canvas_event();\n",
       "            fig.waiting = false;\n",
       "            return;\n",
       "        }\n",
       "        else if (typeof evt.data === 'string' && evt.data.slice(0, 21) == \"data:image/png;base64\") {\n",
       "            fig.imageObj.src = evt.data;\n",
       "            fig.updated_canvas_event();\n",
       "            fig.waiting = false;\n",
       "            return;\n",
       "        }\n",
       "\n",
       "        var msg = JSON.parse(evt.data);\n",
       "        var msg_type = msg['type'];\n",
       "\n",
       "        // Call the  \"handle_{type}\" callback, which takes\n",
       "        // the figure and JSON message as its only arguments.\n",
       "        try {\n",
       "            var callback = fig[\"handle_\" + msg_type];\n",
       "        } catch (e) {\n",
       "            console.log(\"No handler for the '\" + msg_type + \"' message type: \", msg);\n",
       "            return;\n",
       "        }\n",
       "\n",
       "        if (callback) {\n",
       "            try {\n",
       "                // console.log(\"Handling '\" + msg_type + \"' message: \", msg);\n",
       "                callback(fig, msg);\n",
       "            } catch (e) {\n",
       "                console.log(\"Exception inside the 'handler_\" + msg_type + \"' callback:\", e, e.stack, msg);\n",
       "            }\n",
       "        }\n",
       "    };\n",
       "}\n",
       "\n",
       "// from http://stackoverflow.com/questions/1114465/getting-mouse-location-in-canvas\n",
       "mpl.findpos = function(e) {\n",
       "    //this section is from http://www.quirksmode.org/js/events_properties.html\n",
       "    var targ;\n",
       "    if (!e)\n",
       "        e = window.event;\n",
       "    if (e.target)\n",
       "        targ = e.target;\n",
       "    else if (e.srcElement)\n",
       "        targ = e.srcElement;\n",
       "    if (targ.nodeType == 3) // defeat Safari bug\n",
       "        targ = targ.parentNode;\n",
       "\n",
       "    // jQuery normalizes the pageX and pageY\n",
       "    // pageX,Y are the mouse positions relative to the document\n",
       "    // offset() returns the position of the element relative to the document\n",
       "    var x = e.pageX - $(targ).offset().left;\n",
       "    var y = e.pageY - $(targ).offset().top;\n",
       "\n",
       "    return {\"x\": x, \"y\": y};\n",
       "};\n",
       "\n",
       "/*\n",
       " * return a copy of an object with only non-object keys\n",
       " * we need this to avoid circular references\n",
       " * http://stackoverflow.com/a/24161582/3208463\n",
       " */\n",
       "function simpleKeys (original) {\n",
       "  return Object.keys(original).reduce(function (obj, key) {\n",
       "    if (typeof original[key] !== 'object')\n",
       "        obj[key] = original[key]\n",
       "    return obj;\n",
       "  }, {});\n",
       "}\n",
       "\n",
       "mpl.figure.prototype.mouse_event = function(event, name) {\n",
       "    var canvas_pos = mpl.findpos(event)\n",
       "\n",
       "    if (name === 'button_press')\n",
       "    {\n",
       "        this.canvas.focus();\n",
       "        this.canvas_div.focus();\n",
       "    }\n",
       "\n",
       "    var x = canvas_pos.x * mpl.ratio;\n",
       "    var y = canvas_pos.y * mpl.ratio;\n",
       "\n",
       "    this.send_message(name, {x: x, y: y, button: event.button,\n",
       "                             step: event.step,\n",
       "                             guiEvent: simpleKeys(event)});\n",
       "\n",
       "    /* This prevents the web browser from automatically changing to\n",
       "     * the text insertion cursor when the button is pressed.  We want\n",
       "     * to control all of the cursor setting manually through the\n",
       "     * 'cursor' event from matplotlib */\n",
       "    event.preventDefault();\n",
       "    return false;\n",
       "}\n",
       "\n",
       "mpl.figure.prototype._key_event_extra = function(event, name) {\n",
       "    // Handle any extra behaviour associated with a key event\n",
       "}\n",
       "\n",
       "mpl.figure.prototype.key_event = function(event, name) {\n",
       "\n",
       "    // Prevent repeat events\n",
       "    if (name == 'key_press')\n",
       "    {\n",
       "        if (event.which === this._key)\n",
       "            return;\n",
       "        else\n",
       "            this._key = event.which;\n",
       "    }\n",
       "    if (name == 'key_release')\n",
       "        this._key = null;\n",
       "\n",
       "    var value = '';\n",
       "    if (event.ctrlKey && event.which != 17)\n",
       "        value += \"ctrl+\";\n",
       "    if (event.altKey && event.which != 18)\n",
       "        value += \"alt+\";\n",
       "    if (event.shiftKey && event.which != 16)\n",
       "        value += \"shift+\";\n",
       "\n",
       "    value += 'k';\n",
       "    value += event.which.toString();\n",
       "\n",
       "    this._key_event_extra(event, name);\n",
       "\n",
       "    this.send_message(name, {key: value,\n",
       "                             guiEvent: simpleKeys(event)});\n",
       "    return false;\n",
       "}\n",
       "\n",
       "mpl.figure.prototype.toolbar_button_onclick = function(name) {\n",
       "    if (name == 'download') {\n",
       "        this.handle_save(this, null);\n",
       "    } else {\n",
       "        this.send_message(\"toolbar_button\", {name: name});\n",
       "    }\n",
       "};\n",
       "\n",
       "mpl.figure.prototype.toolbar_button_onmouseover = function(tooltip) {\n",
       "    this.message.textContent = tooltip;\n",
       "};\n",
       "mpl.toolbar_items = [[\"Home\", \"Reset original view\", \"fa fa-home icon-home\", \"home\"], [\"Back\", \"Back to previous view\", \"fa fa-arrow-left icon-arrow-left\", \"back\"], [\"Forward\", \"Forward to next view\", \"fa fa-arrow-right icon-arrow-right\", \"forward\"], [\"\", \"\", \"\", \"\"], [\"Pan\", \"Pan axes with left mouse, zoom with right\", \"fa fa-arrows icon-move\", \"pan\"], [\"Zoom\", \"Zoom to rectangle\", \"fa fa-square-o icon-check-empty\", \"zoom\"], [\"\", \"\", \"\", \"\"], [\"Download\", \"Download plot\", \"fa fa-floppy-o icon-save\", \"download\"]];\n",
       "\n",
       "mpl.extensions = [\"eps\", \"jpeg\", \"pdf\", \"png\", \"ps\", \"raw\", \"svg\", \"tif\"];\n",
       "\n",
       "mpl.default_extension = \"png\";var comm_websocket_adapter = function(comm) {\n",
       "    // Create a \"websocket\"-like object which calls the given IPython comm\n",
       "    // object with the appropriate methods. Currently this is a non binary\n",
       "    // socket, so there is still some room for performance tuning.\n",
       "    var ws = {};\n",
       "\n",
       "    ws.close = function() {\n",
       "        comm.close()\n",
       "    };\n",
       "    ws.send = function(m) {\n",
       "        //console.log('sending', m);\n",
       "        comm.send(m);\n",
       "    };\n",
       "    // Register the callback with on_msg.\n",
       "    comm.on_msg(function(msg) {\n",
       "        //console.log('receiving', msg['content']['data'], msg);\n",
       "        // Pass the mpl event to the overridden (by mpl) onmessage function.\n",
       "        ws.onmessage(msg['content']['data'])\n",
       "    });\n",
       "    return ws;\n",
       "}\n",
       "\n",
       "mpl.mpl_figure_comm = function(comm, msg) {\n",
       "    // This is the function which gets called when the mpl process\n",
       "    // starts-up an IPython Comm through the \"matplotlib\" channel.\n",
       "\n",
       "    var id = msg.content.data.id;\n",
       "    // Get hold of the div created by the display call when the Comm\n",
       "    // socket was opened in Python.\n",
       "    var element = $(\"#\" + id);\n",
       "    var ws_proxy = comm_websocket_adapter(comm)\n",
       "\n",
       "    function ondownload(figure, format) {\n",
       "        window.open(figure.imageObj.src);\n",
       "    }\n",
       "\n",
       "    var fig = new mpl.figure(id, ws_proxy,\n",
       "                           ondownload,\n",
       "                           element.get(0));\n",
       "\n",
       "    // Call onopen now - mpl needs it, as it is assuming we've passed it a real\n",
       "    // web socket which is closed, not our websocket->open comm proxy.\n",
       "    ws_proxy.onopen();\n",
       "\n",
       "    fig.parent_element = element.get(0);\n",
       "    fig.cell_info = mpl.find_output_cell(\"<div id='\" + id + \"'></div>\");\n",
       "    if (!fig.cell_info) {\n",
       "        console.error(\"Failed to find cell for figure\", id, fig);\n",
       "        return;\n",
       "    }\n",
       "\n",
       "    var output_index = fig.cell_info[2]\n",
       "    var cell = fig.cell_info[0];\n",
       "\n",
       "};\n",
       "\n",
       "mpl.figure.prototype.handle_close = function(fig, msg) {\n",
       "    var width = fig.canvas.width/mpl.ratio\n",
       "    fig.root.unbind('remove')\n",
       "\n",
       "    // Update the output cell to use the data from the current canvas.\n",
       "    fig.push_to_output();\n",
       "    var dataURL = fig.canvas.toDataURL();\n",
       "    // Re-enable the keyboard manager in IPython - without this line, in FF,\n",
       "    // the notebook keyboard shortcuts fail.\n",
       "    IPython.keyboard_manager.enable()\n",
       "    $(fig.parent_element).html('<img src=\"' + dataURL + '\" width=\"' + width + '\">');\n",
       "    fig.close_ws(fig, msg);\n",
       "}\n",
       "\n",
       "mpl.figure.prototype.close_ws = function(fig, msg){\n",
       "    fig.send_message('closing', msg);\n",
       "    // fig.ws.close()\n",
       "}\n",
       "\n",
       "mpl.figure.prototype.push_to_output = function(remove_interactive) {\n",
       "    // Turn the data on the canvas into data in the output cell.\n",
       "    var width = this.canvas.width/mpl.ratio\n",
       "    var dataURL = this.canvas.toDataURL();\n",
       "    this.cell_info[1]['text/html'] = '<img src=\"' + dataURL + '\" width=\"' + width + '\">';\n",
       "}\n",
       "\n",
       "mpl.figure.prototype.updated_canvas_event = function() {\n",
       "    // Tell IPython that the notebook contents must change.\n",
       "    IPython.notebook.set_dirty(true);\n",
       "    this.send_message(\"ack\", {});\n",
       "    var fig = this;\n",
       "    // Wait a second, then push the new image to the DOM so\n",
       "    // that it is saved nicely (might be nice to debounce this).\n",
       "    setTimeout(function () { fig.push_to_output() }, 1000);\n",
       "}\n",
       "\n",
       "mpl.figure.prototype._init_toolbar = function() {\n",
       "    var fig = this;\n",
       "\n",
       "    var nav_element = $('<div/>');\n",
       "    nav_element.attr('style', 'width: 100%');\n",
       "    this.root.append(nav_element);\n",
       "\n",
       "    // Define a callback function for later on.\n",
       "    function toolbar_event(event) {\n",
       "        return fig.toolbar_button_onclick(event['data']);\n",
       "    }\n",
       "    function toolbar_mouse_event(event) {\n",
       "        return fig.toolbar_button_onmouseover(event['data']);\n",
       "    }\n",
       "\n",
       "    for(var toolbar_ind in mpl.toolbar_items){\n",
       "        var name = mpl.toolbar_items[toolbar_ind][0];\n",
       "        var tooltip = mpl.toolbar_items[toolbar_ind][1];\n",
       "        var image = mpl.toolbar_items[toolbar_ind][2];\n",
       "        var method_name = mpl.toolbar_items[toolbar_ind][3];\n",
       "\n",
       "        if (!name) { continue; };\n",
       "\n",
       "        var button = $('<button class=\"btn btn-default\" href=\"#\" title=\"' + name + '\"><i class=\"fa ' + image + ' fa-lg\"></i></button>');\n",
       "        button.click(method_name, toolbar_event);\n",
       "        button.mouseover(tooltip, toolbar_mouse_event);\n",
       "        nav_element.append(button);\n",
       "    }\n",
       "\n",
       "    // Add the status bar.\n",
       "    var status_bar = $('<span class=\"mpl-message\" style=\"text-align:right; float: right;\"/>');\n",
       "    nav_element.append(status_bar);\n",
       "    this.message = status_bar[0];\n",
       "\n",
       "    // Add the close button to the window.\n",
       "    var buttongrp = $('<div class=\"btn-group inline pull-right\"></div>');\n",
       "    var button = $('<button class=\"btn btn-mini btn-primary\" href=\"#\" title=\"Stop Interaction\"><i class=\"fa fa-power-off icon-remove icon-large\"></i></button>');\n",
       "    button.click(function (evt) { fig.handle_close(fig, {}); } );\n",
       "    button.mouseover('Stop Interaction', toolbar_mouse_event);\n",
       "    buttongrp.append(button);\n",
       "    var titlebar = this.root.find($('.ui-dialog-titlebar'));\n",
       "    titlebar.prepend(buttongrp);\n",
       "}\n",
       "\n",
       "mpl.figure.prototype._root_extra_style = function(el){\n",
       "    var fig = this\n",
       "    el.on(\"remove\", function(){\n",
       "\tfig.close_ws(fig, {});\n",
       "    });\n",
       "}\n",
       "\n",
       "mpl.figure.prototype._canvas_extra_style = function(el){\n",
       "    // this is important to make the div 'focusable\n",
       "    el.attr('tabindex', 0)\n",
       "    // reach out to IPython and tell the keyboard manager to turn it's self\n",
       "    // off when our div gets focus\n",
       "\n",
       "    // location in version 3\n",
       "    if (IPython.notebook.keyboard_manager) {\n",
       "        IPython.notebook.keyboard_manager.register_events(el);\n",
       "    }\n",
       "    else {\n",
       "        // location in version 2\n",
       "        IPython.keyboard_manager.register_events(el);\n",
       "    }\n",
       "\n",
       "}\n",
       "\n",
       "mpl.figure.prototype._key_event_extra = function(event, name) {\n",
       "    var manager = IPython.notebook.keyboard_manager;\n",
       "    if (!manager)\n",
       "        manager = IPython.keyboard_manager;\n",
       "\n",
       "    // Check for shift+enter\n",
       "    if (event.shiftKey && event.which == 13) {\n",
       "        this.canvas_div.blur();\n",
       "        // select the cell after this one\n",
       "        var index = IPython.notebook.find_cell_index(this.cell_info[0]);\n",
       "        IPython.notebook.select(index + 1);\n",
       "    }\n",
       "}\n",
       "\n",
       "mpl.figure.prototype.handle_save = function(fig, msg) {\n",
       "    fig.ondownload(fig, null);\n",
       "}\n",
       "\n",
       "\n",
       "mpl.find_output_cell = function(html_output) {\n",
       "    // Return the cell and output element which can be found *uniquely* in the notebook.\n",
       "    // Note - this is a bit hacky, but it is done because the \"notebook_saving.Notebook\"\n",
       "    // IPython event is triggered only after the cells have been serialised, which for\n",
       "    // our purposes (turning an active figure into a static one), is too late.\n",
       "    var cells = IPython.notebook.get_cells();\n",
       "    var ncells = cells.length;\n",
       "    for (var i=0; i<ncells; i++) {\n",
       "        var cell = cells[i];\n",
       "        if (cell.cell_type === 'code'){\n",
       "            for (var j=0; j<cell.output_area.outputs.length; j++) {\n",
       "                var data = cell.output_area.outputs[j];\n",
       "                if (data.data) {\n",
       "                    // IPython >= 3 moved mimebundle to data attribute of output\n",
       "                    data = data.data;\n",
       "                }\n",
       "                if (data['text/html'] == html_output) {\n",
       "                    return [cell, data, j];\n",
       "                }\n",
       "            }\n",
       "        }\n",
       "    }\n",
       "}\n",
       "\n",
       "// Register the function which deals with the matplotlib target/channel.\n",
       "// The kernel may be null if the page has been refreshed.\n",
       "if (IPython.notebook.kernel != null) {\n",
       "    IPython.notebook.kernel.comm_manager.register_target('matplotlib', mpl.mpl_figure_comm);\n",
       "}\n"
      ],
      "text/plain": [
       "<IPython.core.display.Javascript object>"
      ]
     },
     "metadata": {},
     "output_type": "display_data"
    },
    {
     "data": {
      "text/html": [
       "<img src=\"data:image/png;base64,iVBORw0KGgoAAAANSUhEUgAAAoAAAAHgCAYAAAA10dzkAAAgAElEQVR4nOzdd1iV9R/G8S97g6CiKOLAreBeqbkrZ2ZmztLShplllqWlqYUpghMHOBkiuADNvbepuBeiyChzVE5oyXX//uB3njhywAMe+D7nnPuP13XpWczzfN48U2RnZYCIiIiIzIeQ/QkQERERUcliABIRERGZGQYgERERkZlhABIRERGZGQYgERERkZlhABIRERGZGQYgERERkZlhABIRERGZGQYgERERkZlhABIRERGZGQYgERERkZlhABIRERGZGQYgERERkZlhABIRERGZGQYgEREZzKQJYyCEwKQJY4r9YwkhIISQ/jUTGSMGIKnGtUuHsThkBt4dOgD+fnVgZWUFIQSmTvq8wOft2hqLUR8OQ8vmjVHBqxxsbW3h7OyExg39MGXiWNy/fTnf5/55/zpmz5yMFs0awdXVBdbW1ihfzhOv9nwZO7fEFPlrSU8+juHDBsK7ohdsbW1RybsCRrwzCOnJx3U+/nb6WSyaPx19endDlcqVlK+hUYP6mPzNWPzx68UCP17mH8mY/M1Y1KldA/b2dihTxgM9u3fB4X0Jhf7cM/9IxtroMLzzdn/Uq1sTjo4OsLOzg2+1ynh/+GAknT/wzNcIXzYXrVo0gaurC1xcnNGqRRNELJ/3zOdt2hCOTh3awN3dDY6ODmjUoD7mBk/Fv4/TCv11/JKSiBVLZmPk+2+jWZMGsLW1hRAC77zdv8Dn/X7zAqIjFmDM6BFo3aoZHBzsIYRApw5tCnxe0vkDmDDuY3Tq2BZVKleCo6MD7O3tUKN6VXwwYgiuXjhY6K/h+uUjmDRhDJaFBhv8/TYr8FtMmjAGv9+8YNDXZQASGQcGIKnG6I/eVRbouT0rAAf2fw1CCFhbW8OnUkU0beyPyj7esLCwgBACVav44EbSsTzPe/TbVbRq0UT5OFUqV0Ljhn4oVcpNuW369xMK/XWcT9wND49SEELAzc0VjRv6wc3NFUIIlC7tjoun9+Z5TpsXmikf093dDY0b+qFK5UrK11DZxxvJFw/p/HgP7yahSSM/CCFga2uLRg3qo2KF8hBCwMrKCqvCQwr1+X/95Wjlc7G3t4Nf/dqoW6cmbGxsIISAo6MDEtatyPf57707WHl+7VrVUad2DeX/I99/O9/nTZv6lfK4alV94O9XB5aWlhBCoGf3LoWOwFmB3+r8fXpWAK6PWaLzec8KwNAFgRBCwMLCAuU8y6JRg/qoWaOaEp4ODvbYkhBZqK9h97Y1EEKgXduWBn+/VfbxhhAC1y8fMejrlmQA1qrpi1o1fYv94xCZIgYgqcbUSZ+je9fOmDJxLDbHR6BP7256BeCa6FBsjo/A49+vat1+PnE3/P3qQAiBri931PnxhBAoW7Y0juzbqNz+14MUfPv1Z0pA6bPGS+OfR6moW6cmhBDo07sbHv2W8zk9vJuE117tCiEE/P3q5ImZdm1b4q3BfXFk30Y8yUxXbj95ZCtqVK8KIQSaNvbX+TE1wVW7VnWkXDmK7KwM/Ps4DdO/n6CER+rVn/T+GiaM+xgd2r2ADbFLkXXvmnL7zRun0PXljhBCwNnZCb+kJOZ57qrwEAgh4OTkqLUGdcfm1XBycoQQArGrFud53qG98bCwsIClpSWiVs5Xbj91bDvKeZaFEAKB074u1O/TkkUz0blTW0wY9zHi1izDqA+H6RWAWxIi8WKbFhj76fuIiVqEgClf6hWAR/dvROSKebiVdkbr9tvpZ/HmG70ghECZMh55fk8LwgAkouLCACTVemtwX70CsCDHDmxSQi7zj2St+1o2bwwhBOYGT9X53Ib+9SCEQMicAL0/XkzUImVN39Obnu/fvozSpd0hhMC61WFa9939+Vy+r3lk30ZlLdTJI1u17vv5+klYW1tDCIFDe+PzPLdzp7YQQuDjke/o/TXcycj/c7l/+zI8PctACIHgGZPy3F+vbk78Bkz5Ms99308epwTw0/dpwnLEO4Py3Be5Yp7yPf3rQUqRfxc0YfKsAHzastBgvQKwIH/evw5395w1y9s2rdL7eQxAIiouDEBSLUME4P3bl5V4eno/ugZ+dSGEwMb1K3U+V7MGMr9A1EWzpueDEUN03v/+8Jy1df37vVqor0OzCTk6YoHW7Qvn/QAhBOrUrqHzedERCyCEQAWvcgb7ufTs3gVCCLw/fLDW7ZfO7FO+1zdvnMrzvF9SEpX7L5/dr9x+79YlZTPp0f0b8zzvrwcpcHV1gRACWzdGFfnzlhmA2VkZaNwwZzP9htilej2+XduWOjdFa3YJyP3YJ5npCF82Fy+2aQE3N1fY29uhVk1ffPHZh3n+uNB8PfnZvW2N8thtm1Zh5Ptvw9+vDtzd3WBnZ4dqVX3w/vDBOneryP191jcA5wV/ByEEur3SKd/H3P35HGxsbGBtba31B0pB+wA+yUzHqvAQdOrYFh4epWBra4uqVXww6sNhedZenzyyFUIINGpQP8/r5N414en9OFOuHNX58zh7YicGvNkb3hW9YGNjAzc3V1T3rYL+/V7F5vgIg70XiZ4HA5BUyxABuHVjlLJP2dP3DR74OoQQGP/FqDz3Zd27hiqVK0EIUagDKTTPye+Ah/Blc/P9fPLzz6NUODo6QAiBuDXLtO57e/AbEELg3aEDdD437epxZXgVZjNwQbp0fhFCCHz68XCt25eHzYIQAtV9q+T7XN9qlSGEwMqlc5Tb9mxfo+xv+PfDGzqf16lDGwghMGXi2CJ/3jID8O7P5+Dk5AgrKyu917h99MFQ1K9XC0IIuLq6oHWrZorXX+uuPO5JZjoGvNlba//Jxg39lKh+ev/RH+Mi0LpVM9jZ2Sm7FuR+7dxrma2srGBhYQFPzzJo6F8P9evVUjblly7tjvOJu/P9PusbgLfSzsDa2ho2Njb5rglfNH+6zl058gvAvx6koG+fHsr9FbzKoYFfXeV95FXeU+uPkH8fp8HNzRWWlpZ5Dop55aUOyussWTRT674VS2ZDCIEhg/oqtx3dv1E5cMjNzRUN/Oqifr1ayh9xvXq8ZJD3IdHzYgCSahU1AJ9kpuOXlERELJ8Hr/KesLa21rnW5Xzibjg7O8HGxgZB0yciPfk4Hv9+FYlHt6HbK50ghMCgAX30/rh/3r+uHLSga3NsdlYGDu6JgxAClpaWem/O3BC7VNmM/Wvqaa37Wrdqlu8mV833QhMCz3NUs8bNG6eUcFgTHap134RxH0MIgS6dX8z3+ZpN0t989Ylym+bgiZo1quX7vOHDBkIIgcEDXy/y5y4jAH/75Tx2bolBi2aNIITA52M+KNTz9dkErFmD5uLirLV5+ZeUROX3o0WzRnmep88m4EXzpyPj2gmt2x7/flXZnN/+xVb5fp8Lswn4pc7tIITAovnTdd7f/sVWOv+wyi8Av/z8I2WNXuLRbVqf+4fvvaWEb+7naN7zuQ9w+udRKlxdXZSDqnKHXnZWBoa99WaeMOzetbPyh+Wf969rPf6ngz8icsWzj4YnKgkMQFKtwgagrqM327VtiQO7N+T7nNM/7UDXlzsqR9tqlC7tjnnB3xXqyNNbaWeU5+s60jc7KwMXTu1RHlPQvnYaD+8mKQeBDHvrzTz3aw44WTB3Wr6vodln7+lgKwrNmqaaNarlWVunGaz9+vbM9/lvvJ6zVuajD4Yqt80I+DrfSNH44rMPIYRA966di/y5l1QA/n7zQp7fw2pVfbA8bFahP+dnBeCTzHRU8q4AIQRmBX6b5/705OP5/gHwvPsAao5cf/rURkUJQM2aNF1BmXHtBCwtLeHo6IAHd65o3acrAG+lnYGdnR1cXV2QdjXvaZf+fZyGZk0aQAiBfTvXKbdrDpoa++n7ym0/HfxRWdtd2cc7z6ZezRrt3JuGa9X0hRAC925dKvLvKlFJYACSahU2APftXIfWrZqhZfPGqFihPCwsLODgYI8R7wzK98jLhHUrlFOoVPAqh4b+9eDs7AQhBBo39NNae/AsqVd/UgZSfqdsSb54SHmMruH0tH59e0IIAe+KXjo3j1Wr6qNz01RumkAIXzb3uX4eIXMClDWRutZwataGFLSWTrPZPXeETZk4FkIItG3dPN/nffPVJ8+9GbakAvDBnSvK5tTqvlVgY2MDCwsLdO7UVjlKW1/PCsDzibuVzecP7ybpfEz/fq9CCIFxY0dq3a5vAP508EeMGzsSPbp1xottWihfm+YPix/jtPdpK0oA3r99GQ4O9rC0tMyzxjF4xqR8/7DQFYCaXRH69umR78eb/M3YPMsWzcFWzZs2VG4Lmj4RQuTstzlkUM7ySPMzzLh2Qllu5H7tTh1z1nKHLggs8u8qUUlgAJJqPe8+gBdO7UGHdi9ACIGXu7TPc3/E8nmwsLBA+XKe2LP9vx3f/7x/XTkXnouLM65dOqzXxzP0GsBxY0dCiJxTrhw/tFnnY0pqDWDCuhXK0cYL5/2g8zFcA6jbnYxzGPn+2xBCoHw5z0KdePlZAahZ613Q5vPvvv0CQgj07vWK1u3PCsAnmenKz7QgT2+WLepRwJp99p4+ulyztk7Xbhy6AvCzT96DEAKVvCto7duYW3XfKhBC+0Cmvx/egJOTI6ytrZU1jT27d4GFhQXu/nwOSxbNhBACK5bMRnZWBqJWzocQeQ/o2rh+pfJ51a5VHaM/ehexqxbrtcafqCQxAEm1DHEQyMO7Scp55PbvWq/c/teDFOX2p4+s1dAc7KDr1CS6GHIfwMBpOVFkZ2dX4L57JbEP4N4da5Wd2vP7ONlZ3AfwWTT7hhXm9/lZAag5qKjNC83yfQ3N97dTx7Zatz8rADWbZZ2cHBEyJwBJ5w9orUnXnID96auUFDUANTHbrEkD5barFw5CCIFSpdzy7E+XnaU7AN8dOuCZ0arx1mDtffo0v59bEiLxJDMd7u5uymmLks4fgBD/7YqhOf+mrj+INm0IxwstmyrLAyFyTlTft0+PfK8GRFTSGICkWoYIwOys/zajzgmaotym2XQmhMDt9LM6n6dZM9W4oZ/eH8sQRwEvDpmhDIynj/p9WnEfBXz80GblFCxffPZhgY/lUcAFWzB3ms41cQWRuQZQ8wdQfmt8X2zTwqABmHXvmnIVHs3J1zUna8/vZ6YrAD8ZlXNFoQnjPi70z0jz8b76/COcOrYdQgiM+nCYcn/FCuXhW60ysrMyULtW9QLX9mdn5Rz9vSF2KUZ9OAxlynhAiJwDU57nfJZEhsIAJNUyVABqzucXNH2iclvukyvnF4CancLr1qmp98fSxGZRzwO4KjwElpaWsLS01OtoQU1UFMd5AC+c2qMMrffeHfzMx188vVf5nhb2PICay8yZ8nkANUfr9uim/2ZsTRzrsw/g0wdIaOS3D6Dmj5X8ArBmjWoQQuDM8R06fyZly5Y2aABmZ/23H6km9DW7OOS39lpXAGr+gCrK6Vb27VwHIQRat2qGucFTIYT2rhOa7+WJw1sghICnZxm9X/vmjVPKqWDy20JAVJIYgKRahgjAP369qFyXN/cQuZ1+VjnyN79NwJrNQa/2fFnvj7c6ciGEePaVQNZGh+V57qYN4UoI5bfW5WkZ107odSWQ3Gsx9HH98hHl1BcD3uyt99HQmuv+FnQlEL/6tfPcpznX2rOuBKJrM6C+ZAegZi1m7s3fz3J0f94DE3J7kpkOn0oVIYTuo4Azrp1QdgHYtTVW58/qwqk9Ol9bc6L07T9G57lPc14+Qwfgjs2rlT9oNGvgvMp75vv7pysANV+zjY0NrpzT/zKO2Vk5ayHt7e1ga2ur/E7mvrSf5g+uXj1eghBC63yM+tBcXcgQR+QTPS8GIKmWPgGYce0ERn/0Ls6d3JXnvsP7EpTLvfnVr41/HqVq3f9yl/YQImfH/L071iq35z4IJL9Y09yX+6oJ2Vk55w3TbBp6+lrAmjWR9evVyjPQ9u9ar+xnNyOgcNe81ewfl/tawE8y05VN2Pb2djqv2qD5/j69H9TNG6eUneR7du+S72ZZXTSx9vS1gHduiVFOILw6cmGe5x3YveGZ1wKe/v2EPM/TbCJ9OgJ0Ke4AHPXhMOzaGpvn9yzlylHlCFIHB/tCHQmsObDI2dkpzzWGNTRrFl1dXbBj82qtn2Pb1s0hhEDL5o3zPE9z3rv8DiDSHLjSolkjrY+9OT4Crq4usLe3M3gA/vs4DV7lPSGEUN6fn4x6N9/H5/ez1xw0VLWKT5736JPMdBzdvxHvDx+s82h9zRVYLCws8qz91xzEpfnjcV7wd3me369vT2xcvzLPHyuxqxYrJ9bO7ywBRCWJAUiqcWD3BpQu7a7QnHDY0dFB6/bc+7Jdv3xEGQIeHqXQuKEfGjWor2y6FELAt1rlPJdwys7KGcyatSdCCFSsUB4N/evBxcVZuW34sIE6P9f8AjA7K+cyUJrrvrq5uaJJIz9l04+HRymdV0/QbG6zs7PL98jF1q2a5TnlRnZWzprFRg3qQwgBW1tbNGpQX1l7Z2Vlle/+iPkF4Ih3Bilf39NXicjt+8njdL6uJkg1a3I0a5qEyHv5uNw0+6oJkbOPpL9fHWUn+m6vdMoTVtlZBQdg6tWftH5vNIFtZ2endbuu80Tmvl9zWiAbGxut21eFh2g9R7NPnYODPfzq10azJg1QsUJ55WtwcXHWOsmwvjq2b608v0WzRmjXtqXWkdZPXwmkum8VrSuB+FSqqDM4Vi6dozynfr1aaNe2Jdq1bamc+uhG0jFl7bmDgz0a+tdTNht3aPeCwQ8C0dDsw6eha7eAp9+HT9/+98MbGDSgj3J/+XKeaN60IRr41dV6f+vaf09zyiEhdO/KoTmqXgjdm8c173U7OzvUr1cLzZo0UKK2sGuAiYoTA5BUI/cwL0jufZYy/0jGovnT8cbrPVCzRjW4ubnC2toaZcuWRsf2rTE3eGq+5wDMzso5ae+kCWPQqEF9ODs7Kc995aUOOtf8ZWflrFnRxJaufd2ys3Li492hA1CxQnnY2tqiYoXyGD5sYL7n/tPEw7M8PWw1Hv9+Fd9+/Rlq1fRVAqdHt84F7mukufrC05sONWH4LE+HY24rlsxGy+aN4ezsBGdnJ7Rs3ljrwI/8JKxbgY7tW8PNzRWOjg5o4FcXs2dO1hl/2Vk5+0wKIZQjNXPL/cdBQXRFfFF+FnFrluG9dwfD368OypTxgLW1NdzcXNG0sT/GfzGqyEd/3rxxCm8PfgMVK5RXNvfruhbwyqVz0LZ1c7i6usDOzg41qlfF52M+KPD0I3OCpsDfr44Sx09/Py6f3Y/XXu2qXF+4dq3qmPzNWPx5/7rye2LoADx2YJPWH28FPTa/ANTYtCEcr/Z8GeXLecLGxgaenmXQpJEfPvpgKPZsX6Nz07JmM7QQuncPef217sofc08y0/PcvyF2KUa8Mwj169WCh0cp2NnZwbdaZfTu9YrWlgYi2RiARIW0NjoMQggMHdJP+udSVJprn7q6uuTZV9GYjPpwGIT479xsRESkHwYgUSGNGT0CQgicPbFT+udSVGeO74AQ2pe9MkaNG/qhgle55zo4hIjIHDEAiQqpZfPGBZ7s2BgsnPcDrK2ti3RuQLV4eDcJ1tbWBZ6cmoiIdGMAEhEREZkZBiARERGRmWEAEhEREZkZBiARERGRmWEAEhEREZkZBiARERGRmWEAEhEREZkZBiARERGRmWEAEhEREZkZBiARERGRmWEAEhEREZkZBiARERGRmWEAEhEREZkZBiARERGRmWEAEqlUu7YtMfqjd5GdlYHKPt6YFfit9M+JiIhMAwOQSKUYgEREVFwYgEQqxQAkIqLiwgAkUoGHd5MweODrcHJyRPlynpj5wzcFBuDSxUFwdXXBtk2rpH/uRERkfBiARCrwwYgh8K7ohW2bVuHM8R3o3rUznJ2ddAZg4LSv4eFRCof3JUj/vImIyDgxAIkke3DnCmxtbREdsUC57e7P5+DgYJ8nAL/8/CN4lffEmeM7pH/eRERkvBiARJKdOrYdQgjcSDqmdXtD/3paAehd0Qvu7m5IvnhI+udMRETGjQFIJFni0W16BWD/fq/C1dUF06Z+Jf1zJiIi48YAJJLswZ0rsLGxwerIhcptv/1yHo6ODnk2AR/aGw8XF2fMCPha+udNRETGiwFIpALvDx8Mn0oVsWPzapw9sRM9u3fJ9yCQA7s3wNnZCcEzJkn/vImIyDgxAIlU4MGdKxg0oA8cHR1QzrMsZgR8XeBpYPbuWAsnJ0fMCZoi/XOX7cH9dKTcTMW5tBs4di0Fuy+lYNPZ64g9eQ3LjyYj5MBVBO5OwpRtSZi45Qq+3nwF43+8gq82XcGVRV8iZdZ7uDHnQ6TOG4XUkNFIWzgGaYvHImPF1/h17Qzc2RaKPw7H4OHZLci8fgR/37mIJ5np0r9uIqLnwQAkIlX6+3FO2B24koJ1idew6OBVfLc9CaM3XMaAqEvoHHoBDWafQ82ZRZf4TlOc6O5ZeD29cKp/DZwb3gyXxnRG0sQ+uB44DGkLx+DXtTPwx6HVyLx+GE8e3ZD+fSQi0oUBSETSPMlMR8btNBxMSkHU8Wv4fkcSRqy5jC5hF1Av+PnirlgDUE8ne1XAueHNkDTpdaQtHINb8bNx/6f1+DP9BNciEpFUDEAiKhF/PkrH2dQbWH3iGr7ZfAV9wi/C/znX4Kk9AAuS2McHF0a2RvLUAchYPh6/H1iFv349J/3nRETmgQFIRAb356N0JKbcQMRPyfhq0xX0Wn6xRNboGVMA5ufcO41xffpQ3IoLxqOLO/HkUar0nycRmR4GIBE9t6yH6TianIJ5+65iSPQl6Wv2jDkA864prIzLX3RF+pJx+H1/FNcSEpFBMACJqNAeP0jHoaQUzNp7FQOiLqH+LPkxZ6oBWNBawjubFzAIiahIGIBEpJe0W6lYeTQZQ2MuqXJzrjkFoJYe5XFpTGf8EjUFjy/vkf57QkTGgQFIRDr98zgdP11LwYxdSei69IL0WGMA6ufs0AZInTcK947E4t8H16X/HhGROjEAiUiR+TAdm89dx9iEK2g277z0QGMAPp/E16vg6pQ3/7+p+Kz03y8iUg8GIJGZ+/txOvZeTsHYhCtoOEd+lDEAi0mP8rj4aUfcjJ3GGCQiBiCROXqSmY4T12/g261JaBli+mv6GIBP6eWFq5PfwO/7I3m1EiIzxQAkMiPXfklF0O6r6LDYNPfpYwAW3umBdZC2+DM8Ttov/feTiEoOA5DIxGU9TEfc6WsYEHVJenCpDQNQ28VPOuBWwhz8c/eS9N9bIipeDEAiE3X9ZioCdiSZxcEcDEDDOvlaJVyb/jbu/bSe1ywmMlEMQCIT8s/jdOy4cB1DYy6hlgoCS+0YgM92dmhD3FwdgH9+vyL995uIDIcBSGQCHj1Ix4qjyWjPffsYgMXkVD9fpC/9En/dPCP9952Inh8DkMiI/fZHGubsvYrm87mZlwFYMk72roQbcz5EVsoR6b//RFR0DEAiI5R+KxVTtyWhwWz5EWXMGIDPoacXkr8fhEcXd0p/PxBR4TEAiYzI5YxUjE24gromci1e2RiAhnFlfE/c+2m99PcHEemPAUhkBK7+nIqP1l+WHkymhgFoWBdHt8dvu1fgyeM06e8ZIioYA5BIxdJvpWLcpiuoEyQ/lkwRA7B4nHuvOX4/sEr6+4eI8scAJFKh27+lYcq2JNTjpl4GoBG7PK4b9xEkUikGIJGK3LuXhqDdV3lwBwPQdPQoj+uB7+DPjETp7y8i+g8DkEgF/n6cjmVHknnVDgagyUrs44OM5ePxz+9J0t9vRMQAJJLuYFIKui7lCZwZgObh9KA6uL1xLp48SpX+3iMyZwxAIknSb6ViJI/sZQCaqfMftMK9I7HS34dE5ooBSFTCMh+mY+6+q/Dnfn7SMQDlS5rwKh5f2Sv9fUlkbhiARCVo6/nrvF6vijAAVaKXF9KXfol/71+T/h4lMhcMQKIS8OvdNLy/lpt71YYBqC7nhjfD/RPx0t+vROaAAUhUzGJPXkOTuTy6V40YgCrUoxxSZr2Pf+5ekv7eJTJlDECiYpJ+KxVDYy5JjxxiABqjM4Pr4vd9EdLfx0SmigFIZGBPMtMRcSwZDefIDxxiABq7a9Pfxt93Lkp/XxOZGgYgkQFdv5mKAVFc62csGIDG4czgevjj0Grp728iU8IAJDKQmJPXeAk3I8MANC4pQSPwz2+Xpb/XiUwBA5DoOd27l4bRG3iErzFiABqfs2/740HiRunveyJjxwAkeg4nU27wvH5GjAFopHp54ebqAOnvfyJjxgAkKoJ/M9MRcuAq6gbLjxhiAJqrq5P78XQxREXEACQqpJt30jA4mgd6mAIGoPE7924TPLq0W/pygcjYMACJCuHAlRQ0n8+TOpsKBqBpONm7Em7/GCJ9+UBkTBiARHoKPZSMOkHyo4UYgKRbStAIXk+YSE8MQKJnePwgHZ/E8ShfU8QAND0XPmqLrJQj0pcbRGrHACQqQPqtVPRaflF6qBADkPR36o1q+H1/pPTlB5GaMQCJ8nH4Kvf3M3UMQNOWFvo5njxKlb4sIVIjBiCRDsuOcH8/c8AANH1JE/vg33tXpS9TiNSGAUiUy9+P0zFh8xXpYUIMQDKci590wF+/npO+fCFSEwYg0f89epCO4Wt4fj9zwgA0H+eGN0XWjaPSlzNEasEAJMrKwJ3f0tAnnAd7mBsGoHk5PbA2Hp7fLn15Q6QGDEAye9dvpqJTKK/na44YgOYnsU9l/HE4Vvpyh0g2BiCZtVMpN9CCR/qaLQagmerlhTubF0hf/hDJxAAks7Xr4nU0mC0/QogBSHL8HDlZ+nKISBYGIJml9aeu8TQvxAAk3Jg7Ek8ep0lfJhGVNAYgmZ2o49dQSwXxQfIxAOlEd09cndwP/95Llr5sIipJDEAyK8uOJEuPDlIPBiBpXB7XlRFIZoUBSGZj5enDaDjntPToIPVgAFJuVyb0wr8PrktfVjunaj0AACAASURBVBGVBAYgmYXFiXtRN3wxesfFoMFsRiDlYADS05ImvY4nD1OkL7OIihsDkExe6P/jT+O1uFj4MQJpJgOQdEue2h9PHt2QvuwiKk4MQDJpoae040/j9fi1qD/rjPQAIQYgqdO1aUN4dDCZNAYgmaz84k+jb/w61A1mBJozBiAV5PrMd/EkM136soyoODAAySQtP7O/wPjT6JewnhFoxhiA9Cw35nwofXlGVBwYgGRyfrzyE+rpEX8abyZsQN3gs9JjhBiApE6pIaOlL9eIDI0BSCblWNoZNIwM0zv+NAYkxKFOECPQ3DAASV9poZ9LX74RGRIDkExG8q1LaBm9rNDxpzEwIR61GYFmhQFIhZGxfIL05RyRoTAAySTc+j0ZndeGFzn+NAYlbEStmYxAc8EApMK6FT9b+vKOyBAYgGT0Hj28gdcTop87/jQGJ2ySHibEACSV6uWFe8fWSV/uET0vBiAZtb8fp2HE9vUGiz+NIQk/So8TYgCSOp3q54vM5IPSl39Ez4MBSEbt6/0/Gjz+/ovALdIDhRiApE7nhjfF37cvSF8GEhUVA5CMVsjJPcUWf/9F4FbpkUIMQFKny+O68brBZLQYgGSU1l86Uuzxp0Rg/DbpoUIMQFKnG7M/kL48JCoKBiAZnYM3TsE/IrTEAjAnArdLjxViAJI6/bp2hvTlIlFhMQDJqKTcvoLmq5aWaPwpERi3Q3qwEAOQVKinF/44tFr68pGoMBiAZDSyHqXitXjDne6lKAbH7ZIeLcQAJPVJ7FsVj5P2SV9OEumLAUhGY+KBzVLjT2PQ+j3Sw4UYgKQ+Z4c2xF+/npO+rCTSBwOQjELC5WPSw0+jXvhiDGQEmgQGIBnapbEv4cmjG9KXmUTPwgAk1Uu+dRlNopZID788Ebhur/SAIQYgqU/G8vHSl5tEz8IAJFXLfJSKXnGrpAefLvXDF6P/2v3SI4YYgKQyPcrj/ol46ctPooIwAEnVivNKH4bgFxGKN2MPSA8ZYgCSupx5yw9/37kofRlKlB8GIKlW3KWj0gNPH/4RoXgj5qD0mCEGIKlL8tT+0pejRPlhAJIqXb11SXX7/RWkQWQY+sYckh40xAAkdbmdMFf68pRIFwYgqc6jhzfQMy5KetQVVsPIMPSJNr4I9P5wOZzqvAgr17IQQqDC23OU+2pMT4R7+2GwLV8dFjb2sHItC5fGPVDtm4LPh+j11izYedeFpb0LLGzsYedVC+X7B2g9pvyAH2DtVg6WDq5wb/e21n1Vx2+FTZnK8P3uCAOQjFpiHx88vnpA+nKV6GkMQFKdr/Ztkh5zRdUoMgy9Vx2WHnWFUfHdBfDoNAJeb83KE4C+Uw/DsUZLeA2eiSpfJKDSqEjY+/jBzrtuwVH5wTJ4vTUblT+PR5UvN6Nsr3EQllaoOHxRzutO3g8Lazt4DQqEz+hoWDm5o8I7IcrzHWu1htdbs4r9a2cAUkm4MLIN/n1wXfqylSg3BiCpyvpLR6RH3PNqHLUEvaKKd81VcXk6AHXxGR0NIQSqTijc9ZHtKtaGR6f3UHPmOVT6eBWsnEsr9zk3eBlluo9BzZnnUH7gD3Cq275Evl4GIJWU1AWfSF++EuXGACTV+PX3ZLSIlnOdX0NrGrUEPSONLwL1CcCKI8IgLCz03jxbI/AsvN8Lg4WNPSqOCEXNmefgO+UQLO2c4PNpLHynHISNR0VUHL4o59+lK6Hq1yVz3WUGIJUkXi+Y1IQBSKoxamec9HAzpGarlqJb+FHpUWfIAKw+7QTsvOvCpVH3Z76W79TDsLB1gLC0hoW1Lcq9MUXrfq+3ZsO2fHXYlK4Ejy4foObMc3Bt1htle42D94fLYVehNmzL+cJrSBADkEzC6YG18dcvp6Uva4mysxiApBLbrh6XHmzFoUX0UnRdeUx62BkiAGtMT4RTvQ6wq1hbr7V/NWacQZUvf4TPp2tQpsdYWNq7wPuDZfk+3vuDZbDzrofqAT/ByrUsvD9YjipfJMDS3hnVvi2eq64wAKmkJU14Vfrylig7iwFIKnDvfgraxa6QHmvFpWX0Mry8/Cfpcfc8AZgTfx1h61UTvpOLduJr1+avwbHmCzrvq/7DSdh6VoPPJzGoPGYdrJzclfvsvOuhwrB5DEAyGXe2hUpf7hIxAEm6bw5slh5pxa3V6mXovEz9EagrAJX4K+eLat/uK/JruzZ7DQ7Vmuq8z6PTCLi/+BZqzjwHn09jYeng+l8AetV65n6JDEAyJqcH1sbfdy9JX/aSeWMAklRHU09Lj7OS0jpmOTotPS498p5W/ftj8Pl0DXw+XQMhBMr2/AI+n65B1QnbUWP6KTjVbQ9rt3KoPGYtqk3co6jxQ6LyGi6Ne8C9w7vK/8t0HY2KI0JR5astqPJFAsr2+BzC0hrl+n6b5+NXHrsBNmV8UD0gZ1N59WnHYelYCuXemIwK74TAwtoWVb/ZyQAkk3JjzofSl79k3hiAJE3Wo1S8sj5CepiVpLYxK9BhyQnp0Zeb9wfLIITIw7VJL1Qdv1XnfUIIrf35HKo1hWuTXsr/PTqNgE0ZH1hY28HSwRX2lRvAa1Bgno9dI/As7Cs3RIVh87VurzBsPqxLecHKubTOaGQAktHrUQ4Pz2yRvhwm88UAJGmCju2UHmQytItdiXZhJ6WHHzEASa4LI9vgyaNU6ctiMk8MQJLi4s0L8I8IlR5jsrSPXYk2ixmBsjEASbaba6ZLXx6TeWIAUon7JzMdfTeulh5hsnVcE47WjEAGIJm1xNer4M+Mk9KXy2R+GIBU4pad3ic9vtSi89oItFqYKD2EzBUDkNQgeWp/6ctlMj8MQCpRaXeT0DgqTHp4qclLayPRYgEjkAFI5uyPg9HSl89kXhiAVKLG7tkoPbjU6JV1UWgWckp6EJkbBiCpxdmhDfHvvWTpy2gyHwxAKjHnfrmAeiqILbXqun4Vms5nBDIAyVylLxknfTlN5oMBSCVm2Na10iNL7Xqsj0bjuaelh5G5YACSmpzsVQGZ1w5JX1aTeWAAUok4mHJKelwZi54bVqPhHEYgA5DM0bVpQ6Qvr8k8MACp2D3JTMfrCdHSw8qYvBoXgwazGYEMQDI7Pcrh0eU90pfbZPoYgFTsNl45Jj2ojNFrcbHwZwQyAMnsXP32DenLbTJ9DEAqVn89TkOXdeHSY8pYvR6/BvVnnZEeSqaKAUhq9fAsrxNMxYsBSMUq4uwB6RFl7PrGr0U9RiADkMzKla96Sl9+k2ljAFKxefAgBa1XL5ceUKagX/w61A1mBDIAyZzcPxEnfTlOposBSMVmzvFd0sPJlLyZsAF1g89KjyZTwgAkNbv0WRfpy3EyXQxAKha3/0hGk6gl0qPJ1PRPiEOdIEYgA5DMxR+HVhfrsjp21WLUr1cL9vZ28PAohU4d2uDh3SRkZ2Vg6eIg1K5VHXZ2dqhV0xchs7+XPlvIcBiAVCwmH9wiPZZM1cCEeNRmBDIAySxcGNUWTzLTi2U5/fP1k7C2tkbwjEm4fvkIzhzfgZDZ3+PBnStYHDIDXuU9sTY6DNcuHcba6DB4eJTC8rBZ0ucLGQYDkAzu59+uwj8iVHoombJBCQmoNZMRyAAkc/Db7uXFsqw+cXgLhBBIuXI0z32VvCsgauV8rdumTvocrVo0kT5jyDAYgGRw049ulx5I5mBQwiZGIAOQzMC595rjyaNUgy+r/3mUik4d2sDFxRmvv9Ydi0Nm4LdfzuNW2hkIIeDgYA8nJ0eFnZ0dPD3LSJ8xZBgMQDKohw9uoPmqpdLjyFwMTvhRekQZMwYgGYs7WxcVyzL7SWY6DuzegInjP4Vf/dooW7Y0juzbCCEEIpbPQ9L5A1quXTosfc6QYTAAyaBWnNkvPYrMzZCEzdJDylgxAMlYnP+gVbEvv/95lIqKFcojaPpEVKxQHlMmjpU+U6j4MADJYP7JTEfntbzqh5wI3Co9powRA5CMyb2jawy6zD6ybyO+nzwOPx38ETeSjiEmahFsbW3xY1wEQhcEwsHBHrNnTsbls/tx5vgOLF0chKDpE6XPGjIMBiAZzOakn6SHkDkbEr9NelAZGwYgGZOkCa8adJl94dQevNS5HcqWLQ07OzvUrFEN84K/U+6PXDEPDf3rwdbWFu7ubnixTQusWx0mfdaQYTAAyWD6b4qRHkHmbkj8dulRZUwYgGRsHiftk76sJ9PAACSDSEw/Kz1+6P8RGLdDelgZCwYgGZuUoBHSl/dkGhiAZBCf7IqXHj70n8EbdkmPK2PAACRjc7K3N/769az0ZT4ZPwYgPbe0u0nw44mfVWfQht3SA0vtGIBkjH6OmCR9uU/GjwFIzy3g8DbpsUN51QtfjEHr90iPLDVjAJIxOvOWX7GcGJrMCwOQnsv9ByloumqJ9Nih/CNw4Lq90kNLrRiAZKx+3xsufflPxo0BSM9l6el90iOHClY/fDH6r90nPbbUiAFIxurKVz2kL//JuDEAqcieZKajC0/8bBT8IkLx5pr90oNLbRiAZLR6lENm8kHpc4CMFwOQiuyntDPSw4b05x8Rin6xB6RHl5owAMmYpYaMlj4HyHgxAKnIJh7YLD1qqPAR2Hf1QenhpRYMQDJmp96ohn/vX5M+C8g4MQCpSP58lIoW0UulBw0VXoPIMPSJPiQ9vtSAAUjG7jceDEJFxACkItl+9bj0kKGiaxQZht6rDksPMNkYgGTskr8bIH0ekHFiAFKRjOaVP4xeo6gwvBp1RHqEMQCJiu7ka5Xwz+9XpM8EMj4MQCq0e/dT0DAyTHrA0PNrErUEPSOPSg8xBiBR0d3ZFip9LpDxYQBSocVeOCw9XMhwmq5aiu7h5hmBDEAyBUnfvCZ9LpDxYQBSoQ3ZvEZ6tJBhNV+1FF1XHpMeZAxAosI72asC/r59QfpsIOPCAKRC+fm3q6ingmAhw2sRvQyvrPhJepQxAIkK73bCXOnzgYwLA5AKJTRxr/RQoeLTavUydFlmPhHIACRTcXlcN+nzgYwLA5AKpVdclPRIoeLVevVydF56XHqcMQCJCqFHefz58ynpM4KMBwOQ9Hbx5gXpcUIlo03MCnRYckJ6oDEAifT369oZ0ucEGQ8GIOkt8OgO6WFCJefFmBVoH2baEcgAJFNy8dOO0ucEGQ8GIOmt24ZI6VFCJat97Eq0DT0pPdQYgET6ybpxVPqsIOPAACS9/PzbVekxQnJ0XBOO1otNMwIZgGRqfon+Tvq8IOPAACS98OTP5q3Tmgi8sMj0IpABSKaGRwOTvhiApJdPdvPav+bupbWRaLkgUXq0MQCJ8neytzf+vZcsfWaQ+jEA6Zn+yUxHy+hl0gOE5Ht5XRSahZySHm4MQKL83Tu6RvrcIPVjANIznco4Jz08SD26rl+FpvNNIwIZgGSK0kI/lz43SP0YgPRMISf3SI8OUpfu66PRZN5p6QHHAFSXL+s7o7qLFZysLeBkbQG/UtaY08xNuV8IodPo2k75vmbMix7oUN4OXg6WEEJgTF3nPI+Z2tAVnvaWcLWxwOBqjlr3JXQoDR8nK+x9qYz0709JufBRW+lzg9SPAUjPNPDHWOnBQerTc8NqNJpr3GsCGYCGFdzUDXOauWFdOw+sa+eBYb6OsLYQiHnRAye6e2Jrp9JaJvq7wEIIxHUone9rrmztjsHVHBHQyBWl7SzzBODOLmVgZykQ0MgVK1u7w93WArOb/hedrcraYkZjV+nfmxLVoxz+vnVO+uwgdWMAUoHuP0iBf0So9NggdXo1LgYN5hjvmkAGYPFztbHAN34uOu9rV84WTUvb6P1aXg55A3Bla3d42Fkq/+/sZaesUfyuoSteLGcr/Xsgw92dy6TPD1I3BiAVaPvV49Ijg9Std1ws/GcbZwQyAIvPsW5lEdDIFTaWArH/XwOY27bOZWBlIfBdQ/3XzukKwN0vlYGTtQWi2rhjV5cyqOBgiXnN3bCrSxl4O1phU8f81y6aspRZ70mfH6RuDEAj8yQzHcOHDYS7uxuEEHBzc8Xoj94tto/37cEt0gOD1K9P3Br4GWEEMgANb3VbDzhYWcDKQsDZ2kJrH8DcPq7tBFcbCxx6pazer60rAE9090RgEzf4uljB29EKI2rk7APY09sen9V1RmjLUqjpao1qzlaYbkabgs8ObSB9XpG6MQCNzI9xEbCxscHBPXH4JSURv6aexv3bl4vt43VZGy49Lsg49I1fi3qzzkiPOgagXEe6lsWG9h4Ib+2Ot30dUcrWQucawMpOVuhX2aFQr51fAD5tcctSqONmjYOvlEUZO0ssblkKa9t5wMnaAts7m8/BIJnXj0ifWaReDEAjMy/4O/hUqlgiHyvl9hXpUUHG5Y34dagbbDwRyAAsfs1K2+A1H3ut28JalYIQAqvauhfqtfQJwMOvlEVVZytEtnFHdFsPuNtaKPfVcbNGcFPdayRN0a342dJnFqkXA9CIvDW4r9apEyr7eKNd25bFtgk4+vwh6UFBxufNhPWoG3xWetwxANWhaWkbdPfWDsDu3vao42Zd6NfSJwDfqe6IgVVz1ixGtXGHq81/AVjD1Rozm5hPACZPHSB9bpF6MQCNyB+/XsSUiWPhXdELv6Qk4lbamWINwC/3bZIeE2Sc+ifEoU6Q+iOQAWhYQ30dEdaqFBI6lMbqtjmngbEUAiHNSymP2ftSGdhbCXxVX/eRwd0q2uNt3//O5Xeka1lEtXFHVBt3lLGzxOBqjohq444N7fNuVo550QOVHK1w4OWc/QoPvlIWbv8/Cnl2UzfYWgps7mQ+B4Wc6lcdTx6nSZ9dpE4MQCMzK/BbVPbxVv5fnAHYbUOk9JAg4zUgIR61VR6BDEDD6uVtDy8HS9hYCrjbWqBZaRut+DvR3RPj/VxgZynyPTFzYw/tNYYJHUrrPHl0Yw/t08cc71YW/u42mPXUJt5ZTd1Q3sESHnaW+Dqf09GYsszkg9LnFqkTA9DIlFQA3n+QgnoqiAgyboMSElBrpnojkAFIpu7uzqXS5xapEwPQyJRUAB5JPS09Hsg0DErYpNoIZACSqUsP+0L63CJ1YgAamZIKwNBTe6WHA5mOwQmbpMceA5DM0ZUJvaTPLVInBqCRKakAHL0rXno0kGkZkrBZevAxAMncnB5QS/rcInViABqZkgrAjmtWSg8GMj1DErZIjz4GIJmbPzMSpc8uUh8GIOXxx/3r0kOBTNeQ+K3Sw48BSObkj4PR0ucKqQ8DkPI4ygNAqJgNid8uPf4YgGQufo78VvpcIfVhAFIe4WcPSA8EMn1D4nYwAIlKQPLU/tLnCqkPA5DymLD/R+lxQOZhSNxOBiBRMTv7TiPpc4XUhwFIefTduFp6GJD5GLxhNwOQqDj1KId/7l6SPltIXRiApOWfzHQ0igyTHgVkXgatlxOBDEAyF/dPxEufL6QuDEDSknzrsvQYIPNTL3wxBq7bywAkKia/rp0hfb6QujAAScueayelxwCZp/rhizFg7T4GIFExSAkeIX2+kLowAEnLqnMHpYdAcao8fiycG/rBupQbhBDwHv2B1v015wXCrU1LWJdyg4WtDZz86sJ3xpQCX9Nr2CA41KwOS0dHWDo6wqlubVSd9KXWYyq+PwzWHu6wdHJE6a5dtO6rHvQ9bMt5otbi2dK/P7L5RYTizTX7GYBEBnZlfE/p84XUhQFIWoKO7ZQeAcWp0mejUKZnV3h//H6eAKyzchEcfKvCsWZ1VP32K/hOn4xS7dvCprQHaofNzfc1XVs1Q/m3+qPa1K/h+8NklGr7AiwdHVBj9g+oG74YNUOCYGFjg4ojh6Pqt1/BysUFlcZ8pDzfya8evD9+X/r3Ri38I0LRL/YAA5DIgM6NaCZ9vpC6MABJy9g9G6UHQEl5OgB9Z0yBEALVAiYpt9VZsRBWTk7wGjZY79ets2IhLO3tUWHEUNQNX4yqk76ElZurcr9r8ybwfLMP6oYvRsUP3oFzI3/p3wu18Y8IxRurDzIAiQwksY+P9PlC6sIAJC2DfoyVPvxLytMBWO37iRBCoHrgd1qPs3ZzhVublnq/bq3Fc2BhY4NKY0bm/H9hMCzt7VF16gTUWhAMm7Jl4PP5xzn/9iyLGrOmSf9eqFGDyDD0iT7EACQykL9vn5c+Y0g9GICkpeOaldIHf0nJswl42QLYlPGAa7PGqLUwGHWWhcDzjd4QQsCpfl29X9e9UzvYeJZF7SXzldu8P34fdt4VYONZFmV6d0fd8MUo1fYFlBv0BiqPHwt7n0qwq1gB3qNGSP++qEmjyDC8Fn2YAUhkAI8u7pQ+Y0g9GICk+CczHX4RodKHfknRdRBI1cnjYefjDSEEhKUlnPzqwtm/Hpz96+n1mp79XoOlkyOqffdNgY+r/NUY2FetjNph82Bdyg2Vx38G3+mTYelgj5rzA6V/b9SkUVQYekcdYQASPaff90dKnzOkHgxAUvz821Xpw74k6QpAjVqLZqPm/JmoG74Y9tWqwL1Tu2e+nuebfWDp6ICqk8cX+LjaS+fDtkJ5VJ0yAdW++wZWLi7KffZVK6PSpyOlf2/UpknUEvSMPMoAJHoOv64Pkj5nSD0YgKQ4kX5W+qAvSQUFoIbvjCkQFhbw+Xx0gY/zfLMPLB3sUWXiuGd+3DI9u8Ljlc6oG74YVadOgKWTo3KfnY/3Mz8nc9U0agl6RBg2AhmAZE7SQj+XPmdIPRiApNh45Zj0IV/caofOQbWpX6Pa1K8hhEC5AX1RberXyoEY3h+NQOWvxqD6zO9Q6ZMPYFPGAy5NG2m9htsLLVC6+8vK/z37vQYLa2t4j3oPNefOUNQOnZPn41cLmATbcmWV08rUXjIPVs5O8HpnCCqN+QgWNtbK6WMor+arlqJb+DEGIFERXAsYLH3OkHowAEkRemqv9AFf3Cp/NSZn/76naI7yLTeoH6w93CGsrGBT2gNlenVDnWUhWq/hWLuG1lHBNmU8dL6m5mAPjTorF8GhejXl6GCNSmNGwqa0B6zcXAt1uhlz1SJ6GV5e8RMDkKiQLn3WRfqcIfVgAJJiyqEt0oc7kT5aRS/DS8uPMwCJCuHMW37S5wypBwOQFO9vXy99sBPp64XVy9Fp6fNFIAOQzEpPLzx5dEP6rCF1YACS4tX4VdKHOlFhtIlZgQ5LTjAAifT0Z9px6bOG1IEBSIoXY1dIH+hEhfVizAq0DytaBDIAydw8urBD+qwhdWAAkqL5qqXShzlRUbSPXYkXQ08yAIme4UHiRumzhtSBAUgKfzO6CgiZno5rwtFmceEikAFI5uaPw7HSZw2pAwOQkJ2Vgb8ep0kf4ETPq9OaCLywSP8IZACSufltz0rp84bUgQFIyM7KwB/3U6QPbyJD6LI2Ei0XJDIAiXS4s3Wx9HlD6sAAJGRnZeDm78nSBzeRoby8LgrNF5xiABI95Vb8bOnzhtSBAUjIzsrA9duXpQ9tIkPqui4KzUIKjkAGIJmbm7HTpM8bUgcGICE7KwMXb16QPrCJDK3b+lVoOu80A5Do/34Onyh93pA6MAAJ2VkZOJl+VvqwJioOPTZEo9Fc3WsCGYBkbtLDvpA+b0gdGICE7KwMHLxxSvqgJiouvTbEoMGcvGsCGYBkblLnjZI+b0gdGICE7KwM7Eg+IX1IExWn3nEx8J99mgFIZu36zHelzxtSBwYgITsrAxuvHJM+oImKW5+4NfDLFYEMQDI3yd8PlD5vSB0YgITsrAzEXjgsfTgTlYS+8WtRb9YZBiCZpaRvXpM+b0gdGICE7KwMhJ89IH0wE5WUN+LXoW7wGQYgmZ3L47pKnzekDgxAQnZWBpad3id9KBOVpH7x65H4TjPpA5moJF35qof0eUPqwAAkZGdlIIJrAMlM+IcvwldxX2F7dCccD26Ok729pQ9lopLCTcCkwQAkZGdlYA33ASQT13rVPPywcQTi1rXHzvllsXmGwOYZAseCGyGxT2Xpg5moJCRP7S993pA6MAAJ2VkZSLjMo4DJNPVZE4i58a8hJLw89kY2UcIvtyPB9ZH4RjXpw5mouF374S3p84bUgQFIyM7KwLarx6UPaiJDGhX3DRasa42AUAtsiGmEHfNK64w/jYPBNXFqQE3pA5qoOKUEDZc+b0gdGICE7KwM7L2eKH1gEz2vppEhmJwwCvOjqyMgVGDecg/sjWhcYPjltj+4Kk4Prit9SBMVlxtzR0qfN6QODEBCdlYGjqaelj68iYrq5ZjZmJUwEMEr3BEQKhAQKpAQ0wQ75rrrHX8ae4O9cWaov/RBTVQc0hZ+Kn3ekDowAAnZWRk4lXFO+hAnKqxh679DyIYu+CHMWgm/kBWlsTe8YaHDL7fdQZ44O6Kx9GFNZGjpS8ZJnzekDgxAQnZWBi7evCB9mBPpo0H4QnyVMBYhsX5K9GlsjGmK7XNcnyv+NHbOdMe5D5tLH9hEhvRz+ETp84bUgQFIyM7KwLXbl6UPdqKCvBg9FzM2vovZEeXzhN+ClZ7Yu9LfIOGX2/aZLjj3cSvpQ5vIUH5ZNVX6vCF1YAASsrMy8PNvV6UPeCJd3lgzA/Pie2HGUoc84RcQKvBjTHNsm+1s8PjT2BbogPOftZU+uIkM4de1M6TPG1IHBiAhOysDd/64Jn3QE2nUW7kIo+MmYOG6lggItdAZfotXemHvivrFFn65bZlhi/Pj2ksf3kTP61bcLOnzhtSBAUjIzsrAwwc3pA99ouaRIZi6cSTmraqqM/oCQgUCFgtsiWmObbMcSyT+/otAK5yf0FH6ACd6Hnc2L5A+b0gdGICE7KwM/P04TfrwJ/PVLWYWZif0R9AKt/zDL1QgLLwi9i6vU6Lhp2W6Bc5/20n6ECcqqrs7l0mfN6QODEBSNIgMkx4CZF6Gr5+CBRs6YlqYVYHhNy3UAltjWmBrsIO8+Mvl3HedpQ9yoqK4fyJe+qwhdWAAkqLT2nDpQUCmr0H4QkxIGIOQmHoFRp/G0ggfGNfwHwAAIABJREFU7F1aS3r0Pe3sNG4OJuOTef2w9FlD6sAAJMXAH2OlxwGZro7RcxC4cShmh3vqFX7TQi2xPaYltgbZSY+9/JyZ0QEnepSTPtSJ9PXvvavSZw2pAwOQFGN2J0iPBDI9/df+gPnxPTB9qZ1e4RcQKrA8sgr2LKkhPfD0cSqwLU709JI+2Ime5dQb1aTPGVIPBiApZhzdLj0WyDTUW7kIY+LHY8Ha5npHX0CowA+hVtgR0xJbZtpKD7vCOBn0Ak72qiB9wBMV5Px7LaTPGVIPBiApVp45ID0cyLi1iJqP7zd+gLlRlQsVfgGhAiujfLEnzFd6zBXV8eBmOPlaJelDnig/V77qKX3OkHowAEmx9epx6QFBxqlnbBDmJLyBmctdCh1+M8JssHN1S2yZaS094p7X0VkNkPh6FemDnkiX64HDpM8ZUg8GIClOZZyTHhJkXN7bMBkL1rfHtDDLQodfQKhARFQN7F5cRXq4GdLhWXVx6k1f6cOe6GnpS8ZJnzOkHgxAUvzC6wGTHhpHLMA3CZ8iZHXtIkVfQKhA4BJb7FrdElsCraQHW3E4EFwdpwfWkj7wiXL7dX2Q9DlD6sEAJMU/menwiwiVHhikTp2i52BmwluYtbJMkcMvIFQgalVt7F5USXqkFbd9wZVx+q160oc+kcZve8OlzxlSDwYgaWm/ZqX00CB1GbxuGkLiumH6EtvnCr+ZS+yxO7oFNgdaSo+zkrInuALODGsgffATnejuiYdntkifMaQeDEDS0n9TjPTgIPnqr1yIsfFfYsGaJs8VfRqro+ti18KK0oNMhl1BZXH2vSbShz/Rn+knpM8YUg8GIGn5ZHe89PggeV6Imo9pCe9hbqS3QcIvaKkj9qxqjs0zLKSHmEw7Z7rh3MgW0gOAzFiPcnjy6Ib0GUPqwQAkLdOO8GTQ5qj3mpmYm/A6Apc5GyT8AkIFYqPrY9eC8tLjSy22BTrj3OgX5IcAmaUzQ+pLny+kLgxA0rL8zH7pMUIlZ2TcJCxY37bIp3HRZdZSl/+v9ZMfXWqzNdAe58e+KD0GyPzwJND0NAYgadmfkig9Sqh4NYlYgG8TRmN+dE2DRZ/G2tX+2BniKT201GzLDBuc/7KD9CAg85K64BPp84XUhQFIWm7/kSw9UKh4dFk9G8EJgxC80sPg4Td7mSv2RjWVHlfGYssMK5z/ppP0KCDzcTthrvT5QurCAKQ82saskB4rZDhvrfseIXEv44clNgYPv4BQgfWrG2LHvNLSo8roTLfA+cmdpYcBmYcHiRulzxZSFwYg5TFi23rp0ULPxz98EcYlfIEFsQ2LJfoCQgXmLi+FvZFN5IeUkTv3HdcEUvH7+85F6bOF1IUBSHkEHdspPWCoaNqumofpG4djTmSFYgu/gFCBuJjG2DHXXXo8mYoz0zpKDwQyXacH1ZE+V0h9GICUx6Yrx6SHDBXO62sCMS++NwKXORZr+M1fXhp7IxpJDyZTdDqwHU70KCc9Fsj0XBnPI4ApLwYg5ZF865L0oCH9fBz3DRasewEBoRbFGn4BoQIJMU2xfY6b9FAyZYkz2+BETy/pwUCmJT3sC+lzhdSHAUh5/JuZjiZRS6THDenWPDIEUzaOwvxo32KPvoBQgQUry2LvygbS48hcnAhqiZOvVpQeDWQ67u5cKn2ukPowAEmnN3lNYNV5JWYWZiUMQNCKUiUSfgGhAptimmHbbBfpUWRujgU3QWIfH+nhQKYhM/mA9JlC6sMAJJ0mHdwiPXgoxzvrp2LBhs74Icy6xMJv4cpy2LvCT3oImbOjwX5I7FtVejyQcUvsUxlPHqdJnymkPgxA0in6/CHp4WPOGoQvxPiEsVgQ61di0RcQKhCwWGBzTHNsm+UkPYBI4NCs2jj1ZnXpEUHG69KYztLnCakTA5B0Ssw4Jz2CzFG7VXMxY+M7mB1RrmTDL1QgNLwC9i6vJz16SNuBYF+cHlRbekiQcbox7yPp84TUiQFIOj16eAP1VRBE5qLf2hmYF98LM5bal3j4TQu1wNaYFtga7CA9dki3fcGVcObt+tJjgozP3e2h0ucJqRMDkPLVbUOk9DAyZfVWLsIncROwYG2LEo8+jSUR3ti7rLb0wKFn2xNUHmfeaSg9KMi4/PnzKemzhNSJAUj5mnhgs/RIMkXNI0PwXcJIzFtVRVr4TQu1xLaYltgaZCc9bEh/u2aWwdn3m0qPCjIO54Y3kz5HSL0YgJSvzUk/SY8lU9I9JhizE/ohaLmrtPALCBVYFlEZe5bWlB4zVDQ7Zrrh3EctpccFqd+NOR9KnyOkXgxAytdv966jngrCydiN2DAZCzZ0xLQwK6nh90OoFXbEtMSWmbbSI4aez7ZAJ5z/tI30wCB1u7tzmfQ5QurFAKQC9UmIlh5QxqhRxEJ8nTAGITF1pUafxorIatgT5is9XMhwtgba4fzn7aRHBqnXXzfPSJ8hpF4MQCpQ4NEd0mPKmHSMnoOZG4didrin9OgLCBX4Icz6/2v9bKQHCxnelhnWOD++g/TQIPU5/35L6fOD1I0BSAU6kHJKelQZgwFrf8D8uO6YvtROevRphEdVx+7QqtIjhYqbJc5P7CQ9OEhdUueNkj4/SN0YgFSgxw9T0TAyTHpgqYVn396wr1oZlvZ2sHJxhm/zGpg0p36BIdaolYAQeXl6/feYYZ8IlPYUsLMXaNRSYMqC/+6bOCfnvi9+0C/8ZoTZYtfqltgSaKWCOKGScm5KZ+nRQerx256V0ucHqRsDkJ7p7S1rpIeXWjj51YXve4Mxen4/jAsoj1p+AqU8BL6dl3+QTZwj8FXgf8ZNF3BwEujYI+f+7xYJOLkIdO0rMPpbgbLlBXr2/+/5zV7MuU+f+ItaVQu7F/tIjxGS4+z3XBNInjjRoxz+vn1e+uwgdWMA0jMtStwjPbzUoFdsEOYk9MXM5c5KcE0IylmbN3ys/ptmB30oYGEh8Pm0nP+Pn5nzGpNDcv7f9iWBFu1y/v3eFwIVfHIisaDXDFxih92rW2JzoKX0CCG5zkznPoHm7sLI1tLnBqkfA5Ce6bSZXxf4/Q3fYsH6dpgWZpknvD77LifeRk/SPwBr+QlUr/Pf/79fLODiJjB4pMDk+QI+1QReHZSzGbhcRYEPxxf8etGr6mDXworSw4PU41RgO5zoUV56iJAcaQs/lT43SP0YgPRM/2Smo0X0UukhVpIaRyzAxIRPELK6Vr7h9f1igdr+ApWr6x9/XwYKWFoK9B+hffuILwQqVhZwL52z9m/qQoFOPQVe6JSzWdjHV6BMOYEeuTYNz1zqgN3RLbB5hoX04CD1OTmzNU708pIeI1Tyft8fJX1ukPoxAEkvH++Kkx5lJaFT9BwEJQzBrJWlnxlzLdoJlCqds0+fvgH4Um8BRyftgzx0GTM158CPSXMFvCoJ9B2as6nYyUXg44kCMdH1sWtBBemRQep2Iqg5Tvb2lh4kVHJO9qqAf+5ekj4zSP0YgKSXVecOSo+z4jR4XQBC4l7B9CW2eoVcy/YCbu4CYwP0j7/vF+dE3Qudnv24qjVzNglPnJOzifnb+Tn3NWhihVFv8SAP0t+x4MZI7FNZephQyUj65jXp84KMAwOQ9HLjzhXpkWZo/uGL8EX8OCxY07hQEdeivYBLqZy1dPo+LyBU4N3P9NtfsPcQgXqNcv79zayc50ycI7BmtR9e8LfDiB7yo4KMy5FZfkh8o6r0OKHid2fLQunzgowDA5D0ZiqXhWu9ah6mbRyBOZEVCxVwAaECzdsJ2DvkHPWb+9Quk+f/95gXXxFo2DLvcxu2EKhUteDXHz8z72blcl6WeLtPBQSNFHCwFZg1Sn5QkPE5NKsWTvWvIT1QqPicfLUi/ubmX9ITA5D0tuTUPunx9jxeWzMTcxP6IHCZU6HDT0PXCZ2FEHj97f8e06hVzibc3M+bOEfAxkag9+CCX9+/mfaBHutWN8D8sW7wLivg4igwqIv8kCDjtT+4Kk4PriM9VKh4cPMvFQYDkPT2y29XUU8FIVdYI+MmYsG6NggItShy+JW0OcvdsDeyifRgINOzN9gbZ4b6SY8VMrw7mxdInxNkPBiAVCiDN8dKDzp9NIlYgMkJH2N+dA3pMVdYG1Y3xo65HtJDgUzX7iBPnB3eSHqwkOFw8y8VFgOQCkXtRwO/vHoWghMGIfh/7d13dFR1/v/xSxORpqI0URDLqgiuKBBckbWtuyuyytrbWlbWXfmxoLiufa2QCtKE0HsEURBIIxCpAdITegmEKoiQEAIi7Hn9/pgvi0hLmZn3zNznH49zwsxkZs4w83k/z71zb8ZebB5y5TVw9MVKHX+zeRzAHeZGXqzcl9uZhwu8g92/KC8CEOWyd/8mtRk/3Dz0fukvX36swV//Tn1H1DAPuYqYGXeLkgZcaB4FcJfkyHrK69HRPF5Qeez+RXkRgCi3l5KmmwffDeOG6aZxQ/XGjNc15IubzAOuogaPaaDUcb82DwG4V2JELeX3vt08YFBx7P5FRRCAKLevV6eZhl+nSQPV75sXNWB8E/OAq4xZce2U1L+eeQAACRE1lf96Z/OQQcWw+xcVQQCi3A4Ub1bbibF+D7+Hp4Zr4IwHFT6ylnm8VcbQsY2UOraN+dAHfi4+vLry37rLPGZQfuz+RUUQgKiQf86b4ZfoazX2c/X8+h0N+bKjguk0LmcyJ669EvvXMR/2wGn1q6L89+42DxqUXUbXpuz+RYUQgKiQ5A3pPg2/9hMG68OZr2jgpJbm0eYNw8Y1VeqYG+0HPFAGeR/eYx42KJv17z1sPg8QnAhAVMjhki3qMHmk18PvD3HRipn5hKLG1DePNq8Y5ig+roMSoy8wH+pAeeR+ypbAYLBvSZz5PEBwIgBRYW8umO218Hth+gca8tU96htb3T7avCR23GVKHXW9+SAHKiqn351K79LIPHJwenkvtNWx0q3mswDBiQBEhS0vzKlU9N00bqjenPmahnzR2jzWvOnT4VWUENdBCdHnmw9woLKyIu9QepfG5rGDU+2M+8R8DiB4EYColK5fTyp3+HWe9JkiZj6n/uMamceat42c0FzzR/7KfGgD3pQR2VEZXZuaBw9OyHjoch3ZvdJ8BiB4EYColCn5i8scfo9N66dBMx5Q+MjzzUPN+1v9qiopLkwJUeeZD2vAF1ZEt1PGg83MwwcemyJfNF//EdwIQFRKyYHNZz0YpNXYz9VrxlsaMq29eaT5yugJLTR/xNXmAxrwtWXRv1bmn5ubxw8a6kB+kvn6j+BGAKLSPl2aeEr4dZg4SB/N/LsGTmxuHmi+0je2upLjwhQfyVY/uMeS6FbKevQq8wBys1U97zRf9xH8CEBUWsHutWr1f+H3QFyUBsx8VJGj65oHmi+NnXi15se2NB/GgIVF0dco64lrzUPIrfbEDzVf9xH8CEB4ReS3wzTkqzv1aWw18zjzpfDYGpo7JUzxkdXNhzBg6dvoFsp+5gbzGHKbrMev0dGijeZrPoIfAQiv2Lhxonmc+dr4iddo3rDm5oMXCBTzoy5TzvNtzKPITQqH9zFf7xEaCEB4TezU680jzRciRpynlClhio+oZj5wgUAzL6qhcl9qax5GrtClsQ5tTjNf6xEaCEB4TU5+f/NY87ZJk67TvM8vNx+yQCCbG3Wh8v7RwT6QQty6dx4yX+cROghAeM1PBws0cEJj82jzhsgR52ve5A6aE1HVfLgCwSAxoo7yet5mHkmhrGj5dPN1HqGDAIRXLU1/2zzeKmvK5BuUMrSp+UAFgk1CxPnKf7WTeSiFojV9fm++viO0EIDwqkNFqxUVpKeAiR5ZW/Mntdec8CrmgxQIVvHh5yn/jTvNgynUFKV/bb6+I7QQgPC65IUvmcdceU2dfKPmDm5sPjyBUBAfXk35b99lHk2hYs2//mC+riP0EIDwuqK9KxQ+sqZ51JVFzMi6mj+xnfnABEJOvyrKf/8e83gKBUUZM83XdYQeAhA+EQxbAadNuUlzBzW0H5RACMv7iAisjLVv3G++niM0EYDwiZJ9uYocXcc88k6n/6h6Sp14q/lgBNwi51N2B1dUcdYs8/UcoYkAhM98m9bLPPZ+6aspNyt5YAPzgQi4TXb4b5XepZF5UAWTtW8+YL6OI3QRgPCZQ0WrFTP2IvPo+2S4o4GjL1LqhLbmQxBws8zI25X+QBPzsAoWxdlzzNdxhC4CED4VCOcFnDGlrZI/u8h8+AFwlB7VURl/usw8rgLdurf+ZL5+I7QRgPCpHw+s12fjG5mE36AxDZQ67tfmAw/AyZZH36qMhy43j6xAdiA33nz9RmgjAOFzmTn9/B5/38S1U9KAeuaDDsDppUW3UebDV5qHViDib/7CHwhA+NzRg1s0PO5av4TfkLGXKnXsTebDDcC5LY6+XlmPXWUeXAGlS2OV5Cebr9sIfQSgi3XuFKaer7zol8fasGG8z+Nvdlx7Jfavaz7UAJTdwpirlf3kr+zDK0Bs7v+y+WyAOxCALvb99jwV7V7jt8ebPKuzT8Lv87GNlTrmRvNBBqBivo2+QjnP3mgeX9ayHrtGR3bnm88GuAMBCL/5bmeKPo2t5r34G+YoPq69EmMuMB9gACpnflQT5bxwk3mEWfpu5gDzdRruQQC62M93AQ/u/7GuvqqFatasqYYNL1G3B//ok8ecM/8pr8Tf8PFNlTq6lfnQAuA9KZGXKLf7reYhZmFVz9/q2MFC87kA9yAAXex4AC5fNFvVqlXTxLGDVLA2TRlLEzQg6gOfPOaBH7Ir9SfiPh1eRQlxHZQQXct8WAHwvrmR9ZX3Sph5kPlVl0Y6kJtgPhPgLgSgix0PwGmTY1WvXl2/fR9wSfpbFYq/EeMvV+rI68wHFADfSoyorbx//sY+zPykIKa7+TyA+xCALnY8AIt2r1HrG6/TJZdcrKee6KbxoweqZO96nz3u0YObNWJqq3Js9auqxLgwJUTVNB9MAPwjIbym8l+7wzzOfC3r0at15Ls883kA9yEAXezn3wE8cmCzkmZPVp/eL6vllVfo6qta6IedK3322Nu3zS7TASGjxjfX/JHXmg8jAP4XH15D+f++0zzSfOm7r2PMZwHciQB0sTOdB/DA9+tUvXp1TZsc69PHT1740hnDr+/wakqeEqb4yPPMhxAAS1WV/87d5qHmC6v+X2cO/IAZAtDFjgfgzC/HaEDUB8pMS1TB2jQNHvCJqlatqryMFJ8+/uHidRo88fJT4m/MhJaaH9syAAYPgIDQr4ry/nOPebB5VZdGOpDD3/uFHQLQxY4H4IKU6ercKUwXXVRftWqdrzatr9eUCUP98hw2bJzwv/ALj62huVPCFB9Zw37gAAg4uR+HzpbAgqiXzGcA3I0AhLkZyd00buLVmje8hfmAARDYcvreZR5vlZX91PUc+AFzBCDMle7LU8rgRuaDBUBwyI7orPQujc1DrqL2LfnCfN0FCEAEhJ35seZDBUDwyIj6jdK7NjGPufLaMrCH+XoL/PcQAYgAkvX1g+ZDBUDwSI/qoIwHm5lHXVnld++go/s3mK+1wH8PEYAIIIf35SllcEPzoQL/+svvHV3TzFGt8xzVr+0o7AZHw/ucfJsvP3TUpaOjBvUcnVfdUbNLHf3jwbPfb+uWjhznVLded+I2fR53dEl9R3VqOep2x8m/P/oNR00vcTTtA/vXCGe2LLqtMrtdYR5355LRtalKViabr7PAcQQgAsquVWPMBwr8q+21jno94mhob0eD/umo3XWOLr3Q0fSPTtzmvnaOmjRw1Le7J8x6dHNUtaqjd5498/3Gve9owjsnDO3t+Z1ej3iun/yeJybfeNJR/x6e+Hz/uRO/f8u1jt56xv71wbktjW6tzEeuNI+8s9kxyTd/Xx2oKAIQASc/4XnzgQI7k9/1bKkL/9uJy5o3cvT0vSff7qrLHD1+V9nv96UujmrVPBGWMT0cXVjnxPWd2jh64Y+en19/3FGHG+xfC5Td4ujrlPX4Neahdzpr+tzHCZ8RcAhABJyjJZu0aExr84ECGyNe9wTgkN4nLvtDB89u4nFvOZrdz9Gn3T27jCNeLvv9Nm/s6L72J/4d974nCAf29Pzc6GJHH77g+blJA0dj37R/LVA+C6JbKvup682D7+cyH75Sh7YsN19XgV8iABGQSnYtUlL/uuYDBf41u5+j9tc7atXi5MtnfOLo7raeMKxW1VH1ao5ee6zs9xvTw/O7MT1OvvztZzxh2KSBoyfv8Vx2762Ouj/g2QLZsqln6+ObT9m/Niib1KhmyvlLa/PwO25Pwufm6ylwOgQgAtb2nCHmwwT+dX9HRw0vcjTuF1vfXvijo8sucfTeXxwN7uXo5T95tgB+/Ney3e/v23tC71y369vds6Vx+keOLq7rqN/fPAekXFDT0aR37V8flM28qEbK/evN5vG34eMnzddR4EwIQAS03NlPmQ8T+EeX2zxH5I564+TLv/rYs8Xv5wdozAl39Lt2ngNIznW/0z/yBFz3B85+uxmfOLq8oaPPenois37tE9dd08wTn9avEcouJaqB8l5uZxZ/Oc/cqCO7V5qvocCZEIAIaD8d2KAFI68zHybwndn9TpziJfb1U6+f9oFn9+0Hz598+e/bO7r5mnPff69HHNWo7mjKe2e/3WN3OXqok+fngT09p4Y5ft2VTc5+xDECU3JkPeX16Oj/AHygiYqWTzdfP4GzIQAR8Iq3pyox5gLzYQLf+GOYo9rne3a3/vy0LV99fOI2rVt6vovXt7tnC2GvRzyncPn5uQDvauvokd+eev+tWji6o83Zn8PQ3o6aNjhxhPBXHzuqd4Gjnn/2bHmsUd1zAIr1a4XyS4y8QPm9bvdrAO6c2s983QTOhQBEUNiaNcB8kMA3TneyZsc5cb6+OeGeILznlpNPBP3X+z1bD4/fpnVLR3ffcvJ9x/bx3NfHL5758Wf3c3R981N3Mb//nOd8hBfW8YSg9euEikuIqKn81zv7Jf42Rbxgvl4CZUEAImjwfUAAFRUfXl35b97p0/hb3etuHS3eZL5WAmVBACJoHC0pUNrEjuaDBECwqqr8d+/22UEfP+7IMl8ngbIiABFUDu/LU+qw5gEwSAAEq7wP7/Fq/GU8eLkO5CeZr49AeRCACDrF2+crqX898yECIHjlfuK9LYHfJw03XxeB8iIAEZS+WzNB8RHVzIcIgOCV06/y3wksHN7HfD0EKoIARNDatPQ/5gMEQHDLirhD6V0aVyj+1r3zkI4dLDRfC4GKIAAR1DgyGEBlZUTepoyuTcsVf3kvtdNP3682XwOBiiIAEdSOlhQobdJt5gMEQHBbEd1eGQ82K1P8ZT3SUqUbFpmvf0BlEIAIeof35enb2KvNBwiA4LYs+mZl/rn52Y/4/dNl2r/sS/N1D6gsAhAhoXTPCs0b2sx8gAAIbktiWinzkZanD8AujbV33hjz9Q7wBgIQIePAzoWaO+hS8wECILgtir5WWU9ce0oA7p410HydA7yFAERI2V+YpKQB9c0HCIDgtiD6SmU/fcP/4m/HpA/N1zfAmwhAhJy9m75WYnQt8wECILjNj7pMOc+1UeGw18zXNcDbCECEpO/WTFB85HnmAwRAcFs160Xz9QzwBQIQIWtH7ueaE1HVfIAACE7ZM7rpWCknekZoIgAR0grTI82HCIDgkzm9i44d3GK+hgG+QgAi5BWkfaQ54VXMBwqA4JA+9V4dLSkwX7sAXyIA4QqF6ZHsDgZwTunT7tPRko3maxbgawQgXGNbziDFR1Y3HzAAAlP2jG46enCz+VoF+AMBCFfZmT+Co4MBnCIv/hkdK91qvkYB/kIAwnW+WzNBCdHnmw8cAIFh9dx/mK9LgL8RgHCl7zdMU2JMHfPBA8DW+gX/Ml+PAAsEIFzrh4JvlMyfjQNcqooK0j4yX4cAKwQgXG1/YZJSBjUMgGEEwF/iI6ppa2aM+foDWCIA4XoHdy/TgpG/Mh9KAHwvIfp87cyPNV93AGsEIHBom44UrdbyKZ3NhxMA30kZ3FD7Ns8yX2+AQEAAAv/n2MEtyot/xnxIAfC+haNaqXTPCvN1BggUBCDwC5uWvMdfDQFCSPrU3+lI8TrztQUIJAQgcBq7Vo5SYswF5oMLQOWsnvt3HSstNF9TgEBDAAJnsG9LvFIGNzIfYADKLz6yhgozoszXESBQEYDAWZTuWaFFY9qYDzMAZZf82UX6fsNU8/UDCGQEIHAOR0s2Kj/+WfOhBuDcFo66QSW7FpmvG0CgIwCBMtqWM0iJMbXNBxyA08ud/ZR+OrDBfK0AggEBCJRD8fZUThoNBJjEmDraljPIfH0AggkBCJTTT8XrlT3zYfOhB8Czy/fAjgXm6wIQbAhAoIK2pEcoIaqm+QAE3IpdvkDFEYBAJewvTFLqsBbmgxBwE3b5ApVHAAKVdKRorfLmPG0+FAE3WDiqFbt8AS8gAAEv+W7NBM0b0sR8QAKhKD6yhtam9tbRkgLzzzoQCghAwIt+3L+KA0QAL1s46gbtL0w0/3wDoYQABHxg16rRShnU0HxwAsGMrX6A7xCAgI8c3penzK+6mg9RIBix1Q/wLQIQ8LEdecOU/NnF5gMVCAbxkTW0LvVVtvoBPkYAAn5w+Idc5c56XHPCq5gPWCBQLRrTWvsLk8w/r4AbEICAH+3dNEMLR91gPmiBQDJ3YANtSY/QsdJC888o4BYEIOBnxw5u0aal7yupf13zwQtYio+opvyE5/Xj/pXmn0vAbQhAwMihvVnK+eZRsVsYbpQ2saOKts01/xwCbkUAAsb2bZ6lxePamg9kwB/mDWmq7blDzT93gNsRgEAAOFa6VVuzBmje0GbmAxrwhYSomlo7v6d+Kl5v/nkDQAACAeVoySYVpH3ESaQRMuIjqyt31hM6uHuZ+ecLwAkEIBCAfiperw0L/63kAfXNBzhQIRFVlT2jm0p2LTL/PAHqbmY5AAAF9UlEQVQ4FQEIBLAf96/S2vk9lRhT236gA2VSRZnTu6h4+3zzzw+AMyMAgSBw+IccrUx6UQlRNQNgwAOnlz71Xk7kDAQJAhAIIqV7Vig/4TklRtcyH/bAccum3KF9m2eZfz4AlB0BCAShw/vytH5BH80ddKn58Ic7xUfWUPaMbtpfmGD+eQBQfgQgEMSOlmzUlvQIfRt7jXkQwB2SB9TX6pRXVLon3fz9D6DiCEAgBBwr3apdq8Zo6cQw80BAaEod1kIFyz7SkeJ15u93AJVHAAIhZt+WOcr8qqviI2uYRwOC39IJHbRz5UgdKy00f28D8B4CEAhRh/Zma+Pid7RgxLXmEYHgkhhTR7mzn9K+LXPM38cAfIMABFzgh4KZyp31BOcTxFktGX+rCjOi2M0LuAABCLjIkeJ1KsyI0pLx7cxjA4Fh3pAmWp3yioq3p5q/PwH4DwEIuFTx9lStnvuy5g1tZh4h8K/E6FrKntFNu9dO5rt9gEsRgAC0b/NsrU55RanDrzSPE/hGUv96yvr6Qe3IG6YjRWvN33MAbBGAAE5StG2u1qW+qgUjrzOPFlROyqCGypvztL5bM0FHSwrM31sAAgcBCOCMDuxcqA2L3tTiMTdpTngV86DBuaUOa6HVc1/W3k0zdKx0q/l7CEBgIgABlMnhH3K0PWeIcmc/qfmfX2EeOvBI6l9XK764WxuXvKuibXPN3ycAggMBCKBCSnYt0Zb0CGV+1VVzB15iHkJukRhdS8um3KENC/+tHwq+0bGDW8zfCwCCDwEIoNKOlW5V0dZkbVryntKn3aeUwY3NQylUJESfr7RJt2ndt69p78bpfJcPgFcQgAB84tD3mdq1aozWpb6qFV/co5RBDc1jKtAlxtTW0vHttDLxBW3NjFHR1mQdPbjZ/P8SQOghAAH4TemeFdq5cqTWzu+p5XF3er5LGFHVPLwsJA2or7SJHbUqubu2ZQ9U8fZUzskHwG8IQACmjpZsUvH2VO1aOUobF7+jvDlPK23SbzRvSFMF+5HHcwc20JJxtyh7RjetTe2tbVmfae+mGTq0N9v8dQfgbgQggID104H1KtqarF0rR2nzir5am9pbubOf0oqp92jRmDaaN7SZEmMuMNl6lzr8Si0Zf6vSp96r3FmPa3XKK9q45F3tyBum/YUJOlK0xvz1A4AzIQABBL2fDmxQ6Z4V2l+YqL0bp2v32snatWq0duR+rq1ZA7RlRbgK0j7UxsVva923r2nNvB5alfw3rU55RWvn99L6Bf/SxsVvqyDtQ21e0VeFmdHalj1QO/KGa9eq0dqzLk5FW5NV+n0GB2EACAkEIAAAgMsQgAAAAC5DAAIAALgMAQgAAOAyBCAAAIDLEIAAAAAuQwACAAC4DAEIAADgMgQgAACAyxCAAAAALkMAAgAAuAwBCAAA4DIEIAAAgMsQgAAAAC5DAALwu86dwtTj78+rT++XddFF9dWo4aV6763e/7t+87pleuD+e1W79gWqW7eOHu7WRTs3Z5k/bwAIFQQgAL/r3ClM9erV1ftvv6q1eQs1ZkR/ValSRYmzJulY6VbdfNONuv22dlqxeI6WfvuN2v66tTp3CjN/3gAQKghAAH7XuVOYbr+t3UmXtbvlJv3rtX8ocdYkVatWTVvWL//fdfmZ8+Q4jpYtnGX+3AEgFBCAAPyuc6cw/b37sydd9sD99+q5Zx7VgKgP1KL55af8zoUX1teYEf3NnzsAhAICEIDfde4Upp6vvHjSZV27/E7PPv2w+kf+R1e2uOKU36lfv57Gjhxg/twBIBQQgAD87mwBeLZdwMsXzTZ/7gAQCghAAH53tgA8fhBIp9+0V/qSeKUt+Ea33MxBIADgTQQgAL87WwD+9xCngQEAXyMAAQAAXIYABAAAcBkCEAAAwGUIQAAAAJchAAEAAFyGAAQAAHAZAhAAAMBlCEAAAACXIQABAABchgAEAABwGQIQAADAZQhAAAAAlyEAAQAAXIYABAAAcBkCEAAAwGUIQAAAAJchAAEAAFyGAAQAAHCZ/w9mRukP/KBR3wAAAABJRU5ErkJggg==\" width=\"640\">"
      ],
      "text/plain": [
       "<IPython.core.display.HTML object>"
      ]
     },
     "metadata": {},
     "output_type": "display_data"
    },
    {
     "data": {
      "text/plain": [
       "Text(0.5, 1.0, '138,020,200,113 total views')"
      ]
     },
     "execution_count": 8,
     "metadata": {},
     "output_type": "execute_result"
    }
   ],
   "source": [
    "%matplotlib notebook\n",
    "\n",
    "# data\n",
    "data = total_views_list\n",
    "labels, views = zip(*data)\n",
    "total_views = sum(views)\n",
    "#explode = (0, 0, 0, 0, 0.1)  # only \"explode\" the 5th slice (i.e. 'se')\n",
    "\n",
    "#plot\n",
    "fig, ax = plt.subplots()\n",
    "ax.pie(views, labels=labels, autopct='%1.1f%%', startangle=90)\n",
    "ax.axis('equal')  # Equal aspect ratio ensures that pie is drawn as a circle.\n",
    "ax.set_title('{} total views'.format(f'{total_views:,}'))"
   ]
  },
  {
   "cell_type": "markdown",
   "metadata": {},
   "source": [
    "##### 2) Hvilken ‘Channel Type’ har samlet set flest uploads ud fra top 250 for hver ‘Channel Type’? Vis fordelingen af uploads pr. ‘Channel Type’ med et bar plot."
   ]
  },
  {
   "cell_type": "code",
   "execution_count": 9,
   "metadata": {},
   "outputs": [
    {
     "name": "stderr",
     "output_type": "stream",
     "text": [
      "100%|██████████| 17/17 [00:00<00:00, 65.79it/s]\n",
      "100%|██████████| 250/250 [00:31<00:00,  8.04it/s]\n",
      "100%|██████████| 250/250 [00:31<00:00,  7.98it/s]\n",
      "100%|██████████| 250/250 [00:28<00:00,  8.63it/s]\n",
      "100%|██████████| 250/250 [00:29<00:00,  8.41it/s]\n",
      "100%|██████████| 250/250 [00:30<00:00,  8.19it/s]\n",
      "100%|██████████| 250/250 [00:31<00:00,  7.90it/s]\n",
      "100%|██████████| 250/250 [00:30<00:00,  8.16it/s]\n",
      "100%|██████████| 250/250 [00:29<00:00,  8.55it/s]\n",
      "100%|██████████| 250/250 [00:28<00:00,  8.65it/s]\n",
      "100%|██████████| 250/250 [00:29<00:00,  8.55it/s]\n",
      "100%|██████████| 250/250 [00:30<00:00,  8.30it/s]\n",
      "100%|██████████| 250/250 [00:27<00:00,  9.10it/s]\n",
      " 35%|███▌      | 88/250 [00:03<00:08, 19.21it/s]]"
     ]
    },
    {
     "name": "stdout",
     "output_type": "stream",
     "text": [
      "No uploads for #113 at https://socialblade.com/youtube/top/category/shows\n"
     ]
    },
    {
     "name": "stderr",
     "output_type": "stream",
     "text": [
      " 43%|████▎     | 107/250 [00:05<00:11, 13.00it/s]"
     ]
    },
    {
     "name": "stdout",
     "output_type": "stream",
     "text": [
      "No data for #136 at https://socialblade.com/youtube/top/category/shows\n"
     ]
    },
    {
     "name": "stderr",
     "output_type": "stream",
     "text": [
      " 25%|██▍       | 62/250 [00:03<00:10, 18.39it/s]]"
     ]
    },
    {
     "name": "stdout",
     "output_type": "stream",
     "text": [
      "No data for #137 at https://socialblade.com/youtube/top/category/shows\n"
     ]
    },
    {
     "name": "stderr",
     "output_type": "stream",
     "text": [
      "\r",
      " 26%|██▌       | 64/250 [00:03<00:10, 18.03it/s]"
     ]
    },
    {
     "name": "stdout",
     "output_type": "stream",
     "text": [
      "No data for #138 at https://socialblade.com/youtube/top/category/shows\n"
     ]
    },
    {
     "name": "stderr",
     "output_type": "stream",
     "text": [
      " 44%|████▎     | 109/250 [00:05<00:13, 10.46it/s]"
     ]
    },
    {
     "name": "stdout",
     "output_type": "stream",
     "text": [
      "No data for #139 at https://socialblade.com/youtube/top/category/shows\n"
     ]
    },
    {
     "name": "stderr",
     "output_type": "stream",
     "text": [
      " 44%|████▍     | 111/250 [00:05<00:09, 14.62it/s]"
     ]
    },
    {
     "name": "stdout",
     "output_type": "stream",
     "text": [
      "No data for #140 at https://socialblade.com/youtube/top/category/shows\n"
     ]
    },
    {
     "name": "stderr",
     "output_type": "stream",
     "text": [
      " 44%|████▍     | 111/250 [00:05<00:12, 11.30it/s]"
     ]
    },
    {
     "name": "stdout",
     "output_type": "stream",
     "text": [
      "No data for #141 at https://socialblade.com/youtube/top/category/shows\n"
     ]
    },
    {
     "name": "stderr",
     "output_type": "stream",
     "text": [
      "\r",
      " 45%|████▌     | 113/250 [00:05<00:08, 15.27it/s]"
     ]
    },
    {
     "name": "stdout",
     "output_type": "stream",
     "text": [
      "No data for #142 at https://socialblade.com/youtube/top/category/shows\n"
     ]
    },
    {
     "name": "stderr",
     "output_type": "stream",
     "text": [
      " 45%|████▌     | 113/250 [00:05<00:10, 12.56it/s]"
     ]
    },
    {
     "name": "stdout",
     "output_type": "stream",
     "text": [
      "No data for #143 at https://socialblade.com/youtube/top/category/shows\n"
     ]
    },
    {
     "name": "stderr",
     "output_type": "stream",
     "text": [
      " 46%|████▌     | 115/250 [00:05<00:10, 13.31it/s]"
     ]
    },
    {
     "name": "stdout",
     "output_type": "stream",
     "text": [
      "No data for #144 at https://socialblade.com/youtube/top/category/shows\n"
     ]
    },
    {
     "name": "stderr",
     "output_type": "stream",
     "text": [
      "\r",
      " 56%|█████▌    | 140/250 [00:07<00:07, 14.12it/s]"
     ]
    },
    {
     "name": "stdout",
     "output_type": "stream",
     "text": [
      "No data for #145 at https://socialblade.com/youtube/top/category/shows\n"
     ]
    },
    {
     "name": "stderr",
     "output_type": "stream",
     "text": [
      " 47%|████▋     | 117/250 [00:05<00:09, 14.59it/s]"
     ]
    },
    {
     "name": "stdout",
     "output_type": "stream",
     "text": [
      "No data for #146 at https://socialblade.com/youtube/top/category/shows\n"
     ]
    },
    {
     "name": "stderr",
     "output_type": "stream",
     "text": [
      " 48%|████▊     | 119/250 [00:05<00:07, 17.06it/s]"
     ]
    },
    {
     "name": "stdout",
     "output_type": "stream",
     "text": [
      "No data for #147 at https://socialblade.com/youtube/top/category/shows\n"
     ]
    },
    {
     "name": "stderr",
     "output_type": "stream",
     "text": [
      " 48%|████▊     | 119/250 [00:06<00:08, 15.83it/s]"
     ]
    },
    {
     "name": "stdout",
     "output_type": "stream",
     "text": [
      "No data for #148 at https://socialblade.com/youtube/top/category/shows\n"
     ]
    },
    {
     "name": "stderr",
     "output_type": "stream",
     "text": [
      " 48%|████▊     | 121/250 [00:06<00:08, 15.38it/s]"
     ]
    },
    {
     "name": "stdout",
     "output_type": "stream",
     "text": [
      "No data for #149 at https://socialblade.com/youtube/top/category/shows\n"
     ]
    },
    {
     "name": "stderr",
     "output_type": "stream",
     "text": [
      " 49%|████▉     | 123/250 [00:06<00:08, 15.51it/s]"
     ]
    },
    {
     "name": "stdout",
     "output_type": "stream",
     "text": [
      "No data for #150 at https://socialblade.com/youtube/top/category/shows\n"
     ]
    },
    {
     "name": "stderr",
     "output_type": "stream",
     "text": [
      " 32%|███▏      | 81/250 [00:04<00:09, 18.51it/s]]"
     ]
    },
    {
     "name": "stdout",
     "output_type": "stream",
     "text": [
      "No data for #151 at https://socialblade.com/youtube/top/category/shows\n"
     ]
    },
    {
     "name": "stderr",
     "output_type": "stream",
     "text": [
      "\r",
      " 50%|█████     | 125/250 [00:06<00:07, 15.69it/s]"
     ]
    },
    {
     "name": "stdout",
     "output_type": "stream",
     "text": [
      "No data for #152 at https://socialblade.com/youtube/top/category/shows\n"
     ]
    },
    {
     "name": "stderr",
     "output_type": "stream",
     "text": [
      " 51%|█████     | 127/250 [00:06<00:07, 16.84it/s]"
     ]
    },
    {
     "name": "stdout",
     "output_type": "stream",
     "text": [
      "No data for #153 at https://socialblade.com/youtube/top/category/shows\n"
     ]
    },
    {
     "name": "stderr",
     "output_type": "stream",
     "text": [
      " 51%|█████     | 127/250 [00:06<00:07, 16.52it/s]"
     ]
    },
    {
     "name": "stdout",
     "output_type": "stream",
     "text": [
      "No data for #154 at https://socialblade.com/youtube/top/category/shows\n"
     ]
    },
    {
     "name": "stderr",
     "output_type": "stream",
     "text": [
      " 52%|█████▏    | 129/250 [00:06<00:07, 17.16it/s]"
     ]
    },
    {
     "name": "stdout",
     "output_type": "stream",
     "text": [
      "No data for #155 at https://socialblade.com/youtube/top/category/shows\n"
     ]
    },
    {
     "name": "stderr",
     "output_type": "stream",
     "text": [
      " 35%|███▍      | 87/250 [00:04<00:08, 20.18it/s]]"
     ]
    },
    {
     "name": "stdout",
     "output_type": "stream",
     "text": [
      "No data for #156 at https://socialblade.com/youtube/top/category/shows\n"
     ]
    },
    {
     "name": "stderr",
     "output_type": "stream",
     "text": [
      " 52%|█████▏    | 131/250 [00:06<00:06, 17.46it/s]"
     ]
    },
    {
     "name": "stdout",
     "output_type": "stream",
     "text": [
      "No data for #157 at https://socialblade.com/youtube/top/category/shows"
     ]
    },
    {
     "name": "stderr",
     "output_type": "stream",
     "text": [
      "\r",
      " 52%|█████▏    | 131/250 [00:06<00:06, 17.49it/s]"
     ]
    },
    {
     "name": "stdout",
     "output_type": "stream",
     "text": [
      "\n"
     ]
    },
    {
     "name": "stderr",
     "output_type": "stream",
     "text": [
      "\r",
      " 36%|███▌      | 90/250 [00:04<00:07, 20.76it/s]"
     ]
    },
    {
     "name": "stdout",
     "output_type": "stream",
     "text": [
      "No data for #158 at https://socialblade.com/youtube/top/category/shows\n"
     ]
    },
    {
     "name": "stderr",
     "output_type": "stream",
     "text": [
      " 53%|█████▎    | 133/250 [00:06<00:06, 17.35it/s]"
     ]
    },
    {
     "name": "stdout",
     "output_type": "stream",
     "text": [
      "No data for #159 at https://socialblade.com/youtube/top/category/shows\n",
      "No data for #160 at https://socialblade.com/youtube/top/category/shows\n"
     ]
    },
    {
     "name": "stderr",
     "output_type": "stream",
     "text": [
      " 54%|█████▍    | 135/250 [00:07<00:06, 16.66it/s]"
     ]
    },
    {
     "name": "stdout",
     "output_type": "stream",
     "text": [
      "No data for #161 at https://socialblade.com/youtube/top/category/shows\n"
     ]
    },
    {
     "name": "stderr",
     "output_type": "stream",
     "text": [
      "\r",
      " 55%|█████▍    | 137/250 [00:06<00:06, 16.77it/s]"
     ]
    },
    {
     "name": "stdout",
     "output_type": "stream",
     "text": [
      "No data for #162 at https://socialblade.com/youtube/top/category/shows\n"
     ]
    },
    {
     "name": "stderr",
     "output_type": "stream",
     "text": [
      " 55%|█████▍    | 137/250 [00:07<00:06, 16.21it/s]"
     ]
    },
    {
     "name": "stdout",
     "output_type": "stream",
     "text": [
      "No data for #163 at https://socialblade.com/youtube/top/category/shows\n"
     ]
    },
    {
     "name": "stderr",
     "output_type": "stream",
     "text": [
      "\r",
      " 56%|█████▌    | 139/250 [00:07<00:06, 16.44it/s]"
     ]
    },
    {
     "name": "stdout",
     "output_type": "stream",
     "text": [
      "No data for #164 at https://socialblade.com/youtube/top/category/shows\n"
     ]
    },
    {
     "name": "stderr",
     "output_type": "stream",
     "text": [
      " 56%|█████▌    | 139/250 [00:07<00:06, 16.06it/s]"
     ]
    },
    {
     "name": "stdout",
     "output_type": "stream",
     "text": [
      "No data for #165 at https://socialblade.com/youtube/top/category/shows\n"
     ]
    },
    {
     "name": "stderr",
     "output_type": "stream",
     "text": [
      " 56%|█████▋    | 141/250 [00:07<00:06, 16.45it/s]"
     ]
    },
    {
     "name": "stdout",
     "output_type": "stream",
     "text": [
      "No data for #166 at https://socialblade.com/youtube/top/category/shows\n"
     ]
    },
    {
     "name": "stderr",
     "output_type": "stream",
     "text": [
      " 40%|████      | 101/250 [00:05<00:07, 18.68it/s]"
     ]
    },
    {
     "name": "stdout",
     "output_type": "stream",
     "text": [
      "No data for #167 at https://socialblade.com/youtube/top/category/shows\n"
     ]
    },
    {
     "name": "stderr",
     "output_type": "stream",
     "text": [
      "\r",
      " 57%|█████▋    | 143/250 [00:07<00:06, 16.51it/s]"
     ]
    },
    {
     "name": "stdout",
     "output_type": "stream",
     "text": [
      "No data for #168 at https://socialblade.com/youtube/top/category/shows\n"
     ]
    },
    {
     "name": "stderr",
     "output_type": "stream",
     "text": [
      " 41%|████      | 103/250 [00:05<00:07, 18.92it/s]"
     ]
    },
    {
     "name": "stdout",
     "output_type": "stream",
     "text": [
      "No data for #169 at https://socialblade.com/youtube/top/category/shows\n"
     ]
    },
    {
     "name": "stderr",
     "output_type": "stream",
     "text": [
      " 42%|████▏     | 105/250 [00:05<00:08, 17.76it/s]"
     ]
    },
    {
     "name": "stdout",
     "output_type": "stream",
     "text": [
      "No data for #170 at https://socialblade.com/youtube/top/category/shows\n"
     ]
    },
    {
     "name": "stderr",
     "output_type": "stream",
     "text": [
      " 58%|█████▊    | 145/250 [00:07<00:06, 15.52it/s]"
     ]
    },
    {
     "name": "stdout",
     "output_type": "stream",
     "text": [
      "No data for #171 at https://socialblade.com/youtube/top/category/shows\n"
     ]
    },
    {
     "name": "stderr",
     "output_type": "stream",
     "text": [
      "\r",
      " 43%|████▎     | 107/250 [00:05<00:08, 17.83it/s]"
     ]
    },
    {
     "name": "stdout",
     "output_type": "stream",
     "text": [
      "No data for #172 at https://socialblade.com/youtube/top/category/shows"
     ]
    },
    {
     "name": "stderr",
     "output_type": "stream",
     "text": [
      "\r",
      " 59%|█████▉    | 147/250 [00:07<00:06, 15.53it/s]"
     ]
    },
    {
     "name": "stdout",
     "output_type": "stream",
     "text": [
      "\n"
     ]
    },
    {
     "name": "stderr",
     "output_type": "stream",
     "text": [
      " 59%|█████▉    | 147/250 [00:07<00:07, 13.01it/s]"
     ]
    },
    {
     "name": "stdout",
     "output_type": "stream",
     "text": [
      "No data for #173 at https://socialblade.com/youtube/top/category/shows\n"
     ]
    },
    {
     "name": "stderr",
     "output_type": "stream",
     "text": [
      " 60%|█████▉    | 149/250 [00:07<00:06, 16.00it/s]"
     ]
    },
    {
     "name": "stdout",
     "output_type": "stream",
     "text": [
      "No data for #174 at https://socialblade.com/youtube/top/category/shows\n"
     ]
    },
    {
     "name": "stderr",
     "output_type": "stream",
     "text": [
      " 44%|████▍     | 111/250 [00:05<00:07, 18.36it/s]"
     ]
    },
    {
     "name": "stdout",
     "output_type": "stream",
     "text": [
      "No data for #175 at https://socialblade.com/youtube/top/category/shows\n"
     ]
    },
    {
     "name": "stderr",
     "output_type": "stream",
     "text": [
      "\r",
      " 60%|██████    | 151/250 [00:08<00:06, 16.32it/s]"
     ]
    },
    {
     "name": "stdout",
     "output_type": "stream",
     "text": [
      "No data for #176 at https://socialblade.com/youtube/top/category/shows\n"
     ]
    },
    {
     "name": "stderr",
     "output_type": "stream",
     "text": [
      " 60%|██████    | 151/250 [00:07<00:06, 14.80it/s]"
     ]
    },
    {
     "name": "stdout",
     "output_type": "stream",
     "text": [
      "No data for #177 at https://socialblade.com/youtube/top/category/shows\n"
     ]
    },
    {
     "name": "stderr",
     "output_type": "stream",
     "text": [
      " 61%|██████    | 153/250 [00:08<00:05, 16.71it/s]"
     ]
    },
    {
     "name": "stdout",
     "output_type": "stream",
     "text": [
      "No data for #178 at https://socialblade.com/youtube/top/category/shows\n"
     ]
    },
    {
     "name": "stderr",
     "output_type": "stream",
     "text": [
      " 61%|██████    | 153/250 [00:08<00:06, 15.21it/s]"
     ]
    },
    {
     "name": "stdout",
     "output_type": "stream",
     "text": [
      "No data for #179 at https://socialblade.com/youtube/top/category/shows\n"
     ]
    },
    {
     "name": "stderr",
     "output_type": "stream",
     "text": [
      " 62%|██████▏   | 155/250 [00:08<00:06, 14.91it/s]"
     ]
    },
    {
     "name": "stdout",
     "output_type": "stream",
     "text": [
      "No data for #180 at https://socialblade.com/youtube/top/category/shows\n"
     ]
    },
    {
     "name": "stderr",
     "output_type": "stream",
     "text": [
      " 62%|██████▏   | 155/250 [00:08<00:06, 14.83it/s]"
     ]
    },
    {
     "name": "stdout",
     "output_type": "stream",
     "text": [
      "No data for #181 at https://socialblade.com/youtube/top/category/shows\n"
     ]
    },
    {
     "name": "stderr",
     "output_type": "stream",
     "text": [
      " 63%|██████▎   | 157/250 [00:08<00:06, 15.17it/s]"
     ]
    },
    {
     "name": "stdout",
     "output_type": "stream",
     "text": [
      "No data for #182 at https://socialblade.com/youtube/top/category/shows\n"
     ]
    },
    {
     "name": "stderr",
     "output_type": "stream",
     "text": [
      " 63%|██████▎   | 157/250 [00:08<00:07, 13.23it/s]"
     ]
    },
    {
     "name": "stdout",
     "output_type": "stream",
     "text": [
      "No data for #183 at https://socialblade.com/youtube/top/category/shows\n"
     ]
    },
    {
     "name": "stderr",
     "output_type": "stream",
     "text": [
      " 64%|██████▎   | 159/250 [00:08<00:05, 15.82it/s]"
     ]
    },
    {
     "name": "stdout",
     "output_type": "stream",
     "text": [
      "No data for #184 at https://socialblade.com/youtube/top/category/shows\n"
     ]
    },
    {
     "name": "stderr",
     "output_type": "stream",
     "text": [
      " 49%|████▉     | 123/250 [00:06<00:07, 17.51it/s]"
     ]
    },
    {
     "name": "stdout",
     "output_type": "stream",
     "text": [
      "No data for #185 at https://socialblade.com/youtube/top/category/shows\n"
     ]
    },
    {
     "name": "stderr",
     "output_type": "stream",
     "text": [
      " 64%|██████▍   | 161/250 [00:08<00:05, 15.70it/s]"
     ]
    },
    {
     "name": "stdout",
     "output_type": "stream",
     "text": [
      "No data for #186 at https://socialblade.com/youtube/top/category/shows\n"
     ]
    },
    {
     "name": "stderr",
     "output_type": "stream",
     "text": [
      " 50%|█████     | 125/250 [00:06<00:07, 17.86it/s]"
     ]
    },
    {
     "name": "stdout",
     "output_type": "stream",
     "text": [
      "No data for #187 at https://socialblade.com/youtube/top/category/shows\n"
     ]
    },
    {
     "name": "stderr",
     "output_type": "stream",
     "text": [
      " 65%|██████▌   | 163/250 [00:08<00:05, 15.95it/s]"
     ]
    },
    {
     "name": "stdout",
     "output_type": "stream",
     "text": [
      "No data for #188 at https://socialblade.com/youtube/top/category/shows\n"
     ]
    },
    {
     "name": "stderr",
     "output_type": "stream",
     "text": [
      " 51%|█████     | 127/250 [00:06<00:07, 17.21it/s]"
     ]
    },
    {
     "name": "stdout",
     "output_type": "stream",
     "text": [
      "No data for #189 at https://socialblade.com/youtube/top/category/shows\n"
     ]
    },
    {
     "name": "stderr",
     "output_type": "stream",
     "text": [
      " 66%|██████▌   | 165/250 [00:08<00:05, 15.61it/s]"
     ]
    },
    {
     "name": "stdout",
     "output_type": "stream",
     "text": [
      "No data for #190 at https://socialblade.com/youtube/top/category/shows\n"
     ]
    },
    {
     "name": "stderr",
     "output_type": "stream",
     "text": [
      " 66%|██████▌   | 165/250 [00:09<00:05, 14.23it/s]"
     ]
    },
    {
     "name": "stdout",
     "output_type": "stream",
     "text": [
      "No data for #191 at https://socialblade.com/youtube/top/category/shows\n"
     ]
    },
    {
     "name": "stderr",
     "output_type": "stream",
     "text": [
      "\r",
      " 67%|██████▋   | 167/250 [00:08<00:05, 15.64it/s]"
     ]
    },
    {
     "name": "stdout",
     "output_type": "stream",
     "text": [
      "No data for #192 at https://socialblade.com/youtube/top/category/shows\n"
     ]
    },
    {
     "name": "stderr",
     "output_type": "stream",
     "text": [
      " 68%|██████▊   | 169/250 [00:09<00:04, 16.36it/s]"
     ]
    },
    {
     "name": "stdout",
     "output_type": "stream",
     "text": [
      "No data for #193 at https://socialblade.com/youtube/top/category/shows\n",
      "No data for #194 at https://socialblade.com/youtube/top/category/shows\n"
     ]
    },
    {
     "name": "stderr",
     "output_type": "stream",
     "text": [
      " 54%|█████▎    | 134/250 [00:07<00:06, 17.23it/s]"
     ]
    },
    {
     "name": "stdout",
     "output_type": "stream",
     "text": [
      "No data for #195 at https://socialblade.com/youtube/top/category/shows\n",
      "No data for #196 at https://socialblade.com/youtube/top/category/shows\n"
     ]
    },
    {
     "name": "stderr",
     "output_type": "stream",
     "text": [
      " 69%|██████▉   | 173/250 [00:09<00:04, 16.99it/s]"
     ]
    },
    {
     "name": "stdout",
     "output_type": "stream",
     "text": [
      "No data for #197 at https://socialblade.com/youtube/top/category/shows\n",
      "No data for #198 at https://socialblade.com/youtube/top/category/shows\n"
     ]
    },
    {
     "name": "stderr",
     "output_type": "stream",
     "text": [
      " 70%|███████   | 175/250 [00:09<00:04, 15.79it/s]"
     ]
    },
    {
     "name": "stdout",
     "output_type": "stream",
     "text": [
      "No data for #199 at https://socialblade.com/youtube/top/category/shows\n"
     ]
    },
    {
     "name": "stderr",
     "output_type": "stream",
     "text": [
      "\r",
      " 56%|█████▌    | 140/250 [00:07<00:06, 16.74it/s]"
     ]
    },
    {
     "name": "stdout",
     "output_type": "stream",
     "text": [
      "No data for #200 at https://socialblade.com/youtube/top/category/shows\n"
     ]
    },
    {
     "name": "stderr",
     "output_type": "stream",
     "text": [
      " 71%|███████   | 177/250 [00:09<00:05, 14.55it/s]"
     ]
    },
    {
     "name": "stdout",
     "output_type": "stream",
     "text": [
      "No data for #201 at https://socialblade.com/youtube/top/category/shows\n"
     ]
    },
    {
     "name": "stderr",
     "output_type": "stream",
     "text": [
      " 71%|███████   | 177/250 [00:09<00:05, 14.43it/s]"
     ]
    },
    {
     "name": "stdout",
     "output_type": "stream",
     "text": [
      "No data for #202 at https://socialblade.com/youtube/top/category/shows\n"
     ]
    },
    {
     "name": "stderr",
     "output_type": "stream",
     "text": [
      " 72%|███████▏  | 179/250 [00:09<00:04, 14.27it/s]"
     ]
    },
    {
     "name": "stdout",
     "output_type": "stream",
     "text": [
      "No data for #203 at https://socialblade.com/youtube/top/category/shows\n"
     ]
    },
    {
     "name": "stderr",
     "output_type": "stream",
     "text": [
      " 72%|███████▏  | 179/250 [00:09<00:05, 14.07it/s]"
     ]
    },
    {
     "name": "stdout",
     "output_type": "stream",
     "text": [
      "No data for #204 at https://socialblade.com/youtube/top/category/shows\n"
     ]
    },
    {
     "name": "stderr",
     "output_type": "stream",
     "text": [
      " 72%|███████▏  | 181/250 [00:09<00:04, 13.99it/s]"
     ]
    },
    {
     "name": "stdout",
     "output_type": "stream",
     "text": [
      "No data for #205 at https://socialblade.com/youtube/top/category/shows"
     ]
    },
    {
     "name": "stderr",
     "output_type": "stream",
     "text": [
      "\r",
      " 58%|█████▊    | 146/250 [00:07<00:06, 15.17it/s]"
     ]
    },
    {
     "name": "stdout",
     "output_type": "stream",
     "text": [
      "\n"
     ]
    },
    {
     "name": "stderr",
     "output_type": "stream",
     "text": [
      " 73%|███████▎  | 183/250 [00:10<00:04, 14.56it/s]"
     ]
    },
    {
     "name": "stdout",
     "output_type": "stream",
     "text": [
      "No data for #206 at https://socialblade.com/youtube/top/category/shows\n"
     ]
    },
    {
     "name": "stderr",
     "output_type": "stream",
     "text": [
      " 59%|█████▉    | 148/250 [00:07<00:06, 15.86it/s]"
     ]
    },
    {
     "name": "stdout",
     "output_type": "stream",
     "text": [
      "No data for #207 at https://socialblade.com/youtube/top/category/shows\n"
     ]
    },
    {
     "name": "stderr",
     "output_type": "stream",
     "text": [
      "  0%|          | 1/250 [00:00<01:03,  3.90it/s]s]"
     ]
    },
    {
     "name": "stdout",
     "output_type": "stream",
     "text": [
      "No data for #208 at https://socialblade.com/youtube/top/category/shows\n"
     ]
    },
    {
     "name": "stderr",
     "output_type": "stream",
     "text": [
      " 74%|███████▍  | 185/250 [00:10<00:04, 15.05it/s]"
     ]
    },
    {
     "name": "stdout",
     "output_type": "stream",
     "text": [
      "No data for #209 at https://socialblade.com/youtube/top/category/shows\n"
     ]
    },
    {
     "name": "stderr",
     "output_type": "stream",
     "text": [
      " 61%|██████    | 152/250 [00:08<00:06, 16.24it/s]"
     ]
    },
    {
     "name": "stdout",
     "output_type": "stream",
     "text": [
      "No data for #210 at https://socialblade.com/youtube/top/category/shows\n"
     ]
    },
    {
     "name": "stderr",
     "output_type": "stream",
     "text": [
      " 62%|██████▏   | 154/250 [00:08<00:05, 16.53it/s]"
     ]
    },
    {
     "name": "stdout",
     "output_type": "stream",
     "text": [
      "No data for #211 at https://socialblade.com/youtube/top/category/shows\n",
      "No data for #212 at https://socialblade.com/youtube/top/category/shows\n"
     ]
    },
    {
     "name": "stderr",
     "output_type": "stream",
     "text": [
      " 62%|██████▏   | 156/250 [00:08<00:05, 16.61it/s]"
     ]
    },
    {
     "name": "stdout",
     "output_type": "stream",
     "text": [
      "No data for #213 at https://socialblade.com/youtube/top/category/shows\n"
     ]
    },
    {
     "name": "stderr",
     "output_type": "stream",
     "text": [
      "\r",
      " 76%|███████▋  | 191/250 [00:10<00:04, 14.31it/s]"
     ]
    },
    {
     "name": "stdout",
     "output_type": "stream",
     "text": [
      "No data for #214 at https://socialblade.com/youtube/top/category/shows\n"
     ]
    },
    {
     "name": "stderr",
     "output_type": "stream",
     "text": [
      "  4%|▍         | 11/250 [00:00<00:26,  9.18it/s]]"
     ]
    },
    {
     "name": "stdout",
     "output_type": "stream",
     "text": [
      "No data for #215 at https://socialblade.com/youtube/top/category/shows\n"
     ]
    },
    {
     "name": "stderr",
     "output_type": "stream",
     "text": [
      " 64%|██████▍   | 160/250 [00:08<00:05, 15.35it/s]"
     ]
    },
    {
     "name": "stdout",
     "output_type": "stream",
     "text": [
      "No data for #216 at https://socialblade.com/youtube/top/category/shows\n"
     ]
    },
    {
     "name": "stderr",
     "output_type": "stream",
     "text": [
      " 78%|███████▊  | 195/250 [00:10<00:03, 13.83it/s]"
     ]
    },
    {
     "name": "stdout",
     "output_type": "stream",
     "text": [
      "No data for #217 at https://socialblade.com/youtube/top/category/shows\n"
     ]
    },
    {
     "name": "stderr",
     "output_type": "stream",
     "text": [
      " 79%|███████▉  | 197/250 [00:11<00:03, 14.21it/s]"
     ]
    },
    {
     "name": "stdout",
     "output_type": "stream",
     "text": [
      "No data for #218 at https://socialblade.com/youtube/top/category/shows\n"
     ]
    },
    {
     "name": "stderr",
     "output_type": "stream",
     "text": [
      "\r",
      " 86%|████████▌ | 214/250 [00:13<00:02, 12.52it/s]"
     ]
    },
    {
     "name": "stdout",
     "output_type": "stream",
     "text": [
      "No data for #219 at https://socialblade.com/youtube/top/category/shows\n"
     ]
    },
    {
     "name": "stderr",
     "output_type": "stream",
     "text": [
      " 80%|███████▉  | 199/250 [00:11<00:03, 14.40it/s]"
     ]
    },
    {
     "name": "stdout",
     "output_type": "stream",
     "text": [
      "No data for #220 at https://socialblade.com/youtube/top/category/shows\n"
     ]
    },
    {
     "name": "stderr",
     "output_type": "stream",
     "text": [
      "  9%|▉         | 23/250 [00:01<00:13, 17.37it/s]]"
     ]
    },
    {
     "name": "stdout",
     "output_type": "stream",
     "text": [
      "No data for #221 at https://socialblade.com/youtube/top/category/shows\n"
     ]
    },
    {
     "name": "stderr",
     "output_type": "stream",
     "text": [
      " 80%|████████  | 201/250 [00:11<00:03, 14.26it/s]"
     ]
    },
    {
     "name": "stdout",
     "output_type": "stream",
     "text": [
      "No data for #222 at https://socialblade.com/youtube/top/category/shows\n"
     ]
    },
    {
     "name": "stderr",
     "output_type": "stream",
     "text": [
      " 10%|█         | 26/250 [00:01<00:12, 17.63it/s]]"
     ]
    },
    {
     "name": "stdout",
     "output_type": "stream",
     "text": [
      "No data for #223 at https://socialblade.com/youtube/top/category/shows\n"
     ]
    },
    {
     "name": "stderr",
     "output_type": "stream",
     "text": [
      " 81%|████████  | 203/250 [00:11<00:03, 14.45it/s]"
     ]
    },
    {
     "name": "stdout",
     "output_type": "stream",
     "text": [
      "No data for #224 at https://socialblade.com/youtube/top/category/shows\n"
     ]
    },
    {
     "name": "stderr",
     "output_type": "stream",
     "text": [
      " 12%|█▏        | 29/250 [00:01<00:11, 19.81it/s]]"
     ]
    },
    {
     "name": "stdout",
     "output_type": "stream",
     "text": [
      "No data for #225 at https://socialblade.com/youtube/top/category/shows\n"
     ]
    },
    {
     "name": "stderr",
     "output_type": "stream",
     "text": [
      " 69%|██████▉   | 172/250 [00:09<00:04, 15.71it/s]"
     ]
    },
    {
     "name": "stdout",
     "output_type": "stream",
     "text": [
      "No data for #226 at https://socialblade.com/youtube/top/category/shows\n"
     ]
    },
    {
     "name": "stderr",
     "output_type": "stream",
     "text": [
      " 83%|████████▎ | 207/250 [00:11<00:02, 14.59it/s]"
     ]
    },
    {
     "name": "stdout",
     "output_type": "stream",
     "text": [
      "No data for #227 at https://socialblade.com/youtube/top/category/shows"
     ]
    },
    {
     "name": "stderr",
     "output_type": "stream",
     "text": [
      "\r",
      " 13%|█▎        | 32/250 [00:01<00:11, 18.42it/s]"
     ]
    },
    {
     "name": "stdout",
     "output_type": "stream",
     "text": [
      "\n"
     ]
    },
    {
     "name": "stderr",
     "output_type": "stream",
     "text": [
      " 70%|██████▉   | 174/250 [00:09<00:04, 16.28it/s]"
     ]
    },
    {
     "name": "stdout",
     "output_type": "stream",
     "text": [
      "No data for #228 at https://socialblade.com/youtube/top/category/shows\n"
     ]
    },
    {
     "name": "stderr",
     "output_type": "stream",
     "text": [
      " 83%|████████▎ | 207/250 [00:11<00:02, 14.42it/s]"
     ]
    },
    {
     "name": "stdout",
     "output_type": "stream",
     "text": [
      "No data for #229 at https://socialblade.com/youtube/top/category/shows\n"
     ]
    },
    {
     "name": "stderr",
     "output_type": "stream",
     "text": [
      "\r",
      " 70%|███████   | 176/250 [00:09<00:04, 16.47it/s]"
     ]
    },
    {
     "name": "stdout",
     "output_type": "stream",
     "text": [
      "No data for #230 at https://socialblade.com/youtube/top/category/shows\n"
     ]
    },
    {
     "name": "stderr",
     "output_type": "stream",
     "text": [
      " 84%|████████▎ | 209/250 [00:12<00:02, 13.76it/s]"
     ]
    },
    {
     "name": "stdout",
     "output_type": "stream",
     "text": [
      "No data for #231 at https://socialblade.com/youtube/top/category/shows\n"
     ]
    },
    {
     "name": "stderr",
     "output_type": "stream",
     "text": [
      " 16%|█▋        | 41/250 [00:02<00:09, 21.61it/s]]"
     ]
    },
    {
     "name": "stdout",
     "output_type": "stream",
     "text": [
      "No data for #232 at https://socialblade.com/youtube/top/category/shows\n"
     ]
    },
    {
     "name": "stderr",
     "output_type": "stream",
     "text": [
      " 84%|████████▍ | 211/250 [00:12<00:02, 13.30it/s]"
     ]
    },
    {
     "name": "stdout",
     "output_type": "stream",
     "text": [
      "No data for #233 at https://socialblade.com/youtube/top/category/shows\n"
     ]
    },
    {
     "name": "stderr",
     "output_type": "stream",
     "text": [
      " 18%|█▊        | 44/250 [00:02<00:09, 22.54it/s]]"
     ]
    },
    {
     "name": "stdout",
     "output_type": "stream",
     "text": [
      "No data for #234 at https://socialblade.com/youtube/top/category/shows\n"
     ]
    },
    {
     "name": "stderr",
     "output_type": "stream",
     "text": [
      " 19%|█▉        | 47/250 [00:02<00:08, 23.35it/s]]"
     ]
    },
    {
     "name": "stdout",
     "output_type": "stream",
     "text": [
      "No data for #235 at https://socialblade.com/youtube/top/category/shows\n"
     ]
    },
    {
     "name": "stderr",
     "output_type": "stream",
     "text": [
      " 74%|███████▎  | 184/250 [00:10<00:04, 16.02it/s]"
     ]
    },
    {
     "name": "stdout",
     "output_type": "stream",
     "text": [
      "No data for #236 at https://socialblade.com/youtube/top/category/shows\n"
     ]
    },
    {
     "name": "stderr",
     "output_type": "stream",
     "text": [
      " 87%|████████▋ | 217/250 [00:12<00:02, 14.21it/s]"
     ]
    },
    {
     "name": "stdout",
     "output_type": "stream",
     "text": [
      "No data for #237 at https://socialblade.com/youtube/top/category/shows\n"
     ]
    },
    {
     "name": "stderr",
     "output_type": "stream",
     "text": [
      "\r",
      " 74%|███████▍  | 186/250 [00:10<00:03, 16.64it/s]"
     ]
    },
    {
     "name": "stdout",
     "output_type": "stream",
     "text": [
      "No data for #238 at https://socialblade.com/youtube/top/category/shows\n"
     ]
    },
    {
     "name": "stderr",
     "output_type": "stream",
     "text": [
      " 88%|████████▊ | 219/250 [00:12<00:02, 14.56it/s]"
     ]
    },
    {
     "name": "stdout",
     "output_type": "stream",
     "text": [
      "No data for #239 at https://socialblade.com/youtube/top/category/shows\n"
     ]
    },
    {
     "name": "stderr",
     "output_type": "stream",
     "text": [
      " 22%|██▏       | 56/250 [00:02<00:07, 24.42it/s]]"
     ]
    },
    {
     "name": "stdout",
     "output_type": "stream",
     "text": [
      "No data for #240 at https://socialblade.com/youtube/top/category/shows\n"
     ]
    },
    {
     "name": "stderr",
     "output_type": "stream",
     "text": [
      " 76%|███████▌  | 190/250 [00:10<00:03, 16.16it/s]"
     ]
    },
    {
     "name": "stdout",
     "output_type": "stream",
     "text": [
      "No data for #241 at https://socialblade.com/youtube/top/category/shows\n"
     ]
    },
    {
     "name": "stderr",
     "output_type": "stream",
     "text": [
      "\r",
      " 24%|██▎       | 59/250 [00:02<00:07, 23.97it/s]"
     ]
    },
    {
     "name": "stdout",
     "output_type": "stream",
     "text": [
      "No data for #242 at https://socialblade.com/youtube/top/category/shows\n"
     ]
    },
    {
     "name": "stderr",
     "output_type": "stream",
     "text": [
      " 77%|███████▋  | 192/250 [00:10<00:03, 15.82it/s]"
     ]
    },
    {
     "name": "stdout",
     "output_type": "stream",
     "text": [
      "No data for #243 at https://socialblade.com/youtube/top/category/shows\n"
     ]
    },
    {
     "name": "stderr",
     "output_type": "stream",
     "text": [
      " 88%|████████▊ | 221/250 [00:13<00:02, 11.72it/s]"
     ]
    },
    {
     "name": "stdout",
     "output_type": "stream",
     "text": [
      "No data for #244 at https://socialblade.com/youtube/top/category/shows\n"
     ]
    },
    {
     "name": "stderr",
     "output_type": "stream",
     "text": [
      " 26%|██▌       | 65/250 [00:03<00:08, 22.92it/s]]"
     ]
    },
    {
     "name": "stdout",
     "output_type": "stream",
     "text": [
      "No data for #245 at https://socialblade.com/youtube/top/category/shows\n"
     ]
    },
    {
     "name": "stderr",
     "output_type": "stream",
     "text": [
      " 78%|███████▊  | 196/250 [00:10<00:03, 15.41it/s]"
     ]
    },
    {
     "name": "stdout",
     "output_type": "stream",
     "text": [
      "No data for #246 at https://socialblade.com/youtube/top/category/shows\n"
     ]
    },
    {
     "name": "stderr",
     "output_type": "stream",
     "text": [
      " 27%|██▋       | 68/250 [00:03<00:07, 23.09it/s]]"
     ]
    },
    {
     "name": "stdout",
     "output_type": "stream",
     "text": [
      "No data for #247 at https://socialblade.com/youtube/top/category/shows\n"
     ]
    },
    {
     "name": "stderr",
     "output_type": "stream",
     "text": [
      " 79%|███████▉  | 198/250 [00:11<00:03, 15.09it/s]"
     ]
    },
    {
     "name": "stdout",
     "output_type": "stream",
     "text": [
      "No data for #248 at https://socialblade.com/youtube/top/category/shows\n"
     ]
    },
    {
     "name": "stderr",
     "output_type": "stream",
     "text": [
      " 28%|██▊       | 71/250 [00:03<00:07, 22.89it/s]]"
     ]
    },
    {
     "name": "stdout",
     "output_type": "stream",
     "text": [
      "No data for #249 at https://socialblade.com/youtube/top/category/shows\n"
     ]
    },
    {
     "name": "stderr",
     "output_type": "stream",
     "text": [
      " 92%|█████████▏| 231/250 [00:13<00:01, 13.90it/s]"
     ]
    },
    {
     "name": "stdout",
     "output_type": "stream",
     "text": [
      "No data for #250 at https://socialblade.com/youtube/top/category/shows\n"
     ]
    },
    {
     "name": "stderr",
     "output_type": "stream",
     "text": [
      " 81%|████████  | 202/250 [00:11<00:03, 15.10it/s]"
     ]
    },
    {
     "name": "stdout",
     "output_type": "stream",
     "text": [
      "No data for #251 at https://socialblade.com/youtube/top/category/shows\n"
     ]
    },
    {
     "name": "stderr",
     "output_type": "stream",
     "text": [
      " 93%|█████████▎| 233/250 [00:13<00:01, 13.44it/s]"
     ]
    },
    {
     "name": "stdout",
     "output_type": "stream",
     "text": [
      "No data for #252 at https://socialblade.com/youtube/top/category/shows\n"
     ]
    },
    {
     "name": "stderr",
     "output_type": "stream",
     "text": [
      " 31%|███       | 77/250 [00:03<00:09, 19.17it/s]]"
     ]
    },
    {
     "name": "stdout",
     "output_type": "stream",
     "text": [
      "No data for #253 at https://socialblade.com/youtube/top/category/shows\n"
     ]
    },
    {
     "name": "stderr",
     "output_type": "stream",
     "text": [
      " 82%|████████▏ | 206/250 [00:11<00:03, 14.60it/s]"
     ]
    },
    {
     "name": "stdout",
     "output_type": "stream",
     "text": [
      "No data for #254 at https://socialblade.com/youtube/top/category/shows\n"
     ]
    },
    {
     "name": "stderr",
     "output_type": "stream",
     "text": [
      "100%|██████████| 250/250 [00:16<00:00, 15.58it/s]\n",
      "100%|██████████| 250/250 [00:14<00:00, 16.85it/s]\n",
      "100%|██████████| 250/250 [00:15<00:00, 16.38it/s]\n",
      "100%|██████████| 250/250 [00:14<00:00, 17.30it/s]\n",
      "100%|██████████| 250/250 [00:11<00:00, 21.23it/s]\n"
     ]
    },
    {
     "name": "stdout",
     "output_type": "stream",
     "text": [
      "[('AUTO & VEHICLES', 288102), ('COMEDY', 299431), ('EDUCATION', 333731), ('ENTERTAINMENT', 3280410), ('FILM', 422492), ('GAMING', 592259), ('HOW TO & STYLE', 344250), ('MADE FOR KIDS', 213214), ('MUSIC', 581375), ('NEWS & POLITICS', 13666493), ('NONPROFIT & ACTIVISM', 667182), ('PEOPLE & BLOGS', 478691), ('PETS & ANIMALS', 198235), ('SCIENCE & TECHNOLOGY', 295687), ('SHOWS', 25284), ('SPORTS', 1801745), ('TRAVEL', 383574)]\n"
     ]
    }
   ],
   "source": [
    "def channel_types_list():\n",
    "    channel_types = []\n",
    "    url = 'https://socialblade.com/youtube/top/'\n",
    "    browser = webdriver.Firefox(options=options)\n",
    "    browser.get(url)\n",
    "    browser.implicitly_wait(3)\n",
    "    \n",
    "    div = browser.find_element_by_xpath('/html/body/div[11]/div[1]/div[8]')\n",
    "    links = div.find_elements_by_tag_name('a')\n",
    "    for link in tqdm(links):\n",
    "        name = link.text\n",
    "        href = link.get_attribute('href')\n",
    "        channel_types.append((name, href))\n",
    "        \n",
    "    browser.quit()\n",
    "    \n",
    "    return channel_types\n",
    "\n",
    "\n",
    "def total_uploads_by_channel_type(url, channel_type_name):\n",
    "    uploads = 0\n",
    "    browser = webdriver.Firefox(options=options)\n",
    "    browser.get(url)\n",
    "    browser.implicitly_wait(3)\n",
    "    \n",
    "    for i in tqdm(range(5, 255)):\n",
    "        try:\n",
    "            div = browser.find_element_by_xpath('/html/body/div[11]/div[2]/div[{}]'.format(i))\n",
    "            row = div.find_elements_by_tag_name('div')\n",
    "            channel_name_raw = row[2].text\n",
    "            value_raw = row[3].text\n",
    "            \n",
    "            if value_raw == '--' and channel_name_raw == '':\n",
    "                raise Exception('No data for #{} at {}'.format(i, url))\n",
    "            \n",
    "            if value_raw == '--':\n",
    "                raise Exception('No uploads for #{} at {}'.format(i, url))\n",
    "            \n",
    "            uploads += int(value_raw.replace(',', ''))\n",
    "            \n",
    "        except Exception as e:\n",
    "            print(e)\n",
    "            \n",
    "    \n",
    "    browser.quit()\n",
    "    \n",
    "    return channel_type_name, uploads\n",
    "\n",
    "# list of channel types from website\n",
    "channel_types_list = channel_types_list()\n",
    "channel_names, channel_urls = zip(*channel_types_list)\n",
    "    \n",
    "def total_uploads_list(func, channel_urls, channel_names, workers=multiprocessing.cpu_count()):\n",
    "    with ProcessPoolExecutor(workers) as ex:\n",
    "        res = ex.map(func, channel_urls, channel_names)\n",
    "        return list(res)\n",
    "\n",
    "total_uploads_list = total_uploads_list(total_uploads_by_channel_type, channel_urls, channel_names)\n",
    "print(total_uploads_list)"
   ]
  },
  {
   "cell_type": "code",
   "execution_count": 10,
   "metadata": {},
   "outputs": [
    {
     "data": {
      "application/javascript": [
       "/* Put everything inside the global mpl namespace */\n",
       "window.mpl = {};\n",
       "\n",
       "\n",
       "mpl.get_websocket_type = function() {\n",
       "    if (typeof(WebSocket) !== 'undefined') {\n",
       "        return WebSocket;\n",
       "    } else if (typeof(MozWebSocket) !== 'undefined') {\n",
       "        return MozWebSocket;\n",
       "    } else {\n",
       "        alert('Your browser does not have WebSocket support. ' +\n",
       "              'Please try Chrome, Safari or Firefox ≥ 6. ' +\n",
       "              'Firefox 4 and 5 are also supported but you ' +\n",
       "              'have to enable WebSockets in about:config.');\n",
       "    };\n",
       "}\n",
       "\n",
       "mpl.figure = function(figure_id, websocket, ondownload, parent_element) {\n",
       "    this.id = figure_id;\n",
       "\n",
       "    this.ws = websocket;\n",
       "\n",
       "    this.supports_binary = (this.ws.binaryType != undefined);\n",
       "\n",
       "    if (!this.supports_binary) {\n",
       "        var warnings = document.getElementById(\"mpl-warnings\");\n",
       "        if (warnings) {\n",
       "            warnings.style.display = 'block';\n",
       "            warnings.textContent = (\n",
       "                \"This browser does not support binary websocket messages. \" +\n",
       "                    \"Performance may be slow.\");\n",
       "        }\n",
       "    }\n",
       "\n",
       "    this.imageObj = new Image();\n",
       "\n",
       "    this.context = undefined;\n",
       "    this.message = undefined;\n",
       "    this.canvas = undefined;\n",
       "    this.rubberband_canvas = undefined;\n",
       "    this.rubberband_context = undefined;\n",
       "    this.format_dropdown = undefined;\n",
       "\n",
       "    this.image_mode = 'full';\n",
       "\n",
       "    this.root = $('<div/>');\n",
       "    this._root_extra_style(this.root)\n",
       "    this.root.attr('style', 'display: inline-block');\n",
       "\n",
       "    $(parent_element).append(this.root);\n",
       "\n",
       "    this._init_header(this);\n",
       "    this._init_canvas(this);\n",
       "    this._init_toolbar(this);\n",
       "\n",
       "    var fig = this;\n",
       "\n",
       "    this.waiting = false;\n",
       "\n",
       "    this.ws.onopen =  function () {\n",
       "            fig.send_message(\"supports_binary\", {value: fig.supports_binary});\n",
       "            fig.send_message(\"send_image_mode\", {});\n",
       "            if (mpl.ratio != 1) {\n",
       "                fig.send_message(\"set_dpi_ratio\", {'dpi_ratio': mpl.ratio});\n",
       "            }\n",
       "            fig.send_message(\"refresh\", {});\n",
       "        }\n",
       "\n",
       "    this.imageObj.onload = function() {\n",
       "            if (fig.image_mode == 'full') {\n",
       "                // Full images could contain transparency (where diff images\n",
       "                // almost always do), so we need to clear the canvas so that\n",
       "                // there is no ghosting.\n",
       "                fig.context.clearRect(0, 0, fig.canvas.width, fig.canvas.height);\n",
       "            }\n",
       "            fig.context.drawImage(fig.imageObj, 0, 0);\n",
       "        };\n",
       "\n",
       "    this.imageObj.onunload = function() {\n",
       "        fig.ws.close();\n",
       "    }\n",
       "\n",
       "    this.ws.onmessage = this._make_on_message_function(this);\n",
       "\n",
       "    this.ondownload = ondownload;\n",
       "}\n",
       "\n",
       "mpl.figure.prototype._init_header = function() {\n",
       "    var titlebar = $(\n",
       "        '<div class=\"ui-dialog-titlebar ui-widget-header ui-corner-all ' +\n",
       "        'ui-helper-clearfix\"/>');\n",
       "    var titletext = $(\n",
       "        '<div class=\"ui-dialog-title\" style=\"width: 100%; ' +\n",
       "        'text-align: center; padding: 3px;\"/>');\n",
       "    titlebar.append(titletext)\n",
       "    this.root.append(titlebar);\n",
       "    this.header = titletext[0];\n",
       "}\n",
       "\n",
       "\n",
       "\n",
       "mpl.figure.prototype._canvas_extra_style = function(canvas_div) {\n",
       "\n",
       "}\n",
       "\n",
       "\n",
       "mpl.figure.prototype._root_extra_style = function(canvas_div) {\n",
       "\n",
       "}\n",
       "\n",
       "mpl.figure.prototype._init_canvas = function() {\n",
       "    var fig = this;\n",
       "\n",
       "    var canvas_div = $('<div/>');\n",
       "\n",
       "    canvas_div.attr('style', 'position: relative; clear: both; outline: 0');\n",
       "\n",
       "    function canvas_keyboard_event(event) {\n",
       "        return fig.key_event(event, event['data']);\n",
       "    }\n",
       "\n",
       "    canvas_div.keydown('key_press', canvas_keyboard_event);\n",
       "    canvas_div.keyup('key_release', canvas_keyboard_event);\n",
       "    this.canvas_div = canvas_div\n",
       "    this._canvas_extra_style(canvas_div)\n",
       "    this.root.append(canvas_div);\n",
       "\n",
       "    var canvas = $('<canvas/>');\n",
       "    canvas.addClass('mpl-canvas');\n",
       "    canvas.attr('style', \"left: 0; top: 0; z-index: 0; outline: 0\")\n",
       "\n",
       "    this.canvas = canvas[0];\n",
       "    this.context = canvas[0].getContext(\"2d\");\n",
       "\n",
       "    var backingStore = this.context.backingStorePixelRatio ||\n",
       "\tthis.context.webkitBackingStorePixelRatio ||\n",
       "\tthis.context.mozBackingStorePixelRatio ||\n",
       "\tthis.context.msBackingStorePixelRatio ||\n",
       "\tthis.context.oBackingStorePixelRatio ||\n",
       "\tthis.context.backingStorePixelRatio || 1;\n",
       "\n",
       "    mpl.ratio = (window.devicePixelRatio || 1) / backingStore;\n",
       "\n",
       "    var rubberband = $('<canvas/>');\n",
       "    rubberband.attr('style', \"position: absolute; left: 0; top: 0; z-index: 1;\")\n",
       "\n",
       "    var pass_mouse_events = true;\n",
       "\n",
       "    canvas_div.resizable({\n",
       "        start: function(event, ui) {\n",
       "            pass_mouse_events = false;\n",
       "        },\n",
       "        resize: function(event, ui) {\n",
       "            fig.request_resize(ui.size.width, ui.size.height);\n",
       "        },\n",
       "        stop: function(event, ui) {\n",
       "            pass_mouse_events = true;\n",
       "            fig.request_resize(ui.size.width, ui.size.height);\n",
       "        },\n",
       "    });\n",
       "\n",
       "    function mouse_event_fn(event) {\n",
       "        if (pass_mouse_events)\n",
       "            return fig.mouse_event(event, event['data']);\n",
       "    }\n",
       "\n",
       "    rubberband.mousedown('button_press', mouse_event_fn);\n",
       "    rubberband.mouseup('button_release', mouse_event_fn);\n",
       "    // Throttle sequential mouse events to 1 every 20ms.\n",
       "    rubberband.mousemove('motion_notify', mouse_event_fn);\n",
       "\n",
       "    rubberband.mouseenter('figure_enter', mouse_event_fn);\n",
       "    rubberband.mouseleave('figure_leave', mouse_event_fn);\n",
       "\n",
       "    canvas_div.on(\"wheel\", function (event) {\n",
       "        event = event.originalEvent;\n",
       "        event['data'] = 'scroll'\n",
       "        if (event.deltaY < 0) {\n",
       "            event.step = 1;\n",
       "        } else {\n",
       "            event.step = -1;\n",
       "        }\n",
       "        mouse_event_fn(event);\n",
       "    });\n",
       "\n",
       "    canvas_div.append(canvas);\n",
       "    canvas_div.append(rubberband);\n",
       "\n",
       "    this.rubberband = rubberband;\n",
       "    this.rubberband_canvas = rubberband[0];\n",
       "    this.rubberband_context = rubberband[0].getContext(\"2d\");\n",
       "    this.rubberband_context.strokeStyle = \"#000000\";\n",
       "\n",
       "    this._resize_canvas = function(width, height) {\n",
       "        // Keep the size of the canvas, canvas container, and rubber band\n",
       "        // canvas in synch.\n",
       "        canvas_div.css('width', width)\n",
       "        canvas_div.css('height', height)\n",
       "\n",
       "        canvas.attr('width', width * mpl.ratio);\n",
       "        canvas.attr('height', height * mpl.ratio);\n",
       "        canvas.attr('style', 'width: ' + width + 'px; height: ' + height + 'px;');\n",
       "\n",
       "        rubberband.attr('width', width);\n",
       "        rubberband.attr('height', height);\n",
       "    }\n",
       "\n",
       "    // Set the figure to an initial 600x600px, this will subsequently be updated\n",
       "    // upon first draw.\n",
       "    this._resize_canvas(600, 600);\n",
       "\n",
       "    // Disable right mouse context menu.\n",
       "    $(this.rubberband_canvas).bind(\"contextmenu\",function(e){\n",
       "        return false;\n",
       "    });\n",
       "\n",
       "    function set_focus () {\n",
       "        canvas.focus();\n",
       "        canvas_div.focus();\n",
       "    }\n",
       "\n",
       "    window.setTimeout(set_focus, 100);\n",
       "}\n",
       "\n",
       "mpl.figure.prototype._init_toolbar = function() {\n",
       "    var fig = this;\n",
       "\n",
       "    var nav_element = $('<div/>');\n",
       "    nav_element.attr('style', 'width: 100%');\n",
       "    this.root.append(nav_element);\n",
       "\n",
       "    // Define a callback function for later on.\n",
       "    function toolbar_event(event) {\n",
       "        return fig.toolbar_button_onclick(event['data']);\n",
       "    }\n",
       "    function toolbar_mouse_event(event) {\n",
       "        return fig.toolbar_button_onmouseover(event['data']);\n",
       "    }\n",
       "\n",
       "    for(var toolbar_ind in mpl.toolbar_items) {\n",
       "        var name = mpl.toolbar_items[toolbar_ind][0];\n",
       "        var tooltip = mpl.toolbar_items[toolbar_ind][1];\n",
       "        var image = mpl.toolbar_items[toolbar_ind][2];\n",
       "        var method_name = mpl.toolbar_items[toolbar_ind][3];\n",
       "\n",
       "        if (!name) {\n",
       "            // put a spacer in here.\n",
       "            continue;\n",
       "        }\n",
       "        var button = $('<button/>');\n",
       "        button.addClass('ui-button ui-widget ui-state-default ui-corner-all ' +\n",
       "                        'ui-button-icon-only');\n",
       "        button.attr('role', 'button');\n",
       "        button.attr('aria-disabled', 'false');\n",
       "        button.click(method_name, toolbar_event);\n",
       "        button.mouseover(tooltip, toolbar_mouse_event);\n",
       "\n",
       "        var icon_img = $('<span/>');\n",
       "        icon_img.addClass('ui-button-icon-primary ui-icon');\n",
       "        icon_img.addClass(image);\n",
       "        icon_img.addClass('ui-corner-all');\n",
       "\n",
       "        var tooltip_span = $('<span/>');\n",
       "        tooltip_span.addClass('ui-button-text');\n",
       "        tooltip_span.html(tooltip);\n",
       "\n",
       "        button.append(icon_img);\n",
       "        button.append(tooltip_span);\n",
       "\n",
       "        nav_element.append(button);\n",
       "    }\n",
       "\n",
       "    var fmt_picker_span = $('<span/>');\n",
       "\n",
       "    var fmt_picker = $('<select/>');\n",
       "    fmt_picker.addClass('mpl-toolbar-option ui-widget ui-widget-content');\n",
       "    fmt_picker_span.append(fmt_picker);\n",
       "    nav_element.append(fmt_picker_span);\n",
       "    this.format_dropdown = fmt_picker[0];\n",
       "\n",
       "    for (var ind in mpl.extensions) {\n",
       "        var fmt = mpl.extensions[ind];\n",
       "        var option = $(\n",
       "            '<option/>', {selected: fmt === mpl.default_extension}).html(fmt);\n",
       "        fmt_picker.append(option);\n",
       "    }\n",
       "\n",
       "    // Add hover states to the ui-buttons\n",
       "    $( \".ui-button\" ).hover(\n",
       "        function() { $(this).addClass(\"ui-state-hover\");},\n",
       "        function() { $(this).removeClass(\"ui-state-hover\");}\n",
       "    );\n",
       "\n",
       "    var status_bar = $('<span class=\"mpl-message\"/>');\n",
       "    nav_element.append(status_bar);\n",
       "    this.message = status_bar[0];\n",
       "}\n",
       "\n",
       "mpl.figure.prototype.request_resize = function(x_pixels, y_pixels) {\n",
       "    // Request matplotlib to resize the figure. Matplotlib will then trigger a resize in the client,\n",
       "    // which will in turn request a refresh of the image.\n",
       "    this.send_message('resize', {'width': x_pixels, 'height': y_pixels});\n",
       "}\n",
       "\n",
       "mpl.figure.prototype.send_message = function(type, properties) {\n",
       "    properties['type'] = type;\n",
       "    properties['figure_id'] = this.id;\n",
       "    this.ws.send(JSON.stringify(properties));\n",
       "}\n",
       "\n",
       "mpl.figure.prototype.send_draw_message = function() {\n",
       "    if (!this.waiting) {\n",
       "        this.waiting = true;\n",
       "        this.ws.send(JSON.stringify({type: \"draw\", figure_id: this.id}));\n",
       "    }\n",
       "}\n",
       "\n",
       "\n",
       "mpl.figure.prototype.handle_save = function(fig, msg) {\n",
       "    var format_dropdown = fig.format_dropdown;\n",
       "    var format = format_dropdown.options[format_dropdown.selectedIndex].value;\n",
       "    fig.ondownload(fig, format);\n",
       "}\n",
       "\n",
       "\n",
       "mpl.figure.prototype.handle_resize = function(fig, msg) {\n",
       "    var size = msg['size'];\n",
       "    if (size[0] != fig.canvas.width || size[1] != fig.canvas.height) {\n",
       "        fig._resize_canvas(size[0], size[1]);\n",
       "        fig.send_message(\"refresh\", {});\n",
       "    };\n",
       "}\n",
       "\n",
       "mpl.figure.prototype.handle_rubberband = function(fig, msg) {\n",
       "    var x0 = msg['x0'] / mpl.ratio;\n",
       "    var y0 = (fig.canvas.height - msg['y0']) / mpl.ratio;\n",
       "    var x1 = msg['x1'] / mpl.ratio;\n",
       "    var y1 = (fig.canvas.height - msg['y1']) / mpl.ratio;\n",
       "    x0 = Math.floor(x0) + 0.5;\n",
       "    y0 = Math.floor(y0) + 0.5;\n",
       "    x1 = Math.floor(x1) + 0.5;\n",
       "    y1 = Math.floor(y1) + 0.5;\n",
       "    var min_x = Math.min(x0, x1);\n",
       "    var min_y = Math.min(y0, y1);\n",
       "    var width = Math.abs(x1 - x0);\n",
       "    var height = Math.abs(y1 - y0);\n",
       "\n",
       "    fig.rubberband_context.clearRect(\n",
       "        0, 0, fig.canvas.width / mpl.ratio, fig.canvas.height / mpl.ratio);\n",
       "\n",
       "    fig.rubberband_context.strokeRect(min_x, min_y, width, height);\n",
       "}\n",
       "\n",
       "mpl.figure.prototype.handle_figure_label = function(fig, msg) {\n",
       "    // Updates the figure title.\n",
       "    fig.header.textContent = msg['label'];\n",
       "}\n",
       "\n",
       "mpl.figure.prototype.handle_cursor = function(fig, msg) {\n",
       "    var cursor = msg['cursor'];\n",
       "    switch(cursor)\n",
       "    {\n",
       "    case 0:\n",
       "        cursor = 'pointer';\n",
       "        break;\n",
       "    case 1:\n",
       "        cursor = 'default';\n",
       "        break;\n",
       "    case 2:\n",
       "        cursor = 'crosshair';\n",
       "        break;\n",
       "    case 3:\n",
       "        cursor = 'move';\n",
       "        break;\n",
       "    }\n",
       "    fig.rubberband_canvas.style.cursor = cursor;\n",
       "}\n",
       "\n",
       "mpl.figure.prototype.handle_message = function(fig, msg) {\n",
       "    fig.message.textContent = msg['message'];\n",
       "}\n",
       "\n",
       "mpl.figure.prototype.handle_draw = function(fig, msg) {\n",
       "    // Request the server to send over a new figure.\n",
       "    fig.send_draw_message();\n",
       "}\n",
       "\n",
       "mpl.figure.prototype.handle_image_mode = function(fig, msg) {\n",
       "    fig.image_mode = msg['mode'];\n",
       "}\n",
       "\n",
       "mpl.figure.prototype.updated_canvas_event = function() {\n",
       "    // Called whenever the canvas gets updated.\n",
       "    this.send_message(\"ack\", {});\n",
       "}\n",
       "\n",
       "// A function to construct a web socket function for onmessage handling.\n",
       "// Called in the figure constructor.\n",
       "mpl.figure.prototype._make_on_message_function = function(fig) {\n",
       "    return function socket_on_message(evt) {\n",
       "        if (evt.data instanceof Blob) {\n",
       "            /* FIXME: We get \"Resource interpreted as Image but\n",
       "             * transferred with MIME type text/plain:\" errors on\n",
       "             * Chrome.  But how to set the MIME type?  It doesn't seem\n",
       "             * to be part of the websocket stream */\n",
       "            evt.data.type = \"image/png\";\n",
       "\n",
       "            /* Free the memory for the previous frames */\n",
       "            if (fig.imageObj.src) {\n",
       "                (window.URL || window.webkitURL).revokeObjectURL(\n",
       "                    fig.imageObj.src);\n",
       "            }\n",
       "\n",
       "            fig.imageObj.src = (window.URL || window.webkitURL).createObjectURL(\n",
       "                evt.data);\n",
       "            fig.updated_canvas_event();\n",
       "            fig.waiting = false;\n",
       "            return;\n",
       "        }\n",
       "        else if (typeof evt.data === 'string' && evt.data.slice(0, 21) == \"data:image/png;base64\") {\n",
       "            fig.imageObj.src = evt.data;\n",
       "            fig.updated_canvas_event();\n",
       "            fig.waiting = false;\n",
       "            return;\n",
       "        }\n",
       "\n",
       "        var msg = JSON.parse(evt.data);\n",
       "        var msg_type = msg['type'];\n",
       "\n",
       "        // Call the  \"handle_{type}\" callback, which takes\n",
       "        // the figure and JSON message as its only arguments.\n",
       "        try {\n",
       "            var callback = fig[\"handle_\" + msg_type];\n",
       "        } catch (e) {\n",
       "            console.log(\"No handler for the '\" + msg_type + \"' message type: \", msg);\n",
       "            return;\n",
       "        }\n",
       "\n",
       "        if (callback) {\n",
       "            try {\n",
       "                // console.log(\"Handling '\" + msg_type + \"' message: \", msg);\n",
       "                callback(fig, msg);\n",
       "            } catch (e) {\n",
       "                console.log(\"Exception inside the 'handler_\" + msg_type + \"' callback:\", e, e.stack, msg);\n",
       "            }\n",
       "        }\n",
       "    };\n",
       "}\n",
       "\n",
       "// from http://stackoverflow.com/questions/1114465/getting-mouse-location-in-canvas\n",
       "mpl.findpos = function(e) {\n",
       "    //this section is from http://www.quirksmode.org/js/events_properties.html\n",
       "    var targ;\n",
       "    if (!e)\n",
       "        e = window.event;\n",
       "    if (e.target)\n",
       "        targ = e.target;\n",
       "    else if (e.srcElement)\n",
       "        targ = e.srcElement;\n",
       "    if (targ.nodeType == 3) // defeat Safari bug\n",
       "        targ = targ.parentNode;\n",
       "\n",
       "    // jQuery normalizes the pageX and pageY\n",
       "    // pageX,Y are the mouse positions relative to the document\n",
       "    // offset() returns the position of the element relative to the document\n",
       "    var x = e.pageX - $(targ).offset().left;\n",
       "    var y = e.pageY - $(targ).offset().top;\n",
       "\n",
       "    return {\"x\": x, \"y\": y};\n",
       "};\n",
       "\n",
       "/*\n",
       " * return a copy of an object with only non-object keys\n",
       " * we need this to avoid circular references\n",
       " * http://stackoverflow.com/a/24161582/3208463\n",
       " */\n",
       "function simpleKeys (original) {\n",
       "  return Object.keys(original).reduce(function (obj, key) {\n",
       "    if (typeof original[key] !== 'object')\n",
       "        obj[key] = original[key]\n",
       "    return obj;\n",
       "  }, {});\n",
       "}\n",
       "\n",
       "mpl.figure.prototype.mouse_event = function(event, name) {\n",
       "    var canvas_pos = mpl.findpos(event)\n",
       "\n",
       "    if (name === 'button_press')\n",
       "    {\n",
       "        this.canvas.focus();\n",
       "        this.canvas_div.focus();\n",
       "    }\n",
       "\n",
       "    var x = canvas_pos.x * mpl.ratio;\n",
       "    var y = canvas_pos.y * mpl.ratio;\n",
       "\n",
       "    this.send_message(name, {x: x, y: y, button: event.button,\n",
       "                             step: event.step,\n",
       "                             guiEvent: simpleKeys(event)});\n",
       "\n",
       "    /* This prevents the web browser from automatically changing to\n",
       "     * the text insertion cursor when the button is pressed.  We want\n",
       "     * to control all of the cursor setting manually through the\n",
       "     * 'cursor' event from matplotlib */\n",
       "    event.preventDefault();\n",
       "    return false;\n",
       "}\n",
       "\n",
       "mpl.figure.prototype._key_event_extra = function(event, name) {\n",
       "    // Handle any extra behaviour associated with a key event\n",
       "}\n",
       "\n",
       "mpl.figure.prototype.key_event = function(event, name) {\n",
       "\n",
       "    // Prevent repeat events\n",
       "    if (name == 'key_press')\n",
       "    {\n",
       "        if (event.which === this._key)\n",
       "            return;\n",
       "        else\n",
       "            this._key = event.which;\n",
       "    }\n",
       "    if (name == 'key_release')\n",
       "        this._key = null;\n",
       "\n",
       "    var value = '';\n",
       "    if (event.ctrlKey && event.which != 17)\n",
       "        value += \"ctrl+\";\n",
       "    if (event.altKey && event.which != 18)\n",
       "        value += \"alt+\";\n",
       "    if (event.shiftKey && event.which != 16)\n",
       "        value += \"shift+\";\n",
       "\n",
       "    value += 'k';\n",
       "    value += event.which.toString();\n",
       "\n",
       "    this._key_event_extra(event, name);\n",
       "\n",
       "    this.send_message(name, {key: value,\n",
       "                             guiEvent: simpleKeys(event)});\n",
       "    return false;\n",
       "}\n",
       "\n",
       "mpl.figure.prototype.toolbar_button_onclick = function(name) {\n",
       "    if (name == 'download') {\n",
       "        this.handle_save(this, null);\n",
       "    } else {\n",
       "        this.send_message(\"toolbar_button\", {name: name});\n",
       "    }\n",
       "};\n",
       "\n",
       "mpl.figure.prototype.toolbar_button_onmouseover = function(tooltip) {\n",
       "    this.message.textContent = tooltip;\n",
       "};\n",
       "mpl.toolbar_items = [[\"Home\", \"Reset original view\", \"fa fa-home icon-home\", \"home\"], [\"Back\", \"Back to previous view\", \"fa fa-arrow-left icon-arrow-left\", \"back\"], [\"Forward\", \"Forward to next view\", \"fa fa-arrow-right icon-arrow-right\", \"forward\"], [\"\", \"\", \"\", \"\"], [\"Pan\", \"Pan axes with left mouse, zoom with right\", \"fa fa-arrows icon-move\", \"pan\"], [\"Zoom\", \"Zoom to rectangle\", \"fa fa-square-o icon-check-empty\", \"zoom\"], [\"\", \"\", \"\", \"\"], [\"Download\", \"Download plot\", \"fa fa-floppy-o icon-save\", \"download\"]];\n",
       "\n",
       "mpl.extensions = [\"eps\", \"jpeg\", \"pdf\", \"png\", \"ps\", \"raw\", \"svg\", \"tif\"];\n",
       "\n",
       "mpl.default_extension = \"png\";var comm_websocket_adapter = function(comm) {\n",
       "    // Create a \"websocket\"-like object which calls the given IPython comm\n",
       "    // object with the appropriate methods. Currently this is a non binary\n",
       "    // socket, so there is still some room for performance tuning.\n",
       "    var ws = {};\n",
       "\n",
       "    ws.close = function() {\n",
       "        comm.close()\n",
       "    };\n",
       "    ws.send = function(m) {\n",
       "        //console.log('sending', m);\n",
       "        comm.send(m);\n",
       "    };\n",
       "    // Register the callback with on_msg.\n",
       "    comm.on_msg(function(msg) {\n",
       "        //console.log('receiving', msg['content']['data'], msg);\n",
       "        // Pass the mpl event to the overridden (by mpl) onmessage function.\n",
       "        ws.onmessage(msg['content']['data'])\n",
       "    });\n",
       "    return ws;\n",
       "}\n",
       "\n",
       "mpl.mpl_figure_comm = function(comm, msg) {\n",
       "    // This is the function which gets called when the mpl process\n",
       "    // starts-up an IPython Comm through the \"matplotlib\" channel.\n",
       "\n",
       "    var id = msg.content.data.id;\n",
       "    // Get hold of the div created by the display call when the Comm\n",
       "    // socket was opened in Python.\n",
       "    var element = $(\"#\" + id);\n",
       "    var ws_proxy = comm_websocket_adapter(comm)\n",
       "\n",
       "    function ondownload(figure, format) {\n",
       "        window.open(figure.imageObj.src);\n",
       "    }\n",
       "\n",
       "    var fig = new mpl.figure(id, ws_proxy,\n",
       "                           ondownload,\n",
       "                           element.get(0));\n",
       "\n",
       "    // Call onopen now - mpl needs it, as it is assuming we've passed it a real\n",
       "    // web socket which is closed, not our websocket->open comm proxy.\n",
       "    ws_proxy.onopen();\n",
       "\n",
       "    fig.parent_element = element.get(0);\n",
       "    fig.cell_info = mpl.find_output_cell(\"<div id='\" + id + \"'></div>\");\n",
       "    if (!fig.cell_info) {\n",
       "        console.error(\"Failed to find cell for figure\", id, fig);\n",
       "        return;\n",
       "    }\n",
       "\n",
       "    var output_index = fig.cell_info[2]\n",
       "    var cell = fig.cell_info[0];\n",
       "\n",
       "};\n",
       "\n",
       "mpl.figure.prototype.handle_close = function(fig, msg) {\n",
       "    var width = fig.canvas.width/mpl.ratio\n",
       "    fig.root.unbind('remove')\n",
       "\n",
       "    // Update the output cell to use the data from the current canvas.\n",
       "    fig.push_to_output();\n",
       "    var dataURL = fig.canvas.toDataURL();\n",
       "    // Re-enable the keyboard manager in IPython - without this line, in FF,\n",
       "    // the notebook keyboard shortcuts fail.\n",
       "    IPython.keyboard_manager.enable()\n",
       "    $(fig.parent_element).html('<img src=\"' + dataURL + '\" width=\"' + width + '\">');\n",
       "    fig.close_ws(fig, msg);\n",
       "}\n",
       "\n",
       "mpl.figure.prototype.close_ws = function(fig, msg){\n",
       "    fig.send_message('closing', msg);\n",
       "    // fig.ws.close()\n",
       "}\n",
       "\n",
       "mpl.figure.prototype.push_to_output = function(remove_interactive) {\n",
       "    // Turn the data on the canvas into data in the output cell.\n",
       "    var width = this.canvas.width/mpl.ratio\n",
       "    var dataURL = this.canvas.toDataURL();\n",
       "    this.cell_info[1]['text/html'] = '<img src=\"' + dataURL + '\" width=\"' + width + '\">';\n",
       "}\n",
       "\n",
       "mpl.figure.prototype.updated_canvas_event = function() {\n",
       "    // Tell IPython that the notebook contents must change.\n",
       "    IPython.notebook.set_dirty(true);\n",
       "    this.send_message(\"ack\", {});\n",
       "    var fig = this;\n",
       "    // Wait a second, then push the new image to the DOM so\n",
       "    // that it is saved nicely (might be nice to debounce this).\n",
       "    setTimeout(function () { fig.push_to_output() }, 1000);\n",
       "}\n",
       "\n",
       "mpl.figure.prototype._init_toolbar = function() {\n",
       "    var fig = this;\n",
       "\n",
       "    var nav_element = $('<div/>');\n",
       "    nav_element.attr('style', 'width: 100%');\n",
       "    this.root.append(nav_element);\n",
       "\n",
       "    // Define a callback function for later on.\n",
       "    function toolbar_event(event) {\n",
       "        return fig.toolbar_button_onclick(event['data']);\n",
       "    }\n",
       "    function toolbar_mouse_event(event) {\n",
       "        return fig.toolbar_button_onmouseover(event['data']);\n",
       "    }\n",
       "\n",
       "    for(var toolbar_ind in mpl.toolbar_items){\n",
       "        var name = mpl.toolbar_items[toolbar_ind][0];\n",
       "        var tooltip = mpl.toolbar_items[toolbar_ind][1];\n",
       "        var image = mpl.toolbar_items[toolbar_ind][2];\n",
       "        var method_name = mpl.toolbar_items[toolbar_ind][3];\n",
       "\n",
       "        if (!name) { continue; };\n",
       "\n",
       "        var button = $('<button class=\"btn btn-default\" href=\"#\" title=\"' + name + '\"><i class=\"fa ' + image + ' fa-lg\"></i></button>');\n",
       "        button.click(method_name, toolbar_event);\n",
       "        button.mouseover(tooltip, toolbar_mouse_event);\n",
       "        nav_element.append(button);\n",
       "    }\n",
       "\n",
       "    // Add the status bar.\n",
       "    var status_bar = $('<span class=\"mpl-message\" style=\"text-align:right; float: right;\"/>');\n",
       "    nav_element.append(status_bar);\n",
       "    this.message = status_bar[0];\n",
       "\n",
       "    // Add the close button to the window.\n",
       "    var buttongrp = $('<div class=\"btn-group inline pull-right\"></div>');\n",
       "    var button = $('<button class=\"btn btn-mini btn-primary\" href=\"#\" title=\"Stop Interaction\"><i class=\"fa fa-power-off icon-remove icon-large\"></i></button>');\n",
       "    button.click(function (evt) { fig.handle_close(fig, {}); } );\n",
       "    button.mouseover('Stop Interaction', toolbar_mouse_event);\n",
       "    buttongrp.append(button);\n",
       "    var titlebar = this.root.find($('.ui-dialog-titlebar'));\n",
       "    titlebar.prepend(buttongrp);\n",
       "}\n",
       "\n",
       "mpl.figure.prototype._root_extra_style = function(el){\n",
       "    var fig = this\n",
       "    el.on(\"remove\", function(){\n",
       "\tfig.close_ws(fig, {});\n",
       "    });\n",
       "}\n",
       "\n",
       "mpl.figure.prototype._canvas_extra_style = function(el){\n",
       "    // this is important to make the div 'focusable\n",
       "    el.attr('tabindex', 0)\n",
       "    // reach out to IPython and tell the keyboard manager to turn it's self\n",
       "    // off when our div gets focus\n",
       "\n",
       "    // location in version 3\n",
       "    if (IPython.notebook.keyboard_manager) {\n",
       "        IPython.notebook.keyboard_manager.register_events(el);\n",
       "    }\n",
       "    else {\n",
       "        // location in version 2\n",
       "        IPython.keyboard_manager.register_events(el);\n",
       "    }\n",
       "\n",
       "}\n",
       "\n",
       "mpl.figure.prototype._key_event_extra = function(event, name) {\n",
       "    var manager = IPython.notebook.keyboard_manager;\n",
       "    if (!manager)\n",
       "        manager = IPython.keyboard_manager;\n",
       "\n",
       "    // Check for shift+enter\n",
       "    if (event.shiftKey && event.which == 13) {\n",
       "        this.canvas_div.blur();\n",
       "        // select the cell after this one\n",
       "        var index = IPython.notebook.find_cell_index(this.cell_info[0]);\n",
       "        IPython.notebook.select(index + 1);\n",
       "    }\n",
       "}\n",
       "\n",
       "mpl.figure.prototype.handle_save = function(fig, msg) {\n",
       "    fig.ondownload(fig, null);\n",
       "}\n",
       "\n",
       "\n",
       "mpl.find_output_cell = function(html_output) {\n",
       "    // Return the cell and output element which can be found *uniquely* in the notebook.\n",
       "    // Note - this is a bit hacky, but it is done because the \"notebook_saving.Notebook\"\n",
       "    // IPython event is triggered only after the cells have been serialised, which for\n",
       "    // our purposes (turning an active figure into a static one), is too late.\n",
       "    var cells = IPython.notebook.get_cells();\n",
       "    var ncells = cells.length;\n",
       "    for (var i=0; i<ncells; i++) {\n",
       "        var cell = cells[i];\n",
       "        if (cell.cell_type === 'code'){\n",
       "            for (var j=0; j<cell.output_area.outputs.length; j++) {\n",
       "                var data = cell.output_area.outputs[j];\n",
       "                if (data.data) {\n",
       "                    // IPython >= 3 moved mimebundle to data attribute of output\n",
       "                    data = data.data;\n",
       "                }\n",
       "                if (data['text/html'] == html_output) {\n",
       "                    return [cell, data, j];\n",
       "                }\n",
       "            }\n",
       "        }\n",
       "    }\n",
       "}\n",
       "\n",
       "// Register the function which deals with the matplotlib target/channel.\n",
       "// The kernel may be null if the page has been refreshed.\n",
       "if (IPython.notebook.kernel != null) {\n",
       "    IPython.notebook.kernel.comm_manager.register_target('matplotlib', mpl.mpl_figure_comm);\n",
       "}\n"
      ],
      "text/plain": [
       "<IPython.core.display.Javascript object>"
      ]
     },
     "metadata": {},
     "output_type": "display_data"
    },
    {
     "data": {
      "text/html": [
       "<img src=\"data:image/png;base64,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\" width=\"640\">"
      ],
      "text/plain": [
       "<IPython.core.display.HTML object>"
      ]
     },
     "metadata": {},
     "output_type": "display_data"
    },
    {
     "data": {
      "text/plain": [
       "<matplotlib.lines.Line2D at 0x7f86ce000510>"
      ]
     },
     "execution_count": 10,
     "metadata": {},
     "output_type": "execute_result"
    }
   ],
   "source": [
    "%matplotlib notebook\n",
    "\n",
    "#data\n",
    "data = total_uploads_list\n",
    "data.sort(key=lambda tup: tup[1], reverse=True) # sorting data by avg_vowels\n",
    "channels, uploads = zip(*data)\n",
    "uploads_mean = np.mean(uploads)\n",
    "\n",
    "# style\n",
    "plt.style.use('Solarize_Light2')\n",
    "\n",
    "# autolayout\n",
    "plt.rcParams.update({'figure.autolayout': True})\n",
    "\n",
    "# plot\n",
    "fig, ax = plt.subplots()\n",
    "ax.bar(channels, uploads, log=True)\n",
    "#plt.bar(channels, uploads, width=0.5, align='center')\n",
    "#plt.yscale('log')\n",
    "plt.xticks(rotation=45, horizontalalignment='right',fontweight='light')\n",
    "# median\n",
    "ax.axhline(uploads_mean, ls='--', color='r')"
   ]
  },
  {
   "cell_type": "markdown",
   "metadata": {},
   "source": [
    "##### 3) Hvordan er fordelingen af ‘Channel Type’ på danmarks top 250 youtube kanaler fordelt på most subscribers? Vis dette med et bar plot."
   ]
  },
  {
   "cell_type": "code",
   "execution_count": 6,
   "metadata": {},
   "outputs": [
    {
     "name": "stderr",
     "output_type": "stream",
     "text": [
      "100%|██████████| 250/250 [00:08<00:00, 28.12it/s]\n"
     ]
    }
   ],
   "source": [
    "def channel_types_top_250_by_country(country_code):\n",
    "    channel_types = {}\n",
    "    url = 'https://socialblade.com/youtube/top/country/{}'.format(country_code)\n",
    "    browser = webdriver.Firefox(options=options)\n",
    "    browser.get(url)\n",
    "    browser.implicitly_wait(3)\n",
    "    \n",
    "    for i in tqdm(range(5, 255)):\n",
    "        div = browser.find_element_by_xpath('/html/body/div[11]/div[2]/div[{}]'.format(i))\n",
    "        row = div.find_elements_by_tag_name('div')\n",
    "        channel_type_raw = row[2].find_element_by_tag_name('i').get_attribute('title').split(':')\n",
    "        channel_type = channel_type_raw[1].strip().capitalize()\n",
    "        if channel_type == \"\":\n",
    "            channel_type = \"Unknown\"\n",
    "        \n",
    "        if channel_type not in channel_types:\n",
    "            channel_types[channel_type] = 1\n",
    "        else:\n",
    "            channel_types[channel_type] += 1\n",
    "            \n",
    "    return channel_types\n",
    "\n",
    "channel_types_top_250 = channel_types_top_250_by_country('dk')"
   ]
  },
  {
   "cell_type": "code",
   "execution_count": 7,
   "metadata": {},
   "outputs": [
    {
     "data": {
      "application/javascript": [
       "/* Put everything inside the global mpl namespace */\n",
       "window.mpl = {};\n",
       "\n",
       "\n",
       "mpl.get_websocket_type = function() {\n",
       "    if (typeof(WebSocket) !== 'undefined') {\n",
       "        return WebSocket;\n",
       "    } else if (typeof(MozWebSocket) !== 'undefined') {\n",
       "        return MozWebSocket;\n",
       "    } else {\n",
       "        alert('Your browser does not have WebSocket support. ' +\n",
       "              'Please try Chrome, Safari or Firefox ≥ 6. ' +\n",
       "              'Firefox 4 and 5 are also supported but you ' +\n",
       "              'have to enable WebSockets in about:config.');\n",
       "    };\n",
       "}\n",
       "\n",
       "mpl.figure = function(figure_id, websocket, ondownload, parent_element) {\n",
       "    this.id = figure_id;\n",
       "\n",
       "    this.ws = websocket;\n",
       "\n",
       "    this.supports_binary = (this.ws.binaryType != undefined);\n",
       "\n",
       "    if (!this.supports_binary) {\n",
       "        var warnings = document.getElementById(\"mpl-warnings\");\n",
       "        if (warnings) {\n",
       "            warnings.style.display = 'block';\n",
       "            warnings.textContent = (\n",
       "                \"This browser does not support binary websocket messages. \" +\n",
       "                    \"Performance may be slow.\");\n",
       "        }\n",
       "    }\n",
       "\n",
       "    this.imageObj = new Image();\n",
       "\n",
       "    this.context = undefined;\n",
       "    this.message = undefined;\n",
       "    this.canvas = undefined;\n",
       "    this.rubberband_canvas = undefined;\n",
       "    this.rubberband_context = undefined;\n",
       "    this.format_dropdown = undefined;\n",
       "\n",
       "    this.image_mode = 'full';\n",
       "\n",
       "    this.root = $('<div/>');\n",
       "    this._root_extra_style(this.root)\n",
       "    this.root.attr('style', 'display: inline-block');\n",
       "\n",
       "    $(parent_element).append(this.root);\n",
       "\n",
       "    this._init_header(this);\n",
       "    this._init_canvas(this);\n",
       "    this._init_toolbar(this);\n",
       "\n",
       "    var fig = this;\n",
       "\n",
       "    this.waiting = false;\n",
       "\n",
       "    this.ws.onopen =  function () {\n",
       "            fig.send_message(\"supports_binary\", {value: fig.supports_binary});\n",
       "            fig.send_message(\"send_image_mode\", {});\n",
       "            if (mpl.ratio != 1) {\n",
       "                fig.send_message(\"set_dpi_ratio\", {'dpi_ratio': mpl.ratio});\n",
       "            }\n",
       "            fig.send_message(\"refresh\", {});\n",
       "        }\n",
       "\n",
       "    this.imageObj.onload = function() {\n",
       "            if (fig.image_mode == 'full') {\n",
       "                // Full images could contain transparency (where diff images\n",
       "                // almost always do), so we need to clear the canvas so that\n",
       "                // there is no ghosting.\n",
       "                fig.context.clearRect(0, 0, fig.canvas.width, fig.canvas.height);\n",
       "            }\n",
       "            fig.context.drawImage(fig.imageObj, 0, 0);\n",
       "        };\n",
       "\n",
       "    this.imageObj.onunload = function() {\n",
       "        fig.ws.close();\n",
       "    }\n",
       "\n",
       "    this.ws.onmessage = this._make_on_message_function(this);\n",
       "\n",
       "    this.ondownload = ondownload;\n",
       "}\n",
       "\n",
       "mpl.figure.prototype._init_header = function() {\n",
       "    var titlebar = $(\n",
       "        '<div class=\"ui-dialog-titlebar ui-widget-header ui-corner-all ' +\n",
       "        'ui-helper-clearfix\"/>');\n",
       "    var titletext = $(\n",
       "        '<div class=\"ui-dialog-title\" style=\"width: 100%; ' +\n",
       "        'text-align: center; padding: 3px;\"/>');\n",
       "    titlebar.append(titletext)\n",
       "    this.root.append(titlebar);\n",
       "    this.header = titletext[0];\n",
       "}\n",
       "\n",
       "\n",
       "\n",
       "mpl.figure.prototype._canvas_extra_style = function(canvas_div) {\n",
       "\n",
       "}\n",
       "\n",
       "\n",
       "mpl.figure.prototype._root_extra_style = function(canvas_div) {\n",
       "\n",
       "}\n",
       "\n",
       "mpl.figure.prototype._init_canvas = function() {\n",
       "    var fig = this;\n",
       "\n",
       "    var canvas_div = $('<div/>');\n",
       "\n",
       "    canvas_div.attr('style', 'position: relative; clear: both; outline: 0');\n",
       "\n",
       "    function canvas_keyboard_event(event) {\n",
       "        return fig.key_event(event, event['data']);\n",
       "    }\n",
       "\n",
       "    canvas_div.keydown('key_press', canvas_keyboard_event);\n",
       "    canvas_div.keyup('key_release', canvas_keyboard_event);\n",
       "    this.canvas_div = canvas_div\n",
       "    this._canvas_extra_style(canvas_div)\n",
       "    this.root.append(canvas_div);\n",
       "\n",
       "    var canvas = $('<canvas/>');\n",
       "    canvas.addClass('mpl-canvas');\n",
       "    canvas.attr('style', \"left: 0; top: 0; z-index: 0; outline: 0\")\n",
       "\n",
       "    this.canvas = canvas[0];\n",
       "    this.context = canvas[0].getContext(\"2d\");\n",
       "\n",
       "    var backingStore = this.context.backingStorePixelRatio ||\n",
       "\tthis.context.webkitBackingStorePixelRatio ||\n",
       "\tthis.context.mozBackingStorePixelRatio ||\n",
       "\tthis.context.msBackingStorePixelRatio ||\n",
       "\tthis.context.oBackingStorePixelRatio ||\n",
       "\tthis.context.backingStorePixelRatio || 1;\n",
       "\n",
       "    mpl.ratio = (window.devicePixelRatio || 1) / backingStore;\n",
       "\n",
       "    var rubberband = $('<canvas/>');\n",
       "    rubberband.attr('style', \"position: absolute; left: 0; top: 0; z-index: 1;\")\n",
       "\n",
       "    var pass_mouse_events = true;\n",
       "\n",
       "    canvas_div.resizable({\n",
       "        start: function(event, ui) {\n",
       "            pass_mouse_events = false;\n",
       "        },\n",
       "        resize: function(event, ui) {\n",
       "            fig.request_resize(ui.size.width, ui.size.height);\n",
       "        },\n",
       "        stop: function(event, ui) {\n",
       "            pass_mouse_events = true;\n",
       "            fig.request_resize(ui.size.width, ui.size.height);\n",
       "        },\n",
       "    });\n",
       "\n",
       "    function mouse_event_fn(event) {\n",
       "        if (pass_mouse_events)\n",
       "            return fig.mouse_event(event, event['data']);\n",
       "    }\n",
       "\n",
       "    rubberband.mousedown('button_press', mouse_event_fn);\n",
       "    rubberband.mouseup('button_release', mouse_event_fn);\n",
       "    // Throttle sequential mouse events to 1 every 20ms.\n",
       "    rubberband.mousemove('motion_notify', mouse_event_fn);\n",
       "\n",
       "    rubberband.mouseenter('figure_enter', mouse_event_fn);\n",
       "    rubberband.mouseleave('figure_leave', mouse_event_fn);\n",
       "\n",
       "    canvas_div.on(\"wheel\", function (event) {\n",
       "        event = event.originalEvent;\n",
       "        event['data'] = 'scroll'\n",
       "        if (event.deltaY < 0) {\n",
       "            event.step = 1;\n",
       "        } else {\n",
       "            event.step = -1;\n",
       "        }\n",
       "        mouse_event_fn(event);\n",
       "    });\n",
       "\n",
       "    canvas_div.append(canvas);\n",
       "    canvas_div.append(rubberband);\n",
       "\n",
       "    this.rubberband = rubberband;\n",
       "    this.rubberband_canvas = rubberband[0];\n",
       "    this.rubberband_context = rubberband[0].getContext(\"2d\");\n",
       "    this.rubberband_context.strokeStyle = \"#000000\";\n",
       "\n",
       "    this._resize_canvas = function(width, height) {\n",
       "        // Keep the size of the canvas, canvas container, and rubber band\n",
       "        // canvas in synch.\n",
       "        canvas_div.css('width', width)\n",
       "        canvas_div.css('height', height)\n",
       "\n",
       "        canvas.attr('width', width * mpl.ratio);\n",
       "        canvas.attr('height', height * mpl.ratio);\n",
       "        canvas.attr('style', 'width: ' + width + 'px; height: ' + height + 'px;');\n",
       "\n",
       "        rubberband.attr('width', width);\n",
       "        rubberband.attr('height', height);\n",
       "    }\n",
       "\n",
       "    // Set the figure to an initial 600x600px, this will subsequently be updated\n",
       "    // upon first draw.\n",
       "    this._resize_canvas(600, 600);\n",
       "\n",
       "    // Disable right mouse context menu.\n",
       "    $(this.rubberband_canvas).bind(\"contextmenu\",function(e){\n",
       "        return false;\n",
       "    });\n",
       "\n",
       "    function set_focus () {\n",
       "        canvas.focus();\n",
       "        canvas_div.focus();\n",
       "    }\n",
       "\n",
       "    window.setTimeout(set_focus, 100);\n",
       "}\n",
       "\n",
       "mpl.figure.prototype._init_toolbar = function() {\n",
       "    var fig = this;\n",
       "\n",
       "    var nav_element = $('<div/>');\n",
       "    nav_element.attr('style', 'width: 100%');\n",
       "    this.root.append(nav_element);\n",
       "\n",
       "    // Define a callback function for later on.\n",
       "    function toolbar_event(event) {\n",
       "        return fig.toolbar_button_onclick(event['data']);\n",
       "    }\n",
       "    function toolbar_mouse_event(event) {\n",
       "        return fig.toolbar_button_onmouseover(event['data']);\n",
       "    }\n",
       "\n",
       "    for(var toolbar_ind in mpl.toolbar_items) {\n",
       "        var name = mpl.toolbar_items[toolbar_ind][0];\n",
       "        var tooltip = mpl.toolbar_items[toolbar_ind][1];\n",
       "        var image = mpl.toolbar_items[toolbar_ind][2];\n",
       "        var method_name = mpl.toolbar_items[toolbar_ind][3];\n",
       "\n",
       "        if (!name) {\n",
       "            // put a spacer in here.\n",
       "            continue;\n",
       "        }\n",
       "        var button = $('<button/>');\n",
       "        button.addClass('ui-button ui-widget ui-state-default ui-corner-all ' +\n",
       "                        'ui-button-icon-only');\n",
       "        button.attr('role', 'button');\n",
       "        button.attr('aria-disabled', 'false');\n",
       "        button.click(method_name, toolbar_event);\n",
       "        button.mouseover(tooltip, toolbar_mouse_event);\n",
       "\n",
       "        var icon_img = $('<span/>');\n",
       "        icon_img.addClass('ui-button-icon-primary ui-icon');\n",
       "        icon_img.addClass(image);\n",
       "        icon_img.addClass('ui-corner-all');\n",
       "\n",
       "        var tooltip_span = $('<span/>');\n",
       "        tooltip_span.addClass('ui-button-text');\n",
       "        tooltip_span.html(tooltip);\n",
       "\n",
       "        button.append(icon_img);\n",
       "        button.append(tooltip_span);\n",
       "\n",
       "        nav_element.append(button);\n",
       "    }\n",
       "\n",
       "    var fmt_picker_span = $('<span/>');\n",
       "\n",
       "    var fmt_picker = $('<select/>');\n",
       "    fmt_picker.addClass('mpl-toolbar-option ui-widget ui-widget-content');\n",
       "    fmt_picker_span.append(fmt_picker);\n",
       "    nav_element.append(fmt_picker_span);\n",
       "    this.format_dropdown = fmt_picker[0];\n",
       "\n",
       "    for (var ind in mpl.extensions) {\n",
       "        var fmt = mpl.extensions[ind];\n",
       "        var option = $(\n",
       "            '<option/>', {selected: fmt === mpl.default_extension}).html(fmt);\n",
       "        fmt_picker.append(option);\n",
       "    }\n",
       "\n",
       "    // Add hover states to the ui-buttons\n",
       "    $( \".ui-button\" ).hover(\n",
       "        function() { $(this).addClass(\"ui-state-hover\");},\n",
       "        function() { $(this).removeClass(\"ui-state-hover\");}\n",
       "    );\n",
       "\n",
       "    var status_bar = $('<span class=\"mpl-message\"/>');\n",
       "    nav_element.append(status_bar);\n",
       "    this.message = status_bar[0];\n",
       "}\n",
       "\n",
       "mpl.figure.prototype.request_resize = function(x_pixels, y_pixels) {\n",
       "    // Request matplotlib to resize the figure. Matplotlib will then trigger a resize in the client,\n",
       "    // which will in turn request a refresh of the image.\n",
       "    this.send_message('resize', {'width': x_pixels, 'height': y_pixels});\n",
       "}\n",
       "\n",
       "mpl.figure.prototype.send_message = function(type, properties) {\n",
       "    properties['type'] = type;\n",
       "    properties['figure_id'] = this.id;\n",
       "    this.ws.send(JSON.stringify(properties));\n",
       "}\n",
       "\n",
       "mpl.figure.prototype.send_draw_message = function() {\n",
       "    if (!this.waiting) {\n",
       "        this.waiting = true;\n",
       "        this.ws.send(JSON.stringify({type: \"draw\", figure_id: this.id}));\n",
       "    }\n",
       "}\n",
       "\n",
       "\n",
       "mpl.figure.prototype.handle_save = function(fig, msg) {\n",
       "    var format_dropdown = fig.format_dropdown;\n",
       "    var format = format_dropdown.options[format_dropdown.selectedIndex].value;\n",
       "    fig.ondownload(fig, format);\n",
       "}\n",
       "\n",
       "\n",
       "mpl.figure.prototype.handle_resize = function(fig, msg) {\n",
       "    var size = msg['size'];\n",
       "    if (size[0] != fig.canvas.width || size[1] != fig.canvas.height) {\n",
       "        fig._resize_canvas(size[0], size[1]);\n",
       "        fig.send_message(\"refresh\", {});\n",
       "    };\n",
       "}\n",
       "\n",
       "mpl.figure.prototype.handle_rubberband = function(fig, msg) {\n",
       "    var x0 = msg['x0'] / mpl.ratio;\n",
       "    var y0 = (fig.canvas.height - msg['y0']) / mpl.ratio;\n",
       "    var x1 = msg['x1'] / mpl.ratio;\n",
       "    var y1 = (fig.canvas.height - msg['y1']) / mpl.ratio;\n",
       "    x0 = Math.floor(x0) + 0.5;\n",
       "    y0 = Math.floor(y0) + 0.5;\n",
       "    x1 = Math.floor(x1) + 0.5;\n",
       "    y1 = Math.floor(y1) + 0.5;\n",
       "    var min_x = Math.min(x0, x1);\n",
       "    var min_y = Math.min(y0, y1);\n",
       "    var width = Math.abs(x1 - x0);\n",
       "    var height = Math.abs(y1 - y0);\n",
       "\n",
       "    fig.rubberband_context.clearRect(\n",
       "        0, 0, fig.canvas.width / mpl.ratio, fig.canvas.height / mpl.ratio);\n",
       "\n",
       "    fig.rubberband_context.strokeRect(min_x, min_y, width, height);\n",
       "}\n",
       "\n",
       "mpl.figure.prototype.handle_figure_label = function(fig, msg) {\n",
       "    // Updates the figure title.\n",
       "    fig.header.textContent = msg['label'];\n",
       "}\n",
       "\n",
       "mpl.figure.prototype.handle_cursor = function(fig, msg) {\n",
       "    var cursor = msg['cursor'];\n",
       "    switch(cursor)\n",
       "    {\n",
       "    case 0:\n",
       "        cursor = 'pointer';\n",
       "        break;\n",
       "    case 1:\n",
       "        cursor = 'default';\n",
       "        break;\n",
       "    case 2:\n",
       "        cursor = 'crosshair';\n",
       "        break;\n",
       "    case 3:\n",
       "        cursor = 'move';\n",
       "        break;\n",
       "    }\n",
       "    fig.rubberband_canvas.style.cursor = cursor;\n",
       "}\n",
       "\n",
       "mpl.figure.prototype.handle_message = function(fig, msg) {\n",
       "    fig.message.textContent = msg['message'];\n",
       "}\n",
       "\n",
       "mpl.figure.prototype.handle_draw = function(fig, msg) {\n",
       "    // Request the server to send over a new figure.\n",
       "    fig.send_draw_message();\n",
       "}\n",
       "\n",
       "mpl.figure.prototype.handle_image_mode = function(fig, msg) {\n",
       "    fig.image_mode = msg['mode'];\n",
       "}\n",
       "\n",
       "mpl.figure.prototype.updated_canvas_event = function() {\n",
       "    // Called whenever the canvas gets updated.\n",
       "    this.send_message(\"ack\", {});\n",
       "}\n",
       "\n",
       "// A function to construct a web socket function for onmessage handling.\n",
       "// Called in the figure constructor.\n",
       "mpl.figure.prototype._make_on_message_function = function(fig) {\n",
       "    return function socket_on_message(evt) {\n",
       "        if (evt.data instanceof Blob) {\n",
       "            /* FIXME: We get \"Resource interpreted as Image but\n",
       "             * transferred with MIME type text/plain:\" errors on\n",
       "             * Chrome.  But how to set the MIME type?  It doesn't seem\n",
       "             * to be part of the websocket stream */\n",
       "            evt.data.type = \"image/png\";\n",
       "\n",
       "            /* Free the memory for the previous frames */\n",
       "            if (fig.imageObj.src) {\n",
       "                (window.URL || window.webkitURL).revokeObjectURL(\n",
       "                    fig.imageObj.src);\n",
       "            }\n",
       "\n",
       "            fig.imageObj.src = (window.URL || window.webkitURL).createObjectURL(\n",
       "                evt.data);\n",
       "            fig.updated_canvas_event();\n",
       "            fig.waiting = false;\n",
       "            return;\n",
       "        }\n",
       "        else if (typeof evt.data === 'string' && evt.data.slice(0, 21) == \"data:image/png;base64\") {\n",
       "            fig.imageObj.src = evt.data;\n",
       "            fig.updated_canvas_event();\n",
       "            fig.waiting = false;\n",
       "            return;\n",
       "        }\n",
       "\n",
       "        var msg = JSON.parse(evt.data);\n",
       "        var msg_type = msg['type'];\n",
       "\n",
       "        // Call the  \"handle_{type}\" callback, which takes\n",
       "        // the figure and JSON message as its only arguments.\n",
       "        try {\n",
       "            var callback = fig[\"handle_\" + msg_type];\n",
       "        } catch (e) {\n",
       "            console.log(\"No handler for the '\" + msg_type + \"' message type: \", msg);\n",
       "            return;\n",
       "        }\n",
       "\n",
       "        if (callback) {\n",
       "            try {\n",
       "                // console.log(\"Handling '\" + msg_type + \"' message: \", msg);\n",
       "                callback(fig, msg);\n",
       "            } catch (e) {\n",
       "                console.log(\"Exception inside the 'handler_\" + msg_type + \"' callback:\", e, e.stack, msg);\n",
       "            }\n",
       "        }\n",
       "    };\n",
       "}\n",
       "\n",
       "// from http://stackoverflow.com/questions/1114465/getting-mouse-location-in-canvas\n",
       "mpl.findpos = function(e) {\n",
       "    //this section is from http://www.quirksmode.org/js/events_properties.html\n",
       "    var targ;\n",
       "    if (!e)\n",
       "        e = window.event;\n",
       "    if (e.target)\n",
       "        targ = e.target;\n",
       "    else if (e.srcElement)\n",
       "        targ = e.srcElement;\n",
       "    if (targ.nodeType == 3) // defeat Safari bug\n",
       "        targ = targ.parentNode;\n",
       "\n",
       "    // jQuery normalizes the pageX and pageY\n",
       "    // pageX,Y are the mouse positions relative to the document\n",
       "    // offset() returns the position of the element relative to the document\n",
       "    var x = e.pageX - $(targ).offset().left;\n",
       "    var y = e.pageY - $(targ).offset().top;\n",
       "\n",
       "    return {\"x\": x, \"y\": y};\n",
       "};\n",
       "\n",
       "/*\n",
       " * return a copy of an object with only non-object keys\n",
       " * we need this to avoid circular references\n",
       " * http://stackoverflow.com/a/24161582/3208463\n",
       " */\n",
       "function simpleKeys (original) {\n",
       "  return Object.keys(original).reduce(function (obj, key) {\n",
       "    if (typeof original[key] !== 'object')\n",
       "        obj[key] = original[key]\n",
       "    return obj;\n",
       "  }, {});\n",
       "}\n",
       "\n",
       "mpl.figure.prototype.mouse_event = function(event, name) {\n",
       "    var canvas_pos = mpl.findpos(event)\n",
       "\n",
       "    if (name === 'button_press')\n",
       "    {\n",
       "        this.canvas.focus();\n",
       "        this.canvas_div.focus();\n",
       "    }\n",
       "\n",
       "    var x = canvas_pos.x * mpl.ratio;\n",
       "    var y = canvas_pos.y * mpl.ratio;\n",
       "\n",
       "    this.send_message(name, {x: x, y: y, button: event.button,\n",
       "                             step: event.step,\n",
       "                             guiEvent: simpleKeys(event)});\n",
       "\n",
       "    /* This prevents the web browser from automatically changing to\n",
       "     * the text insertion cursor when the button is pressed.  We want\n",
       "     * to control all of the cursor setting manually through the\n",
       "     * 'cursor' event from matplotlib */\n",
       "    event.preventDefault();\n",
       "    return false;\n",
       "}\n",
       "\n",
       "mpl.figure.prototype._key_event_extra = function(event, name) {\n",
       "    // Handle any extra behaviour associated with a key event\n",
       "}\n",
       "\n",
       "mpl.figure.prototype.key_event = function(event, name) {\n",
       "\n",
       "    // Prevent repeat events\n",
       "    if (name == 'key_press')\n",
       "    {\n",
       "        if (event.which === this._key)\n",
       "            return;\n",
       "        else\n",
       "            this._key = event.which;\n",
       "    }\n",
       "    if (name == 'key_release')\n",
       "        this._key = null;\n",
       "\n",
       "    var value = '';\n",
       "    if (event.ctrlKey && event.which != 17)\n",
       "        value += \"ctrl+\";\n",
       "    if (event.altKey && event.which != 18)\n",
       "        value += \"alt+\";\n",
       "    if (event.shiftKey && event.which != 16)\n",
       "        value += \"shift+\";\n",
       "\n",
       "    value += 'k';\n",
       "    value += event.which.toString();\n",
       "\n",
       "    this._key_event_extra(event, name);\n",
       "\n",
       "    this.send_message(name, {key: value,\n",
       "                             guiEvent: simpleKeys(event)});\n",
       "    return false;\n",
       "}\n",
       "\n",
       "mpl.figure.prototype.toolbar_button_onclick = function(name) {\n",
       "    if (name == 'download') {\n",
       "        this.handle_save(this, null);\n",
       "    } else {\n",
       "        this.send_message(\"toolbar_button\", {name: name});\n",
       "    }\n",
       "};\n",
       "\n",
       "mpl.figure.prototype.toolbar_button_onmouseover = function(tooltip) {\n",
       "    this.message.textContent = tooltip;\n",
       "};\n",
       "mpl.toolbar_items = [[\"Home\", \"Reset original view\", \"fa fa-home icon-home\", \"home\"], [\"Back\", \"Back to previous view\", \"fa fa-arrow-left icon-arrow-left\", \"back\"], [\"Forward\", \"Forward to next view\", \"fa fa-arrow-right icon-arrow-right\", \"forward\"], [\"\", \"\", \"\", \"\"], [\"Pan\", \"Pan axes with left mouse, zoom with right\", \"fa fa-arrows icon-move\", \"pan\"], [\"Zoom\", \"Zoom to rectangle\", \"fa fa-square-o icon-check-empty\", \"zoom\"], [\"\", \"\", \"\", \"\"], [\"Download\", \"Download plot\", \"fa fa-floppy-o icon-save\", \"download\"]];\n",
       "\n",
       "mpl.extensions = [\"eps\", \"jpeg\", \"pdf\", \"png\", \"ps\", \"raw\", \"svg\", \"tif\"];\n",
       "\n",
       "mpl.default_extension = \"png\";var comm_websocket_adapter = function(comm) {\n",
       "    // Create a \"websocket\"-like object which calls the given IPython comm\n",
       "    // object with the appropriate methods. Currently this is a non binary\n",
       "    // socket, so there is still some room for performance tuning.\n",
       "    var ws = {};\n",
       "\n",
       "    ws.close = function() {\n",
       "        comm.close()\n",
       "    };\n",
       "    ws.send = function(m) {\n",
       "        //console.log('sending', m);\n",
       "        comm.send(m);\n",
       "    };\n",
       "    // Register the callback with on_msg.\n",
       "    comm.on_msg(function(msg) {\n",
       "        //console.log('receiving', msg['content']['data'], msg);\n",
       "        // Pass the mpl event to the overridden (by mpl) onmessage function.\n",
       "        ws.onmessage(msg['content']['data'])\n",
       "    });\n",
       "    return ws;\n",
       "}\n",
       "\n",
       "mpl.mpl_figure_comm = function(comm, msg) {\n",
       "    // This is the function which gets called when the mpl process\n",
       "    // starts-up an IPython Comm through the \"matplotlib\" channel.\n",
       "\n",
       "    var id = msg.content.data.id;\n",
       "    // Get hold of the div created by the display call when the Comm\n",
       "    // socket was opened in Python.\n",
       "    var element = $(\"#\" + id);\n",
       "    var ws_proxy = comm_websocket_adapter(comm)\n",
       "\n",
       "    function ondownload(figure, format) {\n",
       "        window.open(figure.imageObj.src);\n",
       "    }\n",
       "\n",
       "    var fig = new mpl.figure(id, ws_proxy,\n",
       "                           ondownload,\n",
       "                           element.get(0));\n",
       "\n",
       "    // Call onopen now - mpl needs it, as it is assuming we've passed it a real\n",
       "    // web socket which is closed, not our websocket->open comm proxy.\n",
       "    ws_proxy.onopen();\n",
       "\n",
       "    fig.parent_element = element.get(0);\n",
       "    fig.cell_info = mpl.find_output_cell(\"<div id='\" + id + \"'></div>\");\n",
       "    if (!fig.cell_info) {\n",
       "        console.error(\"Failed to find cell for figure\", id, fig);\n",
       "        return;\n",
       "    }\n",
       "\n",
       "    var output_index = fig.cell_info[2]\n",
       "    var cell = fig.cell_info[0];\n",
       "\n",
       "};\n",
       "\n",
       "mpl.figure.prototype.handle_close = function(fig, msg) {\n",
       "    var width = fig.canvas.width/mpl.ratio\n",
       "    fig.root.unbind('remove')\n",
       "\n",
       "    // Update the output cell to use the data from the current canvas.\n",
       "    fig.push_to_output();\n",
       "    var dataURL = fig.canvas.toDataURL();\n",
       "    // Re-enable the keyboard manager in IPython - without this line, in FF,\n",
       "    // the notebook keyboard shortcuts fail.\n",
       "    IPython.keyboard_manager.enable()\n",
       "    $(fig.parent_element).html('<img src=\"' + dataURL + '\" width=\"' + width + '\">');\n",
       "    fig.close_ws(fig, msg);\n",
       "}\n",
       "\n",
       "mpl.figure.prototype.close_ws = function(fig, msg){\n",
       "    fig.send_message('closing', msg);\n",
       "    // fig.ws.close()\n",
       "}\n",
       "\n",
       "mpl.figure.prototype.push_to_output = function(remove_interactive) {\n",
       "    // Turn the data on the canvas into data in the output cell.\n",
       "    var width = this.canvas.width/mpl.ratio\n",
       "    var dataURL = this.canvas.toDataURL();\n",
       "    this.cell_info[1]['text/html'] = '<img src=\"' + dataURL + '\" width=\"' + width + '\">';\n",
       "}\n",
       "\n",
       "mpl.figure.prototype.updated_canvas_event = function() {\n",
       "    // Tell IPython that the notebook contents must change.\n",
       "    IPython.notebook.set_dirty(true);\n",
       "    this.send_message(\"ack\", {});\n",
       "    var fig = this;\n",
       "    // Wait a second, then push the new image to the DOM so\n",
       "    // that it is saved nicely (might be nice to debounce this).\n",
       "    setTimeout(function () { fig.push_to_output() }, 1000);\n",
       "}\n",
       "\n",
       "mpl.figure.prototype._init_toolbar = function() {\n",
       "    var fig = this;\n",
       "\n",
       "    var nav_element = $('<div/>');\n",
       "    nav_element.attr('style', 'width: 100%');\n",
       "    this.root.append(nav_element);\n",
       "\n",
       "    // Define a callback function for later on.\n",
       "    function toolbar_event(event) {\n",
       "        return fig.toolbar_button_onclick(event['data']);\n",
       "    }\n",
       "    function toolbar_mouse_event(event) {\n",
       "        return fig.toolbar_button_onmouseover(event['data']);\n",
       "    }\n",
       "\n",
       "    for(var toolbar_ind in mpl.toolbar_items){\n",
       "        var name = mpl.toolbar_items[toolbar_ind][0];\n",
       "        var tooltip = mpl.toolbar_items[toolbar_ind][1];\n",
       "        var image = mpl.toolbar_items[toolbar_ind][2];\n",
       "        var method_name = mpl.toolbar_items[toolbar_ind][3];\n",
       "\n",
       "        if (!name) { continue; };\n",
       "\n",
       "        var button = $('<button class=\"btn btn-default\" href=\"#\" title=\"' + name + '\"><i class=\"fa ' + image + ' fa-lg\"></i></button>');\n",
       "        button.click(method_name, toolbar_event);\n",
       "        button.mouseover(tooltip, toolbar_mouse_event);\n",
       "        nav_element.append(button);\n",
       "    }\n",
       "\n",
       "    // Add the status bar.\n",
       "    var status_bar = $('<span class=\"mpl-message\" style=\"text-align:right; float: right;\"/>');\n",
       "    nav_element.append(status_bar);\n",
       "    this.message = status_bar[0];\n",
       "\n",
       "    // Add the close button to the window.\n",
       "    var buttongrp = $('<div class=\"btn-group inline pull-right\"></div>');\n",
       "    var button = $('<button class=\"btn btn-mini btn-primary\" href=\"#\" title=\"Stop Interaction\"><i class=\"fa fa-power-off icon-remove icon-large\"></i></button>');\n",
       "    button.click(function (evt) { fig.handle_close(fig, {}); } );\n",
       "    button.mouseover('Stop Interaction', toolbar_mouse_event);\n",
       "    buttongrp.append(button);\n",
       "    var titlebar = this.root.find($('.ui-dialog-titlebar'));\n",
       "    titlebar.prepend(buttongrp);\n",
       "}\n",
       "\n",
       "mpl.figure.prototype._root_extra_style = function(el){\n",
       "    var fig = this\n",
       "    el.on(\"remove\", function(){\n",
       "\tfig.close_ws(fig, {});\n",
       "    });\n",
       "}\n",
       "\n",
       "mpl.figure.prototype._canvas_extra_style = function(el){\n",
       "    // this is important to make the div 'focusable\n",
       "    el.attr('tabindex', 0)\n",
       "    // reach out to IPython and tell the keyboard manager to turn it's self\n",
       "    // off when our div gets focus\n",
       "\n",
       "    // location in version 3\n",
       "    if (IPython.notebook.keyboard_manager) {\n",
       "        IPython.notebook.keyboard_manager.register_events(el);\n",
       "    }\n",
       "    else {\n",
       "        // location in version 2\n",
       "        IPython.keyboard_manager.register_events(el);\n",
       "    }\n",
       "\n",
       "}\n",
       "\n",
       "mpl.figure.prototype._key_event_extra = function(event, name) {\n",
       "    var manager = IPython.notebook.keyboard_manager;\n",
       "    if (!manager)\n",
       "        manager = IPython.keyboard_manager;\n",
       "\n",
       "    // Check for shift+enter\n",
       "    if (event.shiftKey && event.which == 13) {\n",
       "        this.canvas_div.blur();\n",
       "        // select the cell after this one\n",
       "        var index = IPython.notebook.find_cell_index(this.cell_info[0]);\n",
       "        IPython.notebook.select(index + 1);\n",
       "    }\n",
       "}\n",
       "\n",
       "mpl.figure.prototype.handle_save = function(fig, msg) {\n",
       "    fig.ondownload(fig, null);\n",
       "}\n",
       "\n",
       "\n",
       "mpl.find_output_cell = function(html_output) {\n",
       "    // Return the cell and output element which can be found *uniquely* in the notebook.\n",
       "    // Note - this is a bit hacky, but it is done because the \"notebook_saving.Notebook\"\n",
       "    // IPython event is triggered only after the cells have been serialised, which for\n",
       "    // our purposes (turning an active figure into a static one), is too late.\n",
       "    var cells = IPython.notebook.get_cells();\n",
       "    var ncells = cells.length;\n",
       "    for (var i=0; i<ncells; i++) {\n",
       "        var cell = cells[i];\n",
       "        if (cell.cell_type === 'code'){\n",
       "            for (var j=0; j<cell.output_area.outputs.length; j++) {\n",
       "                var data = cell.output_area.outputs[j];\n",
       "                if (data.data) {\n",
       "                    // IPython >= 3 moved mimebundle to data attribute of output\n",
       "                    data = data.data;\n",
       "                }\n",
       "                if (data['text/html'] == html_output) {\n",
       "                    return [cell, data, j];\n",
       "                }\n",
       "            }\n",
       "        }\n",
       "    }\n",
       "}\n",
       "\n",
       "// Register the function which deals with the matplotlib target/channel.\n",
       "// The kernel may be null if the page has been refreshed.\n",
       "if (IPython.notebook.kernel != null) {\n",
       "    IPython.notebook.kernel.comm_manager.register_target('matplotlib', mpl.mpl_figure_comm);\n",
       "}\n"
      ],
      "text/plain": [
       "<IPython.core.display.Javascript object>"
      ]
     },
     "metadata": {},
     "output_type": "display_data"
    },
    {
     "data": {
      "text/html": [
       "<img src=\"data:image/png;base64,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\" width=\"640\">"
      ],
      "text/plain": [
       "<IPython.core.display.HTML object>"
      ]
     },
     "metadata": {},
     "output_type": "display_data"
    },
    {
     "data": {
      "text/plain": [
       "<BarContainer object of 14 artists>"
      ]
     },
     "execution_count": 7,
     "metadata": {},
     "output_type": "execute_result"
    }
   ],
   "source": [
    "%matplotlib notebook\n",
    "\n",
    "# data\n",
    "data_raw = channel_types_top_250\n",
    "channels = sorted(data_raw, key=data_raw.get)\n",
    "values = sorted(data_raw.values())\n",
    "\n",
    "# style\n",
    "plt.style.use('Solarize_Light2')\n",
    "\n",
    "#plot\n",
    "fig, ax = plt.subplots()\n",
    "ax.barh(channels, values)"
   ]
  }
 ],
 "metadata": {
  "kernelspec": {
   "display_name": "Python 3",
   "language": "python",
   "name": "python3"
  },
  "language_info": {
   "codemirror_mode": {
    "name": "ipython",
    "version": 3
   },
   "file_extension": ".py",
   "mimetype": "text/x-python",
   "name": "python",
   "nbconvert_exporter": "python",
   "pygments_lexer": "ipython3",
   "version": "3.7.6"
  }
 },
 "nbformat": 4,
 "nbformat_minor": 4
}
