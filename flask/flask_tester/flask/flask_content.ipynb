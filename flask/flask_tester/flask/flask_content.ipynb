{
 "cells": [
  {
   "cell_type": "code",
   "execution_count": 16,
   "metadata": {},
   "outputs": [
    {
     "data": {
      "text/plain": [
       "{'id': 4,\n",
       " 'name': 'fish stew ',\n",
       " 'preparation_time': 30,\n",
       " 'directions': ['Heat the oil in a large pan, add the fennel seeds, carrots, celery and garlic, and cook for 5 mins until starting to soften. Tip in the leeks, tomatoes and stock, season and bring to the boil, then cover and simmer for 15-20 mins until the vegetables are tender and the sauce has thickened and reduced slightly.',\n",
       "  'Add the fish, scatter over the prawns and cook for 2 mins more until lightly cooked. Ladle into bowls and serve with a spoon.'],\n",
       " 'category': 'fish',\n",
       " 'ingredient_list': [{'name': 'can chopped tomatoes', 'amount': 400},\n",
       "  {'name': 'fish stock', 'amount': 500},\n",
       "  {'name': 'pollock fillets', 'amount': 200},\n",
       "  {'name': 'king prawns', 'amount': 85},\n",
       "  {'name': 'leeks', 'amount': 200},\n",
       "  {'name': 'celery', 'amount': 150},\n",
       "  {'name': 'light olive oil', 'amount': 20},\n",
       "  {'name': 'garlic', 'amount': 10}]}"
      ]
     },
     "execution_count": 16,
     "metadata": {},
     "output_type": "execute_result"
    }
   ],
   "source": [
    "#import pandas as pd\n",
    "#df = pd.read_json('recipes.json')\n",
    "import json\n",
    "with open('recipes.json','r') as jsonfile:\n",
    "    diction = json.load(jsonfile)\n",
    "diction['recipes'][\"4\"]"
   ]
  }
 ],
 "metadata": {
  "kernelspec": {
   "display_name": "Python 3",
   "language": "python",
   "name": "python3"
  },
  "language_info": {
   "codemirror_mode": {
    "name": "ipython",
    "version": 3
   },
   "file_extension": ".py",
   "mimetype": "text/x-python",
   "name": "python",
   "nbconvert_exporter": "python",
   "pygments_lexer": "ipython3",
   "version": "3.7.6"
  }
 },
 "nbformat": 4,
 "nbformat_minor": 4
}
