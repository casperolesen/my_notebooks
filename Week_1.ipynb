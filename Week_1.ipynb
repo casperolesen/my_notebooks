{
 "cells": [
  {
   "cell_type": "markdown",
   "metadata": {},
   "source": [
    "# Week 1 handin"
   ]
  },
  {
   "cell_type": "markdown",
   "metadata": {},
   "source": [
    "## 01 Assignment\n",
    "\n",
    "1. Create 5 list comprehensions to solve the following 5 problems:\n",
    "    1. Iterate a list of names to return a list of the names starting with H\n",
    "    2. In one line create a list of the numbers 1-100 to the power of 3\n",
    "    3. Iterate a list of names to create a list of tuples where the tuples first value is the length of the name and the second is the name\n",
    "    4. Iterate over each character in a string and get only those that are nummeric\n",
    "    5. Using only a list comprehension wrapped in set() get all possible combination from throwing 2 dice (hint use 2 for loops in a single list comprehension)\n",
    "\n",
    "2. Create 2 dictionary comprehensions to solve the following:\n",
    "    1. Iterate a list of names and create a dictionary where key is the name and value is the length of the name\n",
    "    2. Iterate a list of numbers and create a dictionary with {key:value} being {number:squareroot_of_number}\n",
    "\n",
    "3. Extra assignment (This one goes beyond what is covered in the course notebooks. So only do it if you want an extra challenge).\n",
    "    1. Progammatically using loops create a small program to produce a dictionary with all the 2 dice throw combinations as keys and their likelyhood in percent as values\n",
    "\n"
   ]
  },
  {
   "cell_type": "markdown",
   "metadata": {},
   "source": [
    "## 02 Status\n",
    "All assignments done"
   ]
  },
  {
   "cell_type": "markdown",
   "metadata": {},
   "source": [
    "## 03 Solution part 1"
   ]
  },
  {
   "cell_type": "code",
   "execution_count": 1,
   "metadata": {},
   "outputs": [],
   "source": [
    "name_list = ['Casper', 'Casper', 'Morten', 'Mie', 'Hanne', 'Claus', 'Lotte', 'Hans', 'Hans']"
   ]
  },
  {
   "cell_type": "code",
   "execution_count": 2,
   "metadata": {},
   "outputs": [
    {
     "output_type": "execute_result",
     "data": {
      "text/plain": "['Hanne', 'Hans', 'Hans']"
     },
     "metadata": {},
     "execution_count": 2
    }
   ],
   "source": [
    "# 1.1 Iterate a list of names to return a list of the names starting with H\n",
    "names_with_h = [name for name in name_list if name.lower().startswith('h')]\n",
    "names_with_h"
   ]
  },
  {
   "cell_type": "code",
   "execution_count": 3,
   "metadata": {
    "tags": []
   },
   "outputs": [
    {
     "output_type": "stream",
     "name": "stdout",
     "text": "Pretty printing has been turned OFF\n"
    },
    {
     "output_type": "execute_result",
     "data": {
      "text/plain": "[1, 8, 27, 64, 125, 216, 343, 512, 729, 1000, 1331, 1728, 2197, 2744, 3375, 4096, 4913, 5832, 6859, 8000, 9261, 10648, 12167, 13824, 15625, 17576, 19683, 21952, 24389, 27000, 29791, 32768, 35937, 39304, 42875, 46656, 50653, 54872, 59319, 64000, 68921, 74088, 79507, 85184, 91125, 97336, 103823, 110592, 117649, 125000, 132651, 140608, 148877, 157464, 166375, 175616, 185193, 195112, 205379, 216000, 226981, 238328, 250047, 262144, 274625, 287496, 300763, 314432, 328509, 343000, 357911, 373248, 389017, 405224, 421875, 438976, 456533, 474552, 493039, 512000, 531441, 551368, 571787, 592704, 614125, 636056, 658503, 681472, 704969, 729000, 753571, 778688, 804357, 830584, 857375, 884736, 912673, 941192, 970299, 1000000]"
     },
     "metadata": {},
     "execution_count": 3
    }
   ],
   "source": [
    "# 1.2 In one line create a list of the numbers 1-100 to the power of 3\n",
    "%pprint\n",
    "numbers_power_to_3 = [n**3 for n in range(1,101)]\n",
    "numbers_power_to_3"
   ]
  },
  {
   "cell_type": "code",
   "execution_count": 4,
   "metadata": {},
   "outputs": [
    {
     "output_type": "execute_result",
     "data": {
      "text/plain": "[(6, 'Casper'), (6, 'Casper'), (6, 'Morten'), (3, 'Mie'), (5, 'Hanne'), (5, 'Claus'), (5, 'Lotte'), (4, 'Hans'), (4, 'Hans')]"
     },
     "metadata": {},
     "execution_count": 4
    }
   ],
   "source": [
    "# 1.3 Iterate a list of names to create a list of tuples where the tuples first value is the length of the name and the second is the name\n",
    "list_of_tuples = [(len(name), name) for name in name_list]\n",
    "list_of_tuples"
   ]
  },
  {
   "cell_type": "code",
   "execution_count": 5,
   "metadata": {},
   "outputs": [
    {
     "output_type": "execute_result",
     "data": {
      "text/plain": "['0', '1', '2', '3', '4', '5']"
     },
     "metadata": {},
     "execution_count": 5
    }
   ],
   "source": [
    "# 1.4 Iterate over each character in a string and get only those that are nummeric\n",
    "numbers_in_string = [char for char in '0a1b2c3d4e5' if char.isdigit()]\n",
    "numbers_in_string"
   ]
  },
  {
   "cell_type": "code",
   "execution_count": 6,
   "metadata": {},
   "outputs": [
    {
     "output_type": "execute_result",
     "data": {
      "text/plain": "[(1, 1), (1, 2), (1, 3), (1, 4), (1, 5), (1, 6), (2, 1), (2, 2), (2, 3), (2, 4), (2, 5), (2, 6), (3, 1), (3, 2), (3, 3), (3, 4), (3, 5), (3, 6), (4, 1), (4, 2), (4, 3), (4, 4), (4, 5), (4, 6), (5, 1), (5, 2), (5, 3), (5, 4), (5, 5), (5, 6), (6, 1), (6, 2), (6, 3), (6, 4), (6, 5), (6, 6)]"
     },
     "metadata": {},
     "execution_count": 6
    }
   ],
   "source": [
    "# 1.5 Using only a list comprehension wrapped in set() get all possible combination from throwing 2 dice (hint use 2 for loops in a single list comprehension)\n",
    "dice_combinations_all = [(d1, d2) for d1 in range(1,7) for d2 in range(1,7)]\n",
    "dice_combinations_all"
   ]
  },
  {
   "cell_type": "code",
   "execution_count": 7,
   "metadata": {},
   "outputs": [
    {
     "output_type": "execute_result",
     "data": {
      "text/plain": "{2, 3, 4, 5, 6, 7, 8, 9, 10, 11, 12}"
     },
     "metadata": {},
     "execution_count": 7
    }
   ],
   "source": [
    "dice_combinations_sum = {d1 + d2 for d1 in range(1,7) for d2 in range(1,7)}\n",
    "dice_combinations_sum"
   ]
  },
  {
   "cell_type": "markdown",
   "metadata": {},
   "source": [
    "## 04 Solution part 2"
   ]
  },
  {
   "cell_type": "code",
   "execution_count": 11,
   "metadata": {},
   "outputs": [
    {
     "output_type": "execute_result",
     "data": {
      "text/plain": "{'Casper': 6, 'Morten': 6, 'Mie': 3, 'Hanne': 5, 'Claus': 5, 'Lotte': 5, 'Hans': 4}"
     },
     "metadata": {},
     "execution_count": 11
    }
   ],
   "source": [
    "# 2.1 Iterate a list of names and create a dictionary where key is the name and value is the length of the name\n",
    "name_dictionary = {name:len(name) for name in name_list}\n",
    "name_dictionary"
   ]
  },
  {
   "cell_type": "code",
   "execution_count": 12,
   "metadata": {
    "tags": []
   },
   "outputs": [
    {
     "output_type": "stream",
     "name": "stdout",
     "text": "Pretty printing has been turned ON\n"
    },
    {
     "output_type": "execute_result",
     "data": {
      "text/plain": "{1: 1.0,\n 2: 1.4142135623730951,\n 3: 1.7320508075688772,\n 4: 2.0,\n 5: 2.23606797749979,\n 6: 2.449489742783178,\n 7: 2.6457513110645907,\n 8: 2.8284271247461903,\n 9: 3.0,\n 10: 3.1622776601683795}"
     },
     "metadata": {},
     "execution_count": 12
    }
   ],
   "source": [
    "# 2.2 Iterate a list of numbers and create a dictionary with {key:value} being {number:squareroot_of_number}\n",
    "import math\n",
    "%pprint\n",
    "root_of_number_dictionary = {number:math.sqrt(number) for number in range(1,11)}\n",
    "root_of_number_dictionary"
   ]
  },
  {
   "cell_type": "markdown",
   "metadata": {},
   "source": [
    "## 05 Solution part 3"
   ]
  },
  {
   "cell_type": "code",
   "execution_count": 14,
   "metadata": {
    "tags": []
   },
   "outputs": [
    {
     "output_type": "stream",
     "name": "stdout",
     "text": "Pretty printing has been turned ON\n"
    },
    {
     "output_type": "execute_result",
     "data": {
      "text/plain": "{2: 2.7777777777777777,\n 3: 5.555555555555555,\n 4: 8.333333333333332,\n 5: 11.11111111111111,\n 6: 13.88888888888889,\n 7: 16.666666666666668,\n 8: 13.88888888888889,\n 9: 11.11111111111111,\n 10: 8.333333333333332,\n 11: 5.555555555555555,\n 12: 2.7777777777777777}"
     },
     "metadata": {},
     "execution_count": 14
    }
   ],
   "source": [
    "# 3.1 Progammatically using loops create a small program to produce a dictionary with all the 2 dice throw combinations as keys and their likelyhood in percent as values\n",
    "%pprint\n",
    "dice_dict = {}\n",
    "for d1 in range(1,7):\n",
    "    for d2 in range(1,7):\n",
    "        if d1+d2 in dice_dict:\n",
    "            dice_dict[d1+d2] += 1/36*100\n",
    "        else:\n",
    "            dice_dict[d1+d2] = 1/36*100\n",
    "dice_dict"
   ]
  },
  {
   "cell_type": "code",
   "execution_count": null,
   "metadata": {},
   "outputs": [],
   "source": []
  }
 ],
 "metadata": {
  "kernelspec": {
   "display_name": "Python 3",
   "language": "python",
   "name": "python3"
  },
  "language_info": {
   "codemirror_mode": {
    "name": "ipython",
    "version": 3
   },
   "file_extension": ".py",
   "mimetype": "text/x-python",
   "name": "python",
   "nbconvert_exporter": "python",
   "pygments_lexer": "ipython3",
   "version": "3.7.6-final"
  }
 },
 "nbformat": 4,
 "nbformat_minor": 4
}