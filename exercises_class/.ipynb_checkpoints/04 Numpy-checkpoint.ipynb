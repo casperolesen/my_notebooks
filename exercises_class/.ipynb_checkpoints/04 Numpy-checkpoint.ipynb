{
 "cells": [
  {
   "cell_type": "code",
   "execution_count": 30,
   "metadata": {},
   "outputs": [
    {
     "name": "stdout",
     "output_type": "stream",
     "text": [
      "[[10 11 12 13 14]\n",
      " [15 16 17 18 19]\n",
      " [20 21 22 23 24]\n",
      " [25 26 27 28 29]] \n",
      "\n",
      "yellow: [10] \n",
      "ligth_blue:\n",
      " [[11 13]\n",
      " [16 18]\n",
      " [21 23]\n",
      " [26 28]] \n",
      "red:\n",
      " [11 12 13] \n",
      "green: [12 17 22] \n",
      "dark_blue:\n",
      " [[14]\n",
      " [24]]\n"
     ]
    }
   ],
   "source": [
    "import numpy as np\n",
    "a = np.arange(10, 30).reshape(4, 5)\n",
    "yellow = a[0:1, 0]\n",
    "light_blue = a[:,1::2]\n",
    "red = a[0, 1:4]\n",
    "green = a[0:3, 2]\n",
    "dark_blue = a[0::2, 4::2]\n",
    "print(a,'\\n')\n",
    "print('yellow:',yellow,'\\nligth_blue:\\n',light_blue,'\\nred:\\n',red,'\\ngreen:',green, '\\ndark_blue:\\n', dark_blue)"
   ]
  },
  {
   "cell_type": "code",
   "execution_count": null,
   "metadata": {},
   "outputs": [],
   "source": []
  }
 ],
 "metadata": {
  "kernelspec": {
   "display_name": "Python 3",
   "language": "python",
   "name": "python3"
  },
  "language_info": {
   "codemirror_mode": {
    "name": "ipython",
    "version": 3
   },
   "file_extension": ".py",
   "mimetype": "text/x-python",
   "name": "python",
   "nbconvert_exporter": "python",
   "pygments_lexer": "ipython3",
   "version": "3.7.6"
  }
 },
 "nbformat": 4,
 "nbformat_minor": 4
}
