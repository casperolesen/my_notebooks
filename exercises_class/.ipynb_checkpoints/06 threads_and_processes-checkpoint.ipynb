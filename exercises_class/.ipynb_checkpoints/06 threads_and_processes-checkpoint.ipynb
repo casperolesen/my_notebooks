{
 "cells": [
  {
   "cell_type": "code",
   "execution_count": 20,
   "metadata": {},
   "outputs": [
    {
     "name": "stdout",
     "output_type": "stream",
     "text": [
      "['img100x100-000-000.png', 'img100x100-000-222.png', 'img100x100-000-444.png', 'img100x100-000-666.png', 'img100x100-000-888.png', 'img100x100-000-aaa.png', 'img100x100-000-ccc.png', 'img100x100-000-eee.png', 'img100x100-222-000.png', 'img100x100-222-222.png', 'img100x100-222-444.png', 'img100x100-222-666.png', 'img100x100-222-888.png', 'img100x100-222-aaa.png', 'img100x100-222-ccc.png', 'img100x100-222-eee.png', 'img100x100-444-000.png', 'img100x100-444-222.png', 'img100x100-444-444.png', 'img100x100-444-666.png', 'img100x100-444-888.png', 'img100x100-444-aaa.png', 'img100x100-444-ccc.png', 'img100x100-444-eee.png', 'img100x100-666-000.png', 'img100x100-666-222.png', 'img100x100-666-444.png', 'img100x100-666-666.png', 'img100x100-666-888.png', 'img100x100-666-aaa.png', 'img100x100-666-ccc.png', 'img100x100-666-eee.png', 'img100x100-888-000.png', 'img100x100-888-222.png', 'img100x100-888-444.png', 'img100x100-888-666.png', 'img100x100-888-888.png', 'img100x100-888-aaa.png', 'img100x100-888-ccc.png', 'img100x100-888-eee.png', 'img100x100-aaa-000.png', 'img100x100-aaa-222.png', 'img100x100-aaa-444.png', 'img100x100-aaa-666.png', 'img100x100-aaa-888.png', 'img100x100-aaa-aaa.png', 'img100x100-aaa-ccc.png', 'img100x100-aaa-eee.png', 'img100x100-ccc-000.png', 'img100x100-ccc-222.png', 'img100x100-ccc-444.png', 'img100x100-ccc-666.png', 'img100x100-ccc-888.png', 'img100x100-ccc-aaa.png', 'img100x100-ccc-ccc.png', 'img100x100-ccc-eee.png', 'img100x100-eee-000.png', 'img100x100-eee-222.png', 'img100x100-eee-444.png', 'img100x100-eee-666.png', 'img100x100-eee-888.png', 'img100x100-eee-aaa.png', 'img100x100-eee-ccc.png', 'img100x100-eee-eee.png', 'img300x100-000-000.png', 'img300x100-000-222.png', 'img300x100-000-444.png', 'img300x100-000-666.png', 'img300x100-000-888.png', 'img300x100-000-aaa.png', 'img300x100-000-ccc.png', 'img300x100-000-eee.png', 'img300x100-222-000.png', 'img300x100-222-222.png', 'img300x100-222-444.png', 'img300x100-222-666.png', 'img300x100-222-888.png', 'img300x100-222-aaa.png', 'img300x100-222-ccc.png', 'img300x100-222-eee.png', 'img300x100-444-000.png', 'img300x100-444-222.png', 'img300x100-444-444.png', 'img300x100-444-666.png', 'img300x100-444-888.png', 'img300x100-444-aaa.png', 'img300x100-444-ccc.png', 'img300x100-444-eee.png', 'img300x100-666-000.png', 'img300x100-666-222.png', 'img300x100-666-444.png', 'img300x100-666-666.png', 'img300x100-666-888.png', 'img300x100-666-aaa.png', 'img300x100-666-ccc.png', 'img300x100-666-eee.png', 'img300x100-888-000.png', 'img300x100-888-222.png', 'img300x100-888-444.png', 'img300x100-888-666.png', 'img300x100-888-888.png', 'img300x100-888-aaa.png', 'img300x100-888-ccc.png', 'img300x100-888-eee.png', 'img300x100-aaa-000.png', 'img300x100-aaa-222.png', 'img300x100-aaa-444.png', 'img300x100-aaa-666.png', 'img300x100-aaa-888.png', 'img300x100-aaa-aaa.png', 'img300x100-aaa-ccc.png', 'img300x100-aaa-eee.png', 'img300x100-ccc-000.png', 'img300x100-ccc-222.png', 'img300x100-ccc-444.png', 'img300x100-ccc-666.png', 'img300x100-ccc-888.png', 'img300x100-ccc-aaa.png', 'img300x100-ccc-ccc.png', 'img300x100-ccc-eee.png', 'img300x100-eee-000.png', 'img300x100-eee-222.png', 'img300x100-eee-444.png', 'img300x100-eee-666.png', 'img300x100-eee-888.png', 'img300x100-eee-aaa.png', 'img300x100-eee-ccc.png', 'img300x100-eee-eee.png', 'img500x100-000-000.png', 'img500x100-000-222.png', 'img500x100-000-444.png', 'img500x100-000-666.png', 'img500x100-000-888.png', 'img500x100-000-aaa.png', 'img500x100-000-ccc.png', 'img500x100-000-eee.png', 'img500x100-222-000.png', 'img500x100-222-222.png', 'img500x100-222-444.png', 'img500x100-222-666.png', 'img500x100-222-888.png', 'img500x100-222-aaa.png', 'img500x100-222-ccc.png', 'img500x100-222-eee.png', 'img500x100-444-000.png', 'img500x100-444-222.png', 'img500x100-444-444.png', 'img500x100-444-666.png', 'img500x100-444-888.png', 'img500x100-444-aaa.png', 'img500x100-444-ccc.png', 'img500x100-444-eee.png', 'img500x100-666-000.png', 'img500x100-666-222.png', 'img500x100-666-444.png', 'img500x100-666-666.png', 'img500x100-666-888.png', 'img500x100-666-aaa.png', 'img500x100-666-ccc.png', 'img500x100-666-eee.png', 'img500x100-888-000.png', 'img500x100-888-222.png', 'img500x100-888-444.png', 'img500x100-888-666.png', 'img500x100-888-888.png', 'img500x100-888-aaa.png', 'img500x100-888-ccc.png', 'img500x100-888-eee.png', 'img500x100-aaa-000.png', 'img500x100-aaa-222.png', 'img500x100-aaa-444.png', 'img500x100-aaa-666.png', 'img500x100-aaa-888.png', 'img500x100-aaa-aaa.png', 'img500x100-aaa-ccc.png', 'img500x100-aaa-eee.png', 'img500x100-ccc-000.png', 'img500x100-ccc-222.png', 'img500x100-ccc-444.png', 'img500x100-ccc-666.png', 'img500x100-ccc-888.png', 'img500x100-ccc-aaa.png', 'img500x100-ccc-ccc.png', 'img500x100-ccc-eee.png', 'img500x100-eee-000.png', 'img500x100-eee-222.png', 'img500x100-eee-444.png', 'img500x100-eee-666.png', 'img500x100-eee-888.png', 'img500x100-eee-aaa.png', 'img500x100-eee-ccc.png', 'img500x100-eee-eee.png', 'img100x300-000-000.png', 'img100x300-000-222.png', 'img100x300-000-444.png', 'img100x300-000-666.png', 'img100x300-000-888.png', 'img100x300-000-aaa.png', 'img100x300-000-ccc.png', 'img100x300-000-eee.png', 'img100x300-222-000.png', 'img100x300-222-222.png', 'img100x300-222-444.png', 'img100x300-222-666.png', 'img100x300-222-888.png', 'img100x300-222-aaa.png', 'img100x300-222-ccc.png', 'img100x300-222-eee.png', 'img100x300-444-000.png', 'img100x300-444-222.png', 'img100x300-444-444.png', 'img100x300-444-666.png', 'img100x300-444-888.png', 'img100x300-444-aaa.png', 'img100x300-444-ccc.png', 'img100x300-444-eee.png', 'img100x300-666-000.png', 'img100x300-666-222.png', 'img100x300-666-444.png', 'img100x300-666-666.png', 'img100x300-666-888.png', 'img100x300-666-aaa.png', 'img100x300-666-ccc.png', 'img100x300-666-eee.png', 'img100x300-888-000.png', 'img100x300-888-222.png', 'img100x300-888-444.png', 'img100x300-888-666.png', 'img100x300-888-888.png', 'img100x300-888-aaa.png', 'img100x300-888-ccc.png', 'img100x300-888-eee.png', 'img100x300-aaa-000.png', 'img100x300-aaa-222.png', 'img100x300-aaa-444.png', 'img100x300-aaa-666.png', 'img100x300-aaa-888.png', 'img100x300-aaa-aaa.png', 'img100x300-aaa-ccc.png', 'img100x300-aaa-eee.png', 'img100x300-ccc-000.png', 'img100x300-ccc-222.png', 'img100x300-ccc-444.png', 'img100x300-ccc-666.png', 'img100x300-ccc-888.png', 'img100x300-ccc-aaa.png', 'img100x300-ccc-ccc.png', 'img100x300-ccc-eee.png', 'img100x300-eee-000.png', 'img100x300-eee-222.png', 'img100x300-eee-444.png', 'img100x300-eee-666.png', 'img100x300-eee-888.png', 'img100x300-eee-aaa.png', 'img100x300-eee-ccc.png', 'img100x300-eee-eee.png', 'img300x300-000-000.png', 'img300x300-000-222.png', 'img300x300-000-444.png', 'img300x300-000-666.png', 'img300x300-000-888.png', 'img300x300-000-aaa.png', 'img300x300-000-ccc.png', 'img300x300-000-eee.png', 'img300x300-222-000.png', 'img300x300-222-222.png', 'img300x300-222-444.png', 'img300x300-222-666.png', 'img300x300-222-888.png', 'img300x300-222-aaa.png', 'img300x300-222-ccc.png', 'img300x300-222-eee.png', 'img300x300-444-000.png', 'img300x300-444-222.png', 'img300x300-444-444.png', 'img300x300-444-666.png', 'img300x300-444-888.png', 'img300x300-444-aaa.png', 'img300x300-444-ccc.png', 'img300x300-444-eee.png', 'img300x300-666-000.png', 'img300x300-666-222.png', 'img300x300-666-444.png', 'img300x300-666-666.png', 'img300x300-666-888.png', 'img300x300-666-aaa.png', 'img300x300-666-ccc.png', 'img300x300-666-eee.png', 'img300x300-888-000.png', 'img300x300-888-222.png', 'img300x300-888-444.png', 'img300x300-888-666.png', 'img300x300-888-888.png', 'img300x300-888-aaa.png', 'img300x300-888-ccc.png', 'img300x300-888-eee.png', 'img300x300-aaa-000.png', 'img300x300-aaa-222.png', 'img300x300-aaa-444.png', 'img300x300-aaa-666.png', 'img300x300-aaa-888.png', 'img300x300-aaa-aaa.png', 'img300x300-aaa-ccc.png', 'img300x300-aaa-eee.png', 'img300x300-ccc-000.png', 'img300x300-ccc-222.png', 'img300x300-ccc-444.png', 'img300x300-ccc-666.png', 'img300x300-ccc-888.png', 'img300x300-ccc-aaa.png', 'img300x300-ccc-ccc.png', 'img300x300-ccc-eee.png', 'img300x300-eee-000.png', 'img300x300-eee-222.png', 'img300x300-eee-444.png', 'img300x300-eee-666.png', 'img300x300-eee-888.png', 'img300x300-eee-aaa.png', 'img300x300-eee-ccc.png', 'img300x300-eee-eee.png', 'img500x300-000-000.png', 'img500x300-000-222.png', 'img500x300-000-444.png', 'img500x300-000-666.png', 'img500x300-000-888.png', 'img500x300-000-aaa.png', 'img500x300-000-ccc.png', 'img500x300-000-eee.png', 'img500x300-222-000.png', 'img500x300-222-222.png', 'img500x300-222-444.png', 'img500x300-222-666.png', 'img500x300-222-888.png', 'img500x300-222-aaa.png', 'img500x300-222-ccc.png', 'img500x300-222-eee.png', 'img500x300-444-000.png', 'img500x300-444-222.png', 'img500x300-444-444.png', 'img500x300-444-666.png', 'img500x300-444-888.png', 'img500x300-444-aaa.png', 'img500x300-444-ccc.png', 'img500x300-444-eee.png', 'img500x300-666-000.png', 'img500x300-666-222.png', 'img500x300-666-444.png', 'img500x300-666-666.png', 'img500x300-666-888.png', 'img500x300-666-aaa.png', 'img500x300-666-ccc.png', 'img500x300-666-eee.png', 'img500x300-888-000.png', 'img500x300-888-222.png', 'img500x300-888-444.png', 'img500x300-888-666.png', 'img500x300-888-888.png', 'img500x300-888-aaa.png', 'img500x300-888-ccc.png', 'img500x300-888-eee.png', 'img500x300-aaa-000.png', 'img500x300-aaa-222.png', 'img500x300-aaa-444.png', 'img500x300-aaa-666.png', 'img500x300-aaa-888.png', 'img500x300-aaa-aaa.png', 'img500x300-aaa-ccc.png', 'img500x300-aaa-eee.png', 'img500x300-ccc-000.png', 'img500x300-ccc-222.png', 'img500x300-ccc-444.png', 'img500x300-ccc-666.png', 'img500x300-ccc-888.png', 'img500x300-ccc-aaa.png', 'img500x300-ccc-ccc.png', 'img500x300-ccc-eee.png', 'img500x300-eee-000.png', 'img500x300-eee-222.png', 'img500x300-eee-444.png', 'img500x300-eee-666.png', 'img500x300-eee-888.png', 'img500x300-eee-aaa.png', 'img500x300-eee-ccc.png', 'img500x300-eee-eee.png', 'img100x500-000-000.png', 'img100x500-000-222.png', 'img100x500-000-444.png', 'img100x500-000-666.png', 'img100x500-000-888.png', 'img100x500-000-aaa.png', 'img100x500-000-ccc.png', 'img100x500-000-eee.png', 'img100x500-222-000.png', 'img100x500-222-222.png', 'img100x500-222-444.png', 'img100x500-222-666.png', 'img100x500-222-888.png', 'img100x500-222-aaa.png', 'img100x500-222-ccc.png', 'img100x500-222-eee.png', 'img100x500-444-000.png', 'img100x500-444-222.png', 'img100x500-444-444.png', 'img100x500-444-666.png', 'img100x500-444-888.png', 'img100x500-444-aaa.png', 'img100x500-444-ccc.png', 'img100x500-444-eee.png', 'img100x500-666-000.png', 'img100x500-666-222.png', 'img100x500-666-444.png', 'img100x500-666-666.png', 'img100x500-666-888.png', 'img100x500-666-aaa.png', 'img100x500-666-ccc.png', 'img100x500-666-eee.png', 'img100x500-888-000.png', 'img100x500-888-222.png', 'img100x500-888-444.png', 'img100x500-888-666.png', 'img100x500-888-888.png', 'img100x500-888-aaa.png', 'img100x500-888-ccc.png', 'img100x500-888-eee.png', 'img100x500-aaa-000.png', 'img100x500-aaa-222.png', 'img100x500-aaa-444.png', 'img100x500-aaa-666.png', 'img100x500-aaa-888.png', 'img100x500-aaa-aaa.png', 'img100x500-aaa-ccc.png', 'img100x500-aaa-eee.png', 'img100x500-ccc-000.png', 'img100x500-ccc-222.png', 'img100x500-ccc-444.png', 'img100x500-ccc-666.png', 'img100x500-ccc-888.png', 'img100x500-ccc-aaa.png', 'img100x500-ccc-ccc.png', 'img100x500-ccc-eee.png', 'img100x500-eee-000.png', 'img100x500-eee-222.png', 'img100x500-eee-444.png', 'img100x500-eee-666.png', 'img100x500-eee-888.png', 'img100x500-eee-aaa.png', 'img100x500-eee-ccc.png', 'img100x500-eee-eee.png', 'img300x500-000-000.png', 'img300x500-000-222.png', 'img300x500-000-444.png', 'img300x500-000-666.png', 'img300x500-000-888.png', 'img300x500-000-aaa.png', 'img300x500-000-ccc.png', 'img300x500-000-eee.png', 'img300x500-222-000.png', 'img300x500-222-222.png', 'img300x500-222-444.png', 'img300x500-222-666.png', 'img300x500-222-888.png', 'img300x500-222-aaa.png', 'img300x500-222-ccc.png', 'img300x500-222-eee.png', 'img300x500-444-000.png', 'img300x500-444-222.png', 'img300x500-444-444.png', 'img300x500-444-666.png', 'img300x500-444-888.png', 'img300x500-444-aaa.png', 'img300x500-444-ccc.png', 'img300x500-444-eee.png', 'img300x500-666-000.png', 'img300x500-666-222.png', 'img300x500-666-444.png', 'img300x500-666-666.png', 'img300x500-666-888.png', 'img300x500-666-aaa.png', 'img300x500-666-ccc.png', 'img300x500-666-eee.png', 'img300x500-888-000.png', 'img300x500-888-222.png', 'img300x500-888-444.png', 'img300x500-888-666.png', 'img300x500-888-888.png', 'img300x500-888-aaa.png', 'img300x500-888-ccc.png', 'img300x500-888-eee.png', 'img300x500-aaa-000.png', 'img300x500-aaa-222.png', 'img300x500-aaa-444.png', 'img300x500-aaa-666.png', 'img300x500-aaa-888.png', 'img300x500-aaa-aaa.png', 'img300x500-aaa-ccc.png', 'img300x500-aaa-eee.png', 'img300x500-ccc-000.png', 'img300x500-ccc-222.png', 'img300x500-ccc-444.png', 'img300x500-ccc-666.png', 'img300x500-ccc-888.png', 'img300x500-ccc-aaa.png', 'img300x500-ccc-ccc.png', 'img300x500-ccc-eee.png', 'img300x500-eee-000.png', 'img300x500-eee-222.png', 'img300x500-eee-444.png', 'img300x500-eee-666.png', 'img300x500-eee-888.png', 'img300x500-eee-aaa.png', 'img300x500-eee-ccc.png', 'img300x500-eee-eee.png', 'img500x500-000-000.png', 'img500x500-000-222.png', 'img500x500-000-444.png', 'img500x500-000-666.png', 'img500x500-000-888.png', 'img500x500-000-aaa.png', 'img500x500-000-ccc.png', 'img500x500-000-eee.png', 'img500x500-222-000.png', 'img500x500-222-222.png', 'img500x500-222-444.png', 'img500x500-222-666.png', 'img500x500-222-888.png', 'img500x500-222-aaa.png', 'img500x500-222-ccc.png', 'img500x500-222-eee.png', 'img500x500-444-000.png', 'img500x500-444-222.png', 'img500x500-444-444.png', 'img500x500-444-666.png', 'img500x500-444-888.png', 'img500x500-444-aaa.png', 'img500x500-444-ccc.png', 'img500x500-444-eee.png', 'img500x500-666-000.png', 'img500x500-666-222.png', 'img500x500-666-444.png', 'img500x500-666-666.png', 'img500x500-666-888.png', 'img500x500-666-aaa.png', 'img500x500-666-ccc.png', 'img500x500-666-eee.png', 'img500x500-888-000.png', 'img500x500-888-222.png', 'img500x500-888-444.png', 'img500x500-888-666.png', 'img500x500-888-888.png', 'img500x500-888-aaa.png', 'img500x500-888-ccc.png', 'img500x500-888-eee.png', 'img500x500-aaa-000.png', 'img500x500-aaa-222.png', 'img500x500-aaa-444.png', 'img500x500-aaa-666.png', 'img500x500-aaa-888.png', 'img500x500-aaa-aaa.png', 'img500x500-aaa-ccc.png', 'img500x500-aaa-eee.png', 'img500x500-ccc-000.png', 'img500x500-ccc-222.png', 'img500x500-ccc-444.png', 'img500x500-ccc-666.png', 'img500x500-ccc-888.png', 'img500x500-ccc-aaa.png', 'img500x500-ccc-ccc.png', 'img500x500-ccc-eee.png', 'img500x500-eee-000.png', 'img500x500-eee-222.png', 'img500x500-eee-444.png', 'img500x500-eee-666.png', 'img500x500-eee-888.png', 'img500x500-eee-aaa.png', 'img500x500-eee-ccc.png', 'img500x500-eee-eee.png']\n"
     ]
    }
   ],
   "source": [
    "from concurrent.futures import ThreadPoolExecutor\n",
    "import webget\n",
    "\n",
    "def get_img_urls():\n",
    "    urls, filenames = [],[]\n",
    "    for height in range(100,600,200):\n",
    "        for width in range(100,600,200):\n",
    "            for background in range(0,16,2):\n",
    "                for foreground in range(0,16,2):\n",
    "                    # print('{:X}'.format(i)*3)\n",
    "                    urls.append('https://dummyimage.com/{width}x{height}/{background:x}{background:x}{background:x}/{foreground:x}{foreground:x}{foreground:x}'\n",
    "                                .format(height=height,width=width,background=background,foreground=foreground))\n",
    "                    filenames.append('img{width}x{height}-{background:x}{background:x}{background:x}-{foreground:x}{foreground:x}{foreground:x}.png'\n",
    "                                .format(height=height,width=width,background=background,foreground=foreground))\n",
    "    return urls,filenames\n",
    "\n",
    "urls, filenames = get_img_urls()\n",
    "\n",
    "def multithreading(func, args, workers=5):\n",
    "    with ThreadPoolExecutor(workers) as ex:\n",
    "        res = ex.map(func, args)\n",
    "    return list(res)"
   ]
  },
  {
   "cell_type": "code",
   "execution_count": 17,
   "metadata": {},
   "outputs": [
    {
     "name": "stdout",
     "output_type": "stream",
     "text": [
      "<function get_img_urls at 0x7fd1b05353b0>\n"
     ]
    },
    {
     "ename": "TypeError",
     "evalue": "zip argument #1 must support iteration",
     "output_type": "error",
     "traceback": [
      "\u001b[0;31m---------------------------------------------------------------------------\u001b[0m",
      "\u001b[0;31mTypeError\u001b[0m                                 Traceback (most recent call last)",
      "\u001b[0;32m<ipython-input-17-12eec76116ff>\u001b[0m in \u001b[0;36m<module>\u001b[0;34m\u001b[0m\n\u001b[1;32m     29\u001b[0m                 \u001b[0mprint\u001b[0m\u001b[0;34m(\u001b[0m\u001b[0;34m'Exception occured'\u001b[0m\u001b[0;34m)\u001b[0m\u001b[0;34m\u001b[0m\u001b[0;34m\u001b[0m\u001b[0m\n\u001b[1;32m     30\u001b[0m \u001b[0;34m\u001b[0m\u001b[0m\n\u001b[0;32m---> 31\u001b[0;31m \u001b[0mmultithreading\u001b[0m\u001b[0;34m(\u001b[0m\u001b[0mio_heavy\u001b[0m\u001b[0;34m,\u001b[0m \u001b[0mget_img_urls\u001b[0m\u001b[0;34m)\u001b[0m\u001b[0;34m\u001b[0m\u001b[0;34m\u001b[0m\u001b[0m\n\u001b[0m",
      "\u001b[0;32m<ipython-input-17-12eec76116ff>\u001b[0m in \u001b[0;36mmultithreading\u001b[0;34m(func, args, workers)\u001b[0m\n\u001b[1;32m     18\u001b[0m     \u001b[0mprint\u001b[0m\u001b[0;34m(\u001b[0m\u001b[0margs\u001b[0m\u001b[0;34m)\u001b[0m\u001b[0;34m\u001b[0m\u001b[0;34m\u001b[0m\u001b[0m\n\u001b[1;32m     19\u001b[0m     \u001b[0;32mwith\u001b[0m \u001b[0mThreadPoolExecutor\u001b[0m\u001b[0;34m(\u001b[0m\u001b[0mworkers\u001b[0m\u001b[0;34m)\u001b[0m \u001b[0;32mas\u001b[0m \u001b[0mex\u001b[0m\u001b[0;34m:\u001b[0m\u001b[0;34m\u001b[0m\u001b[0;34m\u001b[0m\u001b[0m\n\u001b[0;32m---> 20\u001b[0;31m         \u001b[0mres\u001b[0m \u001b[0;34m=\u001b[0m \u001b[0mex\u001b[0m\u001b[0;34m.\u001b[0m\u001b[0mmap\u001b[0m\u001b[0;34m(\u001b[0m\u001b[0mfunc\u001b[0m\u001b[0;34m,\u001b[0m \u001b[0margs\u001b[0m\u001b[0;34m)\u001b[0m\u001b[0;34m\u001b[0m\u001b[0;34m\u001b[0m\u001b[0m\n\u001b[0m\u001b[1;32m     21\u001b[0m     \u001b[0;32mreturn\u001b[0m \u001b[0mlist\u001b[0m\u001b[0;34m(\u001b[0m\u001b[0mres\u001b[0m\u001b[0;34m)\u001b[0m\u001b[0;34m\u001b[0m\u001b[0;34m\u001b[0m\u001b[0m\n\u001b[1;32m     22\u001b[0m \u001b[0;34m\u001b[0m\u001b[0m\n",
      "\u001b[0;32m/opt/conda/lib/python3.7/concurrent/futures/_base.py\u001b[0m in \u001b[0;36mmap\u001b[0;34m(self, fn, timeout, chunksize, *iterables)\u001b[0m\n\u001b[1;32m    585\u001b[0m             \u001b[0mend_time\u001b[0m \u001b[0;34m=\u001b[0m \u001b[0mtimeout\u001b[0m \u001b[0;34m+\u001b[0m \u001b[0mtime\u001b[0m\u001b[0;34m.\u001b[0m\u001b[0mmonotonic\u001b[0m\u001b[0;34m(\u001b[0m\u001b[0;34m)\u001b[0m\u001b[0;34m\u001b[0m\u001b[0;34m\u001b[0m\u001b[0m\n\u001b[1;32m    586\u001b[0m \u001b[0;34m\u001b[0m\u001b[0m\n\u001b[0;32m--> 587\u001b[0;31m         \u001b[0mfs\u001b[0m \u001b[0;34m=\u001b[0m \u001b[0;34m[\u001b[0m\u001b[0mself\u001b[0m\u001b[0;34m.\u001b[0m\u001b[0msubmit\u001b[0m\u001b[0;34m(\u001b[0m\u001b[0mfn\u001b[0m\u001b[0;34m,\u001b[0m \u001b[0;34m*\u001b[0m\u001b[0margs\u001b[0m\u001b[0;34m)\u001b[0m \u001b[0;32mfor\u001b[0m \u001b[0margs\u001b[0m \u001b[0;32min\u001b[0m \u001b[0mzip\u001b[0m\u001b[0;34m(\u001b[0m\u001b[0;34m*\u001b[0m\u001b[0miterables\u001b[0m\u001b[0;34m)\u001b[0m\u001b[0;34m]\u001b[0m\u001b[0;34m\u001b[0m\u001b[0;34m\u001b[0m\u001b[0m\n\u001b[0m\u001b[1;32m    588\u001b[0m \u001b[0;34m\u001b[0m\u001b[0m\n\u001b[1;32m    589\u001b[0m         \u001b[0;31m# Yield must be hidden in closure so that the futures are submitted\u001b[0m\u001b[0;34m\u001b[0m\u001b[0;34m\u001b[0m\u001b[0;34m\u001b[0m\u001b[0m\n",
      "\u001b[0;31mTypeError\u001b[0m: zip argument #1 must support iteration"
     ]
    }
   ],
   "source": [
    "from concurrent.futures import ThreadPoolExecutor\n",
    "import webget\n",
    "\n",
    "def get_img_urls():\n",
    "    urls, filenames = [],[]\n",
    "    for height in range(100,600,200):\n",
    "        for width in range(100,600,200):\n",
    "            for background in range(0,16,2):\n",
    "                for foreground in range(0,16,2):\n",
    "                    # print('{:X}'.format(i)*3)\n",
    "                    urls.append('https://dummyimage.com/{width}x{height}/{background:x}{background:x}{background:x}/{foreground:x}{foreground:x}{foreground:x}'\n",
    "                                .format(height=height,width=width,background=background,foreground=foreground))\n",
    "                    filenames.append('img{width}x{height}-{background:x}{background:x}{background:x}-{foreground:x}{foreground:x}{foreground:x}.png'\n",
    "                                .format(height=height,width=width,background=background,foreground=foreground))\n",
    "    return urls,filenames\n",
    "\n",
    "def multithreading(func, args, workers=5):\n",
    "    with ThreadPoolExecutor(workers) as ex:\n",
    "        res = ex.map(func, args)\n",
    "    return list(res)\n",
    "\n",
    "def io_heavy(urls, filenames):\n",
    "    for url in urls:\n",
    "        for name in filenames:\n",
    "            try:\n",
    "                webget.download(url, to=f'download/todelete{name}')\n",
    "            except:\n",
    "                print('Exception occured')\n",
    "\n",
    "multithreading(io_heavy, get_img_urls)"
   ]
  },
  {
   "cell_type": "code",
   "execution_count": null,
   "metadata": {},
   "outputs": [],
   "source": []
  }
 ],
 "metadata": {
  "kernelspec": {
   "display_name": "Python 3",
   "language": "python",
   "name": "python3"
  },
  "language_info": {
   "codemirror_mode": {
    "name": "ipython",
    "version": 3
   },
   "file_extension": ".py",
   "mimetype": "text/x-python",
   "name": "python",
   "nbconvert_exporter": "python",
   "pygments_lexer": "ipython3",
   "version": "3.7.6"
  }
 },
 "nbformat": 4,
 "nbformat_minor": 4
}
