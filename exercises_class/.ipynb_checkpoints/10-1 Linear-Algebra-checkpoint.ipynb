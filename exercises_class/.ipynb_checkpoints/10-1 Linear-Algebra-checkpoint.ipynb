{
 "cells": [
  {
   "cell_type": "code",
   "execution_count": null,
   "metadata": {},
   "outputs": [],
   "source": [
    "import numpy as np\n",
    "P = np.array([[-2,0,1],\n",
    "     [5,-4,2],\n",
    "     [7,-1,3]])\n",
    "Q = np.array([[0,  7],\n",
    "     [-3,  2],\n",
    "     [1,  5],\n",
    "             ])\n",
    "R = P.dot(Q)\n",
    "R "
   ]
  }
 ],
 "metadata": {
  "kernelspec": {
   "display_name": "Python 3",
   "language": "python",
   "name": "python3"
  },
  "language_info": {
   "codemirror_mode": {
    "name": "ipython",
    "version": 3
   },
   "file_extension": ".py",
   "mimetype": "text/x-python",
   "name": "python",
   "nbconvert_exporter": "python",
   "pygments_lexer": "ipython3",
   "version": "3.7.6"
  }
 },
 "nbformat": 4,
 "nbformat_minor": 4
}
