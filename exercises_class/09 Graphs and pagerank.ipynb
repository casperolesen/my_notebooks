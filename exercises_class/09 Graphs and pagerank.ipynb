{
 "cells": [
  {
   "cell_type": "code",
   "execution_count": 19,
   "metadata": {},
   "outputs": [
    {
     "name": "stdout",
     "output_type": "stream",
     "text": [
      "Jannie1 Charlie2 Else3 Helge4 Hanne5 Frederik6 Ayse7 Holger8 Hans9 "
     ]
    }
   ],
   "source": [
    "# Example of a Breath First Algorithm\n",
    "graph = {\n",
    "  'Jannie' : ['Charlie'],\n",
    "  'Else' : ['Charlie'],\n",
    "  'Charlie' : ['Jannie', 'Else', 'Helge'],\n",
    "  'Helge' : ['Charlie', 'Hanne'],\n",
    "  'Hanne' : ['Helge', 'Frederik', 'Ayse'],\n",
    "  'Frederik' : ['Hanne'],\n",
    "    'Ayse' : ['Hanne', 'Holger'],\n",
    "    'Holger' : ['Ayse', 'Hans'],\n",
    "    'Hans' : ['Holger']\n",
    "}\n",
    "\n",
    "graph = {\n",
    "    'Helge' : ['Charlie', 'Hanne'],\n",
    "    \n",
    "}\n",
    "\n",
    "visited = [] # List to keep track of visited nodes.\n",
    "queue = []     #Initialize a queue\n",
    "\n",
    "def bfs(visited, graph, node):\n",
    "    count = 1\n",
    "    visited.append(node)\n",
    "    queue.append(node)\n",
    "\n",
    "    while queue: # while the list is not empty\n",
    "        s = queue.pop(0) \n",
    "        print (s + str(count), end = \" \") # end = (default is \\n)\n",
    "        count += 1\n",
    "\n",
    "        for neighbour in graph[s]:\n",
    "            if neighbour not in visited:\n",
    "                visited.append(neighbour)\n",
    "                queue.append(neighbour)\n",
    "\n",
    "# Driver Code\n",
    "bfs(visited, graph, 'Jannie')"
   ]
  },
  {
   "cell_type": "code",
   "execution_count": 21,
   "metadata": {},
   "outputs": [
    {
     "name": "stdout",
     "output_type": "stream",
     "text": [
      "Helge\n",
      "Frederik\n",
      "Ayse\n"
     ]
    }
   ],
   "source": [
    "def get_emp(graph, node):\n",
    "    for neighbour in graph[node]:\n",
    "        print(neighbour)\n",
    "        \n",
    "get_emp(graph, 'Hanne')"
   ]
  },
  {
   "cell_type": "code",
   "execution_count": null,
   "metadata": {},
   "outputs": [],
   "source": []
  }
 ],
 "metadata": {
  "kernelspec": {
   "display_name": "Python 3",
   "language": "python",
   "name": "python3"
  },
  "language_info": {
   "codemirror_mode": {
    "name": "ipython",
    "version": 3
   },
   "file_extension": ".py",
   "mimetype": "text/x-python",
   "name": "python",
   "nbconvert_exporter": "python",
   "pygments_lexer": "ipython3",
   "version": "3.7.6"
  }
 },
 "nbformat": 4,
 "nbformat_minor": 4
}
