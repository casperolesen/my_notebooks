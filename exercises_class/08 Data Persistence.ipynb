{
 "cells": [
  {
   "cell_type": "code",
   "execution_count": 22,
   "metadata": {},
   "outputs": [
    {
     "name": "stdout",
     "output_type": "stream",
     "text": [
      "<mysql.connector.connection_cext.CMySQLConnection object at 0x7f930d6b4f10>\n"
     ]
    }
   ],
   "source": [
    "import mysql.connector as mysql\n",
    "\n",
    "## connecting to the database using 'connect()' method\n",
    "db = mysql.connect(\n",
    "    # connect to the mysql server running in container with service name: db. CAUTION data here are not persisted past container lifespan\n",
    "    host = \"db\",\n",
    "    user = \"root\",\n",
    "    passwd = \"root\",\n",
    "    db = \"db\"\n",
    "    #,charset='latin1'\n",
    "    #,collation='latin1_danish_ci'\n",
    ")\n",
    "print(db)\n",
    "db.set_charset_collation('utf8')"
   ]
  },
  {
   "cell_type": "code",
   "execution_count": 3,
   "metadata": {},
   "outputs": [
    {
     "name": "stdout",
     "output_type": "stream",
     "text": [
      "TABLE COLUMNS:  ('id', 'customer_name', 'customer_address', 'account', 'joined') \n",
      "\n",
      "(1, 'Freddy M', 'Hallway 22, 34322 moral county', 1000.0, datetime.datetime(2002, 2, 3, 23, 0))\n",
      "(2, 'Janice F', 'Hallway 24, 34322 moral county', 2000.0, datetime.datetime(2001, 2, 4, 23, 0))\n",
      "(4, 'Freddy MÃ¥lÃ¸v', 'Hallway 22, 34322 moral county', 1000.0, datetime.datetime(2002, 2, 3, 23, 0))\n"
     ]
    }
   ],
   "source": [
    "cur = db.cursor()\n",
    "query = 'select * from ex1 WHERE account < 3000'\n",
    "cur.execute(query)\n",
    "print('TABLE COLUMNS: ',cur.column_names,'\\n')\n",
    "\n",
    "myresult = cur.fetchall()\n",
    "\n",
    "for x in myresult:\n",
    "    print(x)"
   ]
  },
  {
   "cell_type": "code",
   "execution_count": null,
   "metadata": {},
   "outputs": [],
   "source": []
  },
  {
   "cell_type": "code",
   "execution_count": 28,
   "metadata": {},
   "outputs": [
    {
     "name": "stdout",
     "output_type": "stream",
     "text": [
      "INSERT INTO ex1 (customer_name, customer_address, account, joined) values ('Test Testersen', 'Test Address 131', 9999, None)\n"
     ]
    }
   ],
   "source": [
    "from datetime import date, datetime, timedelta\n",
    "\n",
    "def persist_from_dict(dictionary, tablename):\n",
    "    cursor = db.cursor()\n",
    "    \n",
    "    query = (\"\"\"\n",
    "            INSERT INTO ex1\n",
    "            (customer_name, customer_address, account, joined)\n",
    "            VALUES (%s, %s, %s, %s)\n",
    "            \"\"\")\n",
    "    \n",
    "    query1 = (\"INSERT INTO \" +tablename+\n",
    "               \"(customer_name, customer_address, account, joined) \"\n",
    "               \"VALUES (%(customer_name)s, %(customer_address)s, %(account)s, %(joined)s)\")\n",
    "    \n",
    "    colums = ', '.join(dictionary.keys())\n",
    "    vals = tuple(dictionary.values())\n",
    "    query2 ='INSERT INTO {table} ({cols}) values {vals}'.format(table=tablename, cols=colums, vals=vals)\n",
    "    print(query2)\n",
    "    \n",
    "    #data_tables = dictionary.keys()\n",
    "    #data_tables_string = ','.join(data_tables)\n",
    "    #data_values = dictionary.values()\n",
    "    #data_values_string = ','.join(data_values)\n",
    "    \n",
    "    cursor.execute(query1, dictionary)\n",
    "    \n",
    "    db.commit()\n",
    "    cursor.close()\n",
    "    #db.close()\n",
    "\n",
    "tomorrow = datetime.now().date() + timedelta(days=1)    \n",
    "my_dict = {\n",
    "    'customer_name': 'Test Testersen',\n",
    "    'customer_address': 'Test Address 131',\n",
    "    'account': 9999,\n",
    "    'joined': None\n",
    "}\n",
    "\n",
    "persist_from_dict(my_dict, 'ex1')\n",
    "    "
   ]
  },
  {
   "cell_type": "code",
   "execution_count": null,
   "metadata": {},
   "outputs": [],
   "source": []
  }
 ],
 "metadata": {
  "kernelspec": {
   "display_name": "Python 3",
   "language": "python",
   "name": "python3"
  },
  "language_info": {
   "codemirror_mode": {
    "name": "ipython",
    "version": 3
   },
   "file_extension": ".py",
   "mimetype": "text/x-python",
   "name": "python",
   "nbconvert_exporter": "python",
   "pygments_lexer": "ipython3",
   "version": "3.7.6"
  }
 },
 "nbformat": 4,
 "nbformat_minor": 4
}
