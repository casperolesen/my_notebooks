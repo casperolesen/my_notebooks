{
 "cells": [
  {
   "cell_type": "markdown",
   "metadata": {},
   "source": [
    "## Exercise on sets\n",
    "<table>\n",
    "<tr><td>\n",
    "  \n",
    "</td><td><img src=\"images/numbersystem.png\"/></td>\n",
    "</tr>\n",
    "</table>\n",
    "\n",
    "\n",
    "**Which expressions are true:?**\n",
    "<u>\n",
    "    <li>$4 \\in \\mathbb{R}$</li> \n",
    "    <li>$\\pi \\in \\mathbb{Q}$</li>\n",
    "    <li>$\\frac{2}{3} \\in \\mathbb{R}$</li>\n",
    "    <li>$\\sqrt 2 \\notin \\mathbb{Q}$</li>\n",
    "    <li>$-5 \\in \\mathbb{N}$</li>\n",
    "    <li>$log(7) \\notin \\mathbb{Q}$</li>\n",
    "</u>"
   ]
  },
  {
   "cell_type": "markdown",
   "metadata": {},
   "source": [
    "True (4 er et Real Number, alle er Real Number)\n",
    "False (Pi er Irrational)\n",
    "True (Alle er Real Number)\n",
    "True (Kvadrart-rod 2 er Irrational)\n",
    "False (- tal er ikke Natural Number, men Integers Z)\n",
    "True (Log(7) er Irrational)"
   ]
  },
  {
   "cell_type": "code",
   "execution_count": null,
   "metadata": {},
   "outputs": [],
   "source": []
  }
 ],
 "metadata": {
  "kernelspec": {
   "display_name": "Python 3",
   "language": "python",
   "name": "python3"
  },
  "language_info": {
   "codemirror_mode": {
    "name": "ipython",
    "version": 3
   },
   "file_extension": ".py",
   "mimetype": "text/x-python",
   "name": "python",
   "nbconvert_exporter": "python",
   "pygments_lexer": "ipython3",
   "version": "3.7.6"
  }
 },
 "nbformat": 4,
 "nbformat_minor": 4
}
