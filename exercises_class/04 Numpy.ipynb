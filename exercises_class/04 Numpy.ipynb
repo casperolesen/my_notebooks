{
 "cells": [
  {
   "cell_type": "code",
   "execution_count": 30,
   "metadata": {},
   "outputs": [
    {
     "name": "stdout",
     "output_type": "stream",
     "text": [
      "[[10 11 12 13 14]\n",
      " [15 16 17 18 19]\n",
      " [20 21 22 23 24]\n",
      " [25 26 27 28 29]] \n",
      "\n",
      "yellow: [10] \n",
      "ligth_blue:\n",
      " [[11 13]\n",
      " [16 18]\n",
      " [21 23]\n",
      " [26 28]] \n",
      "red:\n",
      " [11 12 13] \n",
      "green: [12 17 22] \n",
      "dark_blue:\n",
      " [[14]\n",
      " [24]]\n"
     ]
    }
   ],
   "source": [
    "import numpy as np\n",
    "a = np.arange(10, 30).reshape(4, 5)\n",
    "yellow = a[0:1, 0]\n",
    "light_blue = a[:,1::2]\n",
    "red = a[0, 1:4]\n",
    "green = a[0:3, 2]\n",
    "dark_blue = a[0::2, 4::2]\n",
    "print(a,'\\n')\n",
    "print('yellow:',yellow,'\\nligth_blue:\\n',light_blue,'\\nred:\\n',red,'\\ngreen:',green, '\\ndark_blue:\\n', dark_blue)"
   ]
  },
  {
   "cell_type": "code",
   "execution_count": 33,
   "metadata": {},
   "outputs": [
    {
     "name": "stdout",
     "output_type": "stream",
     "text": [
      "12, 13, 14: \n",
      " [12 13 14] \n",
      "---------\n",
      "3, 12, 21: \n",
      " [ 3 12 21] \n",
      "---------\n",
      "2, 5, 8: \n",
      " [2 5 8] \n",
      "---------\n"
     ]
    }
   ],
   "source": [
    "a = np.arange(0, 27).reshape((3, 3, 3))\n",
    "print('12, 13, 14: \\n',a[1,1,:],'\\n---------')\n",
    "print('3, 12, 21: \\n',a[:,1,0],'\\n---------')\n",
    "print('2, 5, 8: \\n',a[0,:,2],'\\n---------')"
   ]
  },
  {
   "cell_type": "code",
   "execution_count": 40,
   "metadata": {},
   "outputs": [],
   "source": [
    "filename = '../files/befkbhalderstatkode.csv'\n",
    "dd = np.genfromtxt(filename, delimiter=',', dtype=np.uint, skip_header=1)\n"
   ]
  },
  {
   "cell_type": "code",
   "execution_count": 42,
   "metadata": {},
   "outputs": [
    {
     "name": "stdout",
     "output_type": "stream",
     "text": [
      "[[2015    1    0 5180    3]\n",
      " [2015    2    0 5180    5]\n",
      " [2015    3    0 5180    7]\n",
      " [2015    4    0 5180    1]\n",
      " [2015    5    0 5180    1]\n",
      " [2015    6    0 5180    2]\n",
      " [2015    8    0 5180    2]\n",
      " [2015    9    0 5180    6]\n",
      " [2015   10    0 5180    8]]\n"
     ]
    },
    {
     "data": {
      "text/plain": [
       "35"
      ]
     },
     "execution_count": 42,
     "metadata": {},
     "output_type": "execute_result"
    }
   ],
   "source": [
    "# How many german children were 0 years old in 2015?\n",
    "mask = (dd[:,0] == 2015) & (dd[:,2] == 0) & (dd[:,3] == 5180)\n",
    "print(dd[mask])\n",
    "np.sum(dd[mask][:,4])"
   ]
  },
  {
   "cell_type": "code",
   "execution_count": 51,
   "metadata": {},
   "outputs": [],
   "source": [
    "# create a function that can take any combination of the 4 parameters:AAR,BYDEL,ALDER,STATKODE and return population data\n",
    "def population_data(aar, bydel, alder, statkode):\n",
    "    pass"
   ]
  },
  {
   "cell_type": "code",
   "execution_count": null,
   "metadata": {},
   "outputs": [],
   "source": []
  }
 ],
 "metadata": {
  "kernelspec": {
   "display_name": "Python 3",
   "language": "python",
   "name": "python3"
  },
  "language_info": {
   "codemirror_mode": {
    "name": "ipython",
    "version": 3
   },
   "file_extension": ".py",
   "mimetype": "text/x-python",
   "name": "python",
   "nbconvert_exporter": "python",
   "pygments_lexer": "ipython3",
   "version": "3.7.6"
  }
 },
 "nbformat": 4,
 "nbformat_minor": 4
}
