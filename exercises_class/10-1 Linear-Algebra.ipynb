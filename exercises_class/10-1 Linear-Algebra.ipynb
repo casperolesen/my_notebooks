{
 "cells": [
  {
   "cell_type": "code",
   "execution_count": 1,
   "metadata": {},
   "outputs": [
    {
     "data": {
      "text/plain": [
       "array([[ 1, -9],\n",
       "       [14, 37],\n",
       "       [ 6, 62]])"
      ]
     },
     "execution_count": 1,
     "metadata": {},
     "output_type": "execute_result"
    }
   ],
   "source": [
    "import numpy as np\n",
    "P = np.array([[-2,0,1],\n",
    "     [5,-4,2],\n",
    "     [7,-1,3]])\n",
    "Q = np.array([[0,  7],\n",
    "     [-3,  2],\n",
    "     [1,  5],\n",
    "             ])\n",
    "R = P.dot(Q)\n",
    "R "
   ]
  },
  {
   "cell_type": "code",
   "execution_count": 12,
   "metadata": {},
   "outputs": [
    {
     "name": "stdout",
     "output_type": "stream",
     "text": [
      "         Is  Juice  Kakao  Lagkager\n",
      "Paula     4      2      3         2\n",
      "Peter     2      5      0         4\n",
      "Pandora   5      3      4         5\n",
      "Pietro    1      8      9         1\n",
      "          Netto  Fakta\n",
      "Is        10.50   4.00\n",
      "Juice      2.25   4.50\n",
      "Kakao      4.50   6.25\n",
      "Lagkager  33.50  20.00\n",
      "[[4 2 3 2]\n",
      " [2 5 0 4]\n",
      " [5 3 4 5]\n",
      " [1 8 9 1]]\n",
      "[[10.5   4.  ]\n",
      " [ 2.25  4.5 ]\n",
      " [ 4.5   6.25]\n",
      " [33.5  20.  ]]\n"
     ]
    },
    {
     "data": {
      "text/html": [
       "<div>\n",
       "<style scoped>\n",
       "    .dataframe tbody tr th:only-of-type {\n",
       "        vertical-align: middle;\n",
       "    }\n",
       "\n",
       "    .dataframe tbody tr th {\n",
       "        vertical-align: top;\n",
       "    }\n",
       "\n",
       "    .dataframe thead th {\n",
       "        text-align: right;\n",
       "    }\n",
       "</style>\n",
       "<table border=\"1\" class=\"dataframe\">\n",
       "  <thead>\n",
       "    <tr style=\"text-align: right;\">\n",
       "      <th></th>\n",
       "      <th>Netto</th>\n",
       "      <th>Fakta</th>\n",
       "    </tr>\n",
       "  </thead>\n",
       "  <tbody>\n",
       "    <tr>\n",
       "      <th>Paula</th>\n",
       "      <td>127.00</td>\n",
       "      <td>83.75</td>\n",
       "    </tr>\n",
       "    <tr>\n",
       "      <th>Peter</th>\n",
       "      <td>166.25</td>\n",
       "      <td>110.50</td>\n",
       "    </tr>\n",
       "    <tr>\n",
       "      <th>Pandora</th>\n",
       "      <td>244.75</td>\n",
       "      <td>158.50</td>\n",
       "    </tr>\n",
       "    <tr>\n",
       "      <th>Pietro</th>\n",
       "      <td>102.50</td>\n",
       "      <td>116.25</td>\n",
       "    </tr>\n",
       "  </tbody>\n",
       "</table>\n",
       "</div>"
      ],
      "text/plain": [
       "          Netto   Fakta\n",
       "Paula    127.00   83.75\n",
       "Peter    166.25  110.50\n",
       "Pandora  244.75  158.50\n",
       "Pietro   102.50  116.25"
      ]
     },
     "execution_count": 12,
     "metadata": {},
     "output_type": "execute_result"
    }
   ],
   "source": [
    "import pandas as pd\n",
    "\n",
    "shoppers = {\n",
    "'Paula':{'Is':4,'Juice':2,'Kakao':3,'Lagkager':2},\n",
    "'Peter':{'Is':2,'Juice':5,'Kakao':0, 'Lagkager':4},\n",
    "'Pandora':{'Is':5,'Juice':3, 'Kakao':4, 'Lagkager':5},\n",
    "'Pietro':{'Is':1,'Juice':8, 'Kakao':9, 'Lagkager':1}\n",
    "}\n",
    "shop_prices = {\n",
    "    'Netto': {'Is':10.50,'Juice':2.25,'Kakao':4.50,'Lagkager':33.50},\n",
    "    'Fakta': {'Is':4.00,'Juice':4.50,'Kakao':6.25,'Lagkager':20.00}\n",
    "}\n",
    "\n",
    "shoppers_t = pd.DataFrame(shoppers).T\n",
    "shop_prices_t = pd.DataFrame(shop_prices)\n",
    "\n",
    "print(shoppers_t)\n",
    "print(shop_prices_t)\n",
    "\n",
    "P = np.array(shoppers_t)\n",
    "Q = np.array(shop_prices_t)\n",
    "\n",
    "print(P)\n",
    "print(Q)\n",
    "\n",
    "#R = P.dot(Q)\n",
    "R = shoppers_t.dot(shop_prices_t)\n",
    "\n",
    "R\n",
    "\n",
    "#Hint: you can use pandas and Transpose to create dataframe: pd.DataFrame(shoppers).T"
   ]
  },
  {
   "cell_type": "code",
   "execution_count": 18,
   "metadata": {},
   "outputs": [
    {
     "name": "stdout",
     "output_type": "stream",
     "text": [
      "     year   GDP   sale\n",
      "0  2011.0  6.20  26.30\n",
      "1  2012.0  6.50  26.65\n",
      "2  2013.0  5.48  25.03\n",
      "3  2014.0  6.54  26.01\n",
      "4  2015.0  7.18  27.90\n",
      "5  2016.0  7.93  30.47\n"
     ]
    },
    {
     "data": {
      "text/plain": [
       "<matplotlib.axes._subplots.AxesSubplot at 0x7f10880f7990>"
      ]
     },
     "execution_count": 18,
     "metadata": {},
     "output_type": "execute_result"
    },
    {
     "data": {
      "image/png": "[encoded data removed]",
      "text/plain": [
       "<Figure size 432x288 with 1 Axes>"
      ]
     },
     "metadata": {
      "needs_background": "light"
     },
     "output_type": "display_data"
    },
    {
     "data": {
      "image/png": "[encoded data removed]",
      "text/plain": [
       "<Figure size 432x288 with 1 Axes>"
      ]
     },
     "metadata": {
      "needs_background": "light"
     },
     "output_type": "display_data"
    }
   ],
   "source": [
    "import sklearn\n",
    "import sklearn.linear_model\n",
    "\n",
    "\n",
    "\n",
    "data = [[2011,6.2, 26.3],[2012,6.5,26.65],[2013, 5.48, 25.03], [2014, 6.54, 26.01], [2015, 7.18, 27.9], [2016, 7.93, 30.47]]\n",
    "df = pd.DataFrame(data,columns=['year','GDP', 'sale'],dtype=float)\n",
    "print(df)\n",
    "df.plot(x=1, y=2)\n",
    "df.plot.scatter(x = 1, y = 2)"
   ]
  },
  {
   "cell_type": "code",
   "execution_count": 19,
   "metadata": {},
   "outputs": [
    {
     "name": "stdout",
     "output_type": "stream",
     "text": [
      "(6,)\n",
      "(6, 1)\n",
      "[[6.2 ]\n",
      " [6.5 ]\n",
      " [5.48]\n",
      " [6.54]\n",
      " [7.18]\n",
      " [7.93]]\n"
     ]
    }
   ],
   "source": [
    "xs = df['GDP']\n",
    "ys = df['sale']\n",
    "\n",
    "xs_reshape = np.array(xs).reshape(-1, 1)\n",
    "print(xs.shape)\n",
    "print(xs_reshape.shape)\n",
    "print(xs_reshape)"
   ]
  },
  {
   "cell_type": "code",
   "execution_count": 20,
   "metadata": {},
   "outputs": [
    {
     "data": {
      "text/plain": [
       "LinearRegression(copy_X=True, fit_intercept=True, n_jobs=None, normalize=False)"
      ]
     },
     "execution_count": 20,
     "metadata": {},
     "output_type": "execute_result"
    }
   ],
   "source": [
    "model = sklearn.linear_model.LinearRegression()\n",
    "model.fit(xs_reshape, ys)"
   ]
  },
  {
   "cell_type": "code",
   "execution_count": 21,
   "metadata": {},
   "outputs": [
    {
     "data": {
      "text/plain": [
       "array([2.18588067])"
      ]
     },
     "execution_count": 21,
     "metadata": {},
     "output_type": "execute_result"
    }
   ],
   "source": [
    "model.coef_"
   ]
  },
  {
   "cell_type": "code",
   "execution_count": 22,
   "metadata": {},
   "outputs": [
    {
     "data": {
      "text/plain": [
       "12.54939546694788"
      ]
     },
     "execution_count": 22,
     "metadata": {},
     "output_type": "execute_result"
    }
   ],
   "source": [
    "model.intercept_"
   ]
  },
  {
   "cell_type": "code",
   "execution_count": 25,
   "metadata": {},
   "outputs": [
    {
     "name": "stdout",
     "output_type": "stream",
     "text": [
      "Spending 9 trillion in GDP will generate sales 32.22232152230351\n"
     ]
    },
    {
     "data": {
      "text/plain": [
       "array([26.10185564, 26.75761984, 24.52802155, 26.84505507, 28.2440187 ,\n",
       "       29.8834292 ])"
      ]
     },
     "execution_count": 25,
     "metadata": {},
     "output_type": "execute_result"
    }
   ],
   "source": [
    "predicted = model.predict(xs_reshape)\n",
    "spending9 = model.predict([[9]])\n",
    "print('Spending 9 trillion in GDP will generate sales {}'.format(spending9[0]))\n",
    "predicted"
   ]
  },
  {
   "cell_type": "code",
   "execution_count": null,
   "metadata": {},
   "outputs": [],
   "source": []
  }
 ],
 "metadata": {
  "kernelspec": {
   "display_name": "Python 3",
   "language": "python",
   "name": "python3"
  },
  "language_info": {
   "codemirror_mode": {
    "name": "ipython",
    "version": 3
   },
   "file_extension": ".py",
   "mimetype": "text/x-python",
   "name": "python",
   "nbconvert_exporter": "python",
   "pygments_lexer": "ipython3",
   "version": "3.7.6"
  }
 },
 "nbformat": 4,
 "nbformat_minor": 4
}
